{
 "cells": [
  {
   "cell_type": "code",
   "execution_count": 1,
   "id": "77de93e4",
   "metadata": {
    "id": "77de93e4"
   },
   "outputs": [],
   "source": [
    "from tqdm import tqdm\n",
    "from gensim.utils import simple_preprocess\n",
    "from sklearn.decomposition import LatentDirichletAllocation\n",
    "from sklearn.feature_extraction.text import CountVectorizer, TfidfVectorizer\n",
    "from tmtoolkit.topicmod.evaluate import metric_coherence_gensim\n",
    "import matplotlib.pyplot as plt\n",
    "import pandas as pd\n",
    "import numpy as np\n",
    "import spacy\n",
    "import re\n",
    "import emoji"
   ]
  },
  {
   "cell_type": "code",
   "execution_count": 2,
   "id": "EnG-1KsiOp7d",
   "metadata": {
    "colab": {
     "base_uri": "https://localhost:8080/"
    },
    "id": "EnG-1KsiOp7d",
    "outputId": "af8f0bc4-cd64-4281-c5f3-6fafeff99ca9"
   },
   "outputs": [],
   "source": [
    "# from google.colab import drive\n",
    "# drive.mount('/content/drive')\n"
   ]
  },
  {
   "cell_type": "code",
   "execution_count": 3,
   "id": "NgNYHv8MPOgK",
   "metadata": {
    "colab": {
     "base_uri": "https://localhost:8080/"
    },
    "id": "NgNYHv8MPOgK",
    "outputId": "6b96833a-eb46-4440-97d6-63a3bd611db2"
   },
   "outputs": [],
   "source": [
    "# %cd drive/MyDrive/datasets/"
   ]
  },
  {
   "cell_type": "code",
   "execution_count": 4,
   "id": "08931560",
   "metadata": {
    "id": "08931560"
   },
   "outputs": [],
   "source": [
    "df = pd.read_csv(\"train/SemEval2018-T3-train-taskA.txt\", sep='\\t', lineterminator='\\n', encoding='utf-8')\n",
    "df_test = pd.read_csv(\"goldtest_TaskA/SemEval2018-T3_gold_test_taskA_emoji.txt\", sep='\\t', lineterminator='\\n', encoding='utf-8')\n",
    "df_replace = pd.read_csv(\"test_TaskA/SemEval2018-T3_input_test_taskA.txt\", sep='\\t', lineterminator='\\n', encoding='utf-8')"
   ]
  },
  {
   "cell_type": "code",
   "execution_count": 5,
   "id": "90da0270",
   "metadata": {
    "id": "90da0270",
    "scrolled": true
   },
   "outputs": [],
   "source": [
    "df_test['Tweet text'] = df_test['Tweet text'].apply(emoji.demojize)\n",
    "\n",
    "# df = df.append(df_test, ignore_index=True)"
   ]
  },
  {
   "cell_type": "code",
   "execution_count": 6,
   "id": "b2a3b9ce",
   "metadata": {
    "id": "b2a3b9ce"
   },
   "outputs": [],
   "source": [
    "def word_counter(s):\n",
    "    splitted = s.split()\n",
    "    newlist = [x for x in splitted if not x.startswith((\"@\", \"#\"))]\n",
    "    return len(newlist)\n",
    "\n",
    "def tag_counter(s):\n",
    "    splitted = s.split()\n",
    "    newlist = [x for x in splitted if x.startswith(\"@\")]\n",
    "    return len(newlist)\n",
    "\n",
    "def hashtag_counter(s):\n",
    "    splitted = s.split()\n",
    "    newlist = [x for x in splitted if x.startswith(\"#\")]\n",
    "    return len(newlist)\n",
    "\n",
    "def has_emoji(s):\n",
    "    splitted = s.split()\n",
    "    newlist = [x for x in splitted if x != \":\" and x.startswith(\":\") and x.endswith(\":\")]\n",
    "    return len(newlist)\n",
    "\n",
    "def clean_text(s):\n",
    "    splitted = s.split()\n",
    "    newlist = [x for x in splitted if not x.startswith((\":\", \"@\", \"#\"))]\n",
    "    return ' '.join(newlist)\n",
    "\n",
    "### dodani featuresi ###\n",
    "def link_counter(s):\n",
    "    splitted = s.split()\n",
    "    newlist = [x for x in splitted if x.startswith(('http:', 'https:'))]\n",
    "    return len(newlist)\n",
    "\n",
    "def smiley_counter(s):\n",
    "    splitted = s.split()\n",
    "    newlist = [x for x in splitted if not re.match(r'([\\:\\;\\=][\\(\\)PD]+)+', x)]\n",
    "    return len(newlist)\n",
    "\n",
    "def exclamation_mark_counter(s):\n",
    "    return s.count('!')"
   ]
  },
  {
   "cell_type": "code",
   "execution_count": 7,
   "id": "aaf2d164",
   "metadata": {
    "id": "aaf2d164"
   },
   "outputs": [],
   "source": [
    "df['length'] = df['Tweet text'].apply(len)\n",
    "df['word_count'] = df['Tweet text'].apply(word_counter)\n",
    "df['tag_count'] = df['Tweet text'].apply(tag_counter)\n",
    "df['hashtag_count'] = df['Tweet text'].apply(hashtag_counter)\n",
    "df['link_count'] = df['Tweet text'].apply(link_counter)\n",
    "df['smiley_count'] = df['Tweet text'].apply(smiley_counter)\n",
    "df['exclamation_mark_count'] = df['Tweet text'].apply(exclamation_mark_counter)\n",
    "df['has_emoji'] = df['Tweet text'].apply(has_emoji)\n",
    "df['clean_text'] = df['Tweet text'].apply(clean_text)"
   ]
  },
  {
   "cell_type": "code",
   "execution_count": 8,
   "id": "9f375058",
   "metadata": {
    "id": "9f375058"
   },
   "outputs": [],
   "source": [
    "nlp = spacy.load(\"en_core_web_md\") # treba instalirat ako nemate, s md cemo dobivat bolji performans a i dalje nije prevelik"
   ]
  },
  {
   "cell_type": "code",
   "execution_count": 9,
   "id": "9a32175c",
   "metadata": {
    "id": "9a32175c"
   },
   "outputs": [],
   "source": [
    "# ###lista svih listi tokena\n",
    "\n",
    "# all_tokens_list = []\n",
    "# for index, row in df.iterrows():\n",
    "#     token_list = []\n",
    "#     doc = nlp(row['clean_text'])\n",
    "#     for token in doc:\n",
    "#         token_list.append(token)\n",
    "#     all_tokens_list.append(token_list)"
   ]
  },
  {
   "cell_type": "code",
   "execution_count": 10,
   "id": "65b73b8c",
   "metadata": {},
   "outputs": [],
   "source": [
    "df_train = df.sample(frac=0.7)\n",
    "df_validation = df.drop(df_train.index)"
   ]
  },
  {
   "cell_type": "markdown",
   "id": "c7739051",
   "metadata": {},
   "source": [
    "## Topic Modeling"
   ]
  },
  {
   "cell_type": "code",
   "execution_count": 11,
   "id": "81215b12",
   "metadata": {},
   "outputs": [
    {
     "data": {
      "text/html": [
       "<div>\n",
       "<style scoped>\n",
       "    .dataframe tbody tr th:only-of-type {\n",
       "        vertical-align: middle;\n",
       "    }\n",
       "\n",
       "    .dataframe tbody tr th {\n",
       "        vertical-align: top;\n",
       "    }\n",
       "\n",
       "    .dataframe thead th {\n",
       "        text-align: right;\n",
       "    }\n",
       "</style>\n",
       "<table border=\"1\" class=\"dataframe\">\n",
       "  <thead>\n",
       "    <tr style=\"text-align: right;\">\n",
       "      <th></th>\n",
       "      <th>Tweet text</th>\n",
       "    </tr>\n",
       "  </thead>\n",
       "  <tbody>\n",
       "    <tr>\n",
       "      <th>1135</th>\n",
       "      <td>@MarcotteJN @KillerKalen yeah I'm avoiding you...</td>\n",
       "    </tr>\n",
       "    <tr>\n",
       "      <th>3312</th>\n",
       "      <td>@Wields Ill see you in the Finals</td>\n",
       "    </tr>\n",
       "    <tr>\n",
       "      <th>285</th>\n",
       "      <td>Thanks @AirAsia, for nothing. All my family we...</td>\n",
       "    </tr>\n",
       "    <tr>\n",
       "      <th>2876</th>\n",
       "      <td>@sommelierkeith hope you had a nice Xmas babes X</td>\n",
       "    </tr>\n",
       "    <tr>\n",
       "      <th>2824</th>\n",
       "      <td>@FunnyIines: DONT SAY ANYTHING JUST RT https:/...</td>\n",
       "    </tr>\n",
       "    <tr>\n",
       "      <th>1835</th>\n",
       "      <td>Lol at people saying they're turning 13 this y...</td>\n",
       "    </tr>\n",
       "    <tr>\n",
       "      <th>2428</th>\n",
       "      <td>I love that my body can't handle school stress...</td>\n",
       "    </tr>\n",
       "    <tr>\n",
       "      <th>199</th>\n",
       "      <td>Church sign of the day: How would you feel if ...</td>\n",
       "    </tr>\n",
       "    <tr>\n",
       "      <th>3365</th>\n",
       "      <td>@hollis51 gerrymandering neither party will gi...</td>\n",
       "    </tr>\n",
       "    <tr>\n",
       "      <th>2336</th>\n",
       "      <td>@GG_Studio:Congratulations GG for giving us am...</td>\n",
       "    </tr>\n",
       "    <tr>\n",
       "      <th>805</th>\n",
       "      <td>Wearing my @BriBrows22 rangers shirt, flipping...</td>\n",
       "    </tr>\n",
       "    <tr>\n",
       "      <th>115</th>\n",
       "      <td>We want turkey!!</td>\n",
       "    </tr>\n",
       "    <tr>\n",
       "      <th>1605</th>\n",
       "      <td>A year ago|my cat was hit by|a car.... this is...</td>\n",
       "    </tr>\n",
       "    <tr>\n",
       "      <th>708</th>\n",
       "      <td>going http://t.co/LBB7vzV6yx</td>\n",
       "    </tr>\n",
       "    <tr>\n",
       "      <th>2784</th>\n",
       "      <td>#40 #Corner #Cute #Day #Expensive #diy #craft...</td>\n",
       "    </tr>\n",
       "  </tbody>\n",
       "</table>\n",
       "</div>"
      ],
      "text/plain": [
       "                                             Tweet text\n",
       "1135  @MarcotteJN @KillerKalen yeah I'm avoiding you...\n",
       "3312                 @Wields Ill see you in the Finals \n",
       "285   Thanks @AirAsia, for nothing. All my family we...\n",
       "2876   @sommelierkeith hope you had a nice Xmas babes X\n",
       "2824  @FunnyIines: DONT SAY ANYTHING JUST RT https:/...\n",
       "1835  Lol at people saying they're turning 13 this y...\n",
       "2428  I love that my body can't handle school stress...\n",
       "199   Church sign of the day: How would you feel if ...\n",
       "3365  @hollis51 gerrymandering neither party will gi...\n",
       "2336  @GG_Studio:Congratulations GG for giving us am...\n",
       "805   Wearing my @BriBrows22 rangers shirt, flipping...\n",
       "115                                   We want turkey!! \n",
       "1605  A year ago|my cat was hit by|a car.... this is...\n",
       "708                        going http://t.co/LBB7vzV6yx\n",
       "2784   #40 #Corner #Cute #Day #Expensive #diy #craft..."
      ]
     },
     "execution_count": 11,
     "metadata": {},
     "output_type": "execute_result"
    }
   ],
   "source": [
    "tweet_text_train = df_train[['Tweet text']]\n",
    "tweet_text_validation = df_validation[['Tweet text']]\n",
    "\n",
    "tweet_text_train.head(15)"
   ]
  },
  {
   "cell_type": "code",
   "execution_count": 12,
   "id": "969535cf",
   "metadata": {
    "scrolled": true
   },
   "outputs": [],
   "source": [
    "def preprocess_words(s):\n",
    "    '''Removes tags, emojis, links, smiley faces, hashtag signs, stopwords and changes the case to lower.'''\n",
    "    ret_list = []\n",
    "\n",
    "    is_tag = lambda w: w.startswith('@')\n",
    "    is_emoji = lambda w: w != \":\" and w.startswith(\":\") and w.endswith(\":\")\n",
    "    is_link = lambda w: w.startswith(\"http:\") or w.startswith(\"https:\")\n",
    "    is_hashtag = lambda w: w.startswith(\"#\")\n",
    "    is_smiley = lambda w: re.match(r'([\\:\\;\\=][\\(\\)PD]+)+', w)\n",
    "    is_not_stopword = lambda w: w not in nlp.Defaults.stop_words\n",
    "    \n",
    "    for i, s_i in enumerate(s):\n",
    "        w_arr = s_i.split()\n",
    "        w2 = []\n",
    "        for w in w_arr:\n",
    "            if is_tag(w) or is_emoji(w) or is_link(w):\n",
    "                pass\n",
    "            \n",
    "            elif is_hashtag(w):\n",
    "                w_tmp = w.replace('#', '')\n",
    "                if w_tmp != '':\n",
    "                    w2.append(w_tmp.lower())\n",
    "            \n",
    "            elif is_smiley(w):\n",
    "                w_tmp = re.sub(r'([\\:\\;\\=][\\(\\)PD]+)+', '', w)\n",
    "                if w_tmp != '':\n",
    "                    w2.append(w_tmp.lower())\n",
    "            \n",
    "            elif is_not_stopword(w):\n",
    "                w2.append(w.lower())\n",
    "            \n",
    "        ret_list.append(' '.join(w2))\n",
    "    return ret_list\n",
    "\n",
    "tweet_text_train = tweet_text_train.apply(preprocess_words)\n",
    "tweet_text_validation = tweet_text_validation.apply(preprocess_words)"
   ]
  },
  {
   "cell_type": "code",
   "execution_count": 13,
   "id": "6ec955f2",
   "metadata": {},
   "outputs": [],
   "source": [
    "def lemmatize(s):\n",
    "    '''Lemmatizes the words in the sentences'''\n",
    "    return [[w.lemma_ for w in nlp(s_i)] for s_i in s]\n",
    "\n",
    "def join_docs(s):\n",
    "    '''Joins the strings inside the inner list of a nested list'''\n",
    "    return [' '.join([w for w in s_i]) for s_i in s]\n",
    "\n",
    "tweet_text_train = tweet_text_train.apply(lemmatize)\n",
    "tweet_text_validation = tweet_text_validation.apply(lemmatize)"
   ]
  },
  {
   "cell_type": "code",
   "execution_count": 14,
   "id": "2d560761",
   "metadata": {},
   "outputs": [],
   "source": [
    "tweet_text_train = join_docs(tweet_text_train['Tweet text'])\n",
    "tweet_text_validation = join_docs(tweet_text_validation['Tweet text'])"
   ]
  },
  {
   "cell_type": "code",
   "execution_count": 15,
   "id": "937f96f5",
   "metadata": {},
   "outputs": [],
   "source": [
    "def gensim_preprocess(s):\n",
    "    '''Uses gensims preprocess function to prepare the data for topic modeling'''\n",
    "    return [' '.join(simple_preprocess(s_i, deacc=True)) for s_i in s]\n",
    "\n",
    "tweet_text_train = gensim_preprocess(tweet_text_train)\n",
    "tweet_text_validation = gensim_preprocess(tweet_text_validation)"
   ]
  },
  {
   "cell_type": "code",
   "execution_count": 16,
   "id": "5c764599",
   "metadata": {
    "scrolled": true
   },
   "outputs": [
    {
     "data": {
      "text/plain": [
       "'playstation everything be awesome'"
      ]
     },
     "metadata": {},
     "output_type": "display_data"
    },
    {
     "data": {
      "text/plain": [
       "'ah soul make sunday morning work bearable cold happy'"
      ]
     },
     "metadata": {},
     "output_type": "display_data"
    },
    {
     "data": {
      "text/plain": [
       "'online shopping credit card umm justbrowse'"
      ]
     },
     "metadata": {},
     "output_type": "display_data"
    }
   ],
   "source": [
    "display(tweet_text_train[1401])\n",
    "display(tweet_text_train[1416])\n",
    "display(tweet_text_train[1428])"
   ]
  },
  {
   "cell_type": "code",
   "execution_count": 17,
   "id": "7127a752",
   "metadata": {},
   "outputs": [],
   "source": [
    "def get_likelihoods_and_perplexities(train, validation, model_range, batch_size=64):\n",
    "    '''\n",
    "    Returns a list of train and validation log likelihoods and perplexities for LDA models\n",
    "    in the given range using the given vectorizer\n",
    "    '''\n",
    "    models, logl_train, logl_val, perp_train, perp_val = [], [], [], [], []\n",
    "    for i in model_range:\n",
    "        lda = LatentDirichletAllocation(\n",
    "            n_components=i,\n",
    "            max_iter=10,\n",
    "            learning_method='online',\n",
    "            batch_size=batch_size,\n",
    "            evaluate_every = -1,\n",
    "            n_jobs = -1,\n",
    "        )\n",
    "        \n",
    "        lda.fit(train)\n",
    "        \n",
    "        logl_train.append(lda.score(train))\n",
    "        logl_val.append(lda.score(validation))\n",
    "        perp_train.append(lda.perplexity(train))\n",
    "        perp_val.append(lda.perplexity(validation))\n",
    "        models.append(lda)\n",
    "                         \n",
    "    return models, logl_train, logl_val, perp_train, perp_val\n",
    "                        \n",
    "vectorizer = CountVectorizer(\n",
    "    analyzer='word',\n",
    "    min_df=0.1,\n",
    "    max_df=0.6,\n",
    ")\n",
    "\n",
    "vectorizer2 = TfidfVectorizer(\n",
    "    analyzer='word',\n",
    "    min_df=0.1,\n",
    "    max_df=0.6,\n",
    ")\n",
    "\n",
    "tweet_text_count_train = vectorizer.fit_transform(tweet_text_train)\n",
    "tweet_text_count_validation = vectorizer.transform(tweet_text_validation)\n",
    "\n",
    "tweet_text_tfidf_train = vectorizer2.fit_transform(tweet_text_train)\n",
    "tweet_text_tfidf_validation = vectorizer2.transform(tweet_text_validation)"
   ]
  },
  {
   "cell_type": "code",
   "execution_count": 18,
   "id": "cec0b22d",
   "metadata": {},
   "outputs": [],
   "source": [
    "# models, logl_train, logl_val, perp_train, perp_val = get_likelihoods_and_perplexities(tweet_text_count_train, \\\n",
    "#                                                             tweet_text_count_validation, range(2, 50))"
   ]
  },
  {
   "cell_type": "code",
   "execution_count": 19,
   "id": "e6c376d0",
   "metadata": {},
   "outputs": [],
   "source": [
    "# model_range = list(range(2, 50))\n",
    "\n",
    "# fig, axs = plt.subplots(1, 2, figsize=(10, 5))\n",
    "# axs[0].plot(model_range, logl_train, 'o-')\n",
    "# axs[0].plot(model_range, logl_val, 'o-')\n",
    "\n",
    "# axs[1].plot(model_range, perp_train, 'o-')\n",
    "# axs[1].plot(model_range, perp_val, 'o-')\n"
   ]
  },
  {
   "cell_type": "code",
   "execution_count": 20,
   "id": "abdf9dd0",
   "metadata": {},
   "outputs": [],
   "source": [
    "# from tmtoolkit.topicmod import tm_lda\n",
    "# from tmtoolkit.topicmod.tm_lda import evaluate_topic_models\n",
    "# from tmtoolkit.topicmod.evaluate import results_by_parameter\n",
    "# from tmtoolkit.topicmod.visualize import plot_eval_results\n",
    "\n",
    "\n",
    "# const_params = {\n",
    "#     'n_iter': 10,\n",
    "#     'eta':0.01,\n",
    "# }\n",
    "\n",
    "# # https://tmtoolkit.readthedocs.io/en/latest/topic_modeling.html#Evaluation-of-topic-models\n",
    "# # https://datascience.blog.wzb.eu/2017/11/09/topic-modeling-evaluation-in-python-with-tmtoolkit/\n",
    "\n",
    "# # alpha    - for a prior over the document-specific topic distributions\n",
    "# #          - important for sparsity (low value means less impact - document contains a mixture of only few topics)\n",
    "# # eta/beta - for a prior over the topic-specific word distributions\n",
    "# #          - high beta value means a lower impact of word sparsity - each topic will contain most of the words of the corpus\n",
    "# #          - low beta value means the topics should be more specific, i.e. their word probabilities will be less uniform,\n",
    "# # low beta + low alpha\n",
    "\n",
    "# var_params = [\n",
    "#     {'n_topics': k, 'alpha': 1/k}\n",
    "#     for k in range(5, 101, 100)\n",
    "# ]\n",
    "\n",
    "\n",
    "# eval_results = evaluate_topic_models(\n",
    "#     tweet_text_count_train,\n",
    "#     varying_parameters=var_params,\n",
    "#     constant_parameters=const_params,\n",
    "#     coherence_mimno_2011_top_n=10,\n",
    "#     coherence_mimno_2011_include_prob=True,\n",
    "#     return_models=True\n",
    "# )\n",
    "\n",
    "# eval_results[:3]  # only show first three models"
   ]
  },
  {
   "cell_type": "code",
   "execution_count": 40,
   "id": "08150dae",
   "metadata": {},
   "outputs": [
    {
     "data": {
      "image/png": "[encoded data removed]",
      "text/plain": [
       "<Figure size 432x288 with 1 Axes>"
      ]
     },
     "metadata": {
      "needs_background": "light"
     },
     "output_type": "display_data"
    }
   ],
   "source": [
    "from sklearn.cluster import KMeans\n",
    "import warnings\n",
    "warnings.filterwarnings(\"ignore\")\n",
    "\n",
    "inertia = []\n",
    "for i in range(2, 20):\n",
    "    model = KMeans(i)\n",
    "    model.fit(tweet_text_count_train)\n",
    "    inertia.append(model.inertia_)\n",
    "plt.axhline(inertia[3], c='k',  linestyle='dashed')\n",
    "plt.plot(list(range(2, 20)), inertia)\n",
    "plt.xlabel('Number of components')\n",
    "plt.ylabel('Inertia')\n",
    "plt.show()"
   ]
  }
 ],
 "metadata": {
  "colab": {
   "collapsed_sections": [],
   "name": "preprocessing.ipynb",
   "provenance": []
  },
  "kernelspec": {
   "display_name": "Python 3 (ipykernel)",
   "language": "python",
   "name": "python3"
  },
  "language_info": {
   "codemirror_mode": {
    "name": "ipython",
    "version": 3
   },
   "file_extension": ".py",
   "mimetype": "text/x-python",
   "name": "python",
   "nbconvert_exporter": "python",
   "pygments_lexer": "ipython3",
   "version": "3.9.12"
  }
 },
 "nbformat": 4,
 "nbformat_minor": 5
}
