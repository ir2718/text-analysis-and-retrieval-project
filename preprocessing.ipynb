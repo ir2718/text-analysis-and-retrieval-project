{
 "cells": [
  {
   "cell_type": "code",
   "execution_count": 1,
   "id": "77de93e4",
   "metadata": {
    "id": "77de93e4"
   },
   "outputs": [],
   "source": [
    "from tqdm import tqdm\n",
    "from gensim.utils import simple_preprocess\n",
    "from sklearn.decomposition import LatentDirichletAllocation\n",
    "from sklearn.feature_extraction.text import CountVectorizer, TfidfVectorizer\n",
    "from tmtoolkit.topicmod.evaluate import metric_coherence_gensim\n",
    "import matplotlib.pyplot as plt\n",
    "import pandas as pd\n",
    "import numpy as np\n",
    "import spacy\n",
    "import re\n",
    "import emoji"
   ]
  },
  {
   "cell_type": "code",
   "execution_count": 2,
   "id": "EnG-1KsiOp7d",
   "metadata": {
    "colab": {
     "base_uri": "https://localhost:8080/"
    },
    "id": "EnG-1KsiOp7d",
    "outputId": "af8f0bc4-cd64-4281-c5f3-6fafeff99ca9"
   },
   "outputs": [],
   "source": [
    "# from google.colab import drive\n",
    "# drive.mount('/content/drive')\n"
   ]
  },
  {
   "cell_type": "code",
   "execution_count": 3,
   "id": "NgNYHv8MPOgK",
   "metadata": {
    "colab": {
     "base_uri": "https://localhost:8080/"
    },
    "id": "NgNYHv8MPOgK",
    "outputId": "6b96833a-eb46-4440-97d6-63a3bd611db2"
   },
   "outputs": [],
   "source": [
    "# %cd drive/MyDrive/datasets/"
   ]
  },
  {
   "cell_type": "code",
   "execution_count": 2,
   "id": "08931560",
   "metadata": {
    "id": "08931560"
   },
   "outputs": [],
   "source": [
    "df = pd.read_csv(\"train/SemEval2018-T3-train-taskA.txt\", sep='\\t', lineterminator='\\n', encoding='utf-8')\n",
    "df_test = pd.read_csv(\"goldtest_TaskA/SemEval2018-T3_gold_test_taskA_emoji.txt\", sep='\\t', lineterminator='\\n', encoding='utf-8')\n",
    "df_replace = pd.read_csv(\"test_TaskA/SemEval2018-T3_input_test_taskA.txt\", sep='\\t', lineterminator='\\n', encoding='utf-8')"
   ]
  },
  {
   "cell_type": "code",
   "execution_count": 3,
   "id": "90da0270",
   "metadata": {
    "id": "90da0270",
    "scrolled": true
   },
   "outputs": [],
   "source": [
    "df_test['Tweet text'] = df_test['Tweet text'].apply(emoji.demojize)\n",
    "\n",
    "# df = df.append(df_test, ignore_index=True)"
   ]
  },
  {
   "cell_type": "code",
   "execution_count": 4,
   "id": "b2a3b9ce",
   "metadata": {
    "id": "b2a3b9ce"
   },
   "outputs": [],
   "source": [
    "def word_counter(s):\n",
    "    splitted = s.split()\n",
    "    newlist = [x for x in splitted if not x.startswith((\"@\", \"#\"))]\n",
    "    return len(newlist)\n",
    "\n",
    "def tag_counter(s):\n",
    "    splitted = s.split()\n",
    "    newlist = [x for x in splitted if x.startswith(\"@\")]\n",
    "    return len(newlist)\n",
    "\n",
    "def hashtag_counter(s):\n",
    "    splitted = s.split()\n",
    "    newlist = [x for x in splitted if x.startswith(\"#\")]\n",
    "    return len(newlist)\n",
    "\n",
    "def has_emoji(s):\n",
    "    splitted = s.split()\n",
    "    newlist = [x for x in splitted if x != \":\" and x.startswith(\":\") and x.endswith(\":\")]\n",
    "    return len(newlist)\n",
    "\n",
    "def clean_text(s):\n",
    "    splitted = s.split()\n",
    "    newlist = [x for x in splitted if not x.startswith((\":\", \"@\", \"#\"))]\n",
    "    return ' '.join(newlist)\n",
    "\n",
    "### dodani featuresi ###\n",
    "def link_counter(s):\n",
    "    splitted = s.split()\n",
    "    newlist = [x for x in splitted if x.startswith(('http:', 'https:'))]\n",
    "    return len(newlist)\n",
    "\n",
    "def smiley_counter(s):\n",
    "    splitted = s.split()\n",
    "    newlist = [x for x in splitted if not re.match(r'([\\:\\;\\=][\\(\\)PD]+)+', x)]\n",
    "    return len(newlist)\n",
    "\n",
    "def exclamation_mark_counter(s):\n",
    "    return s.count('!')"
   ]
  },
  {
   "cell_type": "code",
   "execution_count": 5,
   "id": "aaf2d164",
   "metadata": {
    "id": "aaf2d164"
   },
   "outputs": [],
   "source": [
    "df['length'] = df['Tweet text'].apply(len)\n",
    "df['word_count'] = df['Tweet text'].apply(word_counter)\n",
    "df['tag_count'] = df['Tweet text'].apply(tag_counter)\n",
    "df['hashtag_count'] = df['Tweet text'].apply(hashtag_counter)\n",
    "df['link_count'] = df['Tweet text'].apply(link_counter)\n",
    "df['smiley_count'] = df['Tweet text'].apply(smiley_counter)\n",
    "df['exclamation_mark_count'] = df['Tweet text'].apply(exclamation_mark_counter)\n",
    "df['has_emoji'] = df['Tweet text'].apply(has_emoji)\n",
    "df['clean_text'] = df['Tweet text'].apply(clean_text)"
   ]
  },
  {
   "cell_type": "code",
   "execution_count": 6,
   "id": "9f375058",
   "metadata": {
    "id": "9f375058"
   },
   "outputs": [],
   "source": [
    "nlp = spacy.load(\"en_core_web_md\") # treba instalirat ako nemate, s md cemo dobivat bolji performans a i dalje nije prevelik"
   ]
  },
  {
   "cell_type": "code",
   "execution_count": 9,
   "id": "9a32175c",
   "metadata": {
    "id": "9a32175c"
   },
   "outputs": [],
   "source": [
    "# ###lista svih listi tokena\n",
    "\n",
    "# all_tokens_list = []\n",
    "# for index, row in df.iterrows():\n",
    "#     token_list = []\n",
    "#     doc = nlp(row['clean_text'])\n",
    "#     for token in doc:\n",
    "#         token_list.append(token)\n",
    "#     all_tokens_list.append(token_list)"
   ]
  },
  {
   "cell_type": "code",
   "execution_count": 7,
   "id": "65b73b8c",
   "metadata": {},
   "outputs": [],
   "source": [
    "df_train = df.sample(frac=0.7)\n",
    "df_validation = df.drop(df_train.index)"
   ]
  },
  {
   "cell_type": "code",
   "execution_count": 8,
   "outputs": [
    {
     "data": {
      "text/plain": "      Tweet index  Label                                         Tweet text  \\\n1500         1501      0  @bayer04fussball draw, @s04 draw, @Everton goi...   \n1880         1884      0  Just gave Imperfecto a 3.5/5 rating on @Zomato...   \n2941         2945      0  I need to do something legendary this winter b...   \n1077         1078      1  I am starting to think UK has a pretty good ba...   \n1774         1778      0  @aleciamarie21 @DonnieWahlberg is it bad that ...   \n...           ...    ...                                                ...   \n3353         3368      1  A strange day so far everyone seems in such a ...   \n1687         1691      1  First day skiing #killedit  #iwasshit #tignes ...   \n2990         2994      0    @KeirSimmons  another Bush in the Whitehouse.\\r   \n2659         2663      0                      All I wanted was to see you\\r   \n2673         2677      1  Such quality customer service today by @Micros...   \n\n      length  word_count  tag_count  hashtag_count  link_count  smiley_count  \\\n1500     122          18          3              0           0            21   \n1880      70           8          1              0           1             9   \n2941      51           9          0              0           0             9   \n1077      66          12          0              1           0            13   \n1774     180          17          2              0           0            19   \n...      ...         ...        ...            ...         ...           ...   \n3353     130          24          0              0           0            24   \n1687      81           4          0              4           1             8   \n2990      46           5          1              0           0             6   \n2659      28           7          0              0           0             7   \n2673      97          10          1              2           0            13   \n\n      exclamation_mark_count  has_emoji  \\\n1500                       0          0   \n1880                       0          0   \n2941                       0          0   \n1077                       0          0   \n1774                       1          2   \n...                      ...        ...   \n3353                       0          0   \n1687                       0          0   \n2990                       0          0   \n2659                       0          0   \n2673                       0          0   \n\n                                             clean_text  \n1500  draw, draw, going to lose, Pelle on my bench i...  \n1880  Just gave Imperfecto a 3.5/5 rating on http://...  \n2941  I need to do something legendary this winter b...  \n1077  I am starting to think UK has a pretty good ba...  \n1774  is it bad that after my \"happy Preds won\" danc...  \n...                                                 ...  \n3353  A strange day so far everyone seems in such a ...  \n1687            First day skiing http://t.co/oHYSozoNPP  \n2990                    another Bush in the Whitehouse.  \n2659                        All I wanted was to see you  \n2673  Such quality customer service today by for the...  \n\n[2672 rows x 12 columns]",
      "text/html": "<div>\n<style scoped>\n    .dataframe tbody tr th:only-of-type {\n        vertical-align: middle;\n    }\n\n    .dataframe tbody tr th {\n        vertical-align: top;\n    }\n\n    .dataframe thead th {\n        text-align: right;\n    }\n</style>\n<table border=\"1\" class=\"dataframe\">\n  <thead>\n    <tr style=\"text-align: right;\">\n      <th></th>\n      <th>Tweet index</th>\n      <th>Label</th>\n      <th>Tweet text</th>\n      <th>length</th>\n      <th>word_count</th>\n      <th>tag_count</th>\n      <th>hashtag_count</th>\n      <th>link_count</th>\n      <th>smiley_count</th>\n      <th>exclamation_mark_count</th>\n      <th>has_emoji</th>\n      <th>clean_text</th>\n    </tr>\n  </thead>\n  <tbody>\n    <tr>\n      <th>1500</th>\n      <td>1501</td>\n      <td>0</td>\n      <td>@bayer04fussball draw, @s04 draw, @Everton goi...</td>\n      <td>122</td>\n      <td>18</td>\n      <td>3</td>\n      <td>0</td>\n      <td>0</td>\n      <td>21</td>\n      <td>0</td>\n      <td>0</td>\n      <td>draw, draw, going to lose, Pelle on my bench i...</td>\n    </tr>\n    <tr>\n      <th>1880</th>\n      <td>1884</td>\n      <td>0</td>\n      <td>Just gave Imperfecto a 3.5/5 rating on @Zomato...</td>\n      <td>70</td>\n      <td>8</td>\n      <td>1</td>\n      <td>0</td>\n      <td>1</td>\n      <td>9</td>\n      <td>0</td>\n      <td>0</td>\n      <td>Just gave Imperfecto a 3.5/5 rating on http://...</td>\n    </tr>\n    <tr>\n      <th>2941</th>\n      <td>2945</td>\n      <td>0</td>\n      <td>I need to do something legendary this winter b...</td>\n      <td>51</td>\n      <td>9</td>\n      <td>0</td>\n      <td>0</td>\n      <td>0</td>\n      <td>9</td>\n      <td>0</td>\n      <td>0</td>\n      <td>I need to do something legendary this winter b...</td>\n    </tr>\n    <tr>\n      <th>1077</th>\n      <td>1078</td>\n      <td>1</td>\n      <td>I am starting to think UK has a pretty good ba...</td>\n      <td>66</td>\n      <td>12</td>\n      <td>0</td>\n      <td>1</td>\n      <td>0</td>\n      <td>13</td>\n      <td>0</td>\n      <td>0</td>\n      <td>I am starting to think UK has a pretty good ba...</td>\n    </tr>\n    <tr>\n      <th>1774</th>\n      <td>1778</td>\n      <td>0</td>\n      <td>@aleciamarie21 @DonnieWahlberg is it bad that ...</td>\n      <td>180</td>\n      <td>17</td>\n      <td>2</td>\n      <td>0</td>\n      <td>0</td>\n      <td>19</td>\n      <td>1</td>\n      <td>2</td>\n      <td>is it bad that after my \"happy Preds won\" danc...</td>\n    </tr>\n    <tr>\n      <th>...</th>\n      <td>...</td>\n      <td>...</td>\n      <td>...</td>\n      <td>...</td>\n      <td>...</td>\n      <td>...</td>\n      <td>...</td>\n      <td>...</td>\n      <td>...</td>\n      <td>...</td>\n      <td>...</td>\n      <td>...</td>\n    </tr>\n    <tr>\n      <th>3353</th>\n      <td>3368</td>\n      <td>1</td>\n      <td>A strange day so far everyone seems in such a ...</td>\n      <td>130</td>\n      <td>24</td>\n      <td>0</td>\n      <td>0</td>\n      <td>0</td>\n      <td>24</td>\n      <td>0</td>\n      <td>0</td>\n      <td>A strange day so far everyone seems in such a ...</td>\n    </tr>\n    <tr>\n      <th>1687</th>\n      <td>1691</td>\n      <td>1</td>\n      <td>First day skiing #killedit  #iwasshit #tignes ...</td>\n      <td>81</td>\n      <td>4</td>\n      <td>0</td>\n      <td>4</td>\n      <td>1</td>\n      <td>8</td>\n      <td>0</td>\n      <td>0</td>\n      <td>First day skiing http://t.co/oHYSozoNPP</td>\n    </tr>\n    <tr>\n      <th>2990</th>\n      <td>2994</td>\n      <td>0</td>\n      <td>@KeirSimmons  another Bush in the Whitehouse.\\r</td>\n      <td>46</td>\n      <td>5</td>\n      <td>1</td>\n      <td>0</td>\n      <td>0</td>\n      <td>6</td>\n      <td>0</td>\n      <td>0</td>\n      <td>another Bush in the Whitehouse.</td>\n    </tr>\n    <tr>\n      <th>2659</th>\n      <td>2663</td>\n      <td>0</td>\n      <td>All I wanted was to see you\\r</td>\n      <td>28</td>\n      <td>7</td>\n      <td>0</td>\n      <td>0</td>\n      <td>0</td>\n      <td>7</td>\n      <td>0</td>\n      <td>0</td>\n      <td>All I wanted was to see you</td>\n    </tr>\n    <tr>\n      <th>2673</th>\n      <td>2677</td>\n      <td>1</td>\n      <td>Such quality customer service today by @Micros...</td>\n      <td>97</td>\n      <td>10</td>\n      <td>1</td>\n      <td>2</td>\n      <td>0</td>\n      <td>13</td>\n      <td>0</td>\n      <td>0</td>\n      <td>Such quality customer service today by for the...</td>\n    </tr>\n  </tbody>\n</table>\n<p>2672 rows × 12 columns</p>\n</div>"
     },
     "execution_count": 8,
     "metadata": {},
     "output_type": "execute_result"
    }
   ],
   "source": [
    "df_train"
   ],
   "metadata": {
    "collapsed": false,
    "pycharm": {
     "name": "#%%\n"
    }
   }
  },
  {
   "cell_type": "markdown",
   "id": "c7739051",
   "metadata": {},
   "source": [
    "## Topic Modeling"
   ]
  },
  {
   "cell_type": "code",
   "execution_count": 11,
   "id": "81215b12",
   "metadata": {},
   "outputs": [
    {
     "data": {
      "text/html": [
       "<div>\n",
       "<style scoped>\n",
       "    .dataframe tbody tr th:only-of-type {\n",
       "        vertical-align: middle;\n",
       "    }\n",
       "\n",
       "    .dataframe tbody tr th {\n",
       "        vertical-align: top;\n",
       "    }\n",
       "\n",
       "    .dataframe thead th {\n",
       "        text-align: right;\n",
       "    }\n",
       "</style>\n",
       "<table border=\"1\" class=\"dataframe\">\n",
       "  <thead>\n",
       "    <tr style=\"text-align: right;\">\n",
       "      <th></th>\n",
       "      <th>Tweet text</th>\n",
       "    </tr>\n",
       "  </thead>\n",
       "  <tbody>\n",
       "    <tr>\n",
       "      <th>1135</th>\n",
       "      <td>@MarcotteJN @KillerKalen yeah I'm avoiding you...</td>\n",
       "    </tr>\n",
       "    <tr>\n",
       "      <th>3312</th>\n",
       "      <td>@Wields Ill see you in the Finals</td>\n",
       "    </tr>\n",
       "    <tr>\n",
       "      <th>285</th>\n",
       "      <td>Thanks @AirAsia, for nothing. All my family we...</td>\n",
       "    </tr>\n",
       "    <tr>\n",
       "      <th>2876</th>\n",
       "      <td>@sommelierkeith hope you had a nice Xmas babes X</td>\n",
       "    </tr>\n",
       "    <tr>\n",
       "      <th>2824</th>\n",
       "      <td>@FunnyIines: DONT SAY ANYTHING JUST RT https:/...</td>\n",
       "    </tr>\n",
       "    <tr>\n",
       "      <th>1835</th>\n",
       "      <td>Lol at people saying they're turning 13 this y...</td>\n",
       "    </tr>\n",
       "    <tr>\n",
       "      <th>2428</th>\n",
       "      <td>I love that my body can't handle school stress...</td>\n",
       "    </tr>\n",
       "    <tr>\n",
       "      <th>199</th>\n",
       "      <td>Church sign of the day: How would you feel if ...</td>\n",
       "    </tr>\n",
       "    <tr>\n",
       "      <th>3365</th>\n",
       "      <td>@hollis51 gerrymandering neither party will gi...</td>\n",
       "    </tr>\n",
       "    <tr>\n",
       "      <th>2336</th>\n",
       "      <td>@GG_Studio:Congratulations GG for giving us am...</td>\n",
       "    </tr>\n",
       "    <tr>\n",
       "      <th>805</th>\n",
       "      <td>Wearing my @BriBrows22 rangers shirt, flipping...</td>\n",
       "    </tr>\n",
       "    <tr>\n",
       "      <th>115</th>\n",
       "      <td>We want turkey!!</td>\n",
       "    </tr>\n",
       "    <tr>\n",
       "      <th>1605</th>\n",
       "      <td>A year ago|my cat was hit by|a car.... this is...</td>\n",
       "    </tr>\n",
       "    <tr>\n",
       "      <th>708</th>\n",
       "      <td>going http://t.co/LBB7vzV6yx</td>\n",
       "    </tr>\n",
       "    <tr>\n",
       "      <th>2784</th>\n",
       "      <td>#40 #Corner #Cute #Day #Expensive #diy #craft...</td>\n",
       "    </tr>\n",
       "  </tbody>\n",
       "</table>\n",
       "</div>"
      ],
      "text/plain": [
       "                                             Tweet text\n",
       "1135  @MarcotteJN @KillerKalen yeah I'm avoiding you...\n",
       "3312                 @Wields Ill see you in the Finals \n",
       "285   Thanks @AirAsia, for nothing. All my family we...\n",
       "2876   @sommelierkeith hope you had a nice Xmas babes X\n",
       "2824  @FunnyIines: DONT SAY ANYTHING JUST RT https:/...\n",
       "1835  Lol at people saying they're turning 13 this y...\n",
       "2428  I love that my body can't handle school stress...\n",
       "199   Church sign of the day: How would you feel if ...\n",
       "3365  @hollis51 gerrymandering neither party will gi...\n",
       "2336  @GG_Studio:Congratulations GG for giving us am...\n",
       "805   Wearing my @BriBrows22 rangers shirt, flipping...\n",
       "115                                   We want turkey!! \n",
       "1605  A year ago|my cat was hit by|a car.... this is...\n",
       "708                        going http://t.co/LBB7vzV6yx\n",
       "2784   #40 #Corner #Cute #Day #Expensive #diy #craft..."
      ]
     },
     "execution_count": 11,
     "metadata": {},
     "output_type": "execute_result"
    }
   ],
   "source": [
    "tweet_text_train = df_train[['Tweet text']]\n",
    "tweet_text_validation = df_validation[['Tweet text']]\n",
    "\n",
    "tweet_text_train.head(15)"
   ]
  },
  {
   "cell_type": "code",
   "execution_count": 12,
   "id": "969535cf",
   "metadata": {
    "scrolled": true
   },
   "outputs": [],
   "source": [
    "def preprocess_words(s):\n",
    "    '''Removes tags, emojis, links, smiley faces, hashtag signs, stopwords and changes the case to lower.'''\n",
    "    ret_list = []\n",
    "\n",
    "    is_tag = lambda w: w.startswith('@')\n",
    "    is_emoji = lambda w: w != \":\" and w.startswith(\":\") and w.endswith(\":\")\n",
    "    is_link = lambda w: w.startswith(\"http:\") or w.startswith(\"https:\")\n",
    "    is_hashtag = lambda w: w.startswith(\"#\")\n",
    "    is_smiley = lambda w: re.match(r'([\\:\\;\\=][\\(\\)PD]+)+', w)\n",
    "    is_not_stopword = lambda w: w not in nlp.Defaults.stop_words\n",
    "    \n",
    "    for i, s_i in enumerate(s):\n",
    "        w_arr = s_i.split()\n",
    "        w2 = []\n",
    "        for w in w_arr:\n",
    "            if is_tag(w) or is_emoji(w) or is_link(w):\n",
    "                pass\n",
    "            \n",
    "            elif is_hashtag(w):\n",
    "                w_tmp = w.replace('#', '')\n",
    "                if w_tmp != '':\n",
    "                    w2.append(w_tmp.lower())\n",
    "            \n",
    "            elif is_smiley(w):\n",
    "                w_tmp = re.sub(r'([\\:\\;\\=][\\(\\)PD]+)+', '', w)\n",
    "                if w_tmp != '':\n",
    "                    w2.append(w_tmp.lower())\n",
    "            \n",
    "            elif is_not_stopword(w):\n",
    "                w2.append(w.lower())\n",
    "            \n",
    "        ret_list.append(' '.join(w2))\n",
    "    return ret_list\n",
    "\n",
    "tweet_text_train = tweet_text_train.apply(preprocess_words)\n",
    "tweet_text_validation = tweet_text_validation.apply(preprocess_words)"
   ]
  },
  {
   "cell_type": "code",
   "execution_count": 13,
   "id": "6ec955f2",
   "metadata": {},
   "outputs": [],
   "source": [
    "def lemmatize(s):\n",
    "    '''Lemmatizes the words in the sentences'''\n",
    "    return [[w.lemma_ for w in nlp(s_i)] for s_i in s]\n",
    "\n",
    "def join_docs(s):\n",
    "    '''Joins the strings inside the inner list of a nested list'''\n",
    "    return [' '.join([w for w in s_i]) for s_i in s]\n",
    "\n",
    "tweet_text_train = tweet_text_train.apply(lemmatize)\n",
    "tweet_text_validation = tweet_text_validation.apply(lemmatize)"
   ]
  },
  {
   "cell_type": "code",
   "execution_count": 14,
   "id": "2d560761",
   "metadata": {},
   "outputs": [],
   "source": [
    "tweet_text_train = join_docs(tweet_text_train['Tweet text'])\n",
    "tweet_text_validation = join_docs(tweet_text_validation['Tweet text'])"
   ]
  },
  {
   "cell_type": "code",
   "execution_count": 15,
   "id": "937f96f5",
   "metadata": {},
   "outputs": [],
   "source": [
    "def gensim_preprocess(s):\n",
    "    '''Uses gensims preprocess function to prepare the data for topic modeling'''\n",
    "    return [' '.join(simple_preprocess(s_i, deacc=True)) for s_i in s]\n",
    "\n",
    "tweet_text_train = gensim_preprocess(tweet_text_train)\n",
    "tweet_text_validation = gensim_preprocess(tweet_text_validation)"
   ]
  },
  {
   "cell_type": "code",
   "execution_count": 16,
   "id": "5c764599",
   "metadata": {
    "scrolled": true
   },
   "outputs": [
    {
     "data": {
      "text/plain": [
       "'playstation everything be awesome'"
      ]
     },
     "metadata": {},
     "output_type": "display_data"
    },
    {
     "data": {
      "text/plain": [
       "'ah soul make sunday morning work bearable cold happy'"
      ]
     },
     "metadata": {},
     "output_type": "display_data"
    },
    {
     "data": {
      "text/plain": [
       "'online shopping credit card umm justbrowse'"
      ]
     },
     "metadata": {},
     "output_type": "display_data"
    }
   ],
   "source": [
    "display(tweet_text_train[1401])\n",
    "display(tweet_text_train[1416])\n",
    "display(tweet_text_train[1428])"
   ]
  },
  {
   "cell_type": "code",
   "execution_count": 17,
   "id": "7127a752",
   "metadata": {},
   "outputs": [],
   "source": [
    "def get_likelihoods_and_perplexities(train, validation, model_range, batch_size=64):\n",
    "    '''\n",
    "    Returns a list of train and validation log likelihoods and perplexities for LDA models\n",
    "    in the given range using the given vectorizer\n",
    "    '''\n",
    "    models, logl_train, logl_val, perp_train, perp_val = [], [], [], [], []\n",
    "    for i in model_range:\n",
    "        lda = LatentDirichletAllocation(\n",
    "            n_components=i,\n",
    "            max_iter=10,\n",
    "            learning_method='online',\n",
    "            batch_size=batch_size,\n",
    "            evaluate_every = -1,\n",
    "            n_jobs = -1,\n",
    "        )\n",
    "        \n",
    "        lda.fit(train)\n",
    "        \n",
    "        logl_train.append(lda.score(train))\n",
    "        logl_val.append(lda.score(validation))\n",
    "        perp_train.append(lda.perplexity(train))\n",
    "        perp_val.append(lda.perplexity(validation))\n",
    "        models.append(lda)\n",
    "                         \n",
    "    return models, logl_train, logl_val, perp_train, perp_val\n",
    "                        \n",
    "vectorizer = CountVectorizer(\n",
    "    analyzer='word',\n",
    "    min_df=0.1,\n",
    "    max_df=0.6,\n",
    ")\n",
    "\n",
    "vectorizer2 = TfidfVectorizer(\n",
    "    analyzer='word',\n",
    "    min_df=0.1,\n",
    "    max_df=0.6,\n",
    ")\n",
    "\n",
    "tweet_text_count_train = vectorizer.fit_transform(tweet_text_train)\n",
    "tweet_text_count_validation = vectorizer.transform(tweet_text_validation)\n",
    "\n",
    "tweet_text_tfidf_train = vectorizer2.fit_transform(tweet_text_train)\n",
    "tweet_text_tfidf_validation = vectorizer2.transform(tweet_text_validation)"
   ]
  },
  {
   "cell_type": "code",
   "execution_count": 18,
   "id": "cec0b22d",
   "metadata": {},
   "outputs": [],
   "source": [
    "# models, logl_train, logl_val, perp_train, perp_val = get_likelihoods_and_perplexities(tweet_text_count_train, \\\n",
    "#                                                             tweet_text_count_validation, range(2, 50))"
   ]
  },
  {
   "cell_type": "code",
   "execution_count": 19,
   "id": "e6c376d0",
   "metadata": {},
   "outputs": [],
   "source": [
    "# model_range = list(range(2, 50))\n",
    "\n",
    "# fig, axs = plt.subplots(1, 2, figsize=(10, 5))\n",
    "# axs[0].plot(model_range, logl_train, 'o-')\n",
    "# axs[0].plot(model_range, logl_val, 'o-')\n",
    "\n",
    "# axs[1].plot(model_range, perp_train, 'o-')\n",
    "# axs[1].plot(model_range, perp_val, 'o-')\n"
   ]
  },
  {
   "cell_type": "code",
   "execution_count": 20,
   "id": "abdf9dd0",
   "metadata": {},
   "outputs": [],
   "source": [
    "# from tmtoolkit.topicmod import tm_lda\n",
    "# from tmtoolkit.topicmod.tm_lda import evaluate_topic_models\n",
    "# from tmtoolkit.topicmod.evaluate import results_by_parameter\n",
    "# from tmtoolkit.topicmod.visualize import plot_eval_results\n",
    "\n",
    "\n",
    "# const_params = {\n",
    "#     'n_iter': 10,\n",
    "#     'eta':0.01,\n",
    "# }\n",
    "\n",
    "# # https://tmtoolkit.readthedocs.io/en/latest/topic_modeling.html#Evaluation-of-topic-models\n",
    "# # https://datascience.blog.wzb.eu/2017/11/09/topic-modeling-evaluation-in-python-with-tmtoolkit/\n",
    "\n",
    "# # alpha    - for a prior over the document-specific topic distributions\n",
    "# #          - important for sparsity (low value means less impact - document contains a mixture of only few topics)\n",
    "# # eta/beta - for a prior over the topic-specific word distributions\n",
    "# #          - high beta value means a lower impact of word sparsity - each topic will contain most of the words of the corpus\n",
    "# #          - low beta value means the topics should be more specific, i.e. their word probabilities will be less uniform,\n",
    "# # low beta + low alpha\n",
    "\n",
    "# var_params = [\n",
    "#     {'n_topics': k, 'alpha': 1/k}\n",
    "#     for k in range(5, 101, 100)\n",
    "# ]\n",
    "\n",
    "\n",
    "# eval_results = evaluate_topic_models(\n",
    "#     tweet_text_count_train,\n",
    "#     varying_parameters=var_params,\n",
    "#     constant_parameters=const_params,\n",
    "#     coherence_mimno_2011_top_n=10,\n",
    "#     coherence_mimno_2011_include_prob=True,\n",
    "#     return_models=True\n",
    "#     n_max_proces=-1\n",
    "# )\n",
    "\n",
    "# eval_results[:3]  # only show first three models"
   ]
  },
  {
   "cell_type": "code",
   "execution_count": 40,
   "id": "08150dae",
   "metadata": {},
   "outputs": [
    {
     "data": {
      "image/png": "[encoded data removed]",
      "text/plain": [
       "<Figure size 432x288 with 1 Axes>"
      ]
     },
     "metadata": {
      "needs_background": "light"
     },
     "output_type": "display_data"
    }
   ],
   "source": [
    "from sklearn.cluster import KMeans\n",
    "import warnings\n",
    "warnings.filterwarnings(\"ignore\")\n",
    "\n",
    "inertia = []\n",
    "for i in range(2, 20):\n",
    "    model = KMeans(i)\n",
    "    model.fit(tweet_text_count_train)\n",
    "    inertia.append(model.inertia_)\n",
    "plt.axhline(inertia[3], c='k',  linestyle='dashed')\n",
    "plt.plot(list(range(2, 20)), inertia)\n",
    "plt.xlabel('Number of components')\n",
    "plt.ylabel('Inertia')\n",
    "plt.show()"
   ]
  },
  {
   "cell_type": "markdown",
   "source": [
    "## Embedding"
   ],
   "metadata": {
    "collapsed": false,
    "pycharm": {
     "name": "#%% md\n"
    }
   }
  },
  {
   "cell_type": "code",
   "execution_count": 9,
   "outputs": [],
   "source": [
    "from podium import Vocab, Field, LabelField\n",
    "from podium.datasets import TabularDataset\n",
    "from podium.vectorizers import GloVe"
   ],
   "metadata": {
    "collapsed": false,
    "pycharm": {
     "name": "#%%\n"
    }
   }
  },
  {
   "cell_type": "code",
   "execution_count": 10,
   "outputs": [],
   "source": [
    "tweet_embedding_train = df_train[['clean_text', 'Label']]\n",
    "tweet_embedding_validation = df_validation[['clean_text', 'Label']]"
   ],
   "metadata": {
    "collapsed": false,
    "pycharm": {
     "name": "#%%\n"
    }
   }
  },
  {
   "cell_type": "code",
   "execution_count": 11,
   "outputs": [],
   "source": [
    "tweet_embedding_train.reset_index(drop=True, inplace=True)\n",
    "tweet_embedding_validation.reset_index(drop=True, inplace=True)"
   ],
   "metadata": {
    "collapsed": false,
    "pycharm": {
     "name": "#%%\n"
    }
   }
  },
  {
   "cell_type": "code",
   "execution_count": 12,
   "outputs": [],
   "source": [
    "max_vocab_size = 10_000\n",
    "vocab = Vocab(max_size=max_vocab_size, min_freq=2)\n",
    "\n",
    "TWEET = Field('clean_text', pretokenize_hooks=[str.lower], numericalizer=vocab)\n",
    "LABEL = LabelField('Label')\n",
    "\n",
    "fields = [TWEET, LABEL]\n",
    "\n",
    "train = TabularDataset.from_pandas(tweet_embedding_train, fields)\n",
    "validation = TabularDataset.from_pandas(tweet_embedding_validation, fields)\n",
    "train.finalize_fields()\n",
    "\n",
    "glove = GloVe()\n",
    "# Load only the vectors of vocab words.\n",
    "embeddings = glove.load_vocab(vocab)\n",
    "\n",
    "# Generate padded batch.\n",
    "train_batch = train.batch(add_padding=True)\n",
    "test_batch = validation.batch(add_padding=True)"
   ],
   "metadata": {
    "collapsed": false,
    "pycharm": {
     "name": "#%%\n"
    }
   }
  },
  {
   "cell_type": "code",
   "execution_count": 13,
   "outputs": [
    {
     "data": {
      "text/plain": "array([[1353, 1353,   74, ...,    1,    1,    1],\n       [  19,  753,    0, ...,    1,    1,    1],\n       [   5,   87,    3, ...,    1,    1,    1],\n       ...,\n       [ 160,  995,    8, ...,    1,    1,    1],\n       [  27,    5,  357, ...,    1,    1,    1],\n       [ 120,  622,  748, ...,    1,    1,    1]])"
     },
     "execution_count": 13,
     "metadata": {},
     "output_type": "execute_result"
    }
   ],
   "source": [
    "train_batch['clean_text'].astype(int)"
   ],
   "metadata": {
    "collapsed": false,
    "pycharm": {
     "name": "#%%\n"
    }
   }
  },
  {
   "cell_type": "code",
   "execution_count": 14,
   "outputs": [],
   "source": [
    "tweet_train = embeddings[train_batch['clean_text'].astype(int)]\n",
    "tweet_test = embeddings[test_batch['clean_text'].astype(int)]\n",
    "# Mean\n",
    "tweet_train_mean = tweet_train.mean(axis=1)\n",
    "tweet_test_mean = tweet_test.mean(axis=1)\n",
    "# Median\n",
    "tweet_train_median = np.median(tweet_train, axis=1)\n",
    "tweet_test_median = np.median(tweet_test, axis=1)\n",
    "# Variance\n",
    "tweet_train_std = tweet_train.std(axis=1)\n",
    "tweet_test_std = tweet_test.std(axis=1)"
   ],
   "metadata": {
    "collapsed": false,
    "pycharm": {
     "name": "#%%\n"
    }
   }
  },
  {
   "cell_type": "code",
   "execution_count": 15,
   "outputs": [],
   "source": [
    "embaddings_train_mean_df = pd.DataFrame(tweet_train_mean)\n",
    "tweet_embedding_train = pd.merge(tweet_embedding_train, embaddings_train_mean_df, left_index=True, right_index=True)\n",
    "\n",
    "embaddings_test_mean_df = pd.DataFrame(tweet_test_mean)\n",
    "tweet_embedding_test = pd.merge(tweet_embedding_validation, embaddings_test_mean_df, left_index=True, right_index=True)"
   ],
   "metadata": {
    "collapsed": false,
    "pycharm": {
     "name": "#%%\n"
    }
   }
  },
  {
   "cell_type": "code",
   "execution_count": 16,
   "outputs": [
    {
     "data": {
      "text/plain": "                                             clean_text  Label         0  \\\n0     Sweet United Nations video. Just in time for C...      1 -0.143208   \n1                   3 episodes left I'm dying over here      0 -0.132109   \n2     Nothing makes me happier then getting on the h...      1 -0.122154   \n3     4:30 an opening my first beer now gonna be a l...      0 -0.169523   \n4     do you think you would support a guy who knock...      0 -0.180550   \n...                                                 ...    ...       ...   \n1140  Unless rogue theatres start showing it, or it ...      0 -0.152671   \n1141  I'm glad the DC Council has it's priorities in...      1 -0.127197   \n1142                       Chill http://t.co/SnUkkgCDB9      0 -0.144225   \n1143  Another one of our support vehicles modified f...      0 -0.184849   \n1144  But still bothers me that I see now follow up ...      0 -0.157694   \n\n             1         2         3         4         5         6         7  \\\n0     0.125154  0.617673  0.710176 -0.931200 -0.901535 -0.709320  0.265951   \n1     0.101051  0.749344  0.727423 -0.973546 -0.946062 -0.835888  0.298951   \n2     0.070073  0.513791  0.527171 -0.775217 -0.709135 -0.621702  0.226396   \n3     0.117616  0.587327  0.660195 -0.880731 -0.845741 -0.726717  0.274057   \n4     0.114283  0.489894  0.598455 -0.763975 -0.775944 -0.608282  0.252754   \n...        ...       ...       ...       ...       ...       ...       ...   \n1140  0.135360  0.587685  0.693809 -0.906025 -0.898615 -0.687654  0.303219   \n1141  0.121340  0.678638  0.691767 -0.968154 -0.931384 -0.749007  0.295726   \n1142  0.095510  0.783521  0.814883 -1.044772 -1.021176 -0.898538  0.336206   \n1143  0.117919  0.609249  0.656996 -0.906237 -0.905896 -0.691985  0.266045   \n1144  0.097469  0.647397  0.670931 -0.872489 -0.860184 -0.756778  0.272099   \n\n      ...       290       291       292       293       294       295  \\\n0     ...  0.656036  0.837494 -1.119785  0.375256 -0.253029  1.178032   \n1     ...  0.689564  0.847522 -1.158082  0.512170 -0.178429  1.216739   \n2     ...  0.559840  0.650367 -0.941178  0.324850 -0.207901  0.907649   \n3     ...  0.659972  0.782035 -1.056482  0.391901 -0.227005  1.059128   \n4     ...  0.634504  0.651863 -0.987943  0.291869 -0.229595  0.916654   \n...   ...       ...       ...       ...       ...       ...       ...   \n1140  ...  0.675820  0.820589 -1.112471  0.375695 -0.322194  1.092719   \n1141  ...  0.677301  0.829772 -1.121108  0.452483 -0.217650  1.173995   \n1142  ...  0.792969  0.955631 -1.279963  0.511473 -0.267325  1.302332   \n1143  ...  0.664565  0.803829 -1.100600  0.348804 -0.282677  1.146920   \n1144  ...  0.665067  0.775377 -1.065702  0.432151 -0.218405  1.059396   \n\n           296       297       298       299  \n0     0.001807  0.404764 -0.243681  0.326935  \n1     0.079070  0.441368 -0.228380  0.306440  \n2     0.022707  0.314525 -0.178422  0.297150  \n3     0.049982  0.380057 -0.245896  0.325211  \n4    -0.039780  0.316389 -0.216749  0.278653  \n...        ...       ...       ...       ...  \n1140 -0.045435  0.389843 -0.254811  0.315552  \n1141  0.048142  0.410433 -0.189058  0.312962  \n1142  0.041872  0.511403 -0.268921  0.347724  \n1143 -0.045521  0.395182 -0.267424  0.301131  \n1144  0.047513  0.381568 -0.218751  0.317596  \n\n[1145 rows x 302 columns]",
      "text/html": "<div>\n<style scoped>\n    .dataframe tbody tr th:only-of-type {\n        vertical-align: middle;\n    }\n\n    .dataframe tbody tr th {\n        vertical-align: top;\n    }\n\n    .dataframe thead th {\n        text-align: right;\n    }\n</style>\n<table border=\"1\" class=\"dataframe\">\n  <thead>\n    <tr style=\"text-align: right;\">\n      <th></th>\n      <th>clean_text</th>\n      <th>Label</th>\n      <th>0</th>\n      <th>1</th>\n      <th>2</th>\n      <th>3</th>\n      <th>4</th>\n      <th>5</th>\n      <th>6</th>\n      <th>7</th>\n      <th>...</th>\n      <th>290</th>\n      <th>291</th>\n      <th>292</th>\n      <th>293</th>\n      <th>294</th>\n      <th>295</th>\n      <th>296</th>\n      <th>297</th>\n      <th>298</th>\n      <th>299</th>\n    </tr>\n  </thead>\n  <tbody>\n    <tr>\n      <th>0</th>\n      <td>Sweet United Nations video. Just in time for C...</td>\n      <td>1</td>\n      <td>-0.143208</td>\n      <td>0.125154</td>\n      <td>0.617673</td>\n      <td>0.710176</td>\n      <td>-0.931200</td>\n      <td>-0.901535</td>\n      <td>-0.709320</td>\n      <td>0.265951</td>\n      <td>...</td>\n      <td>0.656036</td>\n      <td>0.837494</td>\n      <td>-1.119785</td>\n      <td>0.375256</td>\n      <td>-0.253029</td>\n      <td>1.178032</td>\n      <td>0.001807</td>\n      <td>0.404764</td>\n      <td>-0.243681</td>\n      <td>0.326935</td>\n    </tr>\n    <tr>\n      <th>1</th>\n      <td>3 episodes left I'm dying over here</td>\n      <td>0</td>\n      <td>-0.132109</td>\n      <td>0.101051</td>\n      <td>0.749344</td>\n      <td>0.727423</td>\n      <td>-0.973546</td>\n      <td>-0.946062</td>\n      <td>-0.835888</td>\n      <td>0.298951</td>\n      <td>...</td>\n      <td>0.689564</td>\n      <td>0.847522</td>\n      <td>-1.158082</td>\n      <td>0.512170</td>\n      <td>-0.178429</td>\n      <td>1.216739</td>\n      <td>0.079070</td>\n      <td>0.441368</td>\n      <td>-0.228380</td>\n      <td>0.306440</td>\n    </tr>\n    <tr>\n      <th>2</th>\n      <td>Nothing makes me happier then getting on the h...</td>\n      <td>1</td>\n      <td>-0.122154</td>\n      <td>0.070073</td>\n      <td>0.513791</td>\n      <td>0.527171</td>\n      <td>-0.775217</td>\n      <td>-0.709135</td>\n      <td>-0.621702</td>\n      <td>0.226396</td>\n      <td>...</td>\n      <td>0.559840</td>\n      <td>0.650367</td>\n      <td>-0.941178</td>\n      <td>0.324850</td>\n      <td>-0.207901</td>\n      <td>0.907649</td>\n      <td>0.022707</td>\n      <td>0.314525</td>\n      <td>-0.178422</td>\n      <td>0.297150</td>\n    </tr>\n    <tr>\n      <th>3</th>\n      <td>4:30 an opening my first beer now gonna be a l...</td>\n      <td>0</td>\n      <td>-0.169523</td>\n      <td>0.117616</td>\n      <td>0.587327</td>\n      <td>0.660195</td>\n      <td>-0.880731</td>\n      <td>-0.845741</td>\n      <td>-0.726717</td>\n      <td>0.274057</td>\n      <td>...</td>\n      <td>0.659972</td>\n      <td>0.782035</td>\n      <td>-1.056482</td>\n      <td>0.391901</td>\n      <td>-0.227005</td>\n      <td>1.059128</td>\n      <td>0.049982</td>\n      <td>0.380057</td>\n      <td>-0.245896</td>\n      <td>0.325211</td>\n    </tr>\n    <tr>\n      <th>4</th>\n      <td>do you think you would support a guy who knock...</td>\n      <td>0</td>\n      <td>-0.180550</td>\n      <td>0.114283</td>\n      <td>0.489894</td>\n      <td>0.598455</td>\n      <td>-0.763975</td>\n      <td>-0.775944</td>\n      <td>-0.608282</td>\n      <td>0.252754</td>\n      <td>...</td>\n      <td>0.634504</td>\n      <td>0.651863</td>\n      <td>-0.987943</td>\n      <td>0.291869</td>\n      <td>-0.229595</td>\n      <td>0.916654</td>\n      <td>-0.039780</td>\n      <td>0.316389</td>\n      <td>-0.216749</td>\n      <td>0.278653</td>\n    </tr>\n    <tr>\n      <th>...</th>\n      <td>...</td>\n      <td>...</td>\n      <td>...</td>\n      <td>...</td>\n      <td>...</td>\n      <td>...</td>\n      <td>...</td>\n      <td>...</td>\n      <td>...</td>\n      <td>...</td>\n      <td>...</td>\n      <td>...</td>\n      <td>...</td>\n      <td>...</td>\n      <td>...</td>\n      <td>...</td>\n      <td>...</td>\n      <td>...</td>\n      <td>...</td>\n      <td>...</td>\n      <td>...</td>\n    </tr>\n    <tr>\n      <th>1140</th>\n      <td>Unless rogue theatres start showing it, or it ...</td>\n      <td>0</td>\n      <td>-0.152671</td>\n      <td>0.135360</td>\n      <td>0.587685</td>\n      <td>0.693809</td>\n      <td>-0.906025</td>\n      <td>-0.898615</td>\n      <td>-0.687654</td>\n      <td>0.303219</td>\n      <td>...</td>\n      <td>0.675820</td>\n      <td>0.820589</td>\n      <td>-1.112471</td>\n      <td>0.375695</td>\n      <td>-0.322194</td>\n      <td>1.092719</td>\n      <td>-0.045435</td>\n      <td>0.389843</td>\n      <td>-0.254811</td>\n      <td>0.315552</td>\n    </tr>\n    <tr>\n      <th>1141</th>\n      <td>I'm glad the DC Council has it's priorities in...</td>\n      <td>1</td>\n      <td>-0.127197</td>\n      <td>0.121340</td>\n      <td>0.678638</td>\n      <td>0.691767</td>\n      <td>-0.968154</td>\n      <td>-0.931384</td>\n      <td>-0.749007</td>\n      <td>0.295726</td>\n      <td>...</td>\n      <td>0.677301</td>\n      <td>0.829772</td>\n      <td>-1.121108</td>\n      <td>0.452483</td>\n      <td>-0.217650</td>\n      <td>1.173995</td>\n      <td>0.048142</td>\n      <td>0.410433</td>\n      <td>-0.189058</td>\n      <td>0.312962</td>\n    </tr>\n    <tr>\n      <th>1142</th>\n      <td>Chill http://t.co/SnUkkgCDB9</td>\n      <td>0</td>\n      <td>-0.144225</td>\n      <td>0.095510</td>\n      <td>0.783521</td>\n      <td>0.814883</td>\n      <td>-1.044772</td>\n      <td>-1.021176</td>\n      <td>-0.898538</td>\n      <td>0.336206</td>\n      <td>...</td>\n      <td>0.792969</td>\n      <td>0.955631</td>\n      <td>-1.279963</td>\n      <td>0.511473</td>\n      <td>-0.267325</td>\n      <td>1.302332</td>\n      <td>0.041872</td>\n      <td>0.511403</td>\n      <td>-0.268921</td>\n      <td>0.347724</td>\n    </tr>\n    <tr>\n      <th>1143</th>\n      <td>Another one of our support vehicles modified f...</td>\n      <td>0</td>\n      <td>-0.184849</td>\n      <td>0.117919</td>\n      <td>0.609249</td>\n      <td>0.656996</td>\n      <td>-0.906237</td>\n      <td>-0.905896</td>\n      <td>-0.691985</td>\n      <td>0.266045</td>\n      <td>...</td>\n      <td>0.664565</td>\n      <td>0.803829</td>\n      <td>-1.100600</td>\n      <td>0.348804</td>\n      <td>-0.282677</td>\n      <td>1.146920</td>\n      <td>-0.045521</td>\n      <td>0.395182</td>\n      <td>-0.267424</td>\n      <td>0.301131</td>\n    </tr>\n    <tr>\n      <th>1144</th>\n      <td>But still bothers me that I see now follow up ...</td>\n      <td>0</td>\n      <td>-0.157694</td>\n      <td>0.097469</td>\n      <td>0.647397</td>\n      <td>0.670931</td>\n      <td>-0.872489</td>\n      <td>-0.860184</td>\n      <td>-0.756778</td>\n      <td>0.272099</td>\n      <td>...</td>\n      <td>0.665067</td>\n      <td>0.775377</td>\n      <td>-1.065702</td>\n      <td>0.432151</td>\n      <td>-0.218405</td>\n      <td>1.059396</td>\n      <td>0.047513</td>\n      <td>0.381568</td>\n      <td>-0.218751</td>\n      <td>0.317596</td>\n    </tr>\n  </tbody>\n</table>\n<p>1145 rows × 302 columns</p>\n</div>"
     },
     "execution_count": 16,
     "metadata": {},
     "output_type": "execute_result"
    }
   ],
   "source": [
    "tweet_embedding_test"
   ],
   "metadata": {
    "collapsed": false,
    "pycharm": {
     "name": "#%%\n"
    }
   }
  },
  {
   "cell_type": "code",
   "execution_count": 17,
   "outputs": [
    {
     "name": "stdout",
     "output_type": "stream",
     "text": [
      "Train score\n",
      "0.6324850299401198\n",
      "Validation score\n",
      "0.6183406113537118\n"
     ]
    }
   ],
   "source": [
    "from sklearn.linear_model import LogisticRegression\n",
    "X_ = tweet_embedding_train[[x for x in range(300)]]\n",
    "y_ = tweet_embedding_train['Label']\n",
    "clf = LogisticRegression(random_state=1, solver='liblinear', C=10).fit(X_, y_)\n",
    "print('Train score')\n",
    "print(clf.score(X_, y_))\n",
    "print('Validation score')\n",
    "X_test = tweet_embedding_test[[x for x in range(300)]]\n",
    "y_test = tweet_embedding_test['Label']\n",
    "print(clf.score(X_test, y_test))"
   ],
   "metadata": {
    "collapsed": false,
    "pycharm": {
     "name": "#%%\n"
    }
   }
  },
  {
   "cell_type": "code",
   "execution_count": null,
   "outputs": [],
   "source": [
    "## Features\n",
    "## Broj neg rijeci\n",
    "## Broj poz rijeci\n",
    "## Omjer\n",
    "## Udaljenost izmedu poz i neg rijeci"
   ],
   "metadata": {
    "collapsed": false,
    "pycharm": {
     "name": "#%%\n"
    }
   }
  },
  {
   "cell_type": "markdown",
   "source": [
    "Potrebno dodatno preprocesat da samo rjeci ostanu"
   ],
   "metadata": {
    "collapsed": false,
    "pycharm": {
     "name": "#%% md\n"
    }
   }
  },
  {
   "cell_type": "code",
   "execution_count": 75,
   "outputs": [],
   "source": [
    "import nltk\n",
    "## nltk.download('vader_lexicon') if error run this\n",
    "from nltk.sentiment import SentimentIntensityAnalyzer\n",
    "import copy\n",
    "\n",
    "def pos_neg_words(df, limit):\n",
    "    sid = SentimentIntensityAnalyzer()\n",
    "\n",
    "    neg_words = []\n",
    "    neg_word_count = []\n",
    "    pos_words = []\n",
    "    pos_word_count = []\n",
    "    for index, row in df.iterrows():\n",
    "        lemmas = []\n",
    "        if len(row['clean_text']) > 0:\n",
    "            doc = nlp(row['clean_text'])\n",
    "            for token in doc:\n",
    "                lemmas.append(token.lemma_)\n",
    "\n",
    "            current_pos = []\n",
    "            current_neut = []\n",
    "            current_neg = []\n",
    "            for word in lemmas:\n",
    "                if (sid.polarity_scores(word)['compound']) >= limit:\n",
    "                    current_pos.append(word)\n",
    "                elif (sid.polarity_scores(word)['compound']) <= -limit:\n",
    "                    current_neg.append(word)\n",
    "                else:\n",
    "                    current_neut.append(word)\n",
    "\n",
    "            neg_words.append(copy.copy(current_neg))\n",
    "            neg_word_count.append(copy.copy(len(current_neg)))\n",
    "            pos_words.append(copy.copy(current_pos))\n",
    "            pos_word_count.append(copy.copy(len(current_pos)))\n",
    "        else:\n",
    "            neg_words.append([])\n",
    "            neg_word_count.append(0)\n",
    "            pos_words.append([])\n",
    "            pos_word_count.append(0)\n",
    "    return neg_words, neg_word_count, pos_words, pos_word_count"
   ],
   "metadata": {
    "collapsed": false,
    "pycharm": {
     "name": "#%%\n"
    }
   }
  },
  {
   "cell_type": "code",
   "execution_count": 72,
   "outputs": [
    {
     "data": {
      "text/plain": "      Tweet index  Label                                         Tweet text  \\\n0            1501      0  @bayer04fussball draw, @s04 draw, @Everton goi...   \n1            1884      0  Just gave Imperfecto a 3.5/5 rating on @Zomato...   \n2            2945      0  I need to do something legendary this winter b...   \n3            1078      1  I am starting to think UK has a pretty good ba...   \n4            1778      0  @aleciamarie21 @DonnieWahlberg is it bad that ...   \n...           ...    ...                                                ...   \n2667         3368      1  A strange day so far everyone seems in such a ...   \n2668         1691      1  First day skiing #killedit  #iwasshit #tignes ...   \n2669         2994      0    @KeirSimmons  another Bush in the Whitehouse.\\r   \n2670         2663      0                      All I wanted was to see you\\r   \n2671         2677      1  Such quality customer service today by @Micros...   \n\n      length  word_count  tag_count  hashtag_count  link_count  smiley_count  \\\n0        122          18          3              0           0            21   \n1         70           8          1              0           1             9   \n2         51           9          0              0           0             9   \n3         66          12          0              1           0            13   \n4        180          17          2              0           0            19   \n...      ...         ...        ...            ...         ...           ...   \n2667     130          24          0              0           0            24   \n2668      81           4          0              4           1             8   \n2669      46           5          1              0           0             6   \n2670      28           7          0              0           0             7   \n2671      97          10          1              2           0            13   \n\n      exclamation_mark_count  has_emoji  \\\n0                          0          0   \n1                          0          0   \n2                          0          0   \n3                          0          0   \n4                          1          2   \n...                      ...        ...   \n2667                       0          0   \n2668                       0          0   \n2669                       0          0   \n2670                       0          0   \n2671                       0          0   \n\n                                             clean_text  \n0     draw, draw, going to lose, Pelle on my bench i...  \n1     Just gave Imperfecto a 3.5/5 rating on http://...  \n2     I need to do something legendary this winter b...  \n3     I am starting to think UK has a pretty good ba...  \n4     is it bad that after my \"happy Preds won\" danc...  \n...                                                 ...  \n2667  A strange day so far everyone seems in such a ...  \n2668            First day skiing http://t.co/oHYSozoNPP  \n2669                    another Bush in the Whitehouse.  \n2670                        All I wanted was to see you  \n2671  Such quality customer service today by for the...  \n\n[2672 rows x 12 columns]",
      "text/html": "<div>\n<style scoped>\n    .dataframe tbody tr th:only-of-type {\n        vertical-align: middle;\n    }\n\n    .dataframe tbody tr th {\n        vertical-align: top;\n    }\n\n    .dataframe thead th {\n        text-align: right;\n    }\n</style>\n<table border=\"1\" class=\"dataframe\">\n  <thead>\n    <tr style=\"text-align: right;\">\n      <th></th>\n      <th>Tweet index</th>\n      <th>Label</th>\n      <th>Tweet text</th>\n      <th>length</th>\n      <th>word_count</th>\n      <th>tag_count</th>\n      <th>hashtag_count</th>\n      <th>link_count</th>\n      <th>smiley_count</th>\n      <th>exclamation_mark_count</th>\n      <th>has_emoji</th>\n      <th>clean_text</th>\n    </tr>\n  </thead>\n  <tbody>\n    <tr>\n      <th>0</th>\n      <td>1501</td>\n      <td>0</td>\n      <td>@bayer04fussball draw, @s04 draw, @Everton goi...</td>\n      <td>122</td>\n      <td>18</td>\n      <td>3</td>\n      <td>0</td>\n      <td>0</td>\n      <td>21</td>\n      <td>0</td>\n      <td>0</td>\n      <td>draw, draw, going to lose, Pelle on my bench i...</td>\n    </tr>\n    <tr>\n      <th>1</th>\n      <td>1884</td>\n      <td>0</td>\n      <td>Just gave Imperfecto a 3.5/5 rating on @Zomato...</td>\n      <td>70</td>\n      <td>8</td>\n      <td>1</td>\n      <td>0</td>\n      <td>1</td>\n      <td>9</td>\n      <td>0</td>\n      <td>0</td>\n      <td>Just gave Imperfecto a 3.5/5 rating on http://...</td>\n    </tr>\n    <tr>\n      <th>2</th>\n      <td>2945</td>\n      <td>0</td>\n      <td>I need to do something legendary this winter b...</td>\n      <td>51</td>\n      <td>9</td>\n      <td>0</td>\n      <td>0</td>\n      <td>0</td>\n      <td>9</td>\n      <td>0</td>\n      <td>0</td>\n      <td>I need to do something legendary this winter b...</td>\n    </tr>\n    <tr>\n      <th>3</th>\n      <td>1078</td>\n      <td>1</td>\n      <td>I am starting to think UK has a pretty good ba...</td>\n      <td>66</td>\n      <td>12</td>\n      <td>0</td>\n      <td>1</td>\n      <td>0</td>\n      <td>13</td>\n      <td>0</td>\n      <td>0</td>\n      <td>I am starting to think UK has a pretty good ba...</td>\n    </tr>\n    <tr>\n      <th>4</th>\n      <td>1778</td>\n      <td>0</td>\n      <td>@aleciamarie21 @DonnieWahlberg is it bad that ...</td>\n      <td>180</td>\n      <td>17</td>\n      <td>2</td>\n      <td>0</td>\n      <td>0</td>\n      <td>19</td>\n      <td>1</td>\n      <td>2</td>\n      <td>is it bad that after my \"happy Preds won\" danc...</td>\n    </tr>\n    <tr>\n      <th>...</th>\n      <td>...</td>\n      <td>...</td>\n      <td>...</td>\n      <td>...</td>\n      <td>...</td>\n      <td>...</td>\n      <td>...</td>\n      <td>...</td>\n      <td>...</td>\n      <td>...</td>\n      <td>...</td>\n      <td>...</td>\n    </tr>\n    <tr>\n      <th>2667</th>\n      <td>3368</td>\n      <td>1</td>\n      <td>A strange day so far everyone seems in such a ...</td>\n      <td>130</td>\n      <td>24</td>\n      <td>0</td>\n      <td>0</td>\n      <td>0</td>\n      <td>24</td>\n      <td>0</td>\n      <td>0</td>\n      <td>A strange day so far everyone seems in such a ...</td>\n    </tr>\n    <tr>\n      <th>2668</th>\n      <td>1691</td>\n      <td>1</td>\n      <td>First day skiing #killedit  #iwasshit #tignes ...</td>\n      <td>81</td>\n      <td>4</td>\n      <td>0</td>\n      <td>4</td>\n      <td>1</td>\n      <td>8</td>\n      <td>0</td>\n      <td>0</td>\n      <td>First day skiing http://t.co/oHYSozoNPP</td>\n    </tr>\n    <tr>\n      <th>2669</th>\n      <td>2994</td>\n      <td>0</td>\n      <td>@KeirSimmons  another Bush in the Whitehouse.\\r</td>\n      <td>46</td>\n      <td>5</td>\n      <td>1</td>\n      <td>0</td>\n      <td>0</td>\n      <td>6</td>\n      <td>0</td>\n      <td>0</td>\n      <td>another Bush in the Whitehouse.</td>\n    </tr>\n    <tr>\n      <th>2670</th>\n      <td>2663</td>\n      <td>0</td>\n      <td>All I wanted was to see you\\r</td>\n      <td>28</td>\n      <td>7</td>\n      <td>0</td>\n      <td>0</td>\n      <td>0</td>\n      <td>7</td>\n      <td>0</td>\n      <td>0</td>\n      <td>All I wanted was to see you</td>\n    </tr>\n    <tr>\n      <th>2671</th>\n      <td>2677</td>\n      <td>1</td>\n      <td>Such quality customer service today by @Micros...</td>\n      <td>97</td>\n      <td>10</td>\n      <td>1</td>\n      <td>2</td>\n      <td>0</td>\n      <td>13</td>\n      <td>0</td>\n      <td>0</td>\n      <td>Such quality customer service today by for the...</td>\n    </tr>\n  </tbody>\n</table>\n<p>2672 rows × 12 columns</p>\n</div>"
     },
     "execution_count": 72,
     "metadata": {},
     "output_type": "execute_result"
    }
   ],
   "source": [
    "df_train"
   ],
   "metadata": {
    "collapsed": false,
    "pycharm": {
     "name": "#%%\n"
    }
   }
  },
  {
   "cell_type": "code",
   "execution_count": 85,
   "outputs": [],
   "source": [
    "neg_words_train, neg_word_count_train, pos_words_train, pos_word_count_train = pos_neg_words(df_train, 0.2)\n",
    "neg_words_val, neg_word_count_val, pos_words_val, pos_word_count_val = pos_neg_words(df_validation, 0.2)"
   ],
   "metadata": {
    "collapsed": false,
    "pycharm": {
     "name": "#%%\n"
    }
   }
  },
  {
   "cell_type": "code",
   "execution_count": 86,
   "outputs": [
    {
     "data": {
      "text/plain": "      Tweet index  Label                                         Tweet text  \\\n0            1501      0  @bayer04fussball draw, @s04 draw, @Everton goi...   \n1            1884      0  Just gave Imperfecto a 3.5/5 rating on @Zomato...   \n2            2945      0  I need to do something legendary this winter b...   \n3            1078      1  I am starting to think UK has a pretty good ba...   \n4            1778      0  @aleciamarie21 @DonnieWahlberg is it bad that ...   \n...           ...    ...                                                ...   \n2667         3368      1  A strange day so far everyone seems in such a ...   \n2668         1691      1  First day skiing #killedit  #iwasshit #tignes ...   \n2669         2994      0    @KeirSimmons  another Bush in the Whitehouse.\\r   \n2670         2663      0                      All I wanted was to see you\\r   \n2671         2677      1  Such quality customer service today by @Micros...   \n\n      length  word_count  tag_count  hashtag_count  link_count  smiley_count  \\\n0        122          18          3              0           0            21   \n1         70           8          1              0           1             9   \n2         51           9          0              0           0             9   \n3         66          12          0              1           0            13   \n4        180          17          2              0           0            19   \n...      ...         ...        ...            ...         ...           ...   \n2667     130          24          0              0           0            24   \n2668      81           4          0              4           1             8   \n2669      46           5          1              0           0             6   \n2670      28           7          0              0           0             7   \n2671      97          10          1              2           0            13   \n\n      exclamation_mark_count  has_emoji  \\\n0                          0          0   \n1                          0          0   \n2                          0          0   \n3                          0          0   \n4                          1          2   \n...                      ...        ...   \n2667                       0          0   \n2668                       0          0   \n2669                       0          0   \n2670                       0          0   \n2671                       0          0   \n\n                                             clean_text  neg_word_count  \\\n0     draw, draw, going to lose, Pelle on my bench i...               2   \n1     Just gave Imperfecto a 3.5/5 rating on http://...               0   \n2     I need to do something legendary this winter b...               0   \n3     I am starting to think UK has a pretty good ba...               0   \n4     is it bad that after my \"happy Preds won\" danc...               1   \n...                                                 ...             ...   \n2667  A strange day so far everyone seems in such a ...               2   \n2668            First day skiing http://t.co/oHYSozoNPP               0   \n2669                    another Bush in the Whitehouse.               0   \n2670                        All I wanted was to see you               0   \n2671  Such quality customer service today by for the...               0   \n\n              neg_word  pos_word_count        pos_word  \n0         [lose, shit]               0              []  \n1                   []               0              []  \n2                   []               0              []  \n3                   []               2  [pretty, good]  \n4                [bad]               2    [happy, win]  \n...                ...             ...             ...  \n2667  [strange, drunk]               1          [good]  \n2668                []               0              []  \n2669                []               0              []  \n2670                []               0              []  \n2671                []               0              []  \n\n[2672 rows x 16 columns]",
      "text/html": "<div>\n<style scoped>\n    .dataframe tbody tr th:only-of-type {\n        vertical-align: middle;\n    }\n\n    .dataframe tbody tr th {\n        vertical-align: top;\n    }\n\n    .dataframe thead th {\n        text-align: right;\n    }\n</style>\n<table border=\"1\" class=\"dataframe\">\n  <thead>\n    <tr style=\"text-align: right;\">\n      <th></th>\n      <th>Tweet index</th>\n      <th>Label</th>\n      <th>Tweet text</th>\n      <th>length</th>\n      <th>word_count</th>\n      <th>tag_count</th>\n      <th>hashtag_count</th>\n      <th>link_count</th>\n      <th>smiley_count</th>\n      <th>exclamation_mark_count</th>\n      <th>has_emoji</th>\n      <th>clean_text</th>\n      <th>neg_word_count</th>\n      <th>neg_word</th>\n      <th>pos_word_count</th>\n      <th>pos_word</th>\n    </tr>\n  </thead>\n  <tbody>\n    <tr>\n      <th>0</th>\n      <td>1501</td>\n      <td>0</td>\n      <td>@bayer04fussball draw, @s04 draw, @Everton goi...</td>\n      <td>122</td>\n      <td>18</td>\n      <td>3</td>\n      <td>0</td>\n      <td>0</td>\n      <td>21</td>\n      <td>0</td>\n      <td>0</td>\n      <td>draw, draw, going to lose, Pelle on my bench i...</td>\n      <td>2</td>\n      <td>[lose, shit]</td>\n      <td>0</td>\n      <td>[]</td>\n    </tr>\n    <tr>\n      <th>1</th>\n      <td>1884</td>\n      <td>0</td>\n      <td>Just gave Imperfecto a 3.5/5 rating on @Zomato...</td>\n      <td>70</td>\n      <td>8</td>\n      <td>1</td>\n      <td>0</td>\n      <td>1</td>\n      <td>9</td>\n      <td>0</td>\n      <td>0</td>\n      <td>Just gave Imperfecto a 3.5/5 rating on http://...</td>\n      <td>0</td>\n      <td>[]</td>\n      <td>0</td>\n      <td>[]</td>\n    </tr>\n    <tr>\n      <th>2</th>\n      <td>2945</td>\n      <td>0</td>\n      <td>I need to do something legendary this winter b...</td>\n      <td>51</td>\n      <td>9</td>\n      <td>0</td>\n      <td>0</td>\n      <td>0</td>\n      <td>9</td>\n      <td>0</td>\n      <td>0</td>\n      <td>I need to do something legendary this winter b...</td>\n      <td>0</td>\n      <td>[]</td>\n      <td>0</td>\n      <td>[]</td>\n    </tr>\n    <tr>\n      <th>3</th>\n      <td>1078</td>\n      <td>1</td>\n      <td>I am starting to think UK has a pretty good ba...</td>\n      <td>66</td>\n      <td>12</td>\n      <td>0</td>\n      <td>1</td>\n      <td>0</td>\n      <td>13</td>\n      <td>0</td>\n      <td>0</td>\n      <td>I am starting to think UK has a pretty good ba...</td>\n      <td>0</td>\n      <td>[]</td>\n      <td>2</td>\n      <td>[pretty, good]</td>\n    </tr>\n    <tr>\n      <th>4</th>\n      <td>1778</td>\n      <td>0</td>\n      <td>@aleciamarie21 @DonnieWahlberg is it bad that ...</td>\n      <td>180</td>\n      <td>17</td>\n      <td>2</td>\n      <td>0</td>\n      <td>0</td>\n      <td>19</td>\n      <td>1</td>\n      <td>2</td>\n      <td>is it bad that after my \"happy Preds won\" danc...</td>\n      <td>1</td>\n      <td>[bad]</td>\n      <td>2</td>\n      <td>[happy, win]</td>\n    </tr>\n    <tr>\n      <th>...</th>\n      <td>...</td>\n      <td>...</td>\n      <td>...</td>\n      <td>...</td>\n      <td>...</td>\n      <td>...</td>\n      <td>...</td>\n      <td>...</td>\n      <td>...</td>\n      <td>...</td>\n      <td>...</td>\n      <td>...</td>\n      <td>...</td>\n      <td>...</td>\n      <td>...</td>\n      <td>...</td>\n    </tr>\n    <tr>\n      <th>2667</th>\n      <td>3368</td>\n      <td>1</td>\n      <td>A strange day so far everyone seems in such a ...</td>\n      <td>130</td>\n      <td>24</td>\n      <td>0</td>\n      <td>0</td>\n      <td>0</td>\n      <td>24</td>\n      <td>0</td>\n      <td>0</td>\n      <td>A strange day so far everyone seems in such a ...</td>\n      <td>2</td>\n      <td>[strange, drunk]</td>\n      <td>1</td>\n      <td>[good]</td>\n    </tr>\n    <tr>\n      <th>2668</th>\n      <td>1691</td>\n      <td>1</td>\n      <td>First day skiing #killedit  #iwasshit #tignes ...</td>\n      <td>81</td>\n      <td>4</td>\n      <td>0</td>\n      <td>4</td>\n      <td>1</td>\n      <td>8</td>\n      <td>0</td>\n      <td>0</td>\n      <td>First day skiing http://t.co/oHYSozoNPP</td>\n      <td>0</td>\n      <td>[]</td>\n      <td>0</td>\n      <td>[]</td>\n    </tr>\n    <tr>\n      <th>2669</th>\n      <td>2994</td>\n      <td>0</td>\n      <td>@KeirSimmons  another Bush in the Whitehouse.\\r</td>\n      <td>46</td>\n      <td>5</td>\n      <td>1</td>\n      <td>0</td>\n      <td>0</td>\n      <td>6</td>\n      <td>0</td>\n      <td>0</td>\n      <td>another Bush in the Whitehouse.</td>\n      <td>0</td>\n      <td>[]</td>\n      <td>0</td>\n      <td>[]</td>\n    </tr>\n    <tr>\n      <th>2670</th>\n      <td>2663</td>\n      <td>0</td>\n      <td>All I wanted was to see you\\r</td>\n      <td>28</td>\n      <td>7</td>\n      <td>0</td>\n      <td>0</td>\n      <td>0</td>\n      <td>7</td>\n      <td>0</td>\n      <td>0</td>\n      <td>All I wanted was to see you</td>\n      <td>0</td>\n      <td>[]</td>\n      <td>0</td>\n      <td>[]</td>\n    </tr>\n    <tr>\n      <th>2671</th>\n      <td>2677</td>\n      <td>1</td>\n      <td>Such quality customer service today by @Micros...</td>\n      <td>97</td>\n      <td>10</td>\n      <td>1</td>\n      <td>2</td>\n      <td>0</td>\n      <td>13</td>\n      <td>0</td>\n      <td>0</td>\n      <td>Such quality customer service today by for the...</td>\n      <td>0</td>\n      <td>[]</td>\n      <td>0</td>\n      <td>[]</td>\n    </tr>\n  </tbody>\n</table>\n<p>2672 rows × 16 columns</p>\n</div>"
     },
     "execution_count": 86,
     "metadata": {},
     "output_type": "execute_result"
    }
   ],
   "source": [
    "df_train['neg_word_count'] = neg_word_count_train\n",
    "df_train['neg_word'] = neg_words_train\n",
    "df_train['pos_word_count'] = pos_word_count_train\n",
    "df_train['pos_word'] = pos_words_train\n",
    "df_train"
   ],
   "metadata": {
    "collapsed": false,
    "pycharm": {
     "name": "#%%\n"
    }
   }
  },
  {
   "cell_type": "code",
   "execution_count": 87,
   "outputs": [],
   "source": [
    "df_validation['neg_word_count'] = neg_word_count_val\n",
    "df_validation['neg_word'] = neg_words_val\n",
    "df_validation['pos_word_count'] = pos_word_count_val\n",
    "df_validation['pos_word'] = pos_words_val"
   ],
   "metadata": {
    "collapsed": false,
    "pycharm": {
     "name": "#%%\n"
    }
   }
  },
  {
   "cell_type": "code",
   "execution_count": 93,
   "outputs": [
    {
     "name": "stdout",
     "output_type": "stream",
     "text": [
      "Train score\n",
      "0.6014221556886228\n",
      "Validation score\n",
      "0.5816593886462882\n"
     ]
    }
   ],
   "source": [
    "from sklearn.linear_model import LogisticRegression\n",
    "X_ = df_train[['neg_word_count', 'pos_word_count']]\n",
    "y_ = df_train['Label']\n",
    "clf = LogisticRegression(random_state=0).fit(X_, y_)\n",
    "print('Train score')\n",
    "print(clf.score(X_, y_))\n",
    "print('Validation score')\n",
    "X_val = df_validation[['neg_word_count', 'pos_word_count']]\n",
    "y_val = df_validation['Label']\n",
    "print(clf.score(X_val, y_val))"
   ],
   "metadata": {
    "collapsed": false,
    "pycharm": {
     "name": "#%%\n"
    }
   }
  },
  {
   "cell_type": "code",
   "execution_count": 97,
   "outputs": [
    {
     "data": {
      "text/plain": "clean_text        Weather bomb. Weather. Bomb. ||I applaud the m...\npos_word                                [applaud, innovation, help]\npos_word_count                                                    3\nneg_word                                               [bomb, bomb]\nneg_word_count                                                    2\nName: 25, dtype: object"
     },
     "execution_count": 97,
     "metadata": {},
     "output_type": "execute_result"
    }
   ],
   "source": [
    "## Pos and neg words within 4 words\n",
    "df_train[['clean_text', 'pos_word', 'pos_word_count', 'neg_word', 'neg_word_count']].iloc[25]"
   ],
   "metadata": {
    "collapsed": false,
    "pycharm": {
     "name": "#%%\n"
    }
   }
  },
  {
   "cell_type": "code",
   "execution_count": 121,
   "outputs": [],
   "source": [
    "def pos_neg_within_n(df, n=4):\n",
    "\n",
    "    ret_array = []\n",
    "\n",
    "    for index, row in df.iterrows():\n",
    "        if row['pos_word_count'] > 0 and row['neg_word_count'] > 0:\n",
    "            doc = nlp(row['clean_text'])\n",
    "            lemmas = []\n",
    "            for token in doc:\n",
    "                lemmas.append(token.lemma_)\n",
    "\n",
    "            pos_indexes = np.array([])\n",
    "            for word in row['pos_word']:\n",
    "                pos_indexes = np.append(pos_indexes, np.where(np.array(lemmas) == word))\n",
    "            neg_indexes = np.array([])\n",
    "            for word in row['neg_word']:\n",
    "                neg_indexes = np.append(neg_indexes, np.where(np.array(lemmas) == word))\n",
    "\n",
    "            bool_val = 0\n",
    "            for idx in pos_indexes:\n",
    "                if (abs(neg_indexes-idx) < n).any():\n",
    "                    bool_val = 1\n",
    "            ret_array.append(copy.copy(bool_val))\n",
    "        else:\n",
    "            ret_array.append(0)\n",
    "    return ret_array"
   ],
   "metadata": {
    "collapsed": false,
    "pycharm": {
     "name": "#%%\n"
    }
   }
  },
  {
   "cell_type": "code",
   "execution_count": 126,
   "outputs": [],
   "source": [
    "within_5_train = pos_neg_within_n(df_train, n=5)\n",
    "within_5_val = pos_neg_within_n(df_validation, n=5)"
   ],
   "metadata": {
    "collapsed": false,
    "pycharm": {
     "name": "#%%\n"
    }
   }
  },
  {
   "cell_type": "code",
   "execution_count": 127,
   "outputs": [
    {
     "data": {
      "text/plain": "      Tweet index  Label                                         Tweet text  \\\n0            1501      0  @bayer04fussball draw, @s04 draw, @Everton goi...   \n1            1884      0  Just gave Imperfecto a 3.5/5 rating on @Zomato...   \n2            2945      0  I need to do something legendary this winter b...   \n3            1078      1  I am starting to think UK has a pretty good ba...   \n4            1778      0  @aleciamarie21 @DonnieWahlberg is it bad that ...   \n...           ...    ...                                                ...   \n2667         3368      1  A strange day so far everyone seems in such a ...   \n2668         1691      1  First day skiing #killedit  #iwasshit #tignes ...   \n2669         2994      0    @KeirSimmons  another Bush in the Whitehouse.\\r   \n2670         2663      0                      All I wanted was to see you\\r   \n2671         2677      1  Such quality customer service today by @Micros...   \n\n      length  word_count  tag_count  hashtag_count  link_count  smiley_count  \\\n0        122          18          3              0           0            21   \n1         70           8          1              0           1             9   \n2         51           9          0              0           0             9   \n3         66          12          0              1           0            13   \n4        180          17          2              0           0            19   \n...      ...         ...        ...            ...         ...           ...   \n2667     130          24          0              0           0            24   \n2668      81           4          0              4           1             8   \n2669      46           5          1              0           0             6   \n2670      28           7          0              0           0             7   \n2671      97          10          1              2           0            13   \n\n      exclamation_mark_count  has_emoji  \\\n0                          0          0   \n1                          0          0   \n2                          0          0   \n3                          0          0   \n4                          1          2   \n...                      ...        ...   \n2667                       0          0   \n2668                       0          0   \n2669                       0          0   \n2670                       0          0   \n2671                       0          0   \n\n                                             clean_text  neg_word_count  \\\n0     draw, draw, going to lose, Pelle on my bench i...               2   \n1     Just gave Imperfecto a 3.5/5 rating on http://...               0   \n2     I need to do something legendary this winter b...               0   \n3     I am starting to think UK has a pretty good ba...               0   \n4     is it bad that after my \"happy Preds won\" danc...               1   \n...                                                 ...             ...   \n2667  A strange day so far everyone seems in such a ...               2   \n2668            First day skiing http://t.co/oHYSozoNPP               0   \n2669                    another Bush in the Whitehouse.               0   \n2670                        All I wanted was to see you               0   \n2671  Such quality customer service today by for the...               0   \n\n              neg_word  pos_word_count        pos_word  pos_neg_within_4  \\\n0         [lose, shit]               0              []                 0   \n1                   []               0              []                 0   \n2                   []               0              []                 0   \n3                   []               2  [pretty, good]                 0   \n4                [bad]               2    [happy, win]                 1   \n...                ...             ...             ...               ...   \n2667  [strange, drunk]               1          [good]                 0   \n2668                []               0              []                 0   \n2669                []               0              []                 0   \n2670                []               0              []                 0   \n2671                []               0              []                 0   \n\n      pos_neg_within_5  \n0                    0  \n1                    0  \n2                    0  \n3                    0  \n4                    0  \n...                ...  \n2667                 0  \n2668                 0  \n2669                 0  \n2670                 0  \n2671                 0  \n\n[2672 rows x 18 columns]",
      "text/html": "<div>\n<style scoped>\n    .dataframe tbody tr th:only-of-type {\n        vertical-align: middle;\n    }\n\n    .dataframe tbody tr th {\n        vertical-align: top;\n    }\n\n    .dataframe thead th {\n        text-align: right;\n    }\n</style>\n<table border=\"1\" class=\"dataframe\">\n  <thead>\n    <tr style=\"text-align: right;\">\n      <th></th>\n      <th>Tweet index</th>\n      <th>Label</th>\n      <th>Tweet text</th>\n      <th>length</th>\n      <th>word_count</th>\n      <th>tag_count</th>\n      <th>hashtag_count</th>\n      <th>link_count</th>\n      <th>smiley_count</th>\n      <th>exclamation_mark_count</th>\n      <th>has_emoji</th>\n      <th>clean_text</th>\n      <th>neg_word_count</th>\n      <th>neg_word</th>\n      <th>pos_word_count</th>\n      <th>pos_word</th>\n      <th>pos_neg_within_4</th>\n      <th>pos_neg_within_5</th>\n    </tr>\n  </thead>\n  <tbody>\n    <tr>\n      <th>0</th>\n      <td>1501</td>\n      <td>0</td>\n      <td>@bayer04fussball draw, @s04 draw, @Everton goi...</td>\n      <td>122</td>\n      <td>18</td>\n      <td>3</td>\n      <td>0</td>\n      <td>0</td>\n      <td>21</td>\n      <td>0</td>\n      <td>0</td>\n      <td>draw, draw, going to lose, Pelle on my bench i...</td>\n      <td>2</td>\n      <td>[lose, shit]</td>\n      <td>0</td>\n      <td>[]</td>\n      <td>0</td>\n      <td>0</td>\n    </tr>\n    <tr>\n      <th>1</th>\n      <td>1884</td>\n      <td>0</td>\n      <td>Just gave Imperfecto a 3.5/5 rating on @Zomato...</td>\n      <td>70</td>\n      <td>8</td>\n      <td>1</td>\n      <td>0</td>\n      <td>1</td>\n      <td>9</td>\n      <td>0</td>\n      <td>0</td>\n      <td>Just gave Imperfecto a 3.5/5 rating on http://...</td>\n      <td>0</td>\n      <td>[]</td>\n      <td>0</td>\n      <td>[]</td>\n      <td>0</td>\n      <td>0</td>\n    </tr>\n    <tr>\n      <th>2</th>\n      <td>2945</td>\n      <td>0</td>\n      <td>I need to do something legendary this winter b...</td>\n      <td>51</td>\n      <td>9</td>\n      <td>0</td>\n      <td>0</td>\n      <td>0</td>\n      <td>9</td>\n      <td>0</td>\n      <td>0</td>\n      <td>I need to do something legendary this winter b...</td>\n      <td>0</td>\n      <td>[]</td>\n      <td>0</td>\n      <td>[]</td>\n      <td>0</td>\n      <td>0</td>\n    </tr>\n    <tr>\n      <th>3</th>\n      <td>1078</td>\n      <td>1</td>\n      <td>I am starting to think UK has a pretty good ba...</td>\n      <td>66</td>\n      <td>12</td>\n      <td>0</td>\n      <td>1</td>\n      <td>0</td>\n      <td>13</td>\n      <td>0</td>\n      <td>0</td>\n      <td>I am starting to think UK has a pretty good ba...</td>\n      <td>0</td>\n      <td>[]</td>\n      <td>2</td>\n      <td>[pretty, good]</td>\n      <td>0</td>\n      <td>0</td>\n    </tr>\n    <tr>\n      <th>4</th>\n      <td>1778</td>\n      <td>0</td>\n      <td>@aleciamarie21 @DonnieWahlberg is it bad that ...</td>\n      <td>180</td>\n      <td>17</td>\n      <td>2</td>\n      <td>0</td>\n      <td>0</td>\n      <td>19</td>\n      <td>1</td>\n      <td>2</td>\n      <td>is it bad that after my \"happy Preds won\" danc...</td>\n      <td>1</td>\n      <td>[bad]</td>\n      <td>2</td>\n      <td>[happy, win]</td>\n      <td>1</td>\n      <td>0</td>\n    </tr>\n    <tr>\n      <th>...</th>\n      <td>...</td>\n      <td>...</td>\n      <td>...</td>\n      <td>...</td>\n      <td>...</td>\n      <td>...</td>\n      <td>...</td>\n      <td>...</td>\n      <td>...</td>\n      <td>...</td>\n      <td>...</td>\n      <td>...</td>\n      <td>...</td>\n      <td>...</td>\n      <td>...</td>\n      <td>...</td>\n      <td>...</td>\n      <td>...</td>\n    </tr>\n    <tr>\n      <th>2667</th>\n      <td>3368</td>\n      <td>1</td>\n      <td>A strange day so far everyone seems in such a ...</td>\n      <td>130</td>\n      <td>24</td>\n      <td>0</td>\n      <td>0</td>\n      <td>0</td>\n      <td>24</td>\n      <td>0</td>\n      <td>0</td>\n      <td>A strange day so far everyone seems in such a ...</td>\n      <td>2</td>\n      <td>[strange, drunk]</td>\n      <td>1</td>\n      <td>[good]</td>\n      <td>0</td>\n      <td>0</td>\n    </tr>\n    <tr>\n      <th>2668</th>\n      <td>1691</td>\n      <td>1</td>\n      <td>First day skiing #killedit  #iwasshit #tignes ...</td>\n      <td>81</td>\n      <td>4</td>\n      <td>0</td>\n      <td>4</td>\n      <td>1</td>\n      <td>8</td>\n      <td>0</td>\n      <td>0</td>\n      <td>First day skiing http://t.co/oHYSozoNPP</td>\n      <td>0</td>\n      <td>[]</td>\n      <td>0</td>\n      <td>[]</td>\n      <td>0</td>\n      <td>0</td>\n    </tr>\n    <tr>\n      <th>2669</th>\n      <td>2994</td>\n      <td>0</td>\n      <td>@KeirSimmons  another Bush in the Whitehouse.\\r</td>\n      <td>46</td>\n      <td>5</td>\n      <td>1</td>\n      <td>0</td>\n      <td>0</td>\n      <td>6</td>\n      <td>0</td>\n      <td>0</td>\n      <td>another Bush in the Whitehouse.</td>\n      <td>0</td>\n      <td>[]</td>\n      <td>0</td>\n      <td>[]</td>\n      <td>0</td>\n      <td>0</td>\n    </tr>\n    <tr>\n      <th>2670</th>\n      <td>2663</td>\n      <td>0</td>\n      <td>All I wanted was to see you\\r</td>\n      <td>28</td>\n      <td>7</td>\n      <td>0</td>\n      <td>0</td>\n      <td>0</td>\n      <td>7</td>\n      <td>0</td>\n      <td>0</td>\n      <td>All I wanted was to see you</td>\n      <td>0</td>\n      <td>[]</td>\n      <td>0</td>\n      <td>[]</td>\n      <td>0</td>\n      <td>0</td>\n    </tr>\n    <tr>\n      <th>2671</th>\n      <td>2677</td>\n      <td>1</td>\n      <td>Such quality customer service today by @Micros...</td>\n      <td>97</td>\n      <td>10</td>\n      <td>1</td>\n      <td>2</td>\n      <td>0</td>\n      <td>13</td>\n      <td>0</td>\n      <td>0</td>\n      <td>Such quality customer service today by for the...</td>\n      <td>0</td>\n      <td>[]</td>\n      <td>0</td>\n      <td>[]</td>\n      <td>0</td>\n      <td>0</td>\n    </tr>\n  </tbody>\n</table>\n<p>2672 rows × 18 columns</p>\n</div>"
     },
     "execution_count": 127,
     "metadata": {},
     "output_type": "execute_result"
    }
   ],
   "source": [
    "df_train['pos_neg_within_5'] = within_5_train\n",
    "df_validation['pos_neg_within_5'] = within_5_val\n",
    "df_train"
   ],
   "metadata": {
    "collapsed": false,
    "pycharm": {
     "name": "#%%\n"
    }
   }
  },
  {
   "cell_type": "code",
   "execution_count": 133,
   "outputs": [
    {
     "name": "stdout",
     "output_type": "stream",
     "text": [
      "Train score\n",
      "0.5086077844311377\n",
      "Validation score\n",
      "0.4733624454148472\n"
     ]
    }
   ],
   "source": [
    "X_ = df_train[[ 'pos_neg_within_5']]\n",
    "y_ = df_train['Label']\n",
    "clf = LogisticRegression().fit(X_, y_)\n",
    "print('Train score')\n",
    "print(clf.score(X_, y_))\n",
    "print('Validation score')\n",
    "X_val = df_validation[[ 'pos_neg_within_5']]\n",
    "y_val = df_validation['Label']\n",
    "print(clf.score(X_val, y_val))"
   ],
   "metadata": {
    "collapsed": false,
    "pycharm": {
     "name": "#%%\n"
    }
   }
  },
  {
   "cell_type": "code",
   "execution_count": null,
   "outputs": [],
   "source": [
    "within_5_val"
   ],
   "metadata": {
    "collapsed": false,
    "pycharm": {
     "name": "#%%\n"
    }
   }
  }
 ],
 "metadata": {
  "colab": {
   "collapsed_sections": [],
   "name": "preprocessing.ipynb",
   "provenance": []
  },
  "kernelspec": {
   "display_name": "Python 3 (ipykernel)",
   "language": "python",
   "name": "python3"
  },
  "language_info": {
   "codemirror_mode": {
    "name": "ipython",
    "version": 3
   },
   "file_extension": ".py",
   "mimetype": "text/x-python",
   "name": "python",
   "nbconvert_exporter": "python",
   "pygments_lexer": "ipython3",
   "version": "3.9.12"
  }
 },
 "nbformat": 4,
 "nbformat_minor": 5
}