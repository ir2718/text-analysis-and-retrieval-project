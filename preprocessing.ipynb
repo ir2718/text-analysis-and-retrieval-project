{
 "cells": [
  {
   "cell_type": "code",
   "execution_count": 507,
   "id": "10rFQ6qgEfwG",
   "metadata": {
    "colab": {
     "base_uri": "https://localhost:8080/"
    },
    "id": "10rFQ6qgEfwG",
    "outputId": "f1eb8986-5c3b-4ae1-8c9a-767bffd653ec",
    "scrolled": true
   },
   "outputs": [
    {
     "name": "stdout",
     "output_type": "stream",
     "text": [
      "Requirement already satisfied: spacy in c:\\users\\ivan\\appdata\\local\\programs\\python\\python39\\lib\\site-packages (3.3.0)\n",
      "Requirement already satisfied: spacy-legacy<3.1.0,>=3.0.9 in c:\\users\\ivan\\appdata\\local\\programs\\python\\python39\\lib\\site-packages (from spacy) (3.0.9)\n",
      "Requirement already satisfied: srsly<3.0.0,>=2.4.3 in c:\\users\\ivan\\appdata\\local\\programs\\python\\python39\\lib\\site-packages (from spacy) (2.4.3)\n",
      "Requirement already satisfied: typer<0.5.0,>=0.3.0 in c:\\users\\ivan\\appdata\\local\\programs\\python\\python39\\lib\\site-packages (from spacy) (0.4.1)\n",
      "Requirement already satisfied: cymem<2.1.0,>=2.0.2 in c:\\users\\ivan\\appdata\\local\\programs\\python\\python39\\lib\\site-packages (from spacy) (2.0.6)\n",
      "Requirement already satisfied: thinc<8.1.0,>=8.0.14 in c:\\users\\ivan\\appdata\\local\\programs\\python\\python39\\lib\\site-packages (from spacy) (8.0.16)\n",
      "Requirement already satisfied: preshed<3.1.0,>=3.0.2 in c:\\users\\ivan\\appdata\\local\\programs\\python\\python39\\lib\\site-packages (from spacy) (3.0.6)\n",
      "Requirement already satisfied: numpy>=1.15.0 in c:\\users\\ivan\\appdata\\local\\programs\\python\\python39\\lib\\site-packages (from spacy) (1.22.3)\n",
      "Requirement already satisfied: setuptools in c:\\users\\ivan\\appdata\\local\\programs\\python\\python39\\lib\\site-packages (from spacy) (58.1.0)\n",
      "Requirement already satisfied: catalogue<2.1.0,>=2.0.6 in c:\\users\\ivan\\appdata\\local\\programs\\python\\python39\\lib\\site-packages (from spacy) (2.0.7)\n",
      "Requirement already satisfied: packaging>=20.0 in c:\\users\\ivan\\appdata\\local\\programs\\python\\python39\\lib\\site-packages (from spacy) (21.3)\n",
      "Requirement already satisfied: langcodes<4.0.0,>=3.2.0 in c:\\users\\ivan\\appdata\\local\\programs\\python\\python39\\lib\\site-packages (from spacy) (3.3.0)\n",
      "Requirement already satisfied: jinja2 in c:\\users\\ivan\\appdata\\local\\programs\\python\\python39\\lib\\site-packages (from spacy) (3.1.2)\n",
      "Requirement already satisfied: spacy-loggers<2.0.0,>=1.0.0 in c:\\users\\ivan\\appdata\\local\\programs\\python\\python39\\lib\\site-packages (from spacy) (1.0.2)\n",
      "Requirement already satisfied: murmurhash<1.1.0,>=0.28.0 in c:\\users\\ivan\\appdata\\local\\programs\\python\\python39\\lib\\site-packages (from spacy) (1.0.7)\n",
      "Requirement already satisfied: tqdm<5.0.0,>=4.38.0 in c:\\users\\ivan\\appdata\\local\\programs\\python\\python39\\lib\\site-packages (from spacy) (4.64.0)\n",
      "Requirement already satisfied: wasabi<1.1.0,>=0.9.1 in c:\\users\\ivan\\appdata\\local\\programs\\python\\python39\\lib\\site-packages (from spacy) (0.9.1)\n",
      "Requirement already satisfied: pydantic!=1.8,!=1.8.1,<1.9.0,>=1.7.4 in c:\\users\\ivan\\appdata\\local\\programs\\python\\python39\\lib\\site-packages (from spacy) (1.8.2)\n",
      "Requirement already satisfied: requests<3.0.0,>=2.13.0 in c:\\users\\ivan\\appdata\\local\\programs\\python\\python39\\lib\\site-packages (from spacy) (2.27.1)\n",
      "Requirement already satisfied: blis<0.8.0,>=0.4.0 in c:\\users\\ivan\\appdata\\local\\programs\\python\\python39\\lib\\site-packages (from spacy) (0.7.7)\n",
      "Requirement already satisfied: pathy>=0.3.5 in c:\\users\\ivan\\appdata\\local\\programs\\python\\python39\\lib\\site-packages (from spacy) (0.6.1)\n",
      "Requirement already satisfied: pyparsing!=3.0.5,>=2.0.2 in c:\\users\\ivan\\appdata\\local\\programs\\python\\python39\\lib\\site-packages (from packaging>=20.0->spacy) (3.0.8)\n",
      "Requirement already satisfied: smart-open<6.0.0,>=5.0.0 in c:\\users\\ivan\\appdata\\local\\programs\\python\\python39\\lib\\site-packages (from pathy>=0.3.5->spacy) (5.2.1)\n",
      "Requirement already satisfied: typing-extensions>=3.7.4.3 in c:\\users\\ivan\\appdata\\local\\programs\\python\\python39\\lib\\site-packages (from pydantic!=1.8,!=1.8.1,<1.9.0,>=1.7.4->spacy) (4.2.0)\n",
      "Requirement already satisfied: charset-normalizer~=2.0.0 in c:\\users\\ivan\\appdata\\local\\programs\\python\\python39\\lib\\site-packages (from requests<3.0.0,>=2.13.0->spacy) (2.0.12)\n",
      "Requirement already satisfied: certifi>=2017.4.17 in c:\\users\\ivan\\appdata\\local\\programs\\python\\python39\\lib\\site-packages (from requests<3.0.0,>=2.13.0->spacy) (2021.10.8)\n",
      "Requirement already satisfied: urllib3<1.27,>=1.21.1 in c:\\users\\ivan\\appdata\\local\\programs\\python\\python39\\lib\\site-packages (from requests<3.0.0,>=2.13.0->spacy) (1.26.9)\n",
      "Requirement already satisfied: idna<4,>=2.5 in c:\\users\\ivan\\appdata\\local\\programs\\python\\python39\\lib\\site-packages (from requests<3.0.0,>=2.13.0->spacy) (3.3)\n",
      "Requirement already satisfied: colorama in c:\\users\\ivan\\appdata\\local\\programs\\python\\python39\\lib\\site-packages (from tqdm<5.0.0,>=4.38.0->spacy) (0.4.4)\n",
      "Requirement already satisfied: click<9.0.0,>=7.1.1 in c:\\users\\ivan\\appdata\\local\\programs\\python\\python39\\lib\\site-packages (from typer<0.5.0,>=0.3.0->spacy) (8.1.3)\n",
      "Requirement already satisfied: MarkupSafe>=2.0 in c:\\users\\ivan\\appdata\\local\\programs\\python\\python39\\lib\\site-packages (from jinja2->spacy) (2.1.1)\n",
      "Note: you may need to restart the kernel to use updated packages.\n"
     ]
    }
   ],
   "source": [
    "# pip install --upgrade spacy"
   ]
  },
  {
   "cell_type": "code",
   "execution_count": 508,
   "id": "JxgMNAW8EjHe",
   "metadata": {
    "colab": {
     "base_uri": "https://localhost:8080/"
    },
    "id": "JxgMNAW8EjHe",
    "outputId": "996ef455-5621-4268-8359-7e2101546f00"
   },
   "outputs": [
    {
     "name": "stdout",
     "output_type": "stream",
     "text": [
      "Collecting en-core-web-md==3.3.0\n",
      "  Downloading https://github.com/explosion/spacy-models/releases/download/en_core_web_md-3.3.0/en_core_web_md-3.3.0-py3-none-any.whl (33.5 MB)\n",
      "     ---------------------------------------- 33.5/33.5 MB 6.0 MB/s eta 0:00:00\n",
      "Requirement already satisfied: spacy<3.4.0,>=3.3.0.dev0 in c:\\users\\ivan\\appdata\\local\\programs\\python\\python39\\lib\\site-packages (from en-core-web-md==3.3.0) (3.3.0)\n",
      "Requirement already satisfied: blis<0.8.0,>=0.4.0 in c:\\users\\ivan\\appdata\\local\\programs\\python\\python39\\lib\\site-packages (from spacy<3.4.0,>=3.3.0.dev0->en-core-web-md==3.3.0) (0.7.7)\n",
      "Requirement already satisfied: setuptools in c:\\users\\ivan\\appdata\\local\\programs\\python\\python39\\lib\\site-packages (from spacy<3.4.0,>=3.3.0.dev0->en-core-web-md==3.3.0) (58.1.0)\n",
      "Requirement already satisfied: jinja2 in c:\\users\\ivan\\appdata\\local\\programs\\python\\python39\\lib\\site-packages (from spacy<3.4.0,>=3.3.0.dev0->en-core-web-md==3.3.0) (3.1.2)\n",
      "Requirement already satisfied: requests<3.0.0,>=2.13.0 in c:\\users\\ivan\\appdata\\local\\programs\\python\\python39\\lib\\site-packages (from spacy<3.4.0,>=3.3.0.dev0->en-core-web-md==3.3.0) (2.27.1)\n",
      "Requirement already satisfied: murmurhash<1.1.0,>=0.28.0 in c:\\users\\ivan\\appdata\\local\\programs\\python\\python39\\lib\\site-packages (from spacy<3.4.0,>=3.3.0.dev0->en-core-web-md==3.3.0) (1.0.7)\n",
      "Requirement already satisfied: spacy-loggers<2.0.0,>=1.0.0 in c:\\users\\ivan\\appdata\\local\\programs\\python\\python39\\lib\\site-packages (from spacy<3.4.0,>=3.3.0.dev0->en-core-web-md==3.3.0) (1.0.2)\n",
      "Requirement already satisfied: catalogue<2.1.0,>=2.0.6 in c:\\users\\ivan\\appdata\\local\\programs\\python\\python39\\lib\\site-packages (from spacy<3.4.0,>=3.3.0.dev0->en-core-web-md==3.3.0) (2.0.7)\n",
      "Requirement already satisfied: cymem<2.1.0,>=2.0.2 in c:\\users\\ivan\\appdata\\local\\programs\\python\\python39\\lib\\site-packages (from spacy<3.4.0,>=3.3.0.dev0->en-core-web-md==3.3.0) (2.0.6)\n",
      "Requirement already satisfied: srsly<3.0.0,>=2.4.3 in c:\\users\\ivan\\appdata\\local\\programs\\python\\python39\\lib\\site-packages (from spacy<3.4.0,>=3.3.0.dev0->en-core-web-md==3.3.0) (2.4.3)\n",
      "Requirement already satisfied: spacy-legacy<3.1.0,>=3.0.9 in c:\\users\\ivan\\appdata\\local\\programs\\python\\python39\\lib\\site-packages (from spacy<3.4.0,>=3.3.0.dev0->en-core-web-md==3.3.0) (3.0.9)\n",
      "Requirement already satisfied: langcodes<4.0.0,>=3.2.0 in c:\\users\\ivan\\appdata\\local\\programs\\python\\python39\\lib\\site-packages (from spacy<3.4.0,>=3.3.0.dev0->en-core-web-md==3.3.0) (3.3.0)\n",
      "Requirement already satisfied: pathy>=0.3.5 in c:\\users\\ivan\\appdata\\local\\programs\\python\\python39\\lib\\site-packages (from spacy<3.4.0,>=3.3.0.dev0->en-core-web-md==3.3.0) (0.6.1)\n",
      "Requirement already satisfied: numpy>=1.15.0 in c:\\users\\ivan\\appdata\\local\\programs\\python\\python39\\lib\\site-packages (from spacy<3.4.0,>=3.3.0.dev0->en-core-web-md==3.3.0) (1.22.3)\n",
      "Requirement already satisfied: tqdm<5.0.0,>=4.38.0 in c:\\users\\ivan\\appdata\\local\\programs\\python\\python39\\lib\\site-packages (from spacy<3.4.0,>=3.3.0.dev0->en-core-web-md==3.3.0) (4.64.0)\n",
      "Requirement already satisfied: thinc<8.1.0,>=8.0.14 in c:\\users\\ivan\\appdata\\local\\programs\\python\\python39\\lib\\site-packages (from spacy<3.4.0,>=3.3.0.dev0->en-core-web-md==3.3.0) (8.0.16)\n",
      "Requirement already satisfied: pydantic!=1.8,!=1.8.1,<1.9.0,>=1.7.4 in c:\\users\\ivan\\appdata\\local\\programs\\python\\python39\\lib\\site-packages (from spacy<3.4.0,>=3.3.0.dev0->en-core-web-md==3.3.0) (1.8.2)\n",
      "Requirement already satisfied: preshed<3.1.0,>=3.0.2 in c:\\users\\ivan\\appdata\\local\\programs\\python\\python39\\lib\\site-packages (from spacy<3.4.0,>=3.3.0.dev0->en-core-web-md==3.3.0) (3.0.6)\n",
      "Requirement already satisfied: typer<0.5.0,>=0.3.0 in c:\\users\\ivan\\appdata\\local\\programs\\python\\python39\\lib\\site-packages (from spacy<3.4.0,>=3.3.0.dev0->en-core-web-md==3.3.0) (0.4.1)\n",
      "Requirement already satisfied: wasabi<1.1.0,>=0.9.1 in c:\\users\\ivan\\appdata\\local\\programs\\python\\python39\\lib\\site-packages (from spacy<3.4.0,>=3.3.0.dev0->en-core-web-md==3.3.0) (0.9.1)\n",
      "Requirement already satisfied: packaging>=20.0 in c:\\users\\ivan\\appdata\\local\\programs\\python\\python39\\lib\\site-packages (from spacy<3.4.0,>=3.3.0.dev0->en-core-web-md==3.3.0) (21.3)\n",
      "Requirement already satisfied: pyparsing!=3.0.5,>=2.0.2 in c:\\users\\ivan\\appdata\\local\\programs\\python\\python39\\lib\\site-packages (from packaging>=20.0->spacy<3.4.0,>=3.3.0.dev0->en-core-web-md==3.3.0) (3.0.8)\n",
      "Requirement already satisfied: smart-open<6.0.0,>=5.0.0 in c:\\users\\ivan\\appdata\\local\\programs\\python\\python39\\lib\\site-packages (from pathy>=0.3.5->spacy<3.4.0,>=3.3.0.dev0->en-core-web-md==3.3.0) (5.2.1)\n",
      "Requirement already satisfied: typing-extensions>=3.7.4.3 in c:\\users\\ivan\\appdata\\local\\programs\\python\\python39\\lib\\site-packages (from pydantic!=1.8,!=1.8.1,<1.9.0,>=1.7.4->spacy<3.4.0,>=3.3.0.dev0->en-core-web-md==3.3.0) (4.2.0)\n",
      "Requirement already satisfied: urllib3<1.27,>=1.21.1 in c:\\users\\ivan\\appdata\\local\\programs\\python\\python39\\lib\\site-packages (from requests<3.0.0,>=2.13.0->spacy<3.4.0,>=3.3.0.dev0->en-core-web-md==3.3.0) (1.26.9)\n",
      "Requirement already satisfied: idna<4,>=2.5 in c:\\users\\ivan\\appdata\\local\\programs\\python\\python39\\lib\\site-packages (from requests<3.0.0,>=2.13.0->spacy<3.4.0,>=3.3.0.dev0->en-core-web-md==3.3.0) (3.3)\n",
      "Requirement already satisfied: certifi>=2017.4.17 in c:\\users\\ivan\\appdata\\local\\programs\\python\\python39\\lib\\site-packages (from requests<3.0.0,>=2.13.0->spacy<3.4.0,>=3.3.0.dev0->en-core-web-md==3.3.0) (2021.10.8)\n",
      "Requirement already satisfied: charset-normalizer~=2.0.0 in c:\\users\\ivan\\appdata\\local\\programs\\python\\python39\\lib\\site-packages (from requests<3.0.0,>=2.13.0->spacy<3.4.0,>=3.3.0.dev0->en-core-web-md==3.3.0) (2.0.12)\n",
      "Requirement already satisfied: colorama in c:\\users\\ivan\\appdata\\local\\programs\\python\\python39\\lib\\site-packages (from tqdm<5.0.0,>=4.38.0->spacy<3.4.0,>=3.3.0.dev0->en-core-web-md==3.3.0) (0.4.4)\n",
      "Requirement already satisfied: click<9.0.0,>=7.1.1 in c:\\users\\ivan\\appdata\\local\\programs\\python\\python39\\lib\\site-packages (from typer<0.5.0,>=0.3.0->spacy<3.4.0,>=3.3.0.dev0->en-core-web-md==3.3.0) (8.1.3)\n",
      "Requirement already satisfied: MarkupSafe>=2.0 in c:\\users\\ivan\\appdata\\local\\programs\\python\\python39\\lib\\site-packages (from jinja2->spacy<3.4.0,>=3.3.0.dev0->en-core-web-md==3.3.0) (2.1.1)\n",
      "[+] Download and installation successful\n",
      "You can now load the package via spacy.load('en_core_web_md')\n"
     ]
    }
   ],
   "source": [
    "# !python -m spacy download en_core_web_md"
   ]
  },
  {
   "cell_type": "code",
   "execution_count": 509,
   "id": "emet_2xgEjLL",
   "metadata": {
    "colab": {
     "base_uri": "https://localhost:8080/"
    },
    "id": "emet_2xgEjLL",
    "outputId": "88cc1f0e-389f-48c4-d2ba-6eaccc5580b7"
   },
   "outputs": [
    {
     "name": "stdout",
     "output_type": "stream",
     "text": [
      "Requirement already satisfied: podium-nlp in c:\\users\\ivan\\appdata\\local\\programs\\python\\python39\\lib\\site-packages (0.1.1)\n",
      "Requirement already satisfied: requests in c:\\users\\ivan\\appdata\\local\\programs\\python\\python39\\lib\\site-packages (from podium-nlp) (2.27.1)\n",
      "Requirement already satisfied: nltk<3.6,>=3.0 in c:\\users\\ivan\\appdata\\local\\programs\\python\\python39\\lib\\site-packages (from podium-nlp) (3.5)\n",
      "Requirement already satisfied: numpy in c:\\users\\ivan\\appdata\\local\\programs\\python\\python39\\lib\\site-packages (from podium-nlp) (1.22.3)\n",
      "Requirement already satisfied: dill in c:\\users\\ivan\\appdata\\local\\programs\\python\\python39\\lib\\site-packages (from podium-nlp) (0.3.4)\n",
      "Requirement already satisfied: pandas in c:\\users\\ivan\\appdata\\local\\programs\\python\\python39\\lib\\site-packages (from podium-nlp) (1.4.2)\n",
      "Requirement already satisfied: scipy in c:\\users\\ivan\\appdata\\local\\programs\\python\\python39\\lib\\site-packages (from podium-nlp) (1.8.0)\n",
      "Requirement already satisfied: tqdm in c:\\users\\ivan\\appdata\\local\\programs\\python\\python39\\lib\\site-packages (from podium-nlp) (4.64.0)\n",
      "Requirement already satisfied: paramiko in c:\\users\\ivan\\appdata\\local\\programs\\python\\python39\\lib\\site-packages (from podium-nlp) (2.10.4)\n",
      "Requirement already satisfied: scikit-learn in c:\\users\\ivan\\appdata\\local\\programs\\python\\python39\\lib\\site-packages (from podium-nlp) (1.0.2)\n",
      "Requirement already satisfied: click in c:\\users\\ivan\\appdata\\local\\programs\\python\\python39\\lib\\site-packages (from nltk<3.6,>=3.0->podium-nlp) (8.1.3)\n",
      "Requirement already satisfied: joblib in c:\\users\\ivan\\appdata\\local\\programs\\python\\python39\\lib\\site-packages (from nltk<3.6,>=3.0->podium-nlp) (1.1.0)\n",
      "Requirement already satisfied: regex in c:\\users\\ivan\\appdata\\local\\programs\\python\\python39\\lib\\site-packages (from nltk<3.6,>=3.0->podium-nlp) (2022.4.24)\n",
      "Requirement already satisfied: pytz>=2020.1 in c:\\users\\ivan\\appdata\\local\\programs\\python\\python39\\lib\\site-packages (from pandas->podium-nlp) (2022.1)\n",
      "Requirement already satisfied: python-dateutil>=2.8.1 in c:\\users\\ivan\\appdata\\local\\programs\\python\\python39\\lib\\site-packages (from pandas->podium-nlp) (2.8.2)\n",
      "Requirement already satisfied: pynacl>=1.0.1 in c:\\users\\ivan\\appdata\\local\\programs\\python\\python39\\lib\\site-packages (from paramiko->podium-nlp) (1.5.0)\n",
      "Requirement already satisfied: six in c:\\users\\ivan\\appdata\\local\\programs\\python\\python39\\lib\\site-packages (from paramiko->podium-nlp) (1.16.0)\n",
      "Requirement already satisfied: cryptography>=2.5 in c:\\users\\ivan\\appdata\\local\\programs\\python\\python39\\lib\\site-packages (from paramiko->podium-nlp) (37.0.1)\n",
      "Requirement already satisfied: bcrypt>=3.1.3 in c:\\users\\ivan\\appdata\\local\\programs\\python\\python39\\lib\\site-packages (from paramiko->podium-nlp) (3.2.2)\n",
      "Requirement already satisfied: charset-normalizer~=2.0.0 in c:\\users\\ivan\\appdata\\local\\programs\\python\\python39\\lib\\site-packages (from requests->podium-nlp) (2.0.12)\n",
      "Requirement already satisfied: certifi>=2017.4.17 in c:\\users\\ivan\\appdata\\local\\programs\\python\\python39\\lib\\site-packages (from requests->podium-nlp) (2021.10.8)\n",
      "Requirement already satisfied: urllib3<1.27,>=1.21.1 in c:\\users\\ivan\\appdata\\local\\programs\\python\\python39\\lib\\site-packages (from requests->podium-nlp) (1.26.9)\n",
      "Requirement already satisfied: idna<4,>=2.5 in c:\\users\\ivan\\appdata\\local\\programs\\python\\python39\\lib\\site-packages (from requests->podium-nlp) (3.3)\n",
      "Requirement already satisfied: threadpoolctl>=2.0.0 in c:\\users\\ivan\\appdata\\local\\programs\\python\\python39\\lib\\site-packages (from scikit-learn->podium-nlp) (3.1.0)\n",
      "Requirement already satisfied: colorama in c:\\users\\ivan\\appdata\\local\\programs\\python\\python39\\lib\\site-packages (from tqdm->podium-nlp) (0.4.4)\n",
      "Requirement already satisfied: cffi>=1.1 in c:\\users\\ivan\\appdata\\local\\programs\\python\\python39\\lib\\site-packages (from bcrypt>=3.1.3->paramiko->podium-nlp) (1.15.0)\n",
      "Requirement already satisfied: pycparser in c:\\users\\ivan\\appdata\\local\\programs\\python\\python39\\lib\\site-packages (from cffi>=1.1->bcrypt>=3.1.3->paramiko->podium-nlp) (2.21)\n",
      "Note: you may need to restart the kernel to use updated packages.\n"
     ]
    }
   ],
   "source": [
    "# pip install podium-nlp"
   ]
  },
  {
   "cell_type": "code",
   "execution_count": 510,
   "id": "VDPtYtvQElF0",
   "metadata": {
    "colab": {
     "base_uri": "https://localhost:8080/"
    },
    "id": "VDPtYtvQElF0",
    "outputId": "ee94560a-7cb6-440a-a027-cac624e26a64"
   },
   "outputs": [],
   "source": [
    "# pip install bertopic"
   ]
  },
  {
   "cell_type": "code",
   "execution_count": 511,
   "id": "PCRcR-b_ExaN",
   "metadata": {
    "colab": {
     "base_uri": "https://localhost:8080/"
    },
    "id": "PCRcR-b_ExaN",
    "outputId": "7d142e0b-73c2-4433-dd65-1dbbdf71d0c5"
   },
   "outputs": [
    {
     "name": "stdout",
     "output_type": "stream",
     "text": [
      "Requirement already satisfied: emoji in c:\\users\\ivan\\appdata\\local\\programs\\python\\python39\\lib\\site-packages (1.7.0)\n",
      "Note: you may need to restart the kernel to use updated packages.\n"
     ]
    }
   ],
   "source": [
    "# pip install emoji"
   ]
  },
  {
   "cell_type": "code",
   "execution_count": 512,
   "id": "77de93e4",
   "metadata": {
    "id": "77de93e4"
   },
   "outputs": [],
   "source": [
    "from tqdm import tqdm\n",
    "from gensim.utils import simple_preprocess\n",
    "from sklearn.decomposition import LatentDirichletAllocation\n",
    "from sklearn.feature_extraction.text import CountVectorizer, TfidfVectorizer\n",
    "import matplotlib.pyplot as plt\n",
    "import pandas as pd\n",
    "import numpy as np\n",
    "import spacy\n",
    "import re\n",
    "import emoji"
   ]
  },
  {
   "cell_type": "code",
   "execution_count": 513,
   "id": "EnG-1KsiOp7d",
   "metadata": {
    "colab": {
     "base_uri": "https://localhost:8080/"
    },
    "id": "EnG-1KsiOp7d",
    "outputId": "9668126a-955e-45f9-8a47-810b3809b270"
   },
   "outputs": [],
   "source": [
    "# from google.colab import drive\n",
    "# drive.mount('/content/drive')"
   ]
  },
  {
   "cell_type": "code",
   "execution_count": 514,
   "id": "NgNYHv8MPOgK",
   "metadata": {
    "colab": {
     "base_uri": "https://localhost:8080/"
    },
    "id": "NgNYHv8MPOgK",
    "outputId": "8b773729-8c76-4b84-82d4-238cf443f712"
   },
   "outputs": [],
   "source": [
    "# %cd drive/MyDrive/datasets/"
   ]
  },
  {
   "cell_type": "code",
   "execution_count": 515,
   "id": "08931560",
   "metadata": {
    "id": "08931560"
   },
   "outputs": [],
   "source": [
    "df = pd.read_csv(\"train/SemEval2018-T3-train-taskA.txt\", sep='\\t', lineterminator='\\n', encoding='utf-8')\n",
    "df_test = pd.read_csv(\"goldtest_TaskA/SemEval2018-T3_gold_test_taskA_emoji.txt\", sep='\\t', lineterminator='\\n', encoding='utf-8')\n",
    "df_replace = pd.read_csv(\"test_TaskA/SemEval2018-T3_input_test_taskA.txt\", sep='\\t', lineterminator='\\n', encoding='utf-8')"
   ]
  },
  {
   "cell_type": "code",
   "execution_count": 516,
   "id": "90da0270",
   "metadata": {
    "id": "90da0270",
    "scrolled": true
   },
   "outputs": [],
   "source": [
    "df_test['Tweet text'] = df_test['Tweet text'].apply(emoji.demojize)"
   ]
  },
  {
   "cell_type": "code",
   "execution_count": 517,
   "id": "b2a3b9ce",
   "metadata": {
    "id": "b2a3b9ce"
   },
   "outputs": [],
   "source": [
    "def word_counter(s):\n",
    "    splitted = s.split()\n",
    "    newlist = [x for x in splitted if not x.startswith((\"@\", \"#\"))]\n",
    "    return len(newlist)\n",
    "\n",
    "def tag_counter(s):\n",
    "    splitted = s.split()\n",
    "    newlist = [x for x in splitted if x.startswith(\"@\")]\n",
    "    return len(newlist)\n",
    "\n",
    "def hashtag_counter(s):\n",
    "    splitted = s.split()\n",
    "    newlist = [x for x in splitted if x.startswith(\"#\")]\n",
    "    return len(newlist)\n",
    "\n",
    "def has_emoji(s):\n",
    "    splitted = s.split()\n",
    "    newlist = [x for x in splitted if x != \":\" and x.startswith(\":\") and x.endswith(\":\")]\n",
    "    return len(newlist)\n",
    "\n",
    "def clean_text(s):\n",
    "    splitted = s.split()\n",
    "    newlist = [x for x in splitted if not x.startswith((\":\", \"@\", \"#\"))]\n",
    "    return ' '.join(newlist)\n",
    "\n",
    "### dodani featuresi ###\n",
    "def link_counter(s):\n",
    "    splitted = s.split()\n",
    "    newlist = [x for x in splitted if x.startswith(('http:', 'https:'))]\n",
    "    return len(newlist)\n",
    "\n",
    "def smiley_counter(s):\n",
    "    splitted = s.split()\n",
    "    newlist = [x for x in splitted if re.match(r'([\\:\\;\\=][\\(\\)PDO\\/\\\\\\]\\[]+)+', x)]\n",
    "    return len(newlist)\n",
    "\n",
    "def exclamation_mark_counter(s):\n",
    "    return s.count('!')"
   ]
  },
  {
   "cell_type": "code",
   "execution_count": 518,
   "id": "aaf2d164",
   "metadata": {
    "id": "aaf2d164"
   },
   "outputs": [],
   "source": [
    "df['length'] = df['Tweet text'].apply(len)\n",
    "df['word_count'] = df['Tweet text'].apply(word_counter)\n",
    "df['tag_count'] = df['Tweet text'].apply(tag_counter)\n",
    "df['hashtag_count'] = df['Tweet text'].apply(hashtag_counter)\n",
    "df['link_count'] = df['Tweet text'].apply(link_counter)\n",
    "df['smiley_count'] = df['Tweet text'].apply(smiley_counter)\n",
    "df['exclamation_mark_count'] = df['Tweet text'].apply(exclamation_mark_counter)\n",
    "df['has_emoji'] = df['Tweet text'].apply(has_emoji)\n",
    "df['clean_text'] = df['Tweet text'].apply(clean_text)"
   ]
  },
  {
   "cell_type": "code",
   "execution_count": 519,
   "id": "9f375058",
   "metadata": {
    "id": "9f375058"
   },
   "outputs": [],
   "source": [
    "nlp = spacy.load(\"en_core_web_md\") # treba instalirat ako nemate, s md cemo dobivat bolji performans a i dalje nije prevelik"
   ]
  },
  {
   "cell_type": "code",
   "execution_count": 520,
   "id": "65b73b8c",
   "metadata": {
    "id": "65b73b8c"
   },
   "outputs": [],
   "source": [
    "df_train = df.sample(frac=0.7)\n",
    "df_validation = df.drop(df_train.index)"
   ]
  },
  {
   "cell_type": "code",
   "execution_count": 521,
   "id": "8c92c65c",
   "metadata": {
    "colab": {
     "base_uri": "https://localhost:8080/",
     "height": 424
    },
    "id": "8c92c65c",
    "outputId": "16b29409-0abc-404c-ac33-2614da582312",
    "pycharm": {
     "name": "#%%\n"
    },
    "scrolled": true
   },
   "outputs": [
    {
     "data": {
      "text/html": [
       "<div>\n",
       "<style scoped>\n",
       "    .dataframe tbody tr th:only-of-type {\n",
       "        vertical-align: middle;\n",
       "    }\n",
       "\n",
       "    .dataframe tbody tr th {\n",
       "        vertical-align: top;\n",
       "    }\n",
       "\n",
       "    .dataframe thead th {\n",
       "        text-align: right;\n",
       "    }\n",
       "</style>\n",
       "<table border=\"1\" class=\"dataframe\">\n",
       "  <thead>\n",
       "    <tr style=\"text-align: right;\">\n",
       "      <th></th>\n",
       "      <th>Tweet index</th>\n",
       "      <th>Label</th>\n",
       "      <th>Tweet text</th>\n",
       "      <th>length</th>\n",
       "      <th>word_count</th>\n",
       "      <th>tag_count</th>\n",
       "      <th>hashtag_count</th>\n",
       "      <th>link_count</th>\n",
       "      <th>smiley_count</th>\n",
       "      <th>exclamation_mark_count</th>\n",
       "      <th>has_emoji</th>\n",
       "      <th>clean_text</th>\n",
       "    </tr>\n",
       "  </thead>\n",
       "  <tbody>\n",
       "    <tr>\n",
       "      <th>3210</th>\n",
       "      <td>3225</td>\n",
       "      <td>0</td>\n",
       "      <td>#MerryChristmas to each and every one of you l...</td>\n",
       "      <td>72</td>\n",
       "      <td>10</td>\n",
       "      <td>0</td>\n",
       "      <td>2</td>\n",
       "      <td>0</td>\n",
       "      <td>0</td>\n",
       "      <td>1</td>\n",
       "      <td>0</td>\n",
       "      <td>to each and every one of you lovely lot! X</td>\n",
       "    </tr>\n",
       "    <tr>\n",
       "      <th>296</th>\n",
       "      <td>297</td>\n",
       "      <td>1</td>\n",
       "      <td>People at my school only talk about sex and dr...</td>\n",
       "      <td>62</td>\n",
       "      <td>12</td>\n",
       "      <td>0</td>\n",
       "      <td>0</td>\n",
       "      <td>0</td>\n",
       "      <td>0</td>\n",
       "      <td>0</td>\n",
       "      <td>0</td>\n",
       "      <td>People at my school only talk about sex and dr...</td>\n",
       "    </tr>\n",
       "    <tr>\n",
       "      <th>387</th>\n",
       "      <td>388</td>\n",
       "      <td>1</td>\n",
       "      <td>@iPhoneTeam if you don't want to upgrade your ...</td>\n",
       "      <td>89</td>\n",
       "      <td>15</td>\n",
       "      <td>1</td>\n",
       "      <td>0</td>\n",
       "      <td>0</td>\n",
       "      <td>0</td>\n",
       "      <td>0</td>\n",
       "      <td>0</td>\n",
       "      <td>if you don't want to upgrade your iOS or keep ...</td>\n",
       "    </tr>\n",
       "    <tr>\n",
       "      <th>2501</th>\n",
       "      <td>2505</td>\n",
       "      <td>1</td>\n",
       "      <td>Sarcasm incoming: This weekend is going to be ...</td>\n",
       "      <td>132</td>\n",
       "      <td>24</td>\n",
       "      <td>0</td>\n",
       "      <td>0</td>\n",
       "      <td>0</td>\n",
       "      <td>0</td>\n",
       "      <td>1</td>\n",
       "      <td>0</td>\n",
       "      <td>Sarcasm incoming: This weekend is going to be ...</td>\n",
       "    </tr>\n",
       "    <tr>\n",
       "      <th>1262</th>\n",
       "      <td>1263</td>\n",
       "      <td>1</td>\n",
       "      <td>Thank you Harding science department for only ...</td>\n",
       "      <td>82</td>\n",
       "      <td>14</td>\n",
       "      <td>0</td>\n",
       "      <td>0</td>\n",
       "      <td>0</td>\n",
       "      <td>0</td>\n",
       "      <td>0</td>\n",
       "      <td>0</td>\n",
       "      <td>Thank you Harding science department for only ...</td>\n",
       "    </tr>\n",
       "    <tr>\n",
       "      <th>...</th>\n",
       "      <td>...</td>\n",
       "      <td>...</td>\n",
       "      <td>...</td>\n",
       "      <td>...</td>\n",
       "      <td>...</td>\n",
       "      <td>...</td>\n",
       "      <td>...</td>\n",
       "      <td>...</td>\n",
       "      <td>...</td>\n",
       "      <td>...</td>\n",
       "      <td>...</td>\n",
       "      <td>...</td>\n",
       "    </tr>\n",
       "    <tr>\n",
       "      <th>1923</th>\n",
       "      <td>1927</td>\n",
       "      <td>0</td>\n",
       "      <td>Too blessed to be stressed. So hype for next y...</td>\n",
       "      <td>84</td>\n",
       "      <td>11</td>\n",
       "      <td>0</td>\n",
       "      <td>1</td>\n",
       "      <td>1</td>\n",
       "      <td>0</td>\n",
       "      <td>1</td>\n",
       "      <td>0</td>\n",
       "      <td>Too blessed to be stressed. So hype for next y...</td>\n",
       "    </tr>\n",
       "    <tr>\n",
       "      <th>3766</th>\n",
       "      <td>3784</td>\n",
       "      <td>0</td>\n",
       "      <td>@CommSec Home page at 8:30am shows Dow -51.44 ...</td>\n",
       "      <td>140</td>\n",
       "      <td>21</td>\n",
       "      <td>1</td>\n",
       "      <td>0</td>\n",
       "      <td>1</td>\n",
       "      <td>0</td>\n",
       "      <td>0</td>\n",
       "      <td>0</td>\n",
       "      <td>Home page at 8:30am shows Dow -51.44 but it's ...</td>\n",
       "    </tr>\n",
       "    <tr>\n",
       "      <th>1899</th>\n",
       "      <td>1903</td>\n",
       "      <td>1</td>\n",
       "      <td>And then there was none. Goodbye beard (of sor...</td>\n",
       "      <td>86</td>\n",
       "      <td>10</td>\n",
       "      <td>0</td>\n",
       "      <td>1</td>\n",
       "      <td>1</td>\n",
       "      <td>0</td>\n",
       "      <td>0</td>\n",
       "      <td>0</td>\n",
       "      <td>And then there was none. Goodbye beard (of sor...</td>\n",
       "    </tr>\n",
       "    <tr>\n",
       "      <th>1112</th>\n",
       "      <td>1113</td>\n",
       "      <td>1</td>\n",
       "      <td>There's a reason I don't tell my parents anyth...</td>\n",
       "      <td>98</td>\n",
       "      <td>17</td>\n",
       "      <td>0</td>\n",
       "      <td>0</td>\n",
       "      <td>0</td>\n",
       "      <td>0</td>\n",
       "      <td>0</td>\n",
       "      <td>0</td>\n",
       "      <td>There's a reason I don't tell my parents anyth...</td>\n",
       "    </tr>\n",
       "    <tr>\n",
       "      <th>2487</th>\n",
       "      <td>2491</td>\n",
       "      <td>0</td>\n",
       "      <td>@ManUtdstholder @hunts9 You're  familiar with ...</td>\n",
       "      <td>64</td>\n",
       "      <td>5</td>\n",
       "      <td>2</td>\n",
       "      <td>1</td>\n",
       "      <td>0</td>\n",
       "      <td>0</td>\n",
       "      <td>0</td>\n",
       "      <td>0</td>\n",
       "      <td>You're familiar with Matt Bubsy,</td>\n",
       "    </tr>\n",
       "  </tbody>\n",
       "</table>\n",
       "<p>2672 rows × 12 columns</p>\n",
       "</div>"
      ],
      "text/plain": [
       "      Tweet index  Label                                         Tweet text  \\\n",
       "3210         3225      0  #MerryChristmas to each and every one of you l...   \n",
       "296           297      1  People at my school only talk about sex and dr...   \n",
       "387           388      1  @iPhoneTeam if you don't want to upgrade your ...   \n",
       "2501         2505      1  Sarcasm incoming: This weekend is going to be ...   \n",
       "1262         1263      1  Thank you Harding science department for only ...   \n",
       "...           ...    ...                                                ...   \n",
       "1923         1927      0  Too blessed to be stressed. So hype for next y...   \n",
       "3766         3784      0  @CommSec Home page at 8:30am shows Dow -51.44 ...   \n",
       "1899         1903      1  And then there was none. Goodbye beard (of sor...   \n",
       "1112         1113      1  There's a reason I don't tell my parents anyth...   \n",
       "2487         2491      0  @ManUtdstholder @hunts9 You're  familiar with ...   \n",
       "\n",
       "      length  word_count  tag_count  hashtag_count  link_count  smiley_count  \\\n",
       "3210      72          10          0              2           0             0   \n",
       "296       62          12          0              0           0             0   \n",
       "387       89          15          1              0           0             0   \n",
       "2501     132          24          0              0           0             0   \n",
       "1262      82          14          0              0           0             0   \n",
       "...      ...         ...        ...            ...         ...           ...   \n",
       "1923      84          11          0              1           1             0   \n",
       "3766     140          21          1              0           1             0   \n",
       "1899      86          10          0              1           1             0   \n",
       "1112      98          17          0              0           0             0   \n",
       "2487      64           5          2              1           0             0   \n",
       "\n",
       "      exclamation_mark_count  has_emoji  \\\n",
       "3210                       1          0   \n",
       "296                        0          0   \n",
       "387                        0          0   \n",
       "2501                       1          0   \n",
       "1262                       0          0   \n",
       "...                      ...        ...   \n",
       "1923                       1          0   \n",
       "3766                       0          0   \n",
       "1899                       0          0   \n",
       "1112                       0          0   \n",
       "2487                       0          0   \n",
       "\n",
       "                                             clean_text  \n",
       "3210         to each and every one of you lovely lot! X  \n",
       "296   People at my school only talk about sex and dr...  \n",
       "387   if you don't want to upgrade your iOS or keep ...  \n",
       "2501  Sarcasm incoming: This weekend is going to be ...  \n",
       "1262  Thank you Harding science department for only ...  \n",
       "...                                                 ...  \n",
       "1923  Too blessed to be stressed. So hype for next y...  \n",
       "3766  Home page at 8:30am shows Dow -51.44 but it's ...  \n",
       "1899  And then there was none. Goodbye beard (of sor...  \n",
       "1112  There's a reason I don't tell my parents anyth...  \n",
       "2487                   You're familiar with Matt Bubsy,  \n",
       "\n",
       "[2672 rows x 12 columns]"
      ]
     },
     "execution_count": 521,
     "metadata": {},
     "output_type": "execute_result"
    }
   ],
   "source": [
    "df_train"
   ]
  },
  {
   "cell_type": "markdown",
   "id": "c7739051",
   "metadata": {
    "id": "c7739051"
   },
   "source": [
    "## Preprocessing for topic modelling"
   ]
  },
  {
   "cell_type": "code",
   "execution_count": 522,
   "id": "81215b12",
   "metadata": {
    "colab": {
     "base_uri": "https://localhost:8080/",
     "height": 520
    },
    "id": "81215b12",
    "outputId": "2aa33680-70a3-423d-c809-4620f05f4605",
    "scrolled": true
   },
   "outputs": [
    {
     "name": "stdout",
     "output_type": "stream",
     "text": [
      "(2672, 1)\n"
     ]
    },
    {
     "data": {
      "text/html": [
       "<div>\n",
       "<style scoped>\n",
       "    .dataframe tbody tr th:only-of-type {\n",
       "        vertical-align: middle;\n",
       "    }\n",
       "\n",
       "    .dataframe tbody tr th {\n",
       "        vertical-align: top;\n",
       "    }\n",
       "\n",
       "    .dataframe thead th {\n",
       "        text-align: right;\n",
       "    }\n",
       "</style>\n",
       "<table border=\"1\" class=\"dataframe\">\n",
       "  <thead>\n",
       "    <tr style=\"text-align: right;\">\n",
       "      <th></th>\n",
       "      <th>Tweet text</th>\n",
       "    </tr>\n",
       "  </thead>\n",
       "  <tbody>\n",
       "    <tr>\n",
       "      <th>3210</th>\n",
       "      <td>#MerryChristmas to each and every one of you l...</td>\n",
       "    </tr>\n",
       "    <tr>\n",
       "      <th>296</th>\n",
       "      <td>People at my school only talk about sex and dr...</td>\n",
       "    </tr>\n",
       "    <tr>\n",
       "      <th>387</th>\n",
       "      <td>@iPhoneTeam if you don't want to upgrade your ...</td>\n",
       "    </tr>\n",
       "    <tr>\n",
       "      <th>2501</th>\n",
       "      <td>Sarcasm incoming: This weekend is going to be ...</td>\n",
       "    </tr>\n",
       "    <tr>\n",
       "      <th>1262</th>\n",
       "      <td>Thank you Harding science department for only ...</td>\n",
       "    </tr>\n",
       "    <tr>\n",
       "      <th>1131</th>\n",
       "      <td>I swear . I can  stand little fucking girl. I ...</td>\n",
       "    </tr>\n",
       "    <tr>\n",
       "      <th>1964</th>\n",
       "      <td>internet got me like :weary_face: #stillalive ...</td>\n",
       "    </tr>\n",
       "    <tr>\n",
       "      <th>3088</th>\n",
       "      <td>@being_Akash_ nice to know that you give me so...</td>\n",
       "    </tr>\n",
       "    <tr>\n",
       "      <th>1820</th>\n",
       "      <td>#Legend says if you stand in front of a mirror...</td>\n",
       "    </tr>\n",
       "    <tr>\n",
       "      <th>2462</th>\n",
       "      <td>Yay for knee machines!  http://t.co/BNK8Z2LBsE</td>\n",
       "    </tr>\n",
       "    <tr>\n",
       "      <th>2239</th>\n",
       "      <td>http://t.co/yvziKeKAvT #TeenAnalCasting #She S...</td>\n",
       "    </tr>\n",
       "    <tr>\n",
       "      <th>397</th>\n",
       "      <td>Finals Week is draining my body so much that i...</td>\n",
       "    </tr>\n",
       "    <tr>\n",
       "      <th>1658</th>\n",
       "      <td>I'm so glad I'm sick today. | #bullcrap</td>\n",
       "    </tr>\n",
       "    <tr>\n",
       "      <th>2444</th>\n",
       "      <td>Aww I've just seen the pictures of @ben_botica...</td>\n",
       "    </tr>\n",
       "    <tr>\n",
       "      <th>918</th>\n",
       "      <td>@UberStaub you have never seen me</td>\n",
       "    </tr>\n",
       "  </tbody>\n",
       "</table>\n",
       "</div>"
      ],
      "text/plain": [
       "                                             Tweet text\n",
       "3210  #MerryChristmas to each and every one of you l...\n",
       "296   People at my school only talk about sex and dr...\n",
       "387   @iPhoneTeam if you don't want to upgrade your ...\n",
       "2501  Sarcasm incoming: This weekend is going to be ...\n",
       "1262  Thank you Harding science department for only ...\n",
       "1131  I swear . I can  stand little fucking girl. I ...\n",
       "1964  internet got me like :weary_face: #stillalive ...\n",
       "3088  @being_Akash_ nice to know that you give me so...\n",
       "1820  #Legend says if you stand in front of a mirror...\n",
       "2462     Yay for knee machines!  http://t.co/BNK8Z2LBsE\n",
       "2239  http://t.co/yvziKeKAvT #TeenAnalCasting #She S...\n",
       "397   Finals Week is draining my body so much that i...\n",
       "1658            I'm so glad I'm sick today. | #bullcrap\n",
       "2444  Aww I've just seen the pictures of @ben_botica...\n",
       "918                   @UberStaub you have never seen me"
      ]
     },
     "execution_count": 522,
     "metadata": {},
     "output_type": "execute_result"
    }
   ],
   "source": [
    "tweet_text_train = df_train[['Tweet text']]\n",
    "tweet_text_validation = df_validation[['Tweet text']]\n",
    "tweet_text_test = df_test[['Tweet text']]\n",
    "\n",
    "print(tweet_text_train.shape)\n",
    "tweet_text_train.head(15)"
   ]
  },
  {
   "cell_type": "code",
   "execution_count": 523,
   "id": "e5badc5e",
   "metadata": {
    "id": "e5badc5e",
    "scrolled": true
   },
   "outputs": [],
   "source": [
    "def preprocess_words(s):\n",
    "    '''\n",
    "    Removes tags, emojis, links, smiley faces, hashtag signs, \n",
    "    stopwords and changes the case to lower.\n",
    "    '''\n",
    "    ret_list = []\n",
    "\n",
    "    smiley_regex = r'([\\:\\;\\=][\\(\\)PDO\\/\\\\\\]\\[]+)+'\n",
    "    \n",
    "    is_tag = lambda w: w.startswith('@')\n",
    "    is_vertical_line = lambda w: w.startswith('|')\n",
    "    is_emoji = lambda w: w != ':' and w.startswith(':') and w.endswith(':')\n",
    "    remove_emoji = lambda w: w[:w.index(':')] + w[w.rindex(':')+1:] if ':' in w and w.index(':') != w.rindex(':') else w\n",
    "    is_link = lambda w: w.startswith(\"http\") or w.startswith(\"https\")\n",
    "    is_hashtag = lambda w: w.startswith(\"#\")\n",
    "    is_smiley = lambda w: re.match(smiley_regex, w)\n",
    "    \n",
    "    for i, s_i in enumerate(s):\n",
    "        w_arr = s_i.split()\n",
    "        w2 = []\n",
    "        for w in w_arr:\n",
    "            if is_tag(w) or is_emoji(w) or is_link(w) or is_vertical_line(w):\n",
    "                continue\n",
    "            \n",
    "            elif is_hashtag(w):\n",
    "                w_tmp = w.replace('#', '')\n",
    "                if w_tmp != '':\n",
    "                    lower_append(w_tmp, w2)\n",
    "            \n",
    "            elif is_smiley(w):\n",
    "                w_tmp = re.sub(smiley_regex, '', w)\n",
    "                if w_tmp != '':\n",
    "                    lower_append(w_tmp, w2)\n",
    "            \n",
    "            else:\n",
    "                if w != '':\n",
    "                    w.replace('#', '')\n",
    "                    w.replace('|', '')\n",
    "                    w.replace('_', '')\n",
    "                    lower_append(w, w2)\n",
    "\n",
    "        ret_list.append(' '.join(w2))\n",
    "    return ret_list\n",
    "\n",
    "def lower_append(w, l):\n",
    "    l.append(w.lower())\n",
    "\n",
    "tweet_text_train = tweet_text_train.apply(preprocess_words)\n",
    "tweet_text_validation = tweet_text_validation.apply(preprocess_words)\n",
    "tweet_text_test = tweet_text_test.apply(preprocess_words)\n"
   ]
  },
  {
   "cell_type": "code",
   "execution_count": 524,
   "id": "47e0dc49",
   "metadata": {
    "colab": {
     "base_uri": "https://localhost:8080/",
     "height": 520
    },
    "id": "47e0dc49",
    "outputId": "1ba84155-aa43-441f-c2ca-44824cc56b20"
   },
   "outputs": [
    {
     "name": "stdout",
     "output_type": "stream",
     "text": [
      "(2672, 1)\n"
     ]
    },
    {
     "data": {
      "text/html": [
       "<div>\n",
       "<style scoped>\n",
       "    .dataframe tbody tr th:only-of-type {\n",
       "        vertical-align: middle;\n",
       "    }\n",
       "\n",
       "    .dataframe tbody tr th {\n",
       "        vertical-align: top;\n",
       "    }\n",
       "\n",
       "    .dataframe thead th {\n",
       "        text-align: right;\n",
       "    }\n",
       "</style>\n",
       "<table border=\"1\" class=\"dataframe\">\n",
       "  <thead>\n",
       "    <tr style=\"text-align: right;\">\n",
       "      <th></th>\n",
       "      <th>Tweet text</th>\n",
       "    </tr>\n",
       "  </thead>\n",
       "  <tbody>\n",
       "    <tr>\n",
       "      <th>3210</th>\n",
       "      <td>merrychristmas to each and every one of you lo...</td>\n",
       "    </tr>\n",
       "    <tr>\n",
       "      <th>296</th>\n",
       "      <td>people at my school only talk about sex and dr...</td>\n",
       "    </tr>\n",
       "    <tr>\n",
       "      <th>387</th>\n",
       "      <td>if you don't want to upgrade your ios or keep ...</td>\n",
       "    </tr>\n",
       "    <tr>\n",
       "      <th>2501</th>\n",
       "      <td>sarcasm incoming: this weekend is going to be ...</td>\n",
       "    </tr>\n",
       "    <tr>\n",
       "      <th>1262</th>\n",
       "      <td>thank you harding science department for only ...</td>\n",
       "    </tr>\n",
       "    <tr>\n",
       "      <th>1131</th>\n",
       "      <td>i swear . i can stand little fucking girl. i w...</td>\n",
       "    </tr>\n",
       "    <tr>\n",
       "      <th>1964</th>\n",
       "      <td>internet got me like stillalive</td>\n",
       "    </tr>\n",
       "    <tr>\n",
       "      <th>3088</th>\n",
       "      <td>nice to know that you give me so much importan...</td>\n",
       "    </tr>\n",
       "    <tr>\n",
       "      <th>1820</th>\n",
       "      <td>legend says if you stand in front of a mirror+...</td>\n",
       "    </tr>\n",
       "    <tr>\n",
       "      <th>2462</th>\n",
       "      <td>yay for knee machines!</td>\n",
       "    </tr>\n",
       "    <tr>\n",
       "      <th>2239</th>\n",
       "      <td>teenanalcasting she she sucked me dry!</td>\n",
       "    </tr>\n",
       "    <tr>\n",
       "      <th>397</th>\n",
       "      <td>finals week is draining my body so much that i...</td>\n",
       "    </tr>\n",
       "    <tr>\n",
       "      <th>1658</th>\n",
       "      <td>i'm so glad i'm sick today. bullcrap</td>\n",
       "    </tr>\n",
       "    <tr>\n",
       "      <th>2444</th>\n",
       "      <td>aww i've just seen the pictures of from today,...</td>\n",
       "    </tr>\n",
       "    <tr>\n",
       "      <th>918</th>\n",
       "      <td>you have never seen me</td>\n",
       "    </tr>\n",
       "  </tbody>\n",
       "</table>\n",
       "</div>"
      ],
      "text/plain": [
       "                                             Tweet text\n",
       "3210  merrychristmas to each and every one of you lo...\n",
       "296   people at my school only talk about sex and dr...\n",
       "387   if you don't want to upgrade your ios or keep ...\n",
       "2501  sarcasm incoming: this weekend is going to be ...\n",
       "1262  thank you harding science department for only ...\n",
       "1131  i swear . i can stand little fucking girl. i w...\n",
       "1964                    internet got me like stillalive\n",
       "3088  nice to know that you give me so much importan...\n",
       "1820  legend says if you stand in front of a mirror+...\n",
       "2462                             yay for knee machines!\n",
       "2239             teenanalcasting she she sucked me dry!\n",
       "397   finals week is draining my body so much that i...\n",
       "1658               i'm so glad i'm sick today. bullcrap\n",
       "2444  aww i've just seen the pictures of from today,...\n",
       "918                              you have never seen me"
      ]
     },
     "execution_count": 524,
     "metadata": {},
     "output_type": "execute_result"
    }
   ],
   "source": [
    "print(tweet_text_train.shape)\n",
    "tweet_text_train.head(15)"
   ]
  },
  {
   "cell_type": "code",
   "execution_count": 525,
   "id": "2fdf0f0d",
   "metadata": {
    "id": "2fdf0f0d"
   },
   "outputs": [],
   "source": [
    "def simple_preprocessing(s):\n",
    "    '''Lowercases, tokenizes, de-accents, removes words shorter than 3 and longer than 14 characters'''\n",
    "    return [' '.join(simple_preprocess(s_i)) for s_i in s]\n",
    "\n",
    "tweet_text_train = tweet_text_train.apply(simple_preprocessing)\n",
    "tweet_text_validation = tweet_text_validation.apply(simple_preprocessing)\n",
    "tweet_text_test = tweet_text_test.apply(simple_preprocessing)"
   ]
  },
  {
   "cell_type": "code",
   "execution_count": 526,
   "id": "eaac820d",
   "metadata": {
    "colab": {
     "base_uri": "https://localhost:8080/",
     "height": 520
    },
    "id": "eaac820d",
    "outputId": "3ca563fd-683f-4791-9590-435630027dd3",
    "scrolled": true
   },
   "outputs": [
    {
     "name": "stdout",
     "output_type": "stream",
     "text": [
      "(2672, 1)\n"
     ]
    },
    {
     "data": {
      "text/html": [
       "<div>\n",
       "<style scoped>\n",
       "    .dataframe tbody tr th:only-of-type {\n",
       "        vertical-align: middle;\n",
       "    }\n",
       "\n",
       "    .dataframe tbody tr th {\n",
       "        vertical-align: top;\n",
       "    }\n",
       "\n",
       "    .dataframe thead th {\n",
       "        text-align: right;\n",
       "    }\n",
       "</style>\n",
       "<table border=\"1\" class=\"dataframe\">\n",
       "  <thead>\n",
       "    <tr style=\"text-align: right;\">\n",
       "      <th></th>\n",
       "      <th>Tweet text</th>\n",
       "    </tr>\n",
       "  </thead>\n",
       "  <tbody>\n",
       "    <tr>\n",
       "      <th>3210</th>\n",
       "      <td>merrychristmas to each and every one of you lo...</td>\n",
       "    </tr>\n",
       "    <tr>\n",
       "      <th>296</th>\n",
       "      <td>people at my school only talk about sex and dr...</td>\n",
       "    </tr>\n",
       "    <tr>\n",
       "      <th>387</th>\n",
       "      <td>if you don want to upgrade your ios or keep ma...</td>\n",
       "    </tr>\n",
       "    <tr>\n",
       "      <th>2501</th>\n",
       "      <td>sarcasm incoming this weekend is going to be s...</td>\n",
       "    </tr>\n",
       "    <tr>\n",
       "      <th>1262</th>\n",
       "      <td>thank you harding science department for only ...</td>\n",
       "    </tr>\n",
       "    <tr>\n",
       "      <th>1131</th>\n",
       "      <td>swear can stand little fucking girl want to pu...</td>\n",
       "    </tr>\n",
       "    <tr>\n",
       "      <th>1964</th>\n",
       "      <td>internet got me like stillalive</td>\n",
       "    </tr>\n",
       "    <tr>\n",
       "      <th>3088</th>\n",
       "      <td>nice to know that you give me so much importance</td>\n",
       "    </tr>\n",
       "    <tr>\n",
       "      <th>1820</th>\n",
       "      <td>legend says if you stand in front of mirror sa...</td>\n",
       "    </tr>\n",
       "    <tr>\n",
       "      <th>2462</th>\n",
       "      <td>yay for knee machines</td>\n",
       "    </tr>\n",
       "    <tr>\n",
       "      <th>2239</th>\n",
       "      <td>teenanalcasting she she sucked me dry</td>\n",
       "    </tr>\n",
       "    <tr>\n",
       "      <th>397</th>\n",
       "      <td>finals week is draining my body so much that i...</td>\n",
       "    </tr>\n",
       "    <tr>\n",
       "      <th>1658</th>\n",
       "      <td>so glad sick today bullcrap</td>\n",
       "    </tr>\n",
       "    <tr>\n",
       "      <th>2444</th>\n",
       "      <td>aww ve just seen the pictures of from today ho...</td>\n",
       "    </tr>\n",
       "    <tr>\n",
       "      <th>918</th>\n",
       "      <td>you have never seen me</td>\n",
       "    </tr>\n",
       "  </tbody>\n",
       "</table>\n",
       "</div>"
      ],
      "text/plain": [
       "                                             Tweet text\n",
       "3210  merrychristmas to each and every one of you lo...\n",
       "296   people at my school only talk about sex and dr...\n",
       "387   if you don want to upgrade your ios or keep ma...\n",
       "2501  sarcasm incoming this weekend is going to be s...\n",
       "1262  thank you harding science department for only ...\n",
       "1131  swear can stand little fucking girl want to pu...\n",
       "1964                    internet got me like stillalive\n",
       "3088   nice to know that you give me so much importance\n",
       "1820  legend says if you stand in front of mirror sa...\n",
       "2462                              yay for knee machines\n",
       "2239              teenanalcasting she she sucked me dry\n",
       "397   finals week is draining my body so much that i...\n",
       "1658                        so glad sick today bullcrap\n",
       "2444  aww ve just seen the pictures of from today ho...\n",
       "918                              you have never seen me"
      ]
     },
     "execution_count": 526,
     "metadata": {},
     "output_type": "execute_result"
    }
   ],
   "source": [
    "print(tweet_text_train.shape)\n",
    "tweet_text_train.head(15)"
   ]
  },
  {
   "cell_type": "code",
   "execution_count": 527,
   "id": "69b8950b",
   "metadata": {
    "colab": {
     "base_uri": "https://localhost:8080/",
     "height": 520
    },
    "id": "69b8950b",
    "outputId": "85ff7e7b-2115-4161-b53b-cdb7e10259b4",
    "scrolled": false
   },
   "outputs": [
    {
     "name": "stdout",
     "output_type": "stream",
     "text": [
      "(2672, 1)\n"
     ]
    },
    {
     "data": {
      "text/html": [
       "<div>\n",
       "<style scoped>\n",
       "    .dataframe tbody tr th:only-of-type {\n",
       "        vertical-align: middle;\n",
       "    }\n",
       "\n",
       "    .dataframe tbody tr th {\n",
       "        vertical-align: top;\n",
       "    }\n",
       "\n",
       "    .dataframe thead th {\n",
       "        text-align: right;\n",
       "    }\n",
       "</style>\n",
       "<table border=\"1\" class=\"dataframe\">\n",
       "  <thead>\n",
       "    <tr style=\"text-align: right;\">\n",
       "      <th></th>\n",
       "      <th>Tweet text</th>\n",
       "    </tr>\n",
       "  </thead>\n",
       "  <tbody>\n",
       "    <tr>\n",
       "      <th>3210</th>\n",
       "      <td>merrychristmas to each and every one of you lo...</td>\n",
       "    </tr>\n",
       "    <tr>\n",
       "      <th>296</th>\n",
       "      <td>people at my school only talk about sex and dr...</td>\n",
       "    </tr>\n",
       "    <tr>\n",
       "      <th>387</th>\n",
       "      <td>if you don want to upgrade your ios or keep ma...</td>\n",
       "    </tr>\n",
       "    <tr>\n",
       "      <th>2501</th>\n",
       "      <td>sarcasm incoming this weekend is going to be s...</td>\n",
       "    </tr>\n",
       "    <tr>\n",
       "      <th>1262</th>\n",
       "      <td>thank you harding science department for only ...</td>\n",
       "    </tr>\n",
       "    <tr>\n",
       "      <th>1131</th>\n",
       "      <td>swear can stand little fucking girl want to pu...</td>\n",
       "    </tr>\n",
       "    <tr>\n",
       "      <th>1964</th>\n",
       "      <td>internet got me like stillalive</td>\n",
       "    </tr>\n",
       "    <tr>\n",
       "      <th>3088</th>\n",
       "      <td>nice to know that you give me so much importance</td>\n",
       "    </tr>\n",
       "    <tr>\n",
       "      <th>1820</th>\n",
       "      <td>legend says if you stand in front of mirror sa...</td>\n",
       "    </tr>\n",
       "    <tr>\n",
       "      <th>2462</th>\n",
       "      <td>yay for knee machines</td>\n",
       "    </tr>\n",
       "    <tr>\n",
       "      <th>2239</th>\n",
       "      <td>teenanalcasting she she sucked me dry</td>\n",
       "    </tr>\n",
       "    <tr>\n",
       "      <th>397</th>\n",
       "      <td>finals week is draining my body so much that i...</td>\n",
       "    </tr>\n",
       "    <tr>\n",
       "      <th>1658</th>\n",
       "      <td>so glad sick today bullcrap</td>\n",
       "    </tr>\n",
       "    <tr>\n",
       "      <th>2444</th>\n",
       "      <td>aww ve just seen the pictures of from today ho...</td>\n",
       "    </tr>\n",
       "    <tr>\n",
       "      <th>918</th>\n",
       "      <td>you have never seen me</td>\n",
       "    </tr>\n",
       "  </tbody>\n",
       "</table>\n",
       "</div>"
      ],
      "text/plain": [
       "                                             Tweet text\n",
       "3210  merrychristmas to each and every one of you lo...\n",
       "296   people at my school only talk about sex and dr...\n",
       "387   if you don want to upgrade your ios or keep ma...\n",
       "2501  sarcasm incoming this weekend is going to be s...\n",
       "1262  thank you harding science department for only ...\n",
       "1131  swear can stand little fucking girl want to pu...\n",
       "1964                    internet got me like stillalive\n",
       "3088   nice to know that you give me so much importance\n",
       "1820  legend says if you stand in front of mirror sa...\n",
       "2462                              yay for knee machines\n",
       "2239              teenanalcasting she she sucked me dry\n",
       "397   finals week is draining my body so much that i...\n",
       "1658                        so glad sick today bullcrap\n",
       "2444  aww ve just seen the pictures of from today ho...\n",
       "918                              you have never seen me"
      ]
     },
     "execution_count": 527,
     "metadata": {},
     "output_type": "execute_result"
    }
   ],
   "source": [
    "def remove_tuple_characters(s):\n",
    "    return [re.sub(r'(.)\\1{2,}', r'\\1', w) for w in s]\n",
    "\n",
    "tweet_text_train = tweet_text_train.apply(remove_tuple_characters)\n",
    "tweet_text_validation = tweet_text_validation.apply(remove_tuple_characters)\n",
    "tweet_text_test = tweet_text_test.apply(remove_tuple_characters)\n",
    "\n",
    "print(tweet_text_train.shape)\n",
    "tweet_text_train.head(15)"
   ]
  },
  {
   "cell_type": "code",
   "execution_count": 528,
   "id": "6ec955f2",
   "metadata": {
    "id": "6ec955f2",
    "scrolled": true
   },
   "outputs": [],
   "source": [
    "def lemmatize(s):\n",
    "    '''Lemmatizes the words in the sentences and returns them if theyre not stopwords or punctuation'''\n",
    "    return [[w.lemma_.lower() for w in nlp(s_i) if w.lemma_.lower() not in nlp.Defaults.stop_words and not w.is_punct] for s_i in s]\n",
    "\n",
    "tweet_text_train = tweet_text_train.apply(lemmatize)\n",
    "tweet_text_validation = tweet_text_validation.apply(lemmatize)\n",
    "tweet_text_test = tweet_text_test.apply(lemmatize)"
   ]
  },
  {
   "cell_type": "code",
   "execution_count": 529,
   "id": "ca620a41",
   "metadata": {
    "colab": {
     "base_uri": "https://localhost:8080/"
    },
    "id": "ca620a41",
    "outputId": "69bbe2b1-50f1-45ef-f35b-af26557cd7ea",
    "scrolled": false
   },
   "outputs": [
    {
     "data": {
      "text/html": [
       "<div>\n",
       "<style scoped>\n",
       "    .dataframe tbody tr th:only-of-type {\n",
       "        vertical-align: middle;\n",
       "    }\n",
       "\n",
       "    .dataframe tbody tr th {\n",
       "        vertical-align: top;\n",
       "    }\n",
       "\n",
       "    .dataframe thead th {\n",
       "        text-align: right;\n",
       "    }\n",
       "</style>\n",
       "<table border=\"1\" class=\"dataframe\">\n",
       "  <thead>\n",
       "    <tr style=\"text-align: right;\">\n",
       "      <th></th>\n",
       "      <th>Tweet text</th>\n",
       "    </tr>\n",
       "  </thead>\n",
       "  <tbody>\n",
       "    <tr>\n",
       "      <th>3210</th>\n",
       "      <td>[merrychristma, lovely, lot, peaceonearth]</td>\n",
       "    </tr>\n",
       "    <tr>\n",
       "      <th>296</th>\n",
       "      <td>[people, school, talk, sex, drug, awesome]</td>\n",
       "    </tr>\n",
       "    <tr>\n",
       "      <th>387</th>\n",
       "      <td>[don, want, upgrade, io, picture, yeah, great]</td>\n",
       "    </tr>\n",
       "    <tr>\n",
       "      <th>2501</th>\n",
       "      <td>[sarcasm, income, weekend, great, time, ground...</td>\n",
       "    </tr>\n",
       "    <tr>\n",
       "      <th>1262</th>\n",
       "      <td>[thank, harding, science, department, minute, ...</td>\n",
       "    </tr>\n",
       "    <tr>\n",
       "      <th>1131</th>\n",
       "      <td>[swear, stand, little, fucking, girl, want, pu...</td>\n",
       "    </tr>\n",
       "    <tr>\n",
       "      <th>1964</th>\n",
       "      <td>[internet, like, stillalive]</td>\n",
       "    </tr>\n",
       "    <tr>\n",
       "      <th>3088</th>\n",
       "      <td>[nice, know, importance]</td>\n",
       "    </tr>\n",
       "    <tr>\n",
       "      <th>1820</th>\n",
       "      <td>[legend, stand, mirror, time, girl, yogapant, ...</td>\n",
       "    </tr>\n",
       "    <tr>\n",
       "      <th>2462</th>\n",
       "      <td>[yay, knee, machine]</td>\n",
       "    </tr>\n",
       "    <tr>\n",
       "      <th>2239</th>\n",
       "      <td>[teenanalcaste, suck, dry]</td>\n",
       "    </tr>\n",
       "    <tr>\n",
       "      <th>397</th>\n",
       "      <td>[final, week, drain, body, ruin, life, place, ...</td>\n",
       "    </tr>\n",
       "    <tr>\n",
       "      <th>1658</th>\n",
       "      <td>[glad, sick, today, bullcrap]</td>\n",
       "    </tr>\n",
       "    <tr>\n",
       "      <th>2444</th>\n",
       "      <td>[aww, ve, picture, today, s, recovery, getwell...</td>\n",
       "    </tr>\n",
       "    <tr>\n",
       "      <th>918</th>\n",
       "      <td>[]</td>\n",
       "    </tr>\n",
       "  </tbody>\n",
       "</table>\n",
       "</div>"
      ],
      "text/plain": [
       "                                             Tweet text\n",
       "3210         [merrychristma, lovely, lot, peaceonearth]\n",
       "296          [people, school, talk, sex, drug, awesome]\n",
       "387      [don, want, upgrade, io, picture, yeah, great]\n",
       "2501  [sarcasm, income, weekend, great, time, ground...\n",
       "1262  [thank, harding, science, department, minute, ...\n",
       "1131  [swear, stand, little, fucking, girl, want, pu...\n",
       "1964                       [internet, like, stillalive]\n",
       "3088                           [nice, know, importance]\n",
       "1820  [legend, stand, mirror, time, girl, yogapant, ...\n",
       "2462                               [yay, knee, machine]\n",
       "2239                         [teenanalcaste, suck, dry]\n",
       "397   [final, week, drain, body, ruin, life, place, ...\n",
       "1658                      [glad, sick, today, bullcrap]\n",
       "2444  [aww, ve, picture, today, s, recovery, getwell...\n",
       "918                                                  []"
      ]
     },
     "execution_count": 529,
     "metadata": {},
     "output_type": "execute_result"
    }
   ],
   "source": [
    "tweet_text_train.head(15)"
   ]
  },
  {
   "cell_type": "code",
   "execution_count": 532,
   "id": "138ca2d2",
   "metadata": {},
   "outputs": [],
   "source": [
    "tweet_text_train['Label'] = df_train['Label']\n",
    "tweet_text_validation['Label'] = df_validation['Label']\n",
    "tweet_text_test['Label'] = df_test['Label']"
   ]
  },
  {
   "cell_type": "code",
   "execution_count": 533,
   "id": "d8dddd7c",
   "metadata": {
    "scrolled": false
   },
   "outputs": [
    {
     "data": {
      "text/html": [
       "<div>\n",
       "<style scoped>\n",
       "    .dataframe tbody tr th:only-of-type {\n",
       "        vertical-align: middle;\n",
       "    }\n",
       "\n",
       "    .dataframe tbody tr th {\n",
       "        vertical-align: top;\n",
       "    }\n",
       "\n",
       "    .dataframe thead th {\n",
       "        text-align: right;\n",
       "    }\n",
       "</style>\n",
       "<table border=\"1\" class=\"dataframe\">\n",
       "  <thead>\n",
       "    <tr style=\"text-align: right;\">\n",
       "      <th></th>\n",
       "      <th>Tweet text</th>\n",
       "      <th>Label</th>\n",
       "    </tr>\n",
       "  </thead>\n",
       "  <tbody>\n",
       "    <tr>\n",
       "      <th>3210</th>\n",
       "      <td>[merrychristma, lovely, lot, peaceonearth]</td>\n",
       "      <td>0</td>\n",
       "    </tr>\n",
       "    <tr>\n",
       "      <th>296</th>\n",
       "      <td>[people, school, talk, sex, drug, awesome]</td>\n",
       "      <td>1</td>\n",
       "    </tr>\n",
       "    <tr>\n",
       "      <th>387</th>\n",
       "      <td>[don, want, upgrade, io, picture, yeah, great]</td>\n",
       "      <td>1</td>\n",
       "    </tr>\n",
       "    <tr>\n",
       "      <th>2501</th>\n",
       "      <td>[sarcasm, income, weekend, great, time, ground...</td>\n",
       "      <td>1</td>\n",
       "    </tr>\n",
       "    <tr>\n",
       "      <th>1262</th>\n",
       "      <td>[thank, harding, science, department, minute, ...</td>\n",
       "      <td>1</td>\n",
       "    </tr>\n",
       "    <tr>\n",
       "      <th>1131</th>\n",
       "      <td>[swear, stand, little, fucking, girl, want, pu...</td>\n",
       "      <td>0</td>\n",
       "    </tr>\n",
       "    <tr>\n",
       "      <th>1964</th>\n",
       "      <td>[internet, like, stillalive]</td>\n",
       "      <td>1</td>\n",
       "    </tr>\n",
       "    <tr>\n",
       "      <th>3088</th>\n",
       "      <td>[nice, know, importance]</td>\n",
       "      <td>1</td>\n",
       "    </tr>\n",
       "    <tr>\n",
       "      <th>1820</th>\n",
       "      <td>[legend, stand, mirror, time, girl, yogapant, ...</td>\n",
       "      <td>0</td>\n",
       "    </tr>\n",
       "    <tr>\n",
       "      <th>2462</th>\n",
       "      <td>[yay, knee, machine]</td>\n",
       "      <td>1</td>\n",
       "    </tr>\n",
       "    <tr>\n",
       "      <th>2239</th>\n",
       "      <td>[teenanalcaste, suck, dry]</td>\n",
       "      <td>0</td>\n",
       "    </tr>\n",
       "    <tr>\n",
       "      <th>397</th>\n",
       "      <td>[final, week, drain, body, ruin, life, place, ...</td>\n",
       "      <td>1</td>\n",
       "    </tr>\n",
       "    <tr>\n",
       "      <th>1658</th>\n",
       "      <td>[glad, sick, today, bullcrap]</td>\n",
       "      <td>1</td>\n",
       "    </tr>\n",
       "    <tr>\n",
       "      <th>2444</th>\n",
       "      <td>[aww, ve, picture, today, s, recovery, getwell...</td>\n",
       "      <td>0</td>\n",
       "    </tr>\n",
       "    <tr>\n",
       "      <th>918</th>\n",
       "      <td>[]</td>\n",
       "      <td>0</td>\n",
       "    </tr>\n",
       "  </tbody>\n",
       "</table>\n",
       "</div>"
      ],
      "text/plain": [
       "                                             Tweet text  Label\n",
       "3210         [merrychristma, lovely, lot, peaceonearth]      0\n",
       "296          [people, school, talk, sex, drug, awesome]      1\n",
       "387      [don, want, upgrade, io, picture, yeah, great]      1\n",
       "2501  [sarcasm, income, weekend, great, time, ground...      1\n",
       "1262  [thank, harding, science, department, minute, ...      1\n",
       "1131  [swear, stand, little, fucking, girl, want, pu...      0\n",
       "1964                       [internet, like, stillalive]      1\n",
       "3088                           [nice, know, importance]      1\n",
       "1820  [legend, stand, mirror, time, girl, yogapant, ...      0\n",
       "2462                               [yay, knee, machine]      1\n",
       "2239                         [teenanalcaste, suck, dry]      0\n",
       "397   [final, week, drain, body, ruin, life, place, ...      1\n",
       "1658                      [glad, sick, today, bullcrap]      1\n",
       "2444  [aww, ve, picture, today, s, recovery, getwell...      0\n",
       "918                                                  []      0"
      ]
     },
     "execution_count": 533,
     "metadata": {},
     "output_type": "execute_result"
    }
   ],
   "source": [
    "tweet_text_train.head(15)"
   ]
  },
  {
   "cell_type": "code",
   "execution_count": 541,
   "id": "2d560761",
   "metadata": {
    "id": "2d560761"
   },
   "outputs": [],
   "source": [
    "def join_docs(s):\n",
    "    '''Joins the strings inside the inner list of a nested list'''\n",
    "    return ' '.join(s)\n",
    "\n",
    "tweet_text_train['Tweet text'] = tweet_text_train['Tweet text'].apply(join_docs)\n",
    "tweet_text_validation['Tweet text'] = tweet_text_validation['Tweet text'].apply(join_docs)\n",
    "tweet_text_test['Tweet text'] = tweet_text_test['Tweet text'].apply(join_docs)"
   ]
  },
  {
   "cell_type": "code",
   "execution_count": 547,
   "id": "726b260c",
   "metadata": {},
   "outputs": [],
   "source": [
    "tweet_text_train = tweet_text_train[tweet_text_train['Tweet text'] != '']\n",
    "tweet_text_validation = tweet_text_validation[tweet_text_validation['Tweet text'] != '']\n",
    "tweet_text_test = tweet_text_test[tweet_text_test['Tweet text'] != '']"
   ]
  },
  {
   "cell_type": "code",
   "execution_count": 548,
   "id": "30c31df6",
   "metadata": {},
   "outputs": [
    {
     "data": {
      "text/html": [
       "<div>\n",
       "<style scoped>\n",
       "    .dataframe tbody tr th:only-of-type {\n",
       "        vertical-align: middle;\n",
       "    }\n",
       "\n",
       "    .dataframe tbody tr th {\n",
       "        vertical-align: top;\n",
       "    }\n",
       "\n",
       "    .dataframe thead th {\n",
       "        text-align: right;\n",
       "    }\n",
       "</style>\n",
       "<table border=\"1\" class=\"dataframe\">\n",
       "  <thead>\n",
       "    <tr style=\"text-align: right;\">\n",
       "      <th></th>\n",
       "      <th>Tweet text</th>\n",
       "      <th>Label</th>\n",
       "    </tr>\n",
       "  </thead>\n",
       "  <tbody>\n",
       "    <tr>\n",
       "      <th>3210</th>\n",
       "      <td>merrychristma lovely lot peaceonearth</td>\n",
       "      <td>0</td>\n",
       "    </tr>\n",
       "    <tr>\n",
       "      <th>296</th>\n",
       "      <td>people school talk sex drug awesome</td>\n",
       "      <td>1</td>\n",
       "    </tr>\n",
       "    <tr>\n",
       "      <th>387</th>\n",
       "      <td>don want upgrade io picture yeah great</td>\n",
       "      <td>1</td>\n",
       "    </tr>\n",
       "    <tr>\n",
       "      <th>2501</th>\n",
       "      <td>sarcasm income weekend great time ground homew...</td>\n",
       "      <td>1</td>\n",
       "    </tr>\n",
       "    <tr>\n",
       "      <th>1262</th>\n",
       "      <td>thank harding science department minute final</td>\n",
       "      <td>1</td>\n",
       "    </tr>\n",
       "    <tr>\n",
       "      <th>1131</th>\n",
       "      <td>swear stand little fucking girl want punch fuc...</td>\n",
       "      <td>0</td>\n",
       "    </tr>\n",
       "    <tr>\n",
       "      <th>1964</th>\n",
       "      <td>internet like stillalive</td>\n",
       "      <td>1</td>\n",
       "    </tr>\n",
       "    <tr>\n",
       "      <th>3088</th>\n",
       "      <td>nice know importance</td>\n",
       "      <td>1</td>\n",
       "    </tr>\n",
       "    <tr>\n",
       "      <th>1820</th>\n",
       "      <td>legend stand mirror time girl yogapant appear ...</td>\n",
       "      <td>0</td>\n",
       "    </tr>\n",
       "    <tr>\n",
       "      <th>2462</th>\n",
       "      <td>yay knee machine</td>\n",
       "      <td>1</td>\n",
       "    </tr>\n",
       "    <tr>\n",
       "      <th>2239</th>\n",
       "      <td>teenanalcaste suck dry</td>\n",
       "      <td>0</td>\n",
       "    </tr>\n",
       "    <tr>\n",
       "      <th>397</th>\n",
       "      <td>final week drain body ruin life place lovely</td>\n",
       "      <td>1</td>\n",
       "    </tr>\n",
       "    <tr>\n",
       "      <th>1658</th>\n",
       "      <td>glad sick today bullcrap</td>\n",
       "      <td>1</td>\n",
       "    </tr>\n",
       "    <tr>\n",
       "      <th>2444</th>\n",
       "      <td>aww ve picture today s recovery getwellsoon</td>\n",
       "      <td>0</td>\n",
       "    </tr>\n",
       "    <tr>\n",
       "      <th>2043</th>\n",
       "      <td>rdeye brand design accessory easy carry comfor...</td>\n",
       "      <td>0</td>\n",
       "    </tr>\n",
       "  </tbody>\n",
       "</table>\n",
       "</div>"
      ],
      "text/plain": [
       "                                             Tweet text  Label\n",
       "3210              merrychristma lovely lot peaceonearth      0\n",
       "296                 people school talk sex drug awesome      1\n",
       "387              don want upgrade io picture yeah great      1\n",
       "2501  sarcasm income weekend great time ground homew...      1\n",
       "1262      thank harding science department minute final      1\n",
       "1131  swear stand little fucking girl want punch fuc...      0\n",
       "1964                           internet like stillalive      1\n",
       "3088                               nice know importance      1\n",
       "1820  legend stand mirror time girl yogapant appear ...      0\n",
       "2462                                   yay knee machine      1\n",
       "2239                             teenanalcaste suck dry      0\n",
       "397        final week drain body ruin life place lovely      1\n",
       "1658                           glad sick today bullcrap      1\n",
       "2444        aww ve picture today s recovery getwellsoon      0\n",
       "2043  rdeye brand design accessory easy carry comfor...      0"
      ]
     },
     "execution_count": 548,
     "metadata": {},
     "output_type": "execute_result"
    }
   ],
   "source": [
    "tweet_text_train.head(15)"
   ]
  },
  {
   "cell_type": "markdown",
   "id": "98404b14",
   "metadata": {
    "id": "98404b14"
   },
   "source": [
    "## Topic modeling baselines"
   ]
  },
  {
   "cell_type": "code",
   "execution_count": 553,
   "id": "7127a752",
   "metadata": {
    "id": "7127a752"
   },
   "outputs": [],
   "source": [
    "count_vectorizer = CountVectorizer(\n",
    "    analyzer='word',\n",
    "    min_df=20,\n",
    "    max_df=0.5,\n",
    ")\n",
    "\n",
    "tfidf_vectorizer = TfidfVectorizer(\n",
    "    analyzer='word',\n",
    "    min_df=20,\n",
    "    max_df=0.5,\n",
    ")\n",
    "\n",
    "tweet_text_count_train = count_vectorizer.fit_transform(tweet_text_train['Tweet text'])\n",
    "tweet_text_count_validation = count_vectorizer.transform(tweet_text_validation['Tweet text'])\n",
    "tweet_text_count_test = count_vectorizer.transform(tweet_text_test['Tweet text'])\n",
    "\n",
    "tweet_text_tfidf_train = tfidf_vectorizer.fit_transform(tweet_text_train['Tweet text'])\n",
    "tweet_text_tfidf_validation = tfidf_vectorizer.transform(tweet_text_validation['Tweet text'])\n",
    "tweet_text_tfidf_test = tfidf_vectorizer.transform(tweet_text_test['Tweet text'])"
   ]
  },
  {
   "cell_type": "code",
   "execution_count": 554,
   "id": "08150dae",
   "metadata": {
    "colab": {
     "base_uri": "https://localhost:8080/",
     "height": 279
    },
    "id": "08150dae",
    "outputId": "03815e50-e2ab-48a5-a465-97b6c0e7571e"
   },
   "outputs": [
    {
     "data": {
      "image/png": "[encoded data removed]",
      "text/plain": [
       "<Figure size 432x288 with 1 Axes>"
      ]
     },
     "metadata": {
      "needs_background": "light"
     },
     "output_type": "display_data"
    }
   ],
   "source": [
    "from sklearn.cluster import KMeans\n",
    "import warnings\n",
    "warnings.filterwarnings(\"ignore\")\n",
    "\n",
    "inertia = []\n",
    "range_ = list(range(2, 60))\n",
    "for i in range_:\n",
    "    model = KMeans(i)\n",
    "    model.fit(tweet_text_count_train)\n",
    "    inertia.append(model.inertia_)\n",
    "    \n",
    "plt.plot(range_, inertia)\n",
    "plt.xlabel('Number of components')\n",
    "plt.ylabel('Inertia')\n",
    "plt.show()"
   ]
  },
  {
   "cell_type": "code",
   "execution_count": 558,
   "id": "201d0b6e",
   "metadata": {},
   "outputs": [],
   "source": [
    "model = KMeans(26)\n",
    "model.fit(tweet_text_count_train)\n",
    "\n",
    "kmeans_count_labels_train = model.predict(tweet_text_count_train)\n",
    "kmeans_count_labels_validation = model.predict(tweet_text_count_validation)\n",
    "kmeans_count_labels_test = model.predict(tweet_text_count_test)"
   ]
  },
  {
   "cell_type": "code",
   "execution_count": 557,
   "id": "fe5f11fc",
   "metadata": {
    "colab": {
     "base_uri": "https://localhost:8080/",
     "height": 279
    },
    "id": "fe5f11fc",
    "outputId": "8000ac3b-1375-4905-8bca-179acf2ac778"
   },
   "outputs": [
    {
     "data": {
      "image/png": "[encoded data removed]",
      "text/plain": [
       "<Figure size 432x288 with 1 Axes>"
      ]
     },
     "metadata": {
      "needs_background": "light"
     },
     "output_type": "display_data"
    }
   ],
   "source": [
    "inertia = []\n",
    "for i in range_:\n",
    "    model = KMeans(i)\n",
    "    model.fit(tweet_text_tfidf_train)\n",
    "    inertia.append(model.inertia_)\n",
    "plt.plot(range_, inertia)\n",
    "plt.xlabel('Number of components')\n",
    "plt.ylabel('Inertia')\n",
    "plt.show()"
   ]
  },
  {
   "cell_type": "code",
   "execution_count": 559,
   "id": "da72eb5b",
   "metadata": {},
   "outputs": [],
   "source": [
    "model = KMeans(17)\n",
    "model.fit(tweet_text_count_train)\n",
    "\n",
    "kmeans_tfidf_labels_train = model.predict(tweet_text_count_train)\n",
    "kmeans_tfidf_labels_validation = model.predict(tweet_text_count_validation)\n",
    "kmeans_tfidf_labels_test = model.predict(tweet_text_count_test)"
   ]
  },
  {
   "cell_type": "code",
   "execution_count": 563,
   "id": "9ed966da",
   "metadata": {},
   "outputs": [
    {
     "name": "stdout",
     "output_type": "stream",
     "text": [
      "Collecting bertopic\n",
      "  Using cached bertopic-0.10.0-py2.py3-none-any.whl (58 kB)\n",
      "Collecting plotly>=4.7.0\n",
      "  Using cached plotly-5.8.0-py2.py3-none-any.whl (15.2 MB)\n",
      "Collecting pyyaml<6.0\n",
      "  Using cached PyYAML-5.4.1-cp39-cp39-win_amd64.whl (213 kB)\n",
      "Collecting hdbscan>=0.8.28\n",
      "  Using cached hdbscan-0.8.28.tar.gz (5.2 MB)\n",
      "  Installing build dependencies: started\n",
      "  Installing build dependencies: finished with status 'done'\n",
      "  Getting requirements to build wheel: started\n",
      "  Getting requirements to build wheel: finished with status 'done'\n",
      "  Preparing metadata (pyproject.toml): started\n",
      "  Preparing metadata (pyproject.toml): finished with status 'done'\n",
      "Collecting umap-learn>=0.5.0\n",
      "  Using cached umap_learn-0.5.3-py3-none-any.whl\n",
      "Requirement already satisfied: tqdm>=4.41.1 in c:\\users\\ivan\\appdata\\local\\programs\\python\\python39\\lib\\site-packages (from bertopic) (4.64.0)\n",
      "Requirement already satisfied: pandas>=1.1.5 in c:\\users\\ivan\\appdata\\local\\programs\\python\\python39\\lib\\site-packages (from bertopic) (1.4.2)\n",
      "Requirement already satisfied: numpy>=1.20.0 in c:\\users\\ivan\\appdata\\local\\programs\\python\\python39\\lib\\site-packages (from bertopic) (1.22.3)\n",
      "Collecting sentence-transformers>=0.4.1\n",
      "  Using cached sentence_transformers-2.2.0-py3-none-any.whl\n",
      "Requirement already satisfied: scikit-learn>=0.22.2.post1 in c:\\users\\ivan\\appdata\\local\\programs\\python\\python39\\lib\\site-packages (from bertopic) (1.0.2)\n",
      "Requirement already satisfied: joblib>=1.0 in c:\\users\\ivan\\appdata\\local\\programs\\python\\python39\\lib\\site-packages (from hdbscan>=0.8.28->bertopic) (1.1.0)\n",
      "Requirement already satisfied: cython>=0.27 in c:\\users\\ivan\\appdata\\local\\programs\\python\\python39\\lib\\site-packages (from hdbscan>=0.8.28->bertopic) (0.29.28)\n",
      "Requirement already satisfied: scipy>=1.0 in c:\\users\\ivan\\appdata\\local\\programs\\python\\python39\\lib\\site-packages (from hdbscan>=0.8.28->bertopic) (1.8.0)\n",
      "Requirement already satisfied: python-dateutil>=2.8.1 in c:\\users\\ivan\\appdata\\local\\programs\\python\\python39\\lib\\site-packages (from pandas>=1.1.5->bertopic) (2.8.2)\n",
      "Requirement already satisfied: pytz>=2020.1 in c:\\users\\ivan\\appdata\\local\\programs\\python\\python39\\lib\\site-packages (from pandas>=1.1.5->bertopic) (2022.1)\n",
      "Collecting tenacity>=6.2.0\n",
      "  Using cached tenacity-8.0.1-py3-none-any.whl (24 kB)\n",
      "Requirement already satisfied: threadpoolctl>=2.0.0 in c:\\users\\ivan\\appdata\\local\\programs\\python\\python39\\lib\\site-packages (from scikit-learn>=0.22.2.post1->bertopic) (3.1.0)\n",
      "Requirement already satisfied: transformers<5.0.0,>=4.6.0 in c:\\users\\ivan\\appdata\\roaming\\python\\python39\\site-packages (from sentence-transformers>=0.4.1->bertopic) (4.19.2)\n",
      "Collecting sentencepiece\n",
      "  Using cached sentencepiece-0.1.96-cp39-cp39-win_amd64.whl (1.1 MB)\n",
      "Requirement already satisfied: huggingface-hub in c:\\users\\ivan\\appdata\\roaming\\python\\python39\\site-packages (from sentence-transformers>=0.4.1->bertopic) (0.6.0)\n",
      "Collecting torchvision\n",
      "  Using cached torchvision-0.12.0-cp39-cp39-win_amd64.whl (1.0 MB)\n",
      "Requirement already satisfied: nltk in c:\\users\\ivan\\appdata\\local\\programs\\python\\python39\\lib\\site-packages (from sentence-transformers>=0.4.1->bertopic) (3.5)\n",
      "Requirement already satisfied: torch>=1.6.0 in c:\\users\\ivan\\appdata\\local\\programs\\python\\python39\\lib\\site-packages (from sentence-transformers>=0.4.1->bertopic) (1.11.0)\n",
      "Requirement already satisfied: colorama in c:\\users\\ivan\\appdata\\local\\programs\\python\\python39\\lib\\site-packages (from tqdm>=4.41.1->bertopic) (0.4.4)\n",
      "Requirement already satisfied: numba>=0.49 in c:\\users\\ivan\\appdata\\local\\programs\\python\\python39\\lib\\site-packages (from umap-learn>=0.5.0->bertopic) (0.55.1)\n",
      "Collecting pynndescent>=0.5\n",
      "  Using cached pynndescent-0.5.7-py3-none-any.whl\n",
      "Requirement already satisfied: setuptools in c:\\users\\ivan\\appdata\\local\\programs\\python\\python39\\lib\\site-packages (from numba>=0.49->umap-learn>=0.5.0->bertopic) (58.1.0)\n",
      "Requirement already satisfied: llvmlite<0.39,>=0.38.0rc1 in c:\\users\\ivan\\appdata\\local\\programs\\python\\python39\\lib\\site-packages (from numba>=0.49->umap-learn>=0.5.0->bertopic) (0.38.0)\n",
      "Collecting numpy>=1.20.0\n",
      "  Using cached numpy-1.21.6-cp39-cp39-win_amd64.whl (14.0 MB)\n",
      "Requirement already satisfied: six>=1.5 in c:\\users\\ivan\\appdata\\local\\programs\\python\\python39\\lib\\site-packages (from python-dateutil>=2.8.1->pandas>=1.1.5->bertopic) (1.16.0)\n",
      "Requirement already satisfied: typing-extensions in c:\\users\\ivan\\appdata\\local\\programs\\python\\python39\\lib\\site-packages (from torch>=1.6.0->sentence-transformers>=0.4.1->bertopic) (4.2.0)\n",
      "Requirement already satisfied: requests in c:\\users\\ivan\\appdata\\local\\programs\\python\\python39\\lib\\site-packages (from transformers<5.0.0,>=4.6.0->sentence-transformers>=0.4.1->bertopic) (2.27.1)\n",
      "Requirement already satisfied: filelock in c:\\users\\ivan\\appdata\\roaming\\python\\python39\\site-packages (from transformers<5.0.0,>=4.6.0->sentence-transformers>=0.4.1->bertopic) (3.7.0)\n",
      "Requirement already satisfied: packaging>=20.0 in c:\\users\\ivan\\appdata\\local\\programs\\python\\python39\\lib\\site-packages (from transformers<5.0.0,>=4.6.0->sentence-transformers>=0.4.1->bertopic) (21.3)\n",
      "Requirement already satisfied: regex!=2019.12.17 in c:\\users\\ivan\\appdata\\local\\programs\\python\\python39\\lib\\site-packages (from transformers<5.0.0,>=4.6.0->sentence-transformers>=0.4.1->bertopic) (2022.4.24)\n",
      "Requirement already satisfied: tokenizers!=0.11.3,<0.13,>=0.11.1 in c:\\users\\ivan\\appdata\\local\\programs\\python\\python39\\lib\\site-packages (from transformers<5.0.0,>=4.6.0->sentence-transformers>=0.4.1->bertopic) (0.12.1)\n",
      "Requirement already satisfied: click in c:\\users\\ivan\\appdata\\local\\programs\\python\\python39\\lib\\site-packages (from nltk->sentence-transformers>=0.4.1->bertopic) (8.1.3)\n",
      "Requirement already satisfied: pillow!=8.3.*,>=5.3.0 in c:\\users\\ivan\\appdata\\local\\programs\\python\\python39\\lib\\site-packages (from torchvision->sentence-transformers>=0.4.1->bertopic) (9.1.0)\n",
      "Requirement already satisfied: pyparsing!=3.0.5,>=2.0.2 in c:\\users\\ivan\\appdata\\local\\programs\\python\\python39\\lib\\site-packages (from packaging>=20.0->transformers<5.0.0,>=4.6.0->sentence-transformers>=0.4.1->bertopic) (3.0.8)\n",
      "Requirement already satisfied: certifi>=2017.4.17 in c:\\users\\ivan\\appdata\\local\\programs\\python\\python39\\lib\\site-packages (from requests->transformers<5.0.0,>=4.6.0->sentence-transformers>=0.4.1->bertopic) (2021.10.8)\n",
      "Requirement already satisfied: urllib3<1.27,>=1.21.1 in c:\\users\\ivan\\appdata\\local\\programs\\python\\python39\\lib\\site-packages (from requests->transformers<5.0.0,>=4.6.0->sentence-transformers>=0.4.1->bertopic) (1.26.9)\n",
      "Requirement already satisfied: idna<4,>=2.5 in c:\\users\\ivan\\appdata\\local\\programs\\python\\python39\\lib\\site-packages (from requests->transformers<5.0.0,>=4.6.0->sentence-transformers>=0.4.1->bertopic) (3.3)\n",
      "Requirement already satisfied: charset-normalizer~=2.0.0 in c:\\users\\ivan\\appdata\\local\\programs\\python\\python39\\lib\\site-packages (from requests->transformers<5.0.0,>=4.6.0->sentence-transformers>=0.4.1->bertopic) (2.0.12)\n",
      "Building wheels for collected packages: hdbscan\n",
      "  Building wheel for hdbscan (pyproject.toml): started\n",
      "  Building wheel for hdbscan (pyproject.toml): finished with status 'error'\n",
      "Failed to build hdbscan\n"
     ]
    },
    {
     "name": "stderr",
     "output_type": "stream",
     "text": [
      "  error: subprocess-exited-with-error\n",
      "  \n",
      "  Building wheel for hdbscan (pyproject.toml) did not run successfully.\n",
      "  exit code: 1\n",
      "  \n",
      "  [40 lines of output]\n",
      "  running bdist_wheel\n",
      "  running build\n",
      "  running build_py\n",
      "  creating build\n",
      "  creating build\\lib.win-amd64-cpython-39\n",
      "  creating build\\lib.win-amd64-cpython-39\\hdbscan\n",
      "  copying hdbscan\\flat.py -> build\\lib.win-amd64-cpython-39\\hdbscan\n",
      "  copying hdbscan\\hdbscan_.py -> build\\lib.win-amd64-cpython-39\\hdbscan\n",
      "  copying hdbscan\\plots.py -> build\\lib.win-amd64-cpython-39\\hdbscan\n",
      "  copying hdbscan\\prediction.py -> build\\lib.win-amd64-cpython-39\\hdbscan\n",
      "  copying hdbscan\\robust_single_linkage_.py -> build\\lib.win-amd64-cpython-39\\hdbscan\n",
      "  copying hdbscan\\validity.py -> build\\lib.win-amd64-cpython-39\\hdbscan\n",
      "  copying hdbscan\\__init__.py -> build\\lib.win-amd64-cpython-39\\hdbscan\n",
      "  creating build\\lib.win-amd64-cpython-39\\hdbscan\\tests\n",
      "  copying hdbscan\\tests\\test_flat.py -> build\\lib.win-amd64-cpython-39\\hdbscan\\tests\n",
      "  copying hdbscan\\tests\\test_hdbscan.py -> build\\lib.win-amd64-cpython-39\\hdbscan\\tests\n",
      "  copying hdbscan\\tests\\test_prediction_utils.py -> build\\lib.win-amd64-cpython-39\\hdbscan\\tests\n",
      "  copying hdbscan\\tests\\test_rsl.py -> build\\lib.win-amd64-cpython-39\\hdbscan\\tests\n",
      "  copying hdbscan\\tests\\__init__.py -> build\\lib.win-amd64-cpython-39\\hdbscan\\tests\n",
      "  running build_ext\n",
      "  cythoning hdbscan/_hdbscan_tree.pyx to hdbscan\\_hdbscan_tree.c\n",
      "  C:\\Users\\Ivan\\AppData\\Local\\Temp\\pip-build-env-t_era065\\overlay\\Lib\\site-packages\\Cython\\Compiler\\Main.py:369: FutureWarning: Cython directive 'language_level' not set, using 2 for now (Py2). This will change in a later release! File: C:\\Users\\Ivan\\AppData\\Local\\Temp\\pip-install-dgxdvea9\\hdbscan_0b8aa2e9b8a041a299e2cb86b789e644\\hdbscan\\_hdbscan_tree.pyx\n",
      "    tree = Parsing.p_module(s, pxd, full_module_name)\n",
      "  cythoning hdbscan/_hdbscan_linkage.pyx to hdbscan\\_hdbscan_linkage.c\n",
      "  C:\\Users\\Ivan\\AppData\\Local\\Temp\\pip-build-env-t_era065\\overlay\\Lib\\site-packages\\Cython\\Compiler\\Main.py:369: FutureWarning: Cython directive 'language_level' not set, using 2 for now (Py2). This will change in a later release! File: C:\\Users\\Ivan\\AppData\\Local\\Temp\\pip-install-dgxdvea9\\hdbscan_0b8aa2e9b8a041a299e2cb86b789e644\\hdbscan\\_hdbscan_linkage.pyx\n",
      "    tree = Parsing.p_module(s, pxd, full_module_name)\n",
      "  cythoning hdbscan/_hdbscan_boruvka.pyx to hdbscan\\_hdbscan_boruvka.c\n",
      "  C:\\Users\\Ivan\\AppData\\Local\\Temp\\pip-build-env-t_era065\\overlay\\Lib\\site-packages\\Cython\\Compiler\\Main.py:369: FutureWarning: Cython directive 'language_level' not set, using 2 for now (Py2). This will change in a later release! File: C:\\Users\\Ivan\\AppData\\Local\\Temp\\pip-install-dgxdvea9\\hdbscan_0b8aa2e9b8a041a299e2cb86b789e644\\hdbscan\\_hdbscan_boruvka.pyx\n",
      "    tree = Parsing.p_module(s, pxd, full_module_name)\n",
      "  cythoning hdbscan/_hdbscan_reachability.pyx to hdbscan\\_hdbscan_reachability.c\n",
      "  C:\\Users\\Ivan\\AppData\\Local\\Temp\\pip-build-env-t_era065\\overlay\\Lib\\site-packages\\Cython\\Compiler\\Main.py:369: FutureWarning: Cython directive 'language_level' not set, using 2 for now (Py2). This will change in a later release! File: C:\\Users\\Ivan\\AppData\\Local\\Temp\\pip-install-dgxdvea9\\hdbscan_0b8aa2e9b8a041a299e2cb86b789e644\\hdbscan\\_hdbscan_reachability.pyx\n",
      "    tree = Parsing.p_module(s, pxd, full_module_name)\n",
      "  cythoning hdbscan/_prediction_utils.pyx to hdbscan\\_prediction_utils.c\n",
      "  C:\\Users\\Ivan\\AppData\\Local\\Temp\\pip-build-env-t_era065\\overlay\\Lib\\site-packages\\Cython\\Compiler\\Main.py:369: FutureWarning: Cython directive 'language_level' not set, using 2 for now (Py2). This will change in a later release! File: C:\\Users\\Ivan\\AppData\\Local\\Temp\\pip-install-dgxdvea9\\hdbscan_0b8aa2e9b8a041a299e2cb86b789e644\\hdbscan\\_prediction_utils.pyx\n",
      "    tree = Parsing.p_module(s, pxd, full_module_name)\n",
      "  cythoning hdbscan/dist_metrics.pyx to hdbscan\\dist_metrics.c\n",
      "  C:\\Users\\Ivan\\AppData\\Local\\Temp\\pip-build-env-t_era065\\overlay\\Lib\\site-packages\\Cython\\Compiler\\Main.py:369: FutureWarning: Cython directive 'language_level' not set, using 2 for now (Py2). This will change in a later release! File: C:\\Users\\Ivan\\AppData\\Local\\Temp\\pip-install-dgxdvea9\\hdbscan_0b8aa2e9b8a041a299e2cb86b789e644\\hdbscan\\dist_metrics.pxd\n",
      "    tree = Parsing.p_module(s, pxd, full_module_name)\n",
      "  building 'hdbscan._hdbscan_tree' extension\n",
      "  error: Microsoft Visual C++ 14.0 or greater is required. Get it with \"Microsoft C++ Build Tools\": https://visualstudio.microsoft.com/visual-cpp-build-tools/\n",
      "  [end of output]\n",
      "  \n",
      "  note: This error originates from a subprocess, and is likely not a problem with pip.\n",
      "  ERROR: Failed building wheel for hdbscan\n",
      "ERROR: Could not build wheels for hdbscan, which is required to install pyproject.toml-based projects\n"
     ]
    }
   ],
   "source": [
    "!pip install bertopic"
   ]
  },
  {
   "cell_type": "markdown",
   "id": "0vdf4uM_F2cg",
   "metadata": {
    "id": "0vdf4uM_F2cg"
   },
   "source": [
    "### BERTopic"
   ]
  },
  {
   "cell_type": "code",
   "execution_count": 560,
   "id": "NRdFJDRVF2m2",
   "metadata": {
    "id": "NRdFJDRVF2m2"
   },
   "outputs": [
    {
     "ename": "ModuleNotFoundError",
     "evalue": "No module named 'bertopic'",
     "output_type": "error",
     "traceback": [
      "\u001b[1;31m---------------------------------------------------------------------------\u001b[0m",
      "\u001b[1;31mModuleNotFoundError\u001b[0m                       Traceback (most recent call last)",
      "Input \u001b[1;32mIn [560]\u001b[0m, in \u001b[0;36m<cell line: 1>\u001b[1;34m()\u001b[0m\n\u001b[1;32m----> 1\u001b[0m \u001b[38;5;28;01mfrom\u001b[39;00m \u001b[38;5;21;01mbertopic\u001b[39;00m \u001b[38;5;28;01mimport\u001b[39;00m BERTopic\n\u001b[0;32m      3\u001b[0m topic_model \u001b[38;5;241m=\u001b[39m BERTopic(min_topic_size\u001b[38;5;241m=\u001b[39m\u001b[38;5;241m20\u001b[39m)\n\u001b[0;32m      4\u001b[0m topics, probs \u001b[38;5;241m=\u001b[39m topic_model\u001b[38;5;241m.\u001b[39mfit_transform(tweet_text_train)\n",
      "\u001b[1;31mModuleNotFoundError\u001b[0m: No module named 'bertopic'"
     ]
    }
   ],
   "source": [
    "from bertopic import BERTopic\n",
    "\n",
    "topic_model = BERTopic(min_topic_size=20)\n",
    "topics, probs = topic_model.fit_transform(tweet_text_train)\n",
    "predictions = topic_model.transform(tweet_text_test)"
   ]
  },
  {
   "cell_type": "code",
   "execution_count": null,
   "id": "pWXDBfusPI5v",
   "metadata": {
    "colab": {
     "base_uri": "https://localhost:8080/"
    },
    "id": "pWXDBfusPI5v",
    "outputId": "9cf44cfb-a7d0-41d1-b1d3-898c75de400e"
   },
   "outputs": [],
   "source": [
    "topic_model.get_topic(0)"
   ]
  },
  {
   "cell_type": "code",
   "execution_count": null,
   "id": "W9IK-LziICsL",
   "metadata": {
    "colab": {
     "base_uri": "https://localhost:8080/",
     "height": 645
    },
    "id": "W9IK-LziICsL",
    "outputId": "76f344ac-14f1-47a9-fc10-eef060d23b5a"
   },
   "outputs": [],
   "source": [
    "topic_model.get_topic_info()"
   ]
  },
  {
   "cell_type": "code",
   "execution_count": null,
   "id": "8e76a786",
   "metadata": {},
   "outputs": [],
   "source": [
    "topic_model.transform"
   ]
  },
  {
   "cell_type": "markdown",
   "id": "6cad485a",
   "metadata": {
    "id": "6cad485a",
    "pycharm": {
     "name": "#%% md\n"
    }
   },
   "source": [
    "## Embedding"
   ]
  },
  {
   "cell_type": "code",
   "execution_count": 564,
   "id": "a0d38321",
   "metadata": {
    "id": "a0d38321",
    "pycharm": {
     "name": "#%%\n"
    }
   },
   "outputs": [],
   "source": [
    "from podium import Vocab, Field, LabelField\n",
    "from podium.datasets import TabularDataset\n",
    "from podium.vectorizers import GloVe"
   ]
  },
  {
   "cell_type": "code",
   "execution_count": 566,
   "id": "cc4e8fed",
   "metadata": {
    "id": "cc4e8fed",
    "pycharm": {
     "name": "#%%\n"
    }
   },
   "outputs": [],
   "source": [
    "tweet_embedding_train = tweet_text_train[['Tweet text', 'Label']]\n",
    "tweet_embedding_validation = tweet_text_validation[['Tweet text', 'Label']]\n",
    "tweet_embedding_test = tweet_text_test[['Tweet text', 'Label']]"
   ]
  },
  {
   "cell_type": "code",
   "execution_count": 567,
   "id": "97c7341c",
   "metadata": {
    "id": "97c7341c",
    "pycharm": {
     "name": "#%%\n"
    }
   },
   "outputs": [],
   "source": [
    "tweet_embedding_train.reset_index(drop=True, inplace=True)\n",
    "tweet_embedding_validation.reset_index(drop=True, inplace=True)\n",
    "tweet_embedding_test.reset_index(drop=True, inplace=True)"
   ]
  },
  {
   "cell_type": "code",
   "execution_count": 576,
   "id": "c409d8cc",
   "metadata": {
    "id": "c409d8cc",
    "pycharm": {
     "name": "#%%\n"
    }
   },
   "outputs": [],
   "source": [
    "max_vocab_size = 10_000\n",
    "vocab = Vocab(max_size=max_vocab_size, min_freq=20)\n",
    "\n",
    "TWEET = Field('Tweet text', numericalizer=vocab)\n",
    "LABEL = LabelField('Label')\n",
    "\n",
    "fields = [TWEET, LABEL]\n",
    "\n",
    "train = TabularDataset.from_pandas(tweet_embedding_train, fields)\n",
    "validation = TabularDataset.from_pandas(tweet_embedding_validation, fields)\n",
    "test = TabularDataset.from_pandas(tweet_embedding_test, fields)\n",
    "train.finalize_fields()\n",
    "\n",
    "glove = GloVe()\n",
    "embeddings = glove.load_vocab(vocab)\n",
    "\n",
    "train_batch = train.batch(add_padding=True)\n",
    "validation_batch = validation.batch(add_padding=True)\n",
    "test_batch = test.batch(add_padding=True)"
   ]
  },
  {
   "cell_type": "code",
   "execution_count": 584,
   "id": "e707fbc3",
   "metadata": {
    "colab": {
     "base_uri": "https://localhost:8080/"
    },
    "id": "e707fbc3",
    "outputId": "68f44c29-513e-40cf-a62d-f02ee2cb168c",
    "pycharm": {
     "name": "#%%\n"
    }
   },
   "outputs": [
    {
     "data": {
      "text/plain": [
       "array([[ 0,  0, 78,  0,  1,  1,  1,  1,  1,  1,  1,  1,  1,  1,  1,  1,\n",
       "         1,  1,  1,  1,  1,  1,  1],\n",
       "       [ 8, 86, 43,  0,  0,  0,  1,  1,  1,  1,  1,  1,  1,  1,  1,  1,\n",
       "         1,  1,  1,  1,  1,  1,  1],\n",
       "       [12, 17,  0,  0,  0, 51,  6,  1,  1,  1,  1,  1,  1,  1,  1,  1,\n",
       "         1,  1,  1,  1,  1,  1,  1],\n",
       "       [ 0,  0,  0,  6,  9,  0,  0,  0,  0,  1,  1,  1,  1,  1,  1,  1,\n",
       "         1,  1,  1,  1,  1,  1,  1],\n",
       "       [16,  0,  0,  0,  0, 99,  1,  1,  1,  1,  1,  1,  1,  1,  1,  1,\n",
       "         1,  1,  1,  1,  1,  1,  1]])"
      ]
     },
     "execution_count": 584,
     "metadata": {},
     "output_type": "execute_result"
    }
   ],
   "source": [
    "train_batch['Tweet text'].astype(int)[0:5]"
   ]
  },
  {
   "cell_type": "code",
   "execution_count": 578,
   "id": "df0d0eed",
   "metadata": {
    "id": "df0d0eed",
    "pycharm": {
     "name": "#%%\n"
    }
   },
   "outputs": [],
   "source": [
    "tweet_train = embeddings[train_batch['Tweet text'].astype(int)]\n",
    "tweet_validation = embeddings[validation_batch['Tweet text'].astype(int)]\n",
    "tweet_test = embeddings[test_batch['Tweet text'].astype(int)]\n",
    "\n",
    "# Mean\n",
    "tweet_train_mean = tweet_train.mean(axis=1)\n",
    "tweet_validation_mean = tweet_validation.mean(axis=1)\n",
    "tweet_test_mean = tweet_test.mean(axis=1)\n",
    "\n",
    "# Median\n",
    "tweet_train_median = np.median(tweet_train, axis=1)\n",
    "tweet_validation_median = np.median(tweet_validation, axis=1)\n",
    "tweet_test_median = np.median(tweet_test, axis=1)\n",
    "\n",
    "# Variance\n",
    "tweet_train_std = tweet_train.std(axis=1)\n",
    "tweet_validation_std = tweet_validation.std(axis=1)\n",
    "tweet_test_std = tweet_test.std(axis=1)"
   ]
  },
  {
   "cell_type": "code",
   "execution_count": 580,
   "id": "cf850683",
   "metadata": {
    "id": "cf850683",
    "pycharm": {
     "name": "#%%\n"
    }
   },
   "outputs": [],
   "source": [
    "embeddings_train_mean_df = pd.DataFrame(tweet_train_mean)\n",
    "tweet_embedding_train = pd.merge(tweet_embedding_train, embeddings_train_mean_df, left_index=True, right_index=True)\n",
    "\n",
    "embeddings_validation_mean_df = pd.DataFrame(tweet_validation_mean)\n",
    "tweet_embedding_validation = pd.merge(tweet_embedding_validation, embeddings_validation_mean_df, left_index=True, right_index=True)\n",
    "\n",
    "embeddings_test_mean_df = pd.DataFrame(tweet_test_mean)\n",
    "tweet_embedding_test = pd.merge(tweet_embedding_validation, embeddings_test_mean_df, left_index=True, right_index=True)"
   ]
  },
  {
   "cell_type": "code",
   "execution_count": 582,
   "id": "470341bb",
   "metadata": {
    "colab": {
     "base_uri": "https://localhost:8080/",
     "height": 554
    },
    "id": "470341bb",
    "outputId": "e580e876-4810-4056-a94c-62109a8a1e33",
    "pycharm": {
     "name": "#%%\n"
    }
   },
   "outputs": [
    {
     "data": {
      "text/html": [
       "<div>\n",
       "<style scoped>\n",
       "    .dataframe tbody tr th:only-of-type {\n",
       "        vertical-align: middle;\n",
       "    }\n",
       "\n",
       "    .dataframe tbody tr th {\n",
       "        vertical-align: top;\n",
       "    }\n",
       "\n",
       "    .dataframe thead th {\n",
       "        text-align: right;\n",
       "    }\n",
       "</style>\n",
       "<table border=\"1\" class=\"dataframe\">\n",
       "  <thead>\n",
       "    <tr style=\"text-align: right;\">\n",
       "      <th></th>\n",
       "      <th>Tweet text</th>\n",
       "      <th>Label</th>\n",
       "      <th>0_x</th>\n",
       "      <th>1_x</th>\n",
       "      <th>2_x</th>\n",
       "      <th>3_x</th>\n",
       "      <th>4_x</th>\n",
       "      <th>5_x</th>\n",
       "      <th>6_x</th>\n",
       "      <th>7_x</th>\n",
       "      <th>...</th>\n",
       "      <th>290_y</th>\n",
       "      <th>291_y</th>\n",
       "      <th>292_y</th>\n",
       "      <th>293_y</th>\n",
       "      <th>294_y</th>\n",
       "      <th>295_y</th>\n",
       "      <th>296_y</th>\n",
       "      <th>297_y</th>\n",
       "      <th>298_y</th>\n",
       "      <th>299_y</th>\n",
       "    </tr>\n",
       "  </thead>\n",
       "  <tbody>\n",
       "    <tr>\n",
       "      <th>0</th>\n",
       "      <td>sweet united nations video time christmas imag...</td>\n",
       "      <td>1</td>\n",
       "      <td>0.165704</td>\n",
       "      <td>-0.945607</td>\n",
       "      <td>2.167666</td>\n",
       "      <td>-0.249754</td>\n",
       "      <td>0.975262</td>\n",
       "      <td>-0.272225</td>\n",
       "      <td>-0.363571</td>\n",
       "      <td>0.249220</td>\n",
       "      <td>...</td>\n",
       "      <td>-0.089896</td>\n",
       "      <td>0.484842</td>\n",
       "      <td>0.197397</td>\n",
       "      <td>-0.705230</td>\n",
       "      <td>0.412184</td>\n",
       "      <td>-0.025224</td>\n",
       "      <td>-0.340979</td>\n",
       "      <td>-1.143486</td>\n",
       "      <td>-0.243777</td>\n",
       "      <td>0.284303</td>\n",
       "    </tr>\n",
       "    <tr>\n",
       "      <th>1</th>\n",
       "      <td>great mobile bill arrive text</td>\n",
       "      <td>1</td>\n",
       "      <td>0.211346</td>\n",
       "      <td>-0.985573</td>\n",
       "      <td>2.263277</td>\n",
       "      <td>-0.251805</td>\n",
       "      <td>0.990235</td>\n",
       "      <td>-0.301721</td>\n",
       "      <td>-0.405034</td>\n",
       "      <td>0.306234</td>\n",
       "      <td>...</td>\n",
       "      <td>-0.093031</td>\n",
       "      <td>0.589302</td>\n",
       "      <td>0.183024</td>\n",
       "      <td>-0.749315</td>\n",
       "      <td>0.438833</td>\n",
       "      <td>-0.033189</td>\n",
       "      <td>-0.398900</td>\n",
       "      <td>-1.275403</td>\n",
       "      <td>-0.222073</td>\n",
       "      <td>0.298935</td>\n",
       "    </tr>\n",
       "    <tr>\n",
       "      <th>2</th>\n",
       "      <td>trading sp defense ss brilliant trade</td>\n",
       "      <td>1</td>\n",
       "      <td>0.177576</td>\n",
       "      <td>-0.970943</td>\n",
       "      <td>2.237702</td>\n",
       "      <td>-0.259217</td>\n",
       "      <td>1.009163</td>\n",
       "      <td>-0.292165</td>\n",
       "      <td>-0.374002</td>\n",
       "      <td>0.256157</td>\n",
       "      <td>...</td>\n",
       "      <td>-0.149455</td>\n",
       "      <td>0.539555</td>\n",
       "      <td>0.875055</td>\n",
       "      <td>-1.434898</td>\n",
       "      <td>0.661025</td>\n",
       "      <td>0.382209</td>\n",
       "      <td>-0.776563</td>\n",
       "      <td>-1.262931</td>\n",
       "      <td>-0.864805</td>\n",
       "      <td>1.012460</td>\n",
       "    </tr>\n",
       "    <tr>\n",
       "      <th>3</th>\n",
       "      <td>need second hand embarrassment desperatly phone</td>\n",
       "      <td>1</td>\n",
       "      <td>0.185102</td>\n",
       "      <td>-0.969764</td>\n",
       "      <td>2.227472</td>\n",
       "      <td>-0.253196</td>\n",
       "      <td>0.990886</td>\n",
       "      <td>-0.292344</td>\n",
       "      <td>-0.384282</td>\n",
       "      <td>0.276332</td>\n",
       "      <td>...</td>\n",
       "      <td>-0.111887</td>\n",
       "      <td>0.609890</td>\n",
       "      <td>0.470417</td>\n",
       "      <td>-1.050991</td>\n",
       "      <td>0.536555</td>\n",
       "      <td>0.153649</td>\n",
       "      <td>-0.560905</td>\n",
       "      <td>-1.326528</td>\n",
       "      <td>-0.489911</td>\n",
       "      <td>0.577798</td>\n",
       "    </tr>\n",
       "    <tr>\n",
       "      <th>4</th>\n",
       "      <td>time hit book</td>\n",
       "      <td>1</td>\n",
       "      <td>0.240504</td>\n",
       "      <td>-1.007681</td>\n",
       "      <td>2.324352</td>\n",
       "      <td>-0.239832</td>\n",
       "      <td>0.972472</td>\n",
       "      <td>-0.329254</td>\n",
       "      <td>-0.447370</td>\n",
       "      <td>0.359476</td>\n",
       "      <td>...</td>\n",
       "      <td>-0.103280</td>\n",
       "      <td>0.578273</td>\n",
       "      <td>-0.374470</td>\n",
       "      <td>-0.213096</td>\n",
       "      <td>0.274030</td>\n",
       "      <td>-0.263653</td>\n",
       "      <td>-0.052040</td>\n",
       "      <td>-1.195988</td>\n",
       "      <td>0.214041</td>\n",
       "      <td>-0.259379</td>\n",
       "    </tr>\n",
       "  </tbody>\n",
       "</table>\n",
       "<p>5 rows × 602 columns</p>\n",
       "</div>"
      ],
      "text/plain": [
       "                                          Tweet text  Label       0_x  \\\n",
       "0  sweet united nations video time christmas imag...      1  0.165704   \n",
       "1                      great mobile bill arrive text      1  0.211346   \n",
       "2              trading sp defense ss brilliant trade      1  0.177576   \n",
       "3    need second hand embarrassment desperatly phone      1  0.185102   \n",
       "4                                      time hit book      1  0.240504   \n",
       "\n",
       "        1_x       2_x       3_x       4_x       5_x       6_x       7_x  ...  \\\n",
       "0 -0.945607  2.167666 -0.249754  0.975262 -0.272225 -0.363571  0.249220  ...   \n",
       "1 -0.985573  2.263277 -0.251805  0.990235 -0.301721 -0.405034  0.306234  ...   \n",
       "2 -0.970943  2.237702 -0.259217  1.009163 -0.292165 -0.374002  0.256157  ...   \n",
       "3 -0.969764  2.227472 -0.253196  0.990886 -0.292344 -0.384282  0.276332  ...   \n",
       "4 -1.007681  2.324352 -0.239832  0.972472 -0.329254 -0.447370  0.359476  ...   \n",
       "\n",
       "      290_y     291_y     292_y     293_y     294_y     295_y     296_y  \\\n",
       "0 -0.089896  0.484842  0.197397 -0.705230  0.412184 -0.025224 -0.340979   \n",
       "1 -0.093031  0.589302  0.183024 -0.749315  0.438833 -0.033189 -0.398900   \n",
       "2 -0.149455  0.539555  0.875055 -1.434898  0.661025  0.382209 -0.776563   \n",
       "3 -0.111887  0.609890  0.470417 -1.050991  0.536555  0.153649 -0.560905   \n",
       "4 -0.103280  0.578273 -0.374470 -0.213096  0.274030 -0.263653 -0.052040   \n",
       "\n",
       "      297_y     298_y     299_y  \n",
       "0 -1.143486 -0.243777  0.284303  \n",
       "1 -1.275403 -0.222073  0.298935  \n",
       "2 -1.262931 -0.864805  1.012460  \n",
       "3 -1.326528 -0.489911  0.577798  \n",
       "4 -1.195988  0.214041 -0.259379  \n",
       "\n",
       "[5 rows x 602 columns]"
      ]
     },
     "execution_count": 582,
     "metadata": {},
     "output_type": "execute_result"
    }
   ],
   "source": [
    "tweet_embedding_test.head()"
   ]
  },
  {
   "cell_type": "code",
   "execution_count": null,
   "id": "a8c44fb1",
   "metadata": {
    "id": "a8c44fb1",
    "pycharm": {
     "name": "#%%\n"
    }
   },
   "outputs": [],
   "source": [
    "## Features\n",
    "## Broj neg rijeci\n",
    "## Broj poz rijeci\n",
    "## Omjer\n",
    "## Udaljenost izmedu poz i neg rijeci"
   ]
  },
  {
   "cell_type": "markdown",
   "id": "d9cb9631",
   "metadata": {
    "id": "d9cb9631",
    "pycharm": {
     "name": "#%% md\n"
    }
   },
   "source": [
    "Potrebno dodatno preprocesat da samo rjeci ostanu"
   ]
  },
  {
   "cell_type": "code",
   "execution_count": null,
   "id": "1208a12f",
   "metadata": {
    "colab": {
     "base_uri": "https://localhost:8080/"
    },
    "id": "1208a12f",
    "outputId": "aa68c64c-f083-4235-df46-4027f5ef3168"
   },
   "outputs": [],
   "source": [
    "import nltk\n",
    "nltk.download('vader_lexicon') # if error run this"
   ]
  },
  {
   "cell_type": "code",
   "execution_count": null,
   "id": "af3801bc",
   "metadata": {
    "id": "af3801bc",
    "pycharm": {
     "name": "#%%\n"
    }
   },
   "outputs": [],
   "source": [
    "from nltk.sentiment import SentimentIntensityAnalyzer\n",
    "import copy\n",
    "\n",
    "def pos_neg_words(df, limit):\n",
    "    sid = SentimentIntensityAnalyzer()\n",
    "\n",
    "    neg_words = []\n",
    "    neg_word_count = []\n",
    "    pos_words = []\n",
    "    pos_word_count = []\n",
    "    for index, row in df.iterrows():\n",
    "        lemmas = []\n",
    "        if len(row['clean_text']) > 0:\n",
    "            doc = nlp(row['clean_text'])\n",
    "            for token in doc:\n",
    "                lemmas.append(token.lemma_)\n",
    "\n",
    "            current_pos = []\n",
    "            current_neut = []\n",
    "            current_neg = []\n",
    "            for word in lemmas:\n",
    "                if (sid.polarity_scores(word)['compound']) >= limit:\n",
    "                    current_pos.append(word)\n",
    "                elif (sid.polarity_scores(word)['compound']) <= -limit:\n",
    "                    current_neg.append(word)\n",
    "                else:\n",
    "                    current_neut.append(word)\n",
    "\n",
    "            neg_words.append(copy.copy(current_neg))\n",
    "            neg_word_count.append(copy.copy(len(current_neg)))\n",
    "            pos_words.append(copy.copy(current_pos))\n",
    "            pos_word_count.append(copy.copy(len(current_pos)))\n",
    "        else:\n",
    "            neg_words.append([])\n",
    "            neg_word_count.append(0)\n",
    "            pos_words.append([])\n",
    "            pos_word_count.append(0)\n",
    "    return neg_words, neg_word_count, pos_words, pos_word_count"
   ]
  },
  {
   "cell_type": "code",
   "execution_count": null,
   "id": "ca3cbc8a",
   "metadata": {
    "colab": {
     "base_uri": "https://localhost:8080/",
     "height": 424
    },
    "id": "ca3cbc8a",
    "outputId": "94d87f4c-9877-4f67-db5f-b2efebb09927",
    "pycharm": {
     "name": "#%%\n"
    }
   },
   "outputs": [],
   "source": [
    "df_train"
   ]
  },
  {
   "cell_type": "code",
   "execution_count": null,
   "id": "1447d136",
   "metadata": {
    "id": "1447d136",
    "pycharm": {
     "name": "#%%\n"
    }
   },
   "outputs": [],
   "source": [
    "neg_words_train, neg_word_count_train, pos_words_train, pos_word_count_train = pos_neg_words(df_train, 0.2)\n",
    "neg_words_val, neg_word_count_val, pos_words_val, pos_word_count_val = pos_neg_words(df_validation, 0.2)"
   ]
  },
  {
   "cell_type": "code",
   "execution_count": null,
   "id": "5c4c71a3",
   "metadata": {
    "colab": {
     "base_uri": "https://localhost:8080/",
     "height": 693
    },
    "id": "5c4c71a3",
    "outputId": "1738c41e-41dc-4738-b858-0d45ce47976b",
    "pycharm": {
     "name": "#%%\n"
    }
   },
   "outputs": [],
   "source": [
    "df_train['neg_word_count'] = neg_word_count_train\n",
    "df_train['neg_word'] = neg_words_train\n",
    "df_train['pos_word_count'] = pos_word_count_train\n",
    "df_train['pos_word'] = pos_words_train\n",
    "df_train"
   ]
  },
  {
   "cell_type": "code",
   "execution_count": null,
   "id": "d5ba809d",
   "metadata": {
    "id": "d5ba809d",
    "pycharm": {
     "name": "#%%\n"
    }
   },
   "outputs": [],
   "source": [
    "df_validation['neg_word_count'] = neg_word_count_val\n",
    "df_validation['neg_word'] = neg_words_val\n",
    "df_validation['pos_word_count'] = pos_word_count_val\n",
    "df_validation['pos_word'] = pos_words_val"
   ]
  },
  {
   "cell_type": "code",
   "execution_count": null,
   "id": "f49072c8",
   "metadata": {
    "colab": {
     "base_uri": "https://localhost:8080/"
    },
    "id": "f49072c8",
    "outputId": "0f34e424-9c9a-4c8c-ac9d-379d9f001dec",
    "pycharm": {
     "name": "#%%\n"
    }
   },
   "outputs": [],
   "source": [
    "from sklearn.linear_model import LogisticRegression\n",
    "X_ = df_train[['neg_word_count', 'pos_word_count']]\n",
    "y_ = df_train['Label']\n",
    "clf = LogisticRegression(random_state=0).fit(X_, y_)\n",
    "print('Train score')\n",
    "print(clf.score(X_, y_))\n",
    "print('Validation score')\n",
    "X_val = df_validation[['neg_word_count', 'pos_word_count']]\n",
    "y_val = df_validation['Label']\n",
    "print(clf.score(X_val, y_val))"
   ]
  },
  {
   "cell_type": "code",
   "execution_count": null,
   "id": "a9f4718f",
   "metadata": {
    "colab": {
     "base_uri": "https://localhost:8080/"
    },
    "id": "a9f4718f",
    "outputId": "f53f55da-c8b7-426a-ef27-c85cc0f0b1b4",
    "pycharm": {
     "name": "#%%\n"
    }
   },
   "outputs": [],
   "source": [
    "## Pos and neg words within 4 words\n",
    "df_train[['clean_text', 'pos_word', 'pos_word_count', 'neg_word', 'neg_word_count']].iloc[25]"
   ]
  },
  {
   "cell_type": "code",
   "execution_count": null,
   "id": "fadf4766",
   "metadata": {
    "id": "fadf4766",
    "pycharm": {
     "name": "#%%\n"
    }
   },
   "outputs": [],
   "source": [
    "def pos_neg_within_n(df, n=4):\n",
    "\n",
    "    ret_array = []\n",
    "\n",
    "    for index, row in df.iterrows():\n",
    "        if row['pos_word_count'] > 0 and row['neg_word_count'] > 0:\n",
    "            doc = nlp(row['clean_text'])\n",
    "            lemmas = []\n",
    "            for token in doc:\n",
    "                lemmas.append(token.lemma_)\n",
    "\n",
    "            pos_indexes = np.array([])\n",
    "            for word in row['pos_word']:\n",
    "                pos_indexes = np.append(pos_indexes, np.where(np.array(lemmas) == word))\n",
    "            neg_indexes = np.array([])\n",
    "            for word in row['neg_word']:\n",
    "                neg_indexes = np.append(neg_indexes, np.where(np.array(lemmas) == word))\n",
    "\n",
    "            bool_val = 0\n",
    "            for idx in pos_indexes:\n",
    "                if (abs(neg_indexes-idx) < n).any():\n",
    "                    bool_val = 1\n",
    "            ret_array.append(copy.copy(bool_val))\n",
    "        else:\n",
    "            ret_array.append(0)\n",
    "    return ret_array"
   ]
  },
  {
   "cell_type": "code",
   "execution_count": null,
   "id": "a9367e01",
   "metadata": {
    "id": "a9367e01",
    "pycharm": {
     "name": "#%%\n"
    }
   },
   "outputs": [],
   "source": [
    "within_5_train = pos_neg_within_n(df_train, n=5)\n",
    "within_5_val = pos_neg_within_n(df_validation, n=5)"
   ]
  },
  {
   "cell_type": "code",
   "execution_count": null,
   "id": "071f78a5",
   "metadata": {
    "colab": {
     "base_uri": "https://localhost:8080/",
     "height": 902
    },
    "id": "071f78a5",
    "outputId": "3ba0ff1a-9b49-4143-e83c-c112a67c5c5c",
    "pycharm": {
     "name": "#%%\n"
    }
   },
   "outputs": [],
   "source": [
    "df_train['pos_neg_within_5'] = within_5_train\n",
    "df_validation['pos_neg_within_5'] = within_5_val\n",
    "df_train"
   ]
  },
  {
   "cell_type": "code",
   "execution_count": null,
   "id": "6a917861",
   "metadata": {
    "colab": {
     "base_uri": "https://localhost:8080/"
    },
    "id": "6a917861",
    "outputId": "38f3877f-6bef-45bf-cb9d-c1ec2f433743",
    "pycharm": {
     "name": "#%%\n"
    }
   },
   "outputs": [],
   "source": [
    "X_ = df_train[[ 'pos_neg_within_5']]\n",
    "y_ = df_train['Label']\n",
    "clf = LogisticRegression().fit(X_, y_)\n",
    "print('Train score')\n",
    "print(clf.score(X_, y_))\n",
    "print('Validation score')\n",
    "X_val = df_validation[[ 'pos_neg_within_5']]\n",
    "y_val = df_validation['Label']\n",
    "print(clf.score(X_val, y_val))"
   ]
  },
  {
   "cell_type": "code",
   "execution_count": null,
   "id": "5e2617de",
   "metadata": {
    "id": "5e2617de",
    "pycharm": {
     "name": "#%%\n"
    }
   },
   "outputs": [],
   "source": [
    "within_5_val"
   ]
  },
  {
   "cell_type": "markdown",
   "id": "HJvVNgSQGXBE",
   "metadata": {
    "id": "HJvVNgSQGXBE"
   },
   "source": [
    "### Grid search\n",
    "\n",
    "1. treba koristit tweet_text_train, tweet_text_validation i tweet_text_test s kombiniranim znacajkama iz df_train, df_validation, df_test, a ne da samo koristi embeddinge - ako ne radi bolje tako onda cemo odjebat embeddinge\n",
    "2. grid mora koristit minimalno feature selekciju, skaliranje i model (za dtc ne treba skalirat, lr moze i polynomial transform)\n",
    "3. pazi na data leakove, nemres fitat search i onda evaluirat na njemu test, treba natrenirat novi model s tim najboljim hiperparametrima na trainu i onda predictat na testu\n",
    "4. povecat broj parametara, ovo je jako slabo, grid se vrti po 30ak sekundi"
   ]
  },
  {
   "cell_type": "code",
   "execution_count": 607,
   "id": "393bd15d",
   "metadata": {},
   "outputs": [],
   "source": [
    "X_ = df_train.drop(columns=['Tweet index', 'Label', 'Tweet text', 'clean_text'], axis=1)\n",
    "y_ = df_train['Label']\n",
    "\n",
    "X_val = df_validation.drop(['Tweet index', 'Label', 'Tweet text', 'clean_text'], axis=1)\n",
    "y_val = df_validation['Label']\n",
    "\n",
    "X_test = df_test.drop(['Tweet index', 'Label', 'Tweet text'], axis=1)\n",
    "y_test = df_test['Label']"
   ]
  },
  {
   "cell_type": "code",
   "execution_count": 618,
   "id": "y7QInQCTGXF9",
   "metadata": {
    "colab": {
     "base_uri": "https://localhost:8080/"
    },
    "id": "y7QInQCTGXF9",
    "outputId": "09832e27-4753-481a-c53a-9ff38ae7507b"
   },
   "outputs": [
    {
     "name": "stdout",
     "output_type": "stream",
     "text": [
      "Best score: 0.6051566383142568\n",
      "Best score: {'lr__C': 0.08858667904100823, 'lr__penalty': 'l2', 'lr__solver': 'newton-cg', 'selection__k': 8}\n"
     ]
    }
   ],
   "source": [
    "from sklearn.model_selection import GridSearchCV\n",
    "from sklearn.pipeline import Pipeline\n",
    "from sklearn.feature_selection import SelectKBest\n",
    "from sklearn.preprocessing import StandardScaler, MinMaxScaler\n",
    "from sklearn.metrics import classification_report\n",
    "\n",
    "pipeline_lr = Pipeline([\n",
    "    ('selection', SelectKBest()), \n",
    "    ('scaler', StandardScaler()),\n",
    "    ('lr', LogisticRegression())\n",
    "])\n",
    "\n",
    "params = {\n",
    "    'selection__k': list(range(2, 20, 3)),\n",
    "    'lr__penalty': ['l1', 'l2', 'elasticnet'], \n",
    "    'lr__C': np.logspace(-4, 4, 20), \n",
    "    'lr__solver': ['newton-cg', 'lbfgs', 'liblinear', 'sag', 'saga'], \n",
    "}\n",
    "\n",
    "\n",
    "search = GridSearchCV(pipeline_lr, param_grid=params, cv=5)\n",
    "search.fit(X_, y_)\n",
    "\n",
    "print(f'Best score: {search.best_score_}')\n",
    "print(f'Best score: {search.best_params_}')"
   ]
  },
  {
   "cell_type": "code",
   "execution_count": 617,
   "id": "9c94000e",
   "metadata": {},
   "outputs": [
    {
     "name": "stdout",
     "output_type": "stream",
     "text": [
      "              precision    recall  f1-score   support\n",
      "\n",
      "           0       0.51      0.64      0.57      1073\n",
      "           1       0.71      0.58      0.64      1599\n",
      "\n",
      "    accuracy                           0.60      2672\n",
      "   macro avg       0.61      0.61      0.60      2672\n",
      "weighted avg       0.63      0.60      0.61      2672\n",
      "\n",
      "              precision    recall  f1-score   support\n",
      "\n",
      "           0       0.53      0.63      0.58       467\n",
      "           1       0.71      0.62      0.66       678\n",
      "\n",
      "    accuracy                           0.62      1145\n",
      "   macro avg       0.62      0.63      0.62      1145\n",
      "weighted avg       0.64      0.62      0.63      1145\n",
      "\n"
     ]
    }
   ],
   "source": [
    "pipeline_lr_best = Pipeline([\n",
    "    ('selection', SelectKBest(k=8)), \n",
    "    ('scaler', StandardScaler()),\n",
    "    ('lr', LogisticRegression(C=0.0885, penalty='l2', solver='newton-cg'))\n",
    "])\n",
    "\n",
    "pipeline_lr_best.fit(X_, y_)\n",
    "y_train_pred = pipeline_lr_best.predict(X_)\n",
    "print(classification_report(y_train_pred, y_))\n",
    "\n",
    "y_validation_pred = pipeline_lr_best.predict(X_val)\n",
    "print(classification_report(y_validation_pred, y_val))"
   ]
  },
  {
   "cell_type": "code",
   "execution_count": null,
   "id": "w7iw-WmyGXKC",
   "metadata": {
    "colab": {
     "base_uri": "https://localhost:8080/"
    },
    "id": "w7iw-WmyGXKC",
    "outputId": "89cd15f7-2fa4-4922-ce48-c55af7211d87"
   },
   "outputs": [],
   "source": [
    "from sklearn.tree import DecisionTreeClassifier\n",
    "\n",
    "params = {'max_features': ['auto', 'sqrt', 'log2'],\n",
    "              'ccp_alpha': [0.1, .01, .001],\n",
    "              'max_depth' : [5, 6, 7, 8, 9],\n",
    "              'criterion' : ['gini', 'entropy', 'log_loss']\n",
    "             }\n",
    "\n",
    "\n",
    "X_ = df_train.drop(['Tweet index', 'Label', 'Tweet text', 'clean_text', 'pos_word', 'neg_word'], axis=1)\n",
    "y_ = df_train['Label']\n",
    "clf = DecisionTreeClassifier()\n",
    "\n",
    "model = GridSearchCV(clf, param_grid=params, cv=5)\n",
    "\n",
    "model.fit(X_, y_)\n",
    "\n",
    "print('Train score')\n",
    "print(model.score(X_, y_))\n",
    "print('Validation score')\n",
    "X_val = df_validation.drop(['Tweet index', 'Label', 'Tweet text', 'clean_text', 'pos_word', 'neg_word'], axis=1)\n",
    "y_val = df_validation['Label']\n",
    "print(model.score(X_val, y_val))"
   ]
  }
 ],
 "metadata": {
  "colab": {
   "collapsed_sections": [],
   "name": "preprocessing.ipynb",
   "provenance": []
  },
  "kernelspec": {
   "display_name": "Python 3 (ipykernel)",
   "language": "python",
   "name": "python3"
  },
  "language_info": {
   "codemirror_mode": {
    "name": "ipython",
    "version": 3
   },
   "file_extension": ".py",
   "mimetype": "text/x-python",
   "name": "python",
   "nbconvert_exporter": "python",
   "pygments_lexer": "ipython3",
   "version": "3.9.12"
  }
 },
 "nbformat": 4,
 "nbformat_minor": 5
}
