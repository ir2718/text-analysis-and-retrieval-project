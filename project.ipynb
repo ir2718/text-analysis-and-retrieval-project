{
 "cells": [
  {
   "cell_type": "code",
   "execution_count": 239,
   "id": "10rFQ6qgEfwG",
   "metadata": {
    "colab": {
     "base_uri": "https://localhost:8080/"
    },
    "id": "10rFQ6qgEfwG",
    "outputId": "f1eb8986-5c3b-4ae1-8c9a-767bffd653ec",
    "scrolled": true
   },
   "outputs": [],
   "source": [
    "# pip install --upgrade spacy"
   ]
  },
  {
   "cell_type": "code",
   "execution_count": 240,
   "id": "JxgMNAW8EjHe",
   "metadata": {
    "colab": {
     "base_uri": "https://localhost:8080/"
    },
    "id": "JxgMNAW8EjHe",
    "outputId": "996ef455-5621-4268-8359-7e2101546f00"
   },
   "outputs": [],
   "source": [
    "# !python -m spacy download en_core_web_md"
   ]
  },
  {
   "cell_type": "code",
   "execution_count": 241,
   "id": "emet_2xgEjLL",
   "metadata": {
    "colab": {
     "base_uri": "https://localhost:8080/"
    },
    "id": "emet_2xgEjLL",
    "outputId": "88cc1f0e-389f-48c4-d2ba-6eaccc5580b7"
   },
   "outputs": [],
   "source": [
    "# pip install podium-nlp"
   ]
  },
  {
   "cell_type": "code",
   "execution_count": 242,
   "id": "1a8d4e50",
   "metadata": {},
   "outputs": [],
   "source": [
    "# pip install hdbscan"
   ]
  },
  {
   "cell_type": "code",
   "execution_count": 243,
   "id": "VDPtYtvQElF0",
   "metadata": {
    "colab": {
     "base_uri": "https://localhost:8080/"
    },
    "id": "VDPtYtvQElF0",
    "outputId": "ee94560a-7cb6-440a-a027-cac624e26a64"
   },
   "outputs": [],
   "source": [
    "# pip install bertopic"
   ]
  },
  {
   "cell_type": "code",
   "execution_count": 244,
   "id": "PCRcR-b_ExaN",
   "metadata": {
    "colab": {
     "base_uri": "https://localhost:8080/"
    },
    "id": "PCRcR-b_ExaN",
    "outputId": "7d142e0b-73c2-4433-dd65-1dbbdf71d0c5"
   },
   "outputs": [],
   "source": [
    "# pip install emoji"
   ]
  },
  {
   "cell_type": "code",
   "execution_count": 245,
   "id": "37c2bc9a",
   "metadata": {},
   "outputs": [],
   "source": [
    "# pip install wordsegment"
   ]
  },
  {
   "cell_type": "code",
   "execution_count": 246,
   "id": "463d0df3",
   "metadata": {},
   "outputs": [],
   "source": [
    "# pip install ekphrasis -U"
   ]
  },
  {
   "cell_type": "code",
   "execution_count": 251,
   "id": "d7b9ddaf",
   "metadata": {},
   "outputs": [
    {
     "name": "stdout",
     "output_type": "stream",
     "text": [
      "Collecting k-means-constrained"
     ]
    },
    {
     "name": "stderr",
     "output_type": "stream",
     "text": [
      "WARNING: Ignoring invalid distribution -rotobuf (c:\\users\\marino pc\\desktop\\apt\\lib\\site-packages)\n",
      "WARNING: Ignoring invalid distribution -rotobuf (c:\\users\\marino pc\\desktop\\apt\\lib\\site-packages)\n",
      "WARNING: Ignoring invalid distribution -rotobuf (c:\\users\\marino pc\\desktop\\apt\\lib\\site-packages)\n",
      "WARNING: Ignoring invalid distribution -rotobuf (c:\\users\\marino pc\\desktop\\apt\\lib\\site-packages)\n",
      "WARNING: Ignoring invalid distribution -rotobuf (c:\\users\\marino pc\\desktop\\apt\\lib\\site-packages)\n",
      "WARNING: Ignoring invalid distribution -rotobuf (c:\\users\\marino pc\\desktop\\apt\\lib\\site-packages)\n",
      "WARNING: Ignoring invalid distribution -rotobuf (c:\\users\\marino pc\\desktop\\apt\\lib\\site-packages)\n",
      "WARNING: Ignoring invalid distribution -rotobuf (c:\\users\\marino pc\\desktop\\apt\\lib\\site-packages)\n",
      "WARNING: Ignoring invalid distribution -rotobuf (c:\\users\\marino pc\\desktop\\apt\\lib\\site-packages)\n",
      "WARNING: You are using pip version 22.0.4; however, version 22.1.2 is available.\n",
      "You should consider upgrading via the 'c:\\users\\marino pc\\desktop\\apt\\scripts\\python.exe -m pip install --upgrade pip' command.\n"
     ]
    },
    {
     "name": "stdout",
     "output_type": "stream",
     "text": [
      "\n",
      "  Using cached k_means_constrained-0.7.1-cp39-cp39-win_amd64.whl (357 kB)\n",
      "Requirement already satisfied: joblib in c:\\users\\marino pc\\desktop\\apt\\lib\\site-packages (from k-means-constrained) (1.1.0)\n",
      "Requirement already satisfied: scipy>=1.6.3 in c:\\users\\marino pc\\desktop\\apt\\lib\\site-packages (from k-means-constrained) (1.8.0)\n",
      "Collecting ortools>=9.0.9048\n",
      "  Using cached ortools-9.3.10497-cp39-cp39-win_amd64.whl (40.5 MB)\n",
      "Requirement already satisfied: six in c:\\users\\marino pc\\desktop\\apt\\lib\\site-packages (from k-means-constrained) (1.16.0)\n",
      "Requirement already satisfied: numpy>=1.22.0 in c:\\users\\marino pc\\desktop\\apt\\lib\\site-packages (from k-means-constrained) (1.22.4)\n",
      "Collecting absl-py>=0.13\n",
      "  Using cached absl_py-1.1.0-py3-none-any.whl (123 kB)\n",
      "Requirement already satisfied: protobuf>=3.19.4 in c:\\users\\marino pc\\desktop\\apt\\lib\\site-packages (from ortools>=9.0.9048->k-means-constrained) (4.21.1)\n",
      "Installing collected packages: absl-py, ortools, k-means-constrained\n",
      "Successfully installed absl-py-1.1.0 k-means-constrained-0.7.1 ortools-9.3.10497\n"
     ]
    }
   ],
   "source": [
    "# !pip install k-means-constrained"
   ]
  },
  {
   "cell_type": "code",
   "execution_count": 2,
   "id": "77de93e4",
   "metadata": {
    "id": "77de93e4"
   },
   "outputs": [],
   "source": [
    "from tqdm import tqdm\n",
    "from gensim.utils import simple_preprocess\n",
    "from sklearn.feature_extraction.text import CountVectorizer, TfidfVectorizer\n",
    "from sklearn.model_selection import GridSearchCV\n",
    "from sklearn.pipeline import Pipeline\n",
    "from sklearn.feature_selection import SelectKBest\n",
    "from sklearn.preprocessing import StandardScaler, MinMaxScaler, PolynomialFeatures\n",
    "from sklearn.metrics import classification_report\n",
    "from sklearn.cluster import KMeans\n",
    "from sklearn.tree import DecisionTreeClassifier\n",
    "from sklearn.linear_model import LogisticRegression\n",
    "from bertopic import BERTopic\n",
    "from podium import Vocab, Field, LabelField\n",
    "from podium.datasets import TabularDataset\n",
    "from podium.vectorizers import GloVe\n",
    "from nltk.sentiment import SentimentIntensityAnalyzer\n",
    "from copy import deepcopy\n",
    "from nltk.tokenize.casual import TweetTokenizer\n",
    "from time import time\n",
    "from ekphrasis.classes.tokenizer import SocialTokenizer\n",
    "from ekphrasis.dicts.emoticons import emoticons\n",
    "from ekphrasis.classes.segmenter import Segmenter\n",
    "#from k_means_constrained import KMeansConstrained\n",
    "from gensim.models import CoherenceModel\n",
    "\n",
    "import contextualSpellCheck\n",
    "import nltk\n",
    "import matplotlib.pyplot as plt\n",
    "import pandas as pd\n",
    "import numpy as np\n",
    "import spacy\n",
    "import re\n",
    "import emoji\n",
    "import warnings\n",
    "warnings.filterwarnings(\"ignore\")"
   ]
  },
  {
   "cell_type": "code",
   "execution_count": 249,
   "id": "EnG-1KsiOp7d",
   "metadata": {
    "colab": {
     "base_uri": "https://localhost:8080/"
    },
    "id": "EnG-1KsiOp7d",
    "outputId": "9668126a-955e-45f9-8a47-810b3809b270"
   },
   "outputs": [],
   "source": [
    "# from google.colab import drive\n",
    "# drive.mount('/content/drive')"
   ]
  },
  {
   "cell_type": "code",
   "execution_count": 250,
   "id": "NgNYHv8MPOgK",
   "metadata": {
    "colab": {
     "base_uri": "https://localhost:8080/"
    },
    "id": "NgNYHv8MPOgK",
    "outputId": "8b773729-8c76-4b84-82d4-238cf443f712"
   },
   "outputs": [],
   "source": [
    "# %cd drive/MyDrive/datasets/"
   ]
  },
  {
   "cell_type": "markdown",
   "id": "a5dfb886",
   "metadata": {
    "pycharm": {
     "name": "#%% md\n"
    }
   },
   "source": [
    "# Preprocessing"
   ]
  },
  {
   "cell_type": "code",
   "execution_count": 3,
   "id": "548a72b0",
   "metadata": {},
   "outputs": [],
   "source": [
    "nlp = spacy.load(\"en_core_web_md\")"
   ]
  },
  {
   "cell_type": "code",
   "execution_count": 4,
   "id": "08931560",
   "metadata": {
    "id": "08931560"
   },
   "outputs": [],
   "source": [
    "df = pd.read_csv(\"train/SemEval2018-T3-train-taskA_emoji.txt\", sep='\\t', lineterminator='\\n', encoding='utf-8')\n",
    "df_test = pd.read_csv(\"goldtest_TaskA/SemEval2018-T3_gold_test_taskA_emoji.txt\", sep='\\t', lineterminator='\\n', encoding='utf-8')\n",
    "df_replace = pd.read_csv(\"test_TaskA/SemEval2018-T3_input_test_taskA.txt\", sep='\\t', lineterminator='\\n', encoding='utf-8')"
   ]
  },
  {
   "cell_type": "code",
   "execution_count": 5,
   "id": "8cd6bf9c",
   "metadata": {
    "pycharm": {
     "name": "#%%\n"
    }
   },
   "outputs": [],
   "source": [
    "df.rename({'Tweet text\\r': 'Tweet text'}, inplace=True, axis=1)\n",
    "df_test.rename({'Tweet text\\r': 'Tweet text'}, inplace=True, axis=1)\n",
    "df_replace.rename({'Tweet text\\r': 'Tweet text'}, inplace=True, axis=1)"
   ]
  },
  {
   "cell_type": "markdown",
   "id": "4ec0a023",
   "metadata": {
    "pycharm": {
     "name": "#%% md\n"
    }
   },
   "source": [
    "## Getting clean text"
   ]
  },
  {
   "cell_type": "code",
   "execution_count": 6,
   "id": "64b38f36",
   "metadata": {},
   "outputs": [],
   "source": [
    "tokenizer = TweetTokenizer(preserve_case=True, reduce_len=True, strip_handles=True)\n",
    "df_tmp = df['Tweet text'].apply(tokenizer.tokenize)\n",
    "df_test_tmp = df_test['Tweet text'].apply(tokenizer.tokenize)"
   ]
  },
  {
   "cell_type": "code",
   "execution_count": 7,
   "id": "f935fa30",
   "metadata": {},
   "outputs": [],
   "source": [
    "def emoji_counter(s):\n",
    "    return len(emoji.emoji_lis(s))\n",
    "\n",
    "df['emoji_count'] = df['Tweet text'].apply(emoji_counter)\n",
    "df_test['emoji_count'] = df_test['Tweet text'].apply(emoji_counter)"
   ]
  },
  {
   "cell_type": "code",
   "execution_count": 8,
   "id": "94a03a7d",
   "metadata": {},
   "outputs": [
    {
     "name": "stdout",
     "output_type": "stream",
     "text": [
      "Reading twitter - 1grams ...\n",
      "Reading twitter - 2grams ...\n"
     ]
    }
   ],
   "source": [
    "# seg_eng = Segmenter(corpus=\"english\") \n",
    "seg_tw = Segmenter(corpus=\"twitter\")"
   ]
  },
  {
   "cell_type": "code",
   "execution_count": 9,
   "id": "702478ae",
   "metadata": {},
   "outputs": [],
   "source": [
    "def separate_hashtags(s):\n",
    "    '''Removes the hashtag sign and segments the hashtag text.'''\n",
    "    hashtags = []\n",
    "    \n",
    "    l = []\n",
    "    for i, s_i in enumerate(s):\n",
    "        if s_i.startswith('#'):\n",
    "            tmp = tokenizer.tokenize(seg_tw.segment(s_i.replace('#', '')))\n",
    "            l.extend(tmp)\n",
    "        else:\n",
    "            l.append(s_i)\n",
    "    return l\n",
    "            \n",
    "df_tmp = df_tmp.apply(separate_hashtags)\n",
    "df_test_tmp = df_test_tmp.apply(separate_hashtags)"
   ]
  },
  {
   "cell_type": "code",
   "execution_count": 10,
   "id": "e5badc5e",
   "metadata": {
    "id": "e5badc5e",
    "scrolled": true
   },
   "outputs": [],
   "source": [
    "def preprocess_words(s):\n",
    "    '''\n",
    "    Removes tags, emojis, links, smiley faces, | signs, stopwords and changes the case to lower.\n",
    "    '''\n",
    "    ret_list = []\n",
    "\n",
    "    smiley_regex = r'([\\:\\;\\=][()PDO\\/\\]\\[p|]+)+'\n",
    "    \n",
    "    is_tag = lambda w: w.startswith('@')\n",
    "    is_vertical_line = lambda w: w.startswith('|')\n",
    "    is_emoji = lambda w: emoji.is_emoji(w)\n",
    "    is_link = lambda w: w.startswith(\"http\") or w.startswith(\"https\")\n",
    "    is_hashtag = lambda w: w.startswith(\"#\")\n",
    "    is_smiley = lambda w: re.match(smiley_regex, w)\n",
    "\n",
    "    w2 = []\n",
    "    for i, w in enumerate(s):\n",
    "        if is_tag(w) or is_emoji(w) or is_link(w) or is_vertical_line(w):\n",
    "            continue\n",
    "\n",
    "        elif is_hashtag(w):\n",
    "            w_tmp = w.replace('#', '')\n",
    "            if w_tmp != '':\n",
    "                lower_append(w_tmp, w2)\n",
    "\n",
    "        elif is_smiley(w):\n",
    "            w_tmp = re.sub(smiley_regex, '', w)\n",
    "            if w_tmp != '':\n",
    "                lower_append(w_tmp, w2)\n",
    "\n",
    "        else:\n",
    "            w_tmp = w.replace('#', '')\n",
    "            w_tmp = w_tmp.replace('|', '')\n",
    "            w_tmp = w_tmp.replace('_', '')\n",
    "            w_tmp = w_tmp.replace('...', '')\n",
    "            if w_tmp != '':\n",
    "                lower_append(w_tmp, w2)\n",
    "\n",
    "    return ' '.join([i for i in w2 if len(i) > 2])\n",
    "\n",
    "def lower_append(w, l):\n",
    "    l.append(w.lower())\n",
    "\n",
    "df['clean_text'] = df_tmp.apply(preprocess_words)\n",
    "df_test['clean_text'] = df_test_tmp.apply(preprocess_words)"
   ]
  },
  {
   "cell_type": "code",
   "execution_count": 11,
   "id": "4606db1b",
   "metadata": {
    "pycharm": {
     "name": "#%%\n"
    }
   },
   "outputs": [
    {
     "name": "stdout",
     "output_type": "stream",
     "text": [
      "(3817, 5)\n"
     ]
    },
    {
     "data": {
      "text/plain": "    Tweet index  Label                                         Tweet text  \\\n0             1      1  Sweet United Nations video. Just in time for C...   \n1             2      1  @mrdahl87 We are rumored to have talked to Erv...   \n2             3      1  Hey there! Nice to see you Minnesota/ND Winter...   \n3             4      0              3 episodes left I'm dying over here\\r   \n4             5      1  I can't breathe! was chosen as the most notabl...   \n5             6      0  You're never too old for Footie Pajamas. http:...   \n6             7      1  Nothing makes me happier then getting on the h...   \n7             8      0  4:30 an opening my first beer now gonna be a l...   \n8             9      0  @Adam_Klug do you think you would support a gu...   \n9            10      0  @samcguigan544 You are not allowed to open tha...   \n10           11      1  Oh, thank GOD - our entire office email system...   \n11           12      0  But instead, I'm scrolling through Facebook, I...   \n12           13      0  @TargetZonePT 😡 no he bloody isn't I was upsta...   \n13           14      0  Cold or warmth both suffuse one's cheeks with ...   \n14           15      1  Just great when you're mobile bill arrives by ...   \n\n    emoji_count                                         clean_text  \n0             0  sweet united nations video just time for chris...  \n1             0  are rumored have talked erv's agent and the an...  \n2             0    hey there nice see you minnesota winter weather  \n3             0                  episodes left i'm dying over here  \n4             0  can't breathe was chosen the most notable quot...  \n5             0            you're never too old for footie pajamas  \n6             0  nothing makes happier then getting the highway...  \n7             0   4:30 opening first beer now gonna long night day  \n8             0  you think you would support guy who knocked ou...  \n9             0  you are not allowed open that until christmas day  \n10            0  thank god our entire office email system down ...  \n11            0  but instead i'm scrolling through facebook ins...  \n12            1          bloody isn't was upstairs getting changed  \n13            0  cold warmth both suffuse one's cheeks with pin...  \n14            0    just great when you're mobile bill arrives text  ",
      "text/html": "<div>\n<style scoped>\n    .dataframe tbody tr th:only-of-type {\n        vertical-align: middle;\n    }\n\n    .dataframe tbody tr th {\n        vertical-align: top;\n    }\n\n    .dataframe thead th {\n        text-align: right;\n    }\n</style>\n<table border=\"1\" class=\"dataframe\">\n  <thead>\n    <tr style=\"text-align: right;\">\n      <th></th>\n      <th>Tweet index</th>\n      <th>Label</th>\n      <th>Tweet text</th>\n      <th>emoji_count</th>\n      <th>clean_text</th>\n    </tr>\n  </thead>\n  <tbody>\n    <tr>\n      <th>0</th>\n      <td>1</td>\n      <td>1</td>\n      <td>Sweet United Nations video. Just in time for C...</td>\n      <td>0</td>\n      <td>sweet united nations video just time for chris...</td>\n    </tr>\n    <tr>\n      <th>1</th>\n      <td>2</td>\n      <td>1</td>\n      <td>@mrdahl87 We are rumored to have talked to Erv...</td>\n      <td>0</td>\n      <td>are rumored have talked erv's agent and the an...</td>\n    </tr>\n    <tr>\n      <th>2</th>\n      <td>3</td>\n      <td>1</td>\n      <td>Hey there! Nice to see you Minnesota/ND Winter...</td>\n      <td>0</td>\n      <td>hey there nice see you minnesota winter weather</td>\n    </tr>\n    <tr>\n      <th>3</th>\n      <td>4</td>\n      <td>0</td>\n      <td>3 episodes left I'm dying over here\\r</td>\n      <td>0</td>\n      <td>episodes left i'm dying over here</td>\n    </tr>\n    <tr>\n      <th>4</th>\n      <td>5</td>\n      <td>1</td>\n      <td>I can't breathe! was chosen as the most notabl...</td>\n      <td>0</td>\n      <td>can't breathe was chosen the most notable quot...</td>\n    </tr>\n    <tr>\n      <th>5</th>\n      <td>6</td>\n      <td>0</td>\n      <td>You're never too old for Footie Pajamas. http:...</td>\n      <td>0</td>\n      <td>you're never too old for footie pajamas</td>\n    </tr>\n    <tr>\n      <th>6</th>\n      <td>7</td>\n      <td>1</td>\n      <td>Nothing makes me happier then getting on the h...</td>\n      <td>0</td>\n      <td>nothing makes happier then getting the highway...</td>\n    </tr>\n    <tr>\n      <th>7</th>\n      <td>8</td>\n      <td>0</td>\n      <td>4:30 an opening my first beer now gonna be a l...</td>\n      <td>0</td>\n      <td>4:30 opening first beer now gonna long night day</td>\n    </tr>\n    <tr>\n      <th>8</th>\n      <td>9</td>\n      <td>0</td>\n      <td>@Adam_Klug do you think you would support a gu...</td>\n      <td>0</td>\n      <td>you think you would support guy who knocked ou...</td>\n    </tr>\n    <tr>\n      <th>9</th>\n      <td>10</td>\n      <td>0</td>\n      <td>@samcguigan544 You are not allowed to open tha...</td>\n      <td>0</td>\n      <td>you are not allowed open that until christmas day</td>\n    </tr>\n    <tr>\n      <th>10</th>\n      <td>11</td>\n      <td>1</td>\n      <td>Oh, thank GOD - our entire office email system...</td>\n      <td>0</td>\n      <td>thank god our entire office email system down ...</td>\n    </tr>\n    <tr>\n      <th>11</th>\n      <td>12</td>\n      <td>0</td>\n      <td>But instead, I'm scrolling through Facebook, I...</td>\n      <td>0</td>\n      <td>but instead i'm scrolling through facebook ins...</td>\n    </tr>\n    <tr>\n      <th>12</th>\n      <td>13</td>\n      <td>0</td>\n      <td>@TargetZonePT 😡 no he bloody isn't I was upsta...</td>\n      <td>1</td>\n      <td>bloody isn't was upstairs getting changed</td>\n    </tr>\n    <tr>\n      <th>13</th>\n      <td>14</td>\n      <td>0</td>\n      <td>Cold or warmth both suffuse one's cheeks with ...</td>\n      <td>0</td>\n      <td>cold warmth both suffuse one's cheeks with pin...</td>\n    </tr>\n    <tr>\n      <th>14</th>\n      <td>15</td>\n      <td>1</td>\n      <td>Just great when you're mobile bill arrives by ...</td>\n      <td>0</td>\n      <td>just great when you're mobile bill arrives text</td>\n    </tr>\n  </tbody>\n</table>\n</div>"
     },
     "execution_count": 11,
     "metadata": {},
     "output_type": "execute_result"
    }
   ],
   "source": [
    "print(df.shape)\n",
    "df.head(15)"
   ]
  },
  {
   "cell_type": "code",
   "execution_count": 12,
   "id": "79dead99",
   "metadata": {
    "pycharm": {
     "name": "#%%\n"
    }
   },
   "outputs": [
    {
     "name": "stdout",
     "output_type": "stream",
     "text": [
      "(3817, 5)\n"
     ]
    },
    {
     "data": {
      "text/plain": "    Tweet index  Label                                         Tweet text  \\\n0             1      1  Sweet United Nations video. Just in time for C...   \n1             2      1  @mrdahl87 We are rumored to have talked to Erv...   \n2             3      1  Hey there! Nice to see you Minnesota/ND Winter...   \n3             4      0              3 episodes left I'm dying over here\\r   \n4             5      1  I can't breathe! was chosen as the most notabl...   \n5             6      0  You're never too old for Footie Pajamas. http:...   \n6             7      1  Nothing makes me happier then getting on the h...   \n7             8      0  4:30 an opening my first beer now gonna be a l...   \n8             9      0  @Adam_Klug do you think you would support a gu...   \n9            10      0  @samcguigan544 You are not allowed to open tha...   \n10           11      1  Oh, thank GOD - our entire office email system...   \n11           12      0  But instead, I'm scrolling through Facebook, I...   \n12           13      0  @TargetZonePT 😡 no he bloody isn't I was upsta...   \n13           14      0  Cold or warmth both suffuse one's cheeks with ...   \n14           15      1  Just great when you're mobile bill arrives by ...   \n\n    emoji_count                                         clean_text  \n0             0  sweet united nations video just time for chris...  \n1             0  are rumored have talked erv's agent and the an...  \n2             0    hey there nice see you minnesota winter weather  \n3             0                  episodes left i'm dying over here  \n4             0  can't breathe was chosen the most notable quot...  \n5             0            you're never too old for footie pajamas  \n6             0  nothing makes happier then getting the highway...  \n7             0   4:30 opening first beer now gonna long night day  \n8             0  you think you would support guy who knocked ou...  \n9             0  you are not allowed open that until christmas day  \n10            0  thank god our entire office email system down ...  \n11            0  but instead i'm scrolling through facebook ins...  \n12            1          bloody isn't was upstairs getting changed  \n13            0  cold warmth both suffuse one's cheeks with pin...  \n14            0    just great when you're mobile bill arrives text  ",
      "text/html": "<div>\n<style scoped>\n    .dataframe tbody tr th:only-of-type {\n        vertical-align: middle;\n    }\n\n    .dataframe tbody tr th {\n        vertical-align: top;\n    }\n\n    .dataframe thead th {\n        text-align: right;\n    }\n</style>\n<table border=\"1\" class=\"dataframe\">\n  <thead>\n    <tr style=\"text-align: right;\">\n      <th></th>\n      <th>Tweet index</th>\n      <th>Label</th>\n      <th>Tweet text</th>\n      <th>emoji_count</th>\n      <th>clean_text</th>\n    </tr>\n  </thead>\n  <tbody>\n    <tr>\n      <th>0</th>\n      <td>1</td>\n      <td>1</td>\n      <td>Sweet United Nations video. Just in time for C...</td>\n      <td>0</td>\n      <td>sweet united nations video just time for chris...</td>\n    </tr>\n    <tr>\n      <th>1</th>\n      <td>2</td>\n      <td>1</td>\n      <td>@mrdahl87 We are rumored to have talked to Erv...</td>\n      <td>0</td>\n      <td>are rumored have talked erv's agent and the an...</td>\n    </tr>\n    <tr>\n      <th>2</th>\n      <td>3</td>\n      <td>1</td>\n      <td>Hey there! Nice to see you Minnesota/ND Winter...</td>\n      <td>0</td>\n      <td>hey there nice see you minnesota winter weather</td>\n    </tr>\n    <tr>\n      <th>3</th>\n      <td>4</td>\n      <td>0</td>\n      <td>3 episodes left I'm dying over here\\r</td>\n      <td>0</td>\n      <td>episodes left i'm dying over here</td>\n    </tr>\n    <tr>\n      <th>4</th>\n      <td>5</td>\n      <td>1</td>\n      <td>I can't breathe! was chosen as the most notabl...</td>\n      <td>0</td>\n      <td>can't breathe was chosen the most notable quot...</td>\n    </tr>\n    <tr>\n      <th>5</th>\n      <td>6</td>\n      <td>0</td>\n      <td>You're never too old for Footie Pajamas. http:...</td>\n      <td>0</td>\n      <td>you're never too old for footie pajamas</td>\n    </tr>\n    <tr>\n      <th>6</th>\n      <td>7</td>\n      <td>1</td>\n      <td>Nothing makes me happier then getting on the h...</td>\n      <td>0</td>\n      <td>nothing makes happier then getting the highway...</td>\n    </tr>\n    <tr>\n      <th>7</th>\n      <td>8</td>\n      <td>0</td>\n      <td>4:30 an opening my first beer now gonna be a l...</td>\n      <td>0</td>\n      <td>4:30 opening first beer now gonna long night day</td>\n    </tr>\n    <tr>\n      <th>8</th>\n      <td>9</td>\n      <td>0</td>\n      <td>@Adam_Klug do you think you would support a gu...</td>\n      <td>0</td>\n      <td>you think you would support guy who knocked ou...</td>\n    </tr>\n    <tr>\n      <th>9</th>\n      <td>10</td>\n      <td>0</td>\n      <td>@samcguigan544 You are not allowed to open tha...</td>\n      <td>0</td>\n      <td>you are not allowed open that until christmas day</td>\n    </tr>\n    <tr>\n      <th>10</th>\n      <td>11</td>\n      <td>1</td>\n      <td>Oh, thank GOD - our entire office email system...</td>\n      <td>0</td>\n      <td>thank god our entire office email system down ...</td>\n    </tr>\n    <tr>\n      <th>11</th>\n      <td>12</td>\n      <td>0</td>\n      <td>But instead, I'm scrolling through Facebook, I...</td>\n      <td>0</td>\n      <td>but instead i'm scrolling through facebook ins...</td>\n    </tr>\n    <tr>\n      <th>12</th>\n      <td>13</td>\n      <td>0</td>\n      <td>@TargetZonePT 😡 no he bloody isn't I was upsta...</td>\n      <td>1</td>\n      <td>bloody isn't was upstairs getting changed</td>\n    </tr>\n    <tr>\n      <th>13</th>\n      <td>14</td>\n      <td>0</td>\n      <td>Cold or warmth both suffuse one's cheeks with ...</td>\n      <td>0</td>\n      <td>cold warmth both suffuse one's cheeks with pin...</td>\n    </tr>\n    <tr>\n      <th>14</th>\n      <td>15</td>\n      <td>1</td>\n      <td>Just great when you're mobile bill arrives by ...</td>\n      <td>0</td>\n      <td>just great when you're mobile bill arrives text</td>\n    </tr>\n  </tbody>\n</table>\n</div>"
     },
     "execution_count": 12,
     "metadata": {},
     "output_type": "execute_result"
    }
   ],
   "source": [
    "print(df.shape)\n",
    "df.head(15)"
   ]
  },
  {
   "cell_type": "code",
   "execution_count": 13,
   "id": "c225eab8",
   "metadata": {},
   "outputs": [],
   "source": [
    "df_tmp2 = df['clean_text'].copy()"
   ]
  },
  {
   "cell_type": "code",
   "execution_count": 14,
   "id": "e48acc39",
   "metadata": {
    "pycharm": {
     "name": "#%%\n"
    }
   },
   "outputs": [
    {
     "name": "stdout",
     "output_type": "stream",
     "text": [
      "(3817, 5)\n"
     ]
    },
    {
     "data": {
      "text/plain": "    Tweet index  Label                                         Tweet text  \\\n0             1      1  Sweet United Nations video. Just in time for C...   \n1             2      1  @mrdahl87 We are rumored to have talked to Erv...   \n2             3      1  Hey there! Nice to see you Minnesota/ND Winter...   \n3             4      0              3 episodes left I'm dying over here\\r   \n4             5      1  I can't breathe! was chosen as the most notabl...   \n5             6      0  You're never too old for Footie Pajamas. http:...   \n6             7      1  Nothing makes me happier then getting on the h...   \n7             8      0  4:30 an opening my first beer now gonna be a l...   \n8             9      0  @Adam_Klug do you think you would support a gu...   \n9            10      0  @samcguigan544 You are not allowed to open tha...   \n10           11      1  Oh, thank GOD - our entire office email system...   \n11           12      0  But instead, I'm scrolling through Facebook, I...   \n12           13      0  @TargetZonePT 😡 no he bloody isn't I was upsta...   \n13           14      0  Cold or warmth both suffuse one's cheeks with ...   \n14           15      1  Just great when you're mobile bill arrives by ...   \n\n    emoji_count                                         clean_text  \n0             0  sweet united nations video just time for chris...  \n1             0  are rumored have talked erv's agent and the an...  \n2             0    hey there nice see you minnesota winter weather  \n3             0                  episodes left i'm dying over here  \n4             0  can't breathe was chosen the most notable quot...  \n5             0            you're never too old for footie pajamas  \n6             0  nothing makes happier then getting the highway...  \n7             0   4:30 opening first beer now gonna long night day  \n8             0  you think you would support guy who knocked ou...  \n9             0  you are not allowed open that until christmas day  \n10            0  thank god our entire office email system down ...  \n11            0  but instead i'm scrolling through facebook ins...  \n12            1          bloody isn't was upstairs getting changed  \n13            0  cold warmth both suffuse one's cheeks with pin...  \n14            0    just great when you're mobile bill arrives text  ",
      "text/html": "<div>\n<style scoped>\n    .dataframe tbody tr th:only-of-type {\n        vertical-align: middle;\n    }\n\n    .dataframe tbody tr th {\n        vertical-align: top;\n    }\n\n    .dataframe thead th {\n        text-align: right;\n    }\n</style>\n<table border=\"1\" class=\"dataframe\">\n  <thead>\n    <tr style=\"text-align: right;\">\n      <th></th>\n      <th>Tweet index</th>\n      <th>Label</th>\n      <th>Tweet text</th>\n      <th>emoji_count</th>\n      <th>clean_text</th>\n    </tr>\n  </thead>\n  <tbody>\n    <tr>\n      <th>0</th>\n      <td>1</td>\n      <td>1</td>\n      <td>Sweet United Nations video. Just in time for C...</td>\n      <td>0</td>\n      <td>sweet united nations video just time for chris...</td>\n    </tr>\n    <tr>\n      <th>1</th>\n      <td>2</td>\n      <td>1</td>\n      <td>@mrdahl87 We are rumored to have talked to Erv...</td>\n      <td>0</td>\n      <td>are rumored have talked erv's agent and the an...</td>\n    </tr>\n    <tr>\n      <th>2</th>\n      <td>3</td>\n      <td>1</td>\n      <td>Hey there! Nice to see you Minnesota/ND Winter...</td>\n      <td>0</td>\n      <td>hey there nice see you minnesota winter weather</td>\n    </tr>\n    <tr>\n      <th>3</th>\n      <td>4</td>\n      <td>0</td>\n      <td>3 episodes left I'm dying over here\\r</td>\n      <td>0</td>\n      <td>episodes left i'm dying over here</td>\n    </tr>\n    <tr>\n      <th>4</th>\n      <td>5</td>\n      <td>1</td>\n      <td>I can't breathe! was chosen as the most notabl...</td>\n      <td>0</td>\n      <td>can't breathe was chosen the most notable quot...</td>\n    </tr>\n    <tr>\n      <th>5</th>\n      <td>6</td>\n      <td>0</td>\n      <td>You're never too old for Footie Pajamas. http:...</td>\n      <td>0</td>\n      <td>you're never too old for footie pajamas</td>\n    </tr>\n    <tr>\n      <th>6</th>\n      <td>7</td>\n      <td>1</td>\n      <td>Nothing makes me happier then getting on the h...</td>\n      <td>0</td>\n      <td>nothing makes happier then getting the highway...</td>\n    </tr>\n    <tr>\n      <th>7</th>\n      <td>8</td>\n      <td>0</td>\n      <td>4:30 an opening my first beer now gonna be a l...</td>\n      <td>0</td>\n      <td>4:30 opening first beer now gonna long night day</td>\n    </tr>\n    <tr>\n      <th>8</th>\n      <td>9</td>\n      <td>0</td>\n      <td>@Adam_Klug do you think you would support a gu...</td>\n      <td>0</td>\n      <td>you think you would support guy who knocked ou...</td>\n    </tr>\n    <tr>\n      <th>9</th>\n      <td>10</td>\n      <td>0</td>\n      <td>@samcguigan544 You are not allowed to open tha...</td>\n      <td>0</td>\n      <td>you are not allowed open that until christmas day</td>\n    </tr>\n    <tr>\n      <th>10</th>\n      <td>11</td>\n      <td>1</td>\n      <td>Oh, thank GOD - our entire office email system...</td>\n      <td>0</td>\n      <td>thank god our entire office email system down ...</td>\n    </tr>\n    <tr>\n      <th>11</th>\n      <td>12</td>\n      <td>0</td>\n      <td>But instead, I'm scrolling through Facebook, I...</td>\n      <td>0</td>\n      <td>but instead i'm scrolling through facebook ins...</td>\n    </tr>\n    <tr>\n      <th>12</th>\n      <td>13</td>\n      <td>0</td>\n      <td>@TargetZonePT 😡 no he bloody isn't I was upsta...</td>\n      <td>1</td>\n      <td>bloody isn't was upstairs getting changed</td>\n    </tr>\n    <tr>\n      <th>13</th>\n      <td>14</td>\n      <td>0</td>\n      <td>Cold or warmth both suffuse one's cheeks with ...</td>\n      <td>0</td>\n      <td>cold warmth both suffuse one's cheeks with pin...</td>\n    </tr>\n    <tr>\n      <th>14</th>\n      <td>15</td>\n      <td>1</td>\n      <td>Just great when you're mobile bill arrives by ...</td>\n      <td>0</td>\n      <td>just great when you're mobile bill arrives text</td>\n    </tr>\n  </tbody>\n</table>\n</div>"
     },
     "execution_count": 14,
     "metadata": {},
     "output_type": "execute_result"
    }
   ],
   "source": [
    "def remove_tuple_characters(s):\n",
    "    return [re.sub(r'(.)\\1{2,}', r'\\1', w) for w in s]\n",
    "\n",
    "df['clean_text'] = df[['clean_text']].apply(remove_tuple_characters)\n",
    "df_test['clean_text'] = df_test[['clean_text']].apply(remove_tuple_characters)\n",
    "\n",
    "print(df.shape)\n",
    "df.head(15)"
   ]
  },
  {
   "cell_type": "code",
   "execution_count": 15,
   "id": "bb677a12",
   "metadata": {
    "pycharm": {
     "name": "#%%\n"
    },
    "scrolled": false
   },
   "outputs": [],
   "source": [
    "def lemmatize(s):\n",
    "    '''Lemmatizes the words in the sentences and returns them if theyre not stopwords or punctuation'''\n",
    "    return [[w.lemma_.lower() for w in nlp(s_i) if w.lemma_.lower() not in nlp.Defaults.stop_words and not w.is_punct] for s_i in s]\n",
    "\n",
    "df['lemmas'] = df[['clean_text']].apply(lemmatize)\n",
    "df_test['lemmas'] = df_test[['clean_text']].apply(lemmatize)"
   ]
  },
  {
   "cell_type": "code",
   "execution_count": 16,
   "id": "97fab1a5",
   "metadata": {},
   "outputs": [
    {
     "name": "stdout",
     "output_type": "stream",
     "text": [
      "(3817, 6)\n",
      "(3795, 6)\n"
     ]
    }
   ],
   "source": [
    "print(df.shape)\n",
    "df = df[df['lemmas'].apply(lambda x: len(x)) > 0]\n",
    "print(df.shape)"
   ]
  },
  {
   "cell_type": "code",
   "execution_count": 17,
   "id": "f2d460e5",
   "metadata": {
    "pycharm": {
     "name": "#%%\n"
    }
   },
   "outputs": [
    {
     "data": {
      "text/plain": "    Tweet index  Label                                         Tweet text  \\\n0             1      1  Sweet United Nations video. Just in time for C...   \n1             2      1  @mrdahl87 We are rumored to have talked to Erv...   \n2             3      1  Hey there! Nice to see you Minnesota/ND Winter...   \n3             4      0              3 episodes left I'm dying over here\\r   \n4             5      1  I can't breathe! was chosen as the most notabl...   \n5             6      0  You're never too old for Footie Pajamas. http:...   \n6             7      1  Nothing makes me happier then getting on the h...   \n7             8      0  4:30 an opening my first beer now gonna be a l...   \n8             9      0  @Adam_Klug do you think you would support a gu...   \n9            10      0  @samcguigan544 You are not allowed to open tha...   \n10           11      1  Oh, thank GOD - our entire office email system...   \n11           12      0  But instead, I'm scrolling through Facebook, I...   \n12           13      0  @TargetZonePT 😡 no he bloody isn't I was upsta...   \n13           14      0  Cold or warmth both suffuse one's cheeks with ...   \n14           15      1  Just great when you're mobile bill arrives by ...   \n\n    emoji_count                                         clean_text  \\\n0             0  sweet united nations video just time for chris...   \n1             0  are rumored have talked erv's agent and the an...   \n2             0    hey there nice see you minnesota winter weather   \n3             0                  episodes left i'm dying over here   \n4             0  can't breathe was chosen the most notable quot...   \n5             0            you're never too old for footie pajamas   \n6             0  nothing makes happier then getting the highway...   \n7             0   4:30 opening first beer now gonna long night day   \n8             0  you think you would support guy who knocked ou...   \n9             0  you are not allowed open that until christmas day   \n10            0  thank god our entire office email system down ...   \n11            0  but instead i'm scrolling through facebook ins...   \n12            1          bloody isn't was upstairs getting changed   \n13            0  cold warmth both suffuse one's cheeks with pin...   \n14            0    just great when you're mobile bill arrives text   \n\n                                               lemmas  \n0   [sweet, united, nations, video, time, christma...  \n1   [rumor, talk, erv, agent, angel, ask, escobar,...  \n2             [hey, nice, minnesota, winter, weather]  \n3                               [episode, leave, die]  \n4   [breathe, choose, notable, quote, year, annual...  \n5                               [old, footie, pajama]  \n6   [happy, highway, break, light, light, like, ch...  \n7         [4:30, open, beer, going, long, night, day]  \n8   [think, support, guy, knock, daughter, rice, d...  \n9                       [allow, open, christmas, day]  \n10  [thank, god, entire, office, email, system, da...  \n11  [instead, scroll, facebook, instagram, twitter...  \n12                [bloody, upstairs, getting, change]  \n13  [cold, warmth, suffuse, cheek, pink, colour, t...  \n14                [great, mobile, bill, arrive, text]  ",
      "text/html": "<div>\n<style scoped>\n    .dataframe tbody tr th:only-of-type {\n        vertical-align: middle;\n    }\n\n    .dataframe tbody tr th {\n        vertical-align: top;\n    }\n\n    .dataframe thead th {\n        text-align: right;\n    }\n</style>\n<table border=\"1\" class=\"dataframe\">\n  <thead>\n    <tr style=\"text-align: right;\">\n      <th></th>\n      <th>Tweet index</th>\n      <th>Label</th>\n      <th>Tweet text</th>\n      <th>emoji_count</th>\n      <th>clean_text</th>\n      <th>lemmas</th>\n    </tr>\n  </thead>\n  <tbody>\n    <tr>\n      <th>0</th>\n      <td>1</td>\n      <td>1</td>\n      <td>Sweet United Nations video. Just in time for C...</td>\n      <td>0</td>\n      <td>sweet united nations video just time for chris...</td>\n      <td>[sweet, united, nations, video, time, christma...</td>\n    </tr>\n    <tr>\n      <th>1</th>\n      <td>2</td>\n      <td>1</td>\n      <td>@mrdahl87 We are rumored to have talked to Erv...</td>\n      <td>0</td>\n      <td>are rumored have talked erv's agent and the an...</td>\n      <td>[rumor, talk, erv, agent, angel, ask, escobar,...</td>\n    </tr>\n    <tr>\n      <th>2</th>\n      <td>3</td>\n      <td>1</td>\n      <td>Hey there! Nice to see you Minnesota/ND Winter...</td>\n      <td>0</td>\n      <td>hey there nice see you minnesota winter weather</td>\n      <td>[hey, nice, minnesota, winter, weather]</td>\n    </tr>\n    <tr>\n      <th>3</th>\n      <td>4</td>\n      <td>0</td>\n      <td>3 episodes left I'm dying over here\\r</td>\n      <td>0</td>\n      <td>episodes left i'm dying over here</td>\n      <td>[episode, leave, die]</td>\n    </tr>\n    <tr>\n      <th>4</th>\n      <td>5</td>\n      <td>1</td>\n      <td>I can't breathe! was chosen as the most notabl...</td>\n      <td>0</td>\n      <td>can't breathe was chosen the most notable quot...</td>\n      <td>[breathe, choose, notable, quote, year, annual...</td>\n    </tr>\n    <tr>\n      <th>5</th>\n      <td>6</td>\n      <td>0</td>\n      <td>You're never too old for Footie Pajamas. http:...</td>\n      <td>0</td>\n      <td>you're never too old for footie pajamas</td>\n      <td>[old, footie, pajama]</td>\n    </tr>\n    <tr>\n      <th>6</th>\n      <td>7</td>\n      <td>1</td>\n      <td>Nothing makes me happier then getting on the h...</td>\n      <td>0</td>\n      <td>nothing makes happier then getting the highway...</td>\n      <td>[happy, highway, break, light, light, like, ch...</td>\n    </tr>\n    <tr>\n      <th>7</th>\n      <td>8</td>\n      <td>0</td>\n      <td>4:30 an opening my first beer now gonna be a l...</td>\n      <td>0</td>\n      <td>4:30 opening first beer now gonna long night day</td>\n      <td>[4:30, open, beer, going, long, night, day]</td>\n    </tr>\n    <tr>\n      <th>8</th>\n      <td>9</td>\n      <td>0</td>\n      <td>@Adam_Klug do you think you would support a gu...</td>\n      <td>0</td>\n      <td>you think you would support guy who knocked ou...</td>\n      <td>[think, support, guy, knock, daughter, rice, d...</td>\n    </tr>\n    <tr>\n      <th>9</th>\n      <td>10</td>\n      <td>0</td>\n      <td>@samcguigan544 You are not allowed to open tha...</td>\n      <td>0</td>\n      <td>you are not allowed open that until christmas day</td>\n      <td>[allow, open, christmas, day]</td>\n    </tr>\n    <tr>\n      <th>10</th>\n      <td>11</td>\n      <td>1</td>\n      <td>Oh, thank GOD - our entire office email system...</td>\n      <td>0</td>\n      <td>thank god our entire office email system down ...</td>\n      <td>[thank, god, entire, office, email, system, da...</td>\n    </tr>\n    <tr>\n      <th>11</th>\n      <td>12</td>\n      <td>0</td>\n      <td>But instead, I'm scrolling through Facebook, I...</td>\n      <td>0</td>\n      <td>but instead i'm scrolling through facebook ins...</td>\n      <td>[instead, scroll, facebook, instagram, twitter...</td>\n    </tr>\n    <tr>\n      <th>12</th>\n      <td>13</td>\n      <td>0</td>\n      <td>@TargetZonePT 😡 no he bloody isn't I was upsta...</td>\n      <td>1</td>\n      <td>bloody isn't was upstairs getting changed</td>\n      <td>[bloody, upstairs, getting, change]</td>\n    </tr>\n    <tr>\n      <th>13</th>\n      <td>14</td>\n      <td>0</td>\n      <td>Cold or warmth both suffuse one's cheeks with ...</td>\n      <td>0</td>\n      <td>cold warmth both suffuse one's cheeks with pin...</td>\n      <td>[cold, warmth, suffuse, cheek, pink, colour, t...</td>\n    </tr>\n    <tr>\n      <th>14</th>\n      <td>15</td>\n      <td>1</td>\n      <td>Just great when you're mobile bill arrives by ...</td>\n      <td>0</td>\n      <td>just great when you're mobile bill arrives text</td>\n      <td>[great, mobile, bill, arrive, text]</td>\n    </tr>\n  </tbody>\n</table>\n</div>"
     },
     "execution_count": 17,
     "metadata": {},
     "output_type": "execute_result"
    }
   ],
   "source": [
    "df.head(15)"
   ]
  },
  {
   "cell_type": "code",
   "execution_count": 18,
   "id": "1419464a",
   "metadata": {
    "pycharm": {
     "name": "#%%\n"
    }
   },
   "outputs": [],
   "source": [
    "### baseline features ###\n",
    "tokenizer2 = TweetTokenizer()\n",
    "def word_counter(s):\n",
    "    return len([x for x in tokenizer.tokenize(s)])\n",
    "\n",
    "def char_counter(s):\n",
    "    return len(s.replace(' ', ''))\n",
    "\n",
    "def all_uppercase_counter(s):\n",
    "    return len([x for x in tokenizer2.tokenize(s) if x.isupper() and not x.startswith((\"@\", \"#\", \"http\"))])\n",
    "\n",
    "def all_lowercase_counter(s):\n",
    "    return len([x for x in tokenizer2.tokenize(s) if x.islower() and not x.startswith((\"@\", \"#\", \"http\"))])\n",
    "\n",
    "def capitalised_counter(s):\n",
    "    return sum([i.istitle() for i in tokenizer2.tokenize(s)])\n",
    "\n",
    "def digit_counter(s):\n",
    "    return sum([i.isdigit() for i in s])\n",
    "\n",
    "\n",
    "\n",
    "### other features ###\n",
    "def tag_counter(s):\n",
    "    return len([x for x in tokenizer2.tokenize(s) if x.startswith(\"@\")])\n",
    "\n",
    "def hashtag_counter(s):\n",
    "    return len([x for x in tokenizer2.tokenize(s) if x.startswith(\"#\")])\n",
    "\n",
    "def link_counter(s):\n",
    "    return len([x for x in tokenizer2.tokenize(s) if x.startswith(('http:', 'https:'))])\n",
    "\n",
    "def smiley_counter(s):\n",
    "    return len([x for x in tokenizer2.tokenize(s) if re.match(r'([\\:\\;\\=][()PDO\\/\\]\\[p|]+)+', x)])\n",
    "\n",
    "def exclamation_mark_counter(s):\n",
    "    return s.count('!')\n",
    "\n",
    "def question_mark_counter(s):\n",
    "    return s.count('?')\n",
    "\n",
    "def ellipsis_counter(s):\n",
    "    return s.count('...')\n",
    "    \n",
    "\n",
    "\n",
    "### NER ###\n",
    "def ORG_tag_counter(s):\n",
    "    doc = nlp(s)\n",
    "    return len([d.text for d in doc.ents if d.label_ == 'ORG'])\n",
    "\n",
    "def NORP_tag_counter(s):\n",
    "    doc = nlp(s)\n",
    "    return len([d.text for d in doc.ents if d.label_ == 'NORP'])\n",
    "\n",
    "def GPE_tag_counter(s):\n",
    "    doc = nlp(s)\n",
    "    return len([d.text for d in doc.ents if d.label_ == 'GPE'])\n",
    "\n",
    "def PERSON_tag_counter(s):\n",
    "    doc = nlp(s)\n",
    "    return len([d.text for d in doc.ents if d.label_ == 'PERSON'])"
   ]
  },
  {
   "cell_type": "code",
   "execution_count": 19,
   "id": "1d8d398f",
   "metadata": {
    "pycharm": {
     "name": "#%%\n"
    }
   },
   "outputs": [],
   "source": [
    "def add_features(some_df):\n",
    "    some_df['word_count'] = some_df['clean_text'].apply(word_counter)\n",
    "    some_df['char_count'] = some_df['clean_text'].apply(char_counter)\n",
    "    some_df['all_uppercase_count'] = some_df['Tweet text'].apply(all_uppercase_counter)\n",
    "    some_df['all_lowercase_count'] = some_df['Tweet text'].apply(all_lowercase_counter)\n",
    "    some_df['capitalised_count'] = some_df['Tweet text'].apply(capitalised_counter)\n",
    "    some_df['digit_count'] = some_df['Tweet text'].apply(digit_counter)\n",
    "    \n",
    "    some_df['tag_count'] = some_df['Tweet text'].apply(tag_counter)\n",
    "    some_df['hashtag_count'] = some_df['Tweet text'].apply(hashtag_counter)\n",
    "    some_df['link_count'] = some_df['Tweet text'].apply(link_counter)\n",
    "    some_df['smiley_count'] = some_df['Tweet text'].apply(smiley_counter)\n",
    "    \n",
    "    some_df['exclamation_mark_count'] = some_df['Tweet text'].apply(exclamation_mark_counter)\n",
    "    some_df['question_mark_count'] = some_df['Tweet text'].apply(question_mark_counter)\n",
    "    some_df['ellipsis_count'] = some_df['Tweet text'].apply(ellipsis_counter)\n",
    "    \n",
    "    some_df['ORG_tag_count'] = some_df['Tweet text'].apply(ORG_tag_counter)\n",
    "    some_df['NORP_tag_count'] = some_df['Tweet text'].apply(NORP_tag_counter)\n",
    "    some_df['GPE_tag_count'] = some_df['Tweet text'].apply(GPE_tag_counter)\n",
    "    some_df['PERSON_tag_count'] = some_df['Tweet text'].apply(PERSON_tag_counter)\n",
    "    \n",
    "add_features(df)\n",
    "add_features(df_test)"
   ]
  },
  {
   "cell_type": "code",
   "execution_count": 20,
   "id": "0b415a2b",
   "metadata": {
    "pycharm": {
     "name": "#%%\n"
    }
   },
   "outputs": [
    {
     "data": {
      "text/plain": "   Tweet index  Label                                         Tweet text  \\\n0            1      1  Sweet United Nations video. Just in time for C...   \n1            2      1  @mrdahl87 We are rumored to have talked to Erv...   \n2            3      1  Hey there! Nice to see you Minnesota/ND Winter...   \n3            4      0              3 episodes left I'm dying over here\\r   \n4            5      1  I can't breathe! was chosen as the most notabl...   \n\n   emoji_count                                         clean_text  \\\n0            0  sweet united nations video just time for chris...   \n1            0  are rumored have talked erv's agent and the an...   \n2            0    hey there nice see you minnesota winter weather   \n3            0                  episodes left i'm dying over here   \n4            0  can't breathe was chosen the most notable quot...   \n\n                                              lemmas  word_count  char_count  \\\n0  [sweet, united, nations, video, time, christma...          10          58   \n1  [rumor, talk, erv, agent, angel, ask, escobar,...          15          78   \n2            [hey, nice, minnesota, winter, weather]           8          40   \n3                              [episode, leave, die]           6          28   \n4  [breathe, choose, notable, quote, year, annual...          16          88   \n\n   all_uppercase_count  all_lowercase_count  ...  hashtag_count  link_count  \\\n0                    0                    4  ...              2           1   \n1                    0                   14  ...              0           0   \n2                    1                    4  ...              0           0   \n3                    0                    5  ...              0           0   \n4                    1                   20  ...              0           0   \n\n   smiley_count  exclamation_mark_count  question_mark_count  ellipsis_count  \\\n0             0                       0                    0               0   \n1             1                       0                    0               2   \n2             0                       1                    0               0   \n3             0                       0                    0               0   \n4             0                       1                    0               0   \n\n   ORG_tag_count  NORP_tag_count  GPE_tag_count  PERSON_tag_count  \n0              1               0              0                 0  \n1              1               0              0                 2  \n2              0               0              1                 0  \n3              0               0              0                 0  \n4              1               0              0                 0  \n\n[5 rows x 23 columns]",
      "text/html": "<div>\n<style scoped>\n    .dataframe tbody tr th:only-of-type {\n        vertical-align: middle;\n    }\n\n    .dataframe tbody tr th {\n        vertical-align: top;\n    }\n\n    .dataframe thead th {\n        text-align: right;\n    }\n</style>\n<table border=\"1\" class=\"dataframe\">\n  <thead>\n    <tr style=\"text-align: right;\">\n      <th></th>\n      <th>Tweet index</th>\n      <th>Label</th>\n      <th>Tweet text</th>\n      <th>emoji_count</th>\n      <th>clean_text</th>\n      <th>lemmas</th>\n      <th>word_count</th>\n      <th>char_count</th>\n      <th>all_uppercase_count</th>\n      <th>all_lowercase_count</th>\n      <th>...</th>\n      <th>hashtag_count</th>\n      <th>link_count</th>\n      <th>smiley_count</th>\n      <th>exclamation_mark_count</th>\n      <th>question_mark_count</th>\n      <th>ellipsis_count</th>\n      <th>ORG_tag_count</th>\n      <th>NORP_tag_count</th>\n      <th>GPE_tag_count</th>\n      <th>PERSON_tag_count</th>\n    </tr>\n  </thead>\n  <tbody>\n    <tr>\n      <th>0</th>\n      <td>1</td>\n      <td>1</td>\n      <td>Sweet United Nations video. Just in time for C...</td>\n      <td>0</td>\n      <td>sweet united nations video just time for chris...</td>\n      <td>[sweet, united, nations, video, time, christma...</td>\n      <td>10</td>\n      <td>58</td>\n      <td>0</td>\n      <td>4</td>\n      <td>...</td>\n      <td>2</td>\n      <td>1</td>\n      <td>0</td>\n      <td>0</td>\n      <td>0</td>\n      <td>0</td>\n      <td>1</td>\n      <td>0</td>\n      <td>0</td>\n      <td>0</td>\n    </tr>\n    <tr>\n      <th>1</th>\n      <td>2</td>\n      <td>1</td>\n      <td>@mrdahl87 We are rumored to have talked to Erv...</td>\n      <td>0</td>\n      <td>are rumored have talked erv's agent and the an...</td>\n      <td>[rumor, talk, erv, agent, angel, ask, escobar,...</td>\n      <td>15</td>\n      <td>78</td>\n      <td>0</td>\n      <td>14</td>\n      <td>...</td>\n      <td>0</td>\n      <td>0</td>\n      <td>1</td>\n      <td>0</td>\n      <td>0</td>\n      <td>2</td>\n      <td>1</td>\n      <td>0</td>\n      <td>0</td>\n      <td>2</td>\n    </tr>\n    <tr>\n      <th>2</th>\n      <td>3</td>\n      <td>1</td>\n      <td>Hey there! Nice to see you Minnesota/ND Winter...</td>\n      <td>0</td>\n      <td>hey there nice see you minnesota winter weather</td>\n      <td>[hey, nice, minnesota, winter, weather]</td>\n      <td>8</td>\n      <td>40</td>\n      <td>1</td>\n      <td>4</td>\n      <td>...</td>\n      <td>0</td>\n      <td>0</td>\n      <td>0</td>\n      <td>1</td>\n      <td>0</td>\n      <td>0</td>\n      <td>0</td>\n      <td>0</td>\n      <td>1</td>\n      <td>0</td>\n    </tr>\n    <tr>\n      <th>3</th>\n      <td>4</td>\n      <td>0</td>\n      <td>3 episodes left I'm dying over here\\r</td>\n      <td>0</td>\n      <td>episodes left i'm dying over here</td>\n      <td>[episode, leave, die]</td>\n      <td>6</td>\n      <td>28</td>\n      <td>0</td>\n      <td>5</td>\n      <td>...</td>\n      <td>0</td>\n      <td>0</td>\n      <td>0</td>\n      <td>0</td>\n      <td>0</td>\n      <td>0</td>\n      <td>0</td>\n      <td>0</td>\n      <td>0</td>\n      <td>0</td>\n    </tr>\n    <tr>\n      <th>4</th>\n      <td>5</td>\n      <td>1</td>\n      <td>I can't breathe! was chosen as the most notabl...</td>\n      <td>0</td>\n      <td>can't breathe was chosen the most notable quot...</td>\n      <td>[breathe, choose, notable, quote, year, annual...</td>\n      <td>16</td>\n      <td>88</td>\n      <td>1</td>\n      <td>20</td>\n      <td>...</td>\n      <td>0</td>\n      <td>0</td>\n      <td>0</td>\n      <td>1</td>\n      <td>0</td>\n      <td>0</td>\n      <td>1</td>\n      <td>0</td>\n      <td>0</td>\n      <td>0</td>\n    </tr>\n  </tbody>\n</table>\n<p>5 rows × 23 columns</p>\n</div>"
     },
     "execution_count": 20,
     "metadata": {},
     "output_type": "execute_result"
    }
   ],
   "source": [
    "df.head()"
   ]
  },
  {
   "cell_type": "code",
   "execution_count": 21,
   "id": "af74098d",
   "metadata": {
    "pycharm": {
     "name": "#%%\n"
    }
   },
   "outputs": [],
   "source": [
    "df_train = df.sample(frac=0.7)\n",
    "df_validation = df.drop(df_train.index)"
   ]
  },
  {
   "cell_type": "code",
   "execution_count": 22,
   "id": "1dd2013e",
   "metadata": {},
   "outputs": [],
   "source": [
    "df_train.reset_index(inplace=True, drop=True)\n",
    "df_validation.reset_index(inplace=True, drop=True)"
   ]
  },
  {
   "cell_type": "code",
   "execution_count": 23,
   "id": "1a5cd369",
   "metadata": {
    "pycharm": {
     "name": "#%%\n"
    }
   },
   "outputs": [
    {
     "data": {
      "text/plain": "   Tweet index  Label                                         Tweet text  \\\n0         2599      0  Buzzing about going home tonight, back for a m...   \n1         2618      1  Agree with @FrankFerragine @BTtoronto some peo...   \n2         1560      1   Working hard right now  http://t.co/ZrW0j1TgNt\\r   \n3         1473      0  You'd hope that a film like that would lose re...   \n4          400      0  just pulled up to school for the first time in...   \n\n   emoji_count                                         clean_text  \\\n0            0    buzzing about going home tonight back for month   \n1            0  agree with some people sigh others will hear t...   \n2            0                             working hard right now   \n3            0  you'd hope that film like that would lose rele...   \n4            0  just pulled school for the first time life goo...   \n\n                                              lemmas  word_count  char_count  \\\n0                       [buzz, home, tonight, month]           8          40   \n1  [agree, people, sigh, hear, husband, sigh, tim...          16          76   \n2                                [work, hard, right]           4          19   \n3  [hope, film, like, lose, relevance, couple, de...          14          68   \n4  [pull, school, time, life, good, mood, find, s...          19          87   \n\n   all_uppercase_count  all_lowercase_count  ...  hashtag_count  link_count  \\\n0                    0                    8  ...              0           0   \n1                    0                   15  ...              1           0   \n2                    0                    3  ...              0           1   \n3                    0                   15  ...              0           0   \n4                    0                   26  ...              1           0   \n\n   smiley_count  exclamation_mark_count  question_mark_count  ellipsis_count  \\\n0             0                       0                    0               0   \n1             0                       0                    0               0   \n2             0                       0                    0               0   \n3             0                       0                    0               0   \n4             0                       0                    0               0   \n\n   ORG_tag_count  NORP_tag_count  GPE_tag_count  PERSON_tag_count  \n0              0               0              0                 0  \n1              0               0              0                 0  \n2              0               0              0                 0  \n3              0               0              0                 0  \n4              0               0              0                 0  \n\n[5 rows x 23 columns]",
      "text/html": "<div>\n<style scoped>\n    .dataframe tbody tr th:only-of-type {\n        vertical-align: middle;\n    }\n\n    .dataframe tbody tr th {\n        vertical-align: top;\n    }\n\n    .dataframe thead th {\n        text-align: right;\n    }\n</style>\n<table border=\"1\" class=\"dataframe\">\n  <thead>\n    <tr style=\"text-align: right;\">\n      <th></th>\n      <th>Tweet index</th>\n      <th>Label</th>\n      <th>Tweet text</th>\n      <th>emoji_count</th>\n      <th>clean_text</th>\n      <th>lemmas</th>\n      <th>word_count</th>\n      <th>char_count</th>\n      <th>all_uppercase_count</th>\n      <th>all_lowercase_count</th>\n      <th>...</th>\n      <th>hashtag_count</th>\n      <th>link_count</th>\n      <th>smiley_count</th>\n      <th>exclamation_mark_count</th>\n      <th>question_mark_count</th>\n      <th>ellipsis_count</th>\n      <th>ORG_tag_count</th>\n      <th>NORP_tag_count</th>\n      <th>GPE_tag_count</th>\n      <th>PERSON_tag_count</th>\n    </tr>\n  </thead>\n  <tbody>\n    <tr>\n      <th>0</th>\n      <td>2599</td>\n      <td>0</td>\n      <td>Buzzing about going home tonight, back for a m...</td>\n      <td>0</td>\n      <td>buzzing about going home tonight back for month</td>\n      <td>[buzz, home, tonight, month]</td>\n      <td>8</td>\n      <td>40</td>\n      <td>0</td>\n      <td>8</td>\n      <td>...</td>\n      <td>0</td>\n      <td>0</td>\n      <td>0</td>\n      <td>0</td>\n      <td>0</td>\n      <td>0</td>\n      <td>0</td>\n      <td>0</td>\n      <td>0</td>\n      <td>0</td>\n    </tr>\n    <tr>\n      <th>1</th>\n      <td>2618</td>\n      <td>1</td>\n      <td>Agree with @FrankFerragine @BTtoronto some peo...</td>\n      <td>0</td>\n      <td>agree with some people sigh others will hear t...</td>\n      <td>[agree, people, sigh, hear, husband, sigh, tim...</td>\n      <td>16</td>\n      <td>76</td>\n      <td>0</td>\n      <td>15</td>\n      <td>...</td>\n      <td>1</td>\n      <td>0</td>\n      <td>0</td>\n      <td>0</td>\n      <td>0</td>\n      <td>0</td>\n      <td>0</td>\n      <td>0</td>\n      <td>0</td>\n      <td>0</td>\n    </tr>\n    <tr>\n      <th>2</th>\n      <td>1560</td>\n      <td>1</td>\n      <td>Working hard right now  http://t.co/ZrW0j1TgNt\\r</td>\n      <td>0</td>\n      <td>working hard right now</td>\n      <td>[work, hard, right]</td>\n      <td>4</td>\n      <td>19</td>\n      <td>0</td>\n      <td>3</td>\n      <td>...</td>\n      <td>0</td>\n      <td>1</td>\n      <td>0</td>\n      <td>0</td>\n      <td>0</td>\n      <td>0</td>\n      <td>0</td>\n      <td>0</td>\n      <td>0</td>\n      <td>0</td>\n    </tr>\n    <tr>\n      <th>3</th>\n      <td>1473</td>\n      <td>0</td>\n      <td>You'd hope that a film like that would lose re...</td>\n      <td>0</td>\n      <td>you'd hope that film like that would lose rele...</td>\n      <td>[hope, film, like, lose, relevance, couple, de...</td>\n      <td>14</td>\n      <td>68</td>\n      <td>0</td>\n      <td>15</td>\n      <td>...</td>\n      <td>0</td>\n      <td>0</td>\n      <td>0</td>\n      <td>0</td>\n      <td>0</td>\n      <td>0</td>\n      <td>0</td>\n      <td>0</td>\n      <td>0</td>\n      <td>0</td>\n    </tr>\n    <tr>\n      <th>4</th>\n      <td>400</td>\n      <td>0</td>\n      <td>just pulled up to school for the first time in...</td>\n      <td>0</td>\n      <td>just pulled school for the first time life goo...</td>\n      <td>[pull, school, time, life, good, mood, find, s...</td>\n      <td>19</td>\n      <td>87</td>\n      <td>0</td>\n      <td>26</td>\n      <td>...</td>\n      <td>1</td>\n      <td>0</td>\n      <td>0</td>\n      <td>0</td>\n      <td>0</td>\n      <td>0</td>\n      <td>0</td>\n      <td>0</td>\n      <td>0</td>\n      <td>0</td>\n    </tr>\n  </tbody>\n</table>\n<p>5 rows × 23 columns</p>\n</div>"
     },
     "execution_count": 23,
     "metadata": {},
     "output_type": "execute_result"
    }
   ],
   "source": [
    "df_train.head()"
   ]
  },
  {
   "cell_type": "code",
   "execution_count": 24,
   "id": "138ca2d2",
   "metadata": {},
   "outputs": [],
   "source": [
    "def new_df_with_all_features(df1, df2):\n",
    "    cols_to_add = list(set(df2.columns.tolist()) - set(df1.columns.tolist()))\n",
    "    if 'Tweet index' in cols_to_add:\n",
    "        cols_to_add.remove('Tweet index')\n",
    "    new_df = pd.concat((df1.copy(), df2[cols_to_add]), axis=1)\n",
    "    return new_df"
   ]
  },
  {
   "cell_type": "code",
   "execution_count": 25,
   "id": "2d560761",
   "metadata": {
    "id": "2d560761"
   },
   "outputs": [],
   "source": [
    "def join_docs(s):\n",
    "    '''Joins the strings inside the inner list of a nested list'''\n",
    "    return ' '.join(s)\n",
    "\n",
    "df_train['topic_text'] = df_train['lemmas'].apply(join_docs)\n",
    "df_validation['topic_text'] = df_validation['lemmas'].apply(join_docs)\n",
    "df_test['topic_text'] = df_test['lemmas'].apply(join_docs)"
   ]
  },
  {
   "cell_type": "code",
   "execution_count": 26,
   "id": "c6cb21d0",
   "metadata": {},
   "outputs": [
    {
     "data": {
      "text/plain": "(2656, 24)"
     },
     "execution_count": 26,
     "metadata": {},
     "output_type": "execute_result"
    }
   ],
   "source": [
    "df_train.shape"
   ]
  },
  {
   "cell_type": "code",
   "execution_count": 27,
   "id": "6ca36c15",
   "metadata": {},
   "outputs": [
    {
     "data": {
      "text/plain": "   Tweet index  Label                                         Tweet text  \\\n0         2599      0  Buzzing about going home tonight, back for a m...   \n1         2618      1  Agree with @FrankFerragine @BTtoronto some peo...   \n2         1560      1   Working hard right now  http://t.co/ZrW0j1TgNt\\r   \n3         1473      0  You'd hope that a film like that would lose re...   \n4          400      0  just pulled up to school for the first time in...   \n\n   emoji_count                                         clean_text  \\\n0            0    buzzing about going home tonight back for month   \n1            0  agree with some people sigh others will hear t...   \n2            0                             working hard right now   \n3            0  you'd hope that film like that would lose rele...   \n4            0  just pulled school for the first time life goo...   \n\n                                              lemmas  word_count  char_count  \\\n0                       [buzz, home, tonight, month]           8          40   \n1  [agree, people, sigh, hear, husband, sigh, tim...          16          76   \n2                                [work, hard, right]           4          19   \n3  [hope, film, like, lose, relevance, couple, de...          14          68   \n4  [pull, school, time, life, good, mood, find, s...          19          87   \n\n   all_uppercase_count  all_lowercase_count  ...  link_count  smiley_count  \\\n0                    0                    8  ...           0             0   \n1                    0                   15  ...           0             0   \n2                    0                    3  ...           1             0   \n3                    0                   15  ...           0             0   \n4                    0                   26  ...           0             0   \n\n   exclamation_mark_count  question_mark_count  ellipsis_count  ORG_tag_count  \\\n0                       0                    0               0              0   \n1                       0                    0               0              0   \n2                       0                    0               0              0   \n3                       0                    0               0              0   \n4                       0                    0               0              0   \n\n   NORP_tag_count  GPE_tag_count  PERSON_tag_count  \\\n0               0              0                 0   \n1               0              0                 0   \n2               0              0                 0   \n3               0              0                 0   \n4               0              0                 0   \n\n                                          topic_text  \n0                            buzz home tonight month  \n1   agree people sigh hear husband sigh time curious  \n2                                    work hard right  \n3   hope film like lose relevance couple decade nope  \n4  pull school time life good mood find start hou...  \n\n[5 rows x 24 columns]",
      "text/html": "<div>\n<style scoped>\n    .dataframe tbody tr th:only-of-type {\n        vertical-align: middle;\n    }\n\n    .dataframe tbody tr th {\n        vertical-align: top;\n    }\n\n    .dataframe thead th {\n        text-align: right;\n    }\n</style>\n<table border=\"1\" class=\"dataframe\">\n  <thead>\n    <tr style=\"text-align: right;\">\n      <th></th>\n      <th>Tweet index</th>\n      <th>Label</th>\n      <th>Tweet text</th>\n      <th>emoji_count</th>\n      <th>clean_text</th>\n      <th>lemmas</th>\n      <th>word_count</th>\n      <th>char_count</th>\n      <th>all_uppercase_count</th>\n      <th>all_lowercase_count</th>\n      <th>...</th>\n      <th>link_count</th>\n      <th>smiley_count</th>\n      <th>exclamation_mark_count</th>\n      <th>question_mark_count</th>\n      <th>ellipsis_count</th>\n      <th>ORG_tag_count</th>\n      <th>NORP_tag_count</th>\n      <th>GPE_tag_count</th>\n      <th>PERSON_tag_count</th>\n      <th>topic_text</th>\n    </tr>\n  </thead>\n  <tbody>\n    <tr>\n      <th>0</th>\n      <td>2599</td>\n      <td>0</td>\n      <td>Buzzing about going home tonight, back for a m...</td>\n      <td>0</td>\n      <td>buzzing about going home tonight back for month</td>\n      <td>[buzz, home, tonight, month]</td>\n      <td>8</td>\n      <td>40</td>\n      <td>0</td>\n      <td>8</td>\n      <td>...</td>\n      <td>0</td>\n      <td>0</td>\n      <td>0</td>\n      <td>0</td>\n      <td>0</td>\n      <td>0</td>\n      <td>0</td>\n      <td>0</td>\n      <td>0</td>\n      <td>buzz home tonight month</td>\n    </tr>\n    <tr>\n      <th>1</th>\n      <td>2618</td>\n      <td>1</td>\n      <td>Agree with @FrankFerragine @BTtoronto some peo...</td>\n      <td>0</td>\n      <td>agree with some people sigh others will hear t...</td>\n      <td>[agree, people, sigh, hear, husband, sigh, tim...</td>\n      <td>16</td>\n      <td>76</td>\n      <td>0</td>\n      <td>15</td>\n      <td>...</td>\n      <td>0</td>\n      <td>0</td>\n      <td>0</td>\n      <td>0</td>\n      <td>0</td>\n      <td>0</td>\n      <td>0</td>\n      <td>0</td>\n      <td>0</td>\n      <td>agree people sigh hear husband sigh time curious</td>\n    </tr>\n    <tr>\n      <th>2</th>\n      <td>1560</td>\n      <td>1</td>\n      <td>Working hard right now  http://t.co/ZrW0j1TgNt\\r</td>\n      <td>0</td>\n      <td>working hard right now</td>\n      <td>[work, hard, right]</td>\n      <td>4</td>\n      <td>19</td>\n      <td>0</td>\n      <td>3</td>\n      <td>...</td>\n      <td>1</td>\n      <td>0</td>\n      <td>0</td>\n      <td>0</td>\n      <td>0</td>\n      <td>0</td>\n      <td>0</td>\n      <td>0</td>\n      <td>0</td>\n      <td>work hard right</td>\n    </tr>\n    <tr>\n      <th>3</th>\n      <td>1473</td>\n      <td>0</td>\n      <td>You'd hope that a film like that would lose re...</td>\n      <td>0</td>\n      <td>you'd hope that film like that would lose rele...</td>\n      <td>[hope, film, like, lose, relevance, couple, de...</td>\n      <td>14</td>\n      <td>68</td>\n      <td>0</td>\n      <td>15</td>\n      <td>...</td>\n      <td>0</td>\n      <td>0</td>\n      <td>0</td>\n      <td>0</td>\n      <td>0</td>\n      <td>0</td>\n      <td>0</td>\n      <td>0</td>\n      <td>0</td>\n      <td>hope film like lose relevance couple decade nope</td>\n    </tr>\n    <tr>\n      <th>4</th>\n      <td>400</td>\n      <td>0</td>\n      <td>just pulled up to school for the first time in...</td>\n      <td>0</td>\n      <td>just pulled school for the first time life goo...</td>\n      <td>[pull, school, time, life, good, mood, find, s...</td>\n      <td>19</td>\n      <td>87</td>\n      <td>0</td>\n      <td>26</td>\n      <td>...</td>\n      <td>0</td>\n      <td>0</td>\n      <td>0</td>\n      <td>0</td>\n      <td>0</td>\n      <td>0</td>\n      <td>0</td>\n      <td>0</td>\n      <td>0</td>\n      <td>pull school time life good mood find start hou...</td>\n    </tr>\n  </tbody>\n</table>\n<p>5 rows × 24 columns</p>\n</div>"
     },
     "execution_count": 27,
     "metadata": {},
     "output_type": "execute_result"
    }
   ],
   "source": [
    "df_train.head()"
   ]
  },
  {
   "cell_type": "markdown",
   "id": "98404b14",
   "metadata": {
    "id": "98404b14"
   },
   "source": [
    "## Topic modeling baselines"
   ]
  },
  {
   "cell_type": "code",
   "execution_count": 276,
   "id": "7127a752",
   "metadata": {
    "id": "7127a752"
   },
   "outputs": [],
   "source": [
    "count_vectorizer = CountVectorizer(\n",
    "    analyzer='word',\n",
    "    min_df=20,\n",
    "    max_df=0.5,\n",
    ")\n",
    "\n",
    "tfidf_vectorizer = TfidfVectorizer(\n",
    "    analyzer='word',\n",
    "    min_df=20,\n",
    "    max_df=0.5,\n",
    ")\n",
    "\n",
    "tweet_text_count_train = count_vectorizer.fit_transform(df_train['topic_text'])\n",
    "tweet_text_count_validation = count_vectorizer.transform(df_validation['topic_text'])\n",
    "tweet_text_count_test = count_vectorizer.transform(df_test['topic_text'])\n",
    "\n",
    "tweet_text_tfidf_train = tfidf_vectorizer.fit_transform(df_train['topic_text'])\n",
    "tweet_text_tfidf_validation = tfidf_vectorizer.transform(df_validation['topic_text'])\n",
    "tweet_text_tfidf_test = tfidf_vectorizer.transform(df_test['topic_text'])"
   ]
  },
  {
   "cell_type": "code",
   "execution_count": 277,
   "id": "08150dae",
   "metadata": {
    "colab": {
     "base_uri": "https://localhost:8080/",
     "height": 279
    },
    "id": "08150dae",
    "outputId": "03815e50-e2ab-48a5-a465-97b6c0e7571e"
   },
   "outputs": [
    {
     "data": {
      "image/png": "[encoded data removed]",
      "text/plain": [
       "<Figure size 432x288 with 1 Axes>"
      ]
     },
     "metadata": {
      "needs_background": "light"
     },
     "output_type": "display_data"
    }
   ],
   "source": [
    "inertia = []\n",
    "range_ = list(range(2, 60))\n",
    "for i in range_:\n",
    "    model = KMeans(i)\n",
    "    model.fit(tweet_text_count_train)\n",
    "    inertia.append(model.inertia_)\n",
    "    \n",
    "plt.plot(range_, inertia)\n",
    "plt.xlabel('Number of components')\n",
    "plt.ylabel('Inertia')\n",
    "plt.show()"
   ]
  },
  {
   "cell_type": "code",
   "execution_count": 278,
   "id": "35225742",
   "metadata": {},
   "outputs": [],
   "source": [
    "from gensim import corpora\n",
    "\n",
    "texts = [l for l in df_train['lemmas']]\n",
    "dictionary = corpora.Dictionary(texts)\n",
    "corpus = [dictionary.doc2bow(text) for text in texts]"
   ]
  },
  {
   "cell_type": "code",
   "execution_count": 279,
   "id": "d62c13c3",
   "metadata": {},
   "outputs": [
    {
     "data": {
      "image/png": "[encoded data removed]",
      "text/plain": [
       "<Figure size 432x288 with 1 Axes>"
      ]
     },
     "metadata": {
      "needs_background": "light"
     },
     "output_type": "display_data"
    }
   ],
   "source": [
    "def calc_coherence(model, y_train, y_val, length=4):\n",
    "    # count words and create a dictionary of occurences\n",
    "    occurences = {i:0 for i in range(0, max(y_train)+1)}\n",
    "    for i in occurences.keys():\n",
    "        occurences[i] = (y_train == i).sum()\n",
    "    sorted_occ_keys = sorted(occurences, key=occurences.get, reverse=True)\n",
    "\n",
    "    # find most often used words\n",
    "    keys_max_count_all = []\n",
    "    for k in sorted_occ_keys:\n",
    "        indices = np.where(y_train == k)[0]\n",
    "        l_words = []\n",
    "        for l in df_train['lemmas'][indices].values.tolist():\n",
    "            l_words.extend(l)\n",
    "        d = {i: l_words.count(i) for i in set(l_words)}\n",
    "        keys_max_count = sorted(d, key=d.get, reverse=True)[:length]\n",
    "        keys_max_count_all.append(keys_max_count)\n",
    "        \n",
    "    # coherence calculation\n",
    "    cm = CoherenceModel(topics=keys_max_count_all, corpus=corpus, dictionary=dictionary, coherence='u_mass')\n",
    "    coherence = cm.get_coherence()\n",
    "    return coherence\n",
    "\n",
    "coherences = []\n",
    "range_ = list(range(2, 60))\n",
    "for i in range_:\n",
    "    model = KMeans(i)\n",
    "    model.fit(tweet_text_count_train)\n",
    "    \n",
    "    kmeans_count_labels_train = model.predict(tweet_text_count_train)\n",
    "    kmeans_count_labels_validation = model.predict(tweet_text_count_validation)\n",
    "    kmeans_count_labels_test = model.predict(tweet_text_count_test)\n",
    "\n",
    "    coh = calc_coherence(model, kmeans_count_labels_train, kmeans_count_labels_validation)\n",
    "    coherences.append(coh)\n",
    "    \n",
    "plt.plot(range_, coherences)\n",
    "plt.xlabel('Number of components')\n",
    "plt.ylabel('Coherence score on train set')\n",
    "plt.show()"
   ]
  },
  {
   "cell_type": "code",
   "execution_count": 280,
   "id": "29b27284",
   "metadata": {},
   "outputs": [
    {
     "name": "stdout",
     "output_type": "stream",
     "text": [
      "Coherence max: [(4, -2.8304392776468106)]\n"
     ]
    }
   ],
   "source": [
    "print(f'Coherence max: {[(i+2, c) for i, c in enumerate(coherences) if c == max(coherences)]}')"
   ]
  },
  {
   "cell_type": "code",
   "execution_count": 281,
   "id": "201d0b6e",
   "metadata": {},
   "outputs": [],
   "source": [
    "model = KMeans(5)\n",
    "model.fit(tweet_text_count_train)\n",
    "\n",
    "kmeans_count_labels_train = model.predict(tweet_text_count_train)\n",
    "kmeans_count_labels_validation = model.predict(tweet_text_count_validation)\n",
    "kmeans_count_labels_test = model.predict(tweet_text_count_test)"
   ]
  },
  {
   "cell_type": "code",
   "execution_count": 282,
   "id": "802e1f3a",
   "metadata": {},
   "outputs": [
    {
     "name": "stdout",
     "output_type": "stream",
     "text": [
      "I love how when I'm stressed my body decides to react by causing me massive pain. \n",
      "Hey what do you know, one of the witnesses supporting Darren Wilson's story lied! And is racist! Mind blown! http://t.co/0k25FE024w \n",
      "@SincerelyTumblr: One day I want to travel with my bestfriend 🌏✈️ http://t.co/AXD3Ax5qC1 DONE DID TRAVELED DA WORLD!! @Bethanycsmithh ❤️\n",
      "\n",
      "love being able to be comfortable in my own room😃👍 \n",
      "#New#color#new#beginning#new#goals#dont#giveup#never#life#should#be#easy @ skdar http://t.co/bzmXE0K98i\n",
      "Produce all kinds of Creative Designs #like15| http://t.co/OXeuznMhY8 http://t.co/w4eZ9mObFJ\n",
      "\n",
      "@oneplanetmikey @misskylie77 I had never heard of them before, but I quite liked it!\n",
      "Love coming to school knowing I have tests all day \n",
      "you is very much right my brother when I am done I still will not have a car, and when I am done praising Allah I to will still  (1/2)\n",
      "\n"
     ]
    }
   ],
   "source": [
    "occurences = {i:0 for i in range(max(kmeans_count_labels_train))}\n",
    "for i in occurences.keys():\n",
    "    occurences[i] = (kmeans_count_labels_train == i).sum()\n",
    "    \n",
    "sorted_occ_keys = sorted(occurences, key=occurences.get, reverse=True)\n",
    "\n",
    "for i in range(3):\n",
    "    indices = np.where(kmeans_count_labels_train == i)[0]\n",
    "    indices_random = np.random.randint(0, len(indices), size=3)\n",
    "    [print(df_train['Tweet text'][i]) for i in indices_random.tolist()]\n",
    "    print()"
   ]
  },
  {
   "cell_type": "code",
   "execution_count": 283,
   "id": "fe5f11fc",
   "metadata": {
    "colab": {
     "base_uri": "https://localhost:8080/",
     "height": 279
    },
    "id": "fe5f11fc",
    "outputId": "8000ac3b-1375-4905-8bca-179acf2ac778"
   },
   "outputs": [
    {
     "data": {
      "image/png": "[encoded data removed]",
      "text/plain": [
       "<Figure size 432x288 with 1 Axes>"
      ]
     },
     "metadata": {
      "needs_background": "light"
     },
     "output_type": "display_data"
    }
   ],
   "source": [
    "inertia = []\n",
    "for i in range_:\n",
    "    model = KMeans(i)\n",
    "    model.fit(tweet_text_tfidf_train)\n",
    "    inertia.append(model.inertia_)\n",
    "plt.plot(range_, inertia)\n",
    "plt.xlabel('Number of components')\n",
    "plt.ylabel('Inertia')\n",
    "plt.show()"
   ]
  },
  {
   "cell_type": "code",
   "execution_count": 284,
   "id": "7c551621",
   "metadata": {},
   "outputs": [
    {
     "data": {
      "image/png": "[encoded data removed]",
      "text/plain": [
       "<Figure size 432x288 with 1 Axes>"
      ]
     },
     "metadata": {
      "needs_background": "light"
     },
     "output_type": "display_data"
    }
   ],
   "source": [
    "coherences = []\n",
    "range_ = list(range(2, 60))\n",
    "for i in range_:\n",
    "    model = KMeans(i)\n",
    "    model.fit(tweet_text_tfidf_train)\n",
    "    \n",
    "    kmeans_tfidf_labels_train = model.predict(tweet_text_tfidf_train)\n",
    "    kmeans_tfidf_labels_validation = model.predict(tweet_text_tfidf_validation)\n",
    "    kmeans_tfidf_labels_test = model.predict(tweet_text_tfidf_test)\n",
    "\n",
    "    coh = calc_coherence(model, kmeans_tfidf_labels_train, kmeans_tfidf_labels_validation)\n",
    "    coherences.append(coh)\n",
    "    \n",
    "plt.plot(range_, coherences)\n",
    "plt.xlabel('Number of components')\n",
    "plt.ylabel('Coherence score on train set')\n",
    "plt.show()"
   ]
  },
  {
   "cell_type": "code",
   "execution_count": 285,
   "id": "197c77f2",
   "metadata": {},
   "outputs": [
    {
     "name": "stdout",
     "output_type": "stream",
     "text": [
      "Coherence max: [(10, -2.7687881829278473)]\n"
     ]
    }
   ],
   "source": [
    "print(f'Coherence max: {[(i+2, c) for i, c in enumerate(coherences) if c == max(coherences)]}')"
   ]
  },
  {
   "cell_type": "code",
   "execution_count": 286,
   "id": "da72eb5b",
   "metadata": {},
   "outputs": [],
   "source": [
    "model = KMeans(15)\n",
    "model.fit(tweet_text_tfidf_train)\n",
    "\n",
    "kmeans_tfidf_labels_train = model.predict(tweet_text_tfidf_train)\n",
    "kmeans_tfidf_labels_validation = model.predict(tweet_text_tfidf_validation)\n",
    "kmeans_tfidf_labels_test = model.predict(tweet_text_tfidf_test)"
   ]
  },
  {
   "cell_type": "code",
   "execution_count": 287,
   "id": "615f5255",
   "metadata": {},
   "outputs": [
    {
     "name": "stdout",
     "output_type": "stream",
     "text": [
      "Ay after 2 hours nareceive ko rin yung message haha thanks globe \n",
      ".@7eleven Big Gulps for health care http://t.co/CNuAviEMPY \n",
      "@Luxtonr7 @adamjamesberack LFC worst start in 50 years and still above EFC.... that is funny!!! #WishWeHadA28MilStriker \n",
      "\n",
      "OMG! #Berlin is so fashion!  #vscocam http://t.co/J6qrlxv82z\n",
      "Can't wait to see that he has not talked to me and that he will never do it. \n",
      "Saturday selfies miss you guys @ellakcx @taracasey13 jessica101xxx mark8 😘😘😘😘kiss each and one... http://t.co/9tG4rKuYNj\n",
      "\n",
      "@UKLabour ||How dare @David_Cameron not pass legislation to force people to catch buses on those routes. Should be a life in jail.||\n",
      "Hold It Bub! >> http://t.co/M4UO2D7UuF >> #cartoon #comics #funny #jesus \n",
      "Quel domage  RT @CFL_News: No Canada: Bills in TO series, which was a colossal flop, has been cancelled http://t.co/LBIF1WE2pW #CFL #NFL\n",
      "\n"
     ]
    }
   ],
   "source": [
    "occurences = {i:0 for i in range(max(kmeans_tfidf_labels_train))}\n",
    "for i in occurences.keys():\n",
    "    occurences[i] = (kmeans_tfidf_labels_train == i).sum()\n",
    "    \n",
    "sorted_occ_keys = sorted(occurences, key=occurences.get, reverse=True)\n",
    "\n",
    "for i in range(3):\n",
    "    indices = np.where(kmeans_tfidf_labels_train == i)[0]\n",
    "    indices_random = np.random.randint(0, len(indices), size=3)\n",
    "    [print(df_train['Tweet text'][i]) for i in indices_random.tolist()]\n",
    "    print()"
   ]
  },
  {
   "cell_type": "markdown",
   "id": "0vdf4uM_F2cg",
   "metadata": {
    "id": "0vdf4uM_F2cg"
   },
   "source": [
    "### BERTopic"
   ]
  },
  {
   "cell_type": "code",
   "execution_count": 28,
   "id": "0fdbed60",
   "metadata": {},
   "outputs": [],
   "source": [
    "df_train.reset_index(drop=True, inplace=True)\n",
    "df_validation.reset_index(drop=True, inplace=True)\n",
    "df_test.reset_index(drop=True, inplace=True)"
   ]
  },
  {
   "cell_type": "code",
   "execution_count": 29,
   "id": "8c9abb4c",
   "metadata": {},
   "outputs": [],
   "source": [
    "docs = df_validation['topic_text'].values.tolist()\n",
    "\n",
    "def calc_coherence(topic_model, topics):\n",
    "    # Preprocess Documents\n",
    "    documents = pd.DataFrame({\n",
    "        \"Document\": docs,\n",
    "        \"ID\": range(len(docs)),\n",
    "        \"Topic\": topics}\n",
    "    )\n",
    "    \n",
    "    documents_per_topic = documents.groupby(['Topic'], as_index=False).agg({'Document': ' '.join})\n",
    "    \n",
    "    # Preprocess Documents\n",
    "    cleaned_docs = topic_model._preprocess_text(docs)\n",
    "\n",
    "    vectorizer = topic_model.vectorizer_model\n",
    "    analyzer = vectorizer.build_analyzer()\n",
    "\n",
    "    # Extract features for Topic Coherence evaluation\n",
    "    words = vectorizer.get_feature_names()\n",
    "    tokens = [analyzer(doc) for doc in cleaned_docs]\n",
    "    dictionary = corpora.Dictionary(tokens)\n",
    "    corpus = [dictionary.doc2bow(token) for token in tokens]\n",
    "    topic_words = [\n",
    "        [words for words, _ in topic_model.get_topic(topic) if words != ''] \n",
    "    for topic in range(len(set(topics))-1)]\n",
    "    \n",
    "    # Evaluate\n",
    "    cm = CoherenceModel(\n",
    "        topics=topic_words, \n",
    "        texts=tokens, \n",
    "        corpus=corpus,\n",
    "        dictionary=dictionary, \n",
    "        coherence='u_mass'\n",
    "    )\n",
    "    return cm.get_coherence()"
   ]
  },
  {
   "cell_type": "code",
   "execution_count": 406,
   "id": "NRdFJDRVF2m2",
   "metadata": {
    "id": "NRdFJDRVF2m2"
   },
   "outputs": [
    {
     "name": "stdout",
     "output_type": "stream",
     "text": [
      "finished for 5\n",
      "finished for 6\n",
      "finished for 7\n",
      "finished for 8\n",
      "finished for 9\n",
      "finished for 10\n",
      "50.95404648780823s\n"
     ]
    }
   ],
   "source": [
    "tmp = {}\n",
    "start = time()\n",
    "for i in range(5, 11, 1):\n",
    "    for j in range(10, 61, 10):\n",
    "        topic_model = BERTopic(top_n_words=i, min_topic_size=j)\n",
    "        topic_model.fit(df_train['topic_text'])\n",
    "        topics, probs = topic_model.transform(df_validation['topic_text'])\n",
    "        c = calc_coherence(topic_model, topics)\n",
    "        tmp[(i, j)] = c\n",
    "    print(f'finished for {i}')\n",
    "end = time()\n",
    "print(f'{end-start}s')"
   ]
  },
  {
   "cell_type": "code",
   "execution_count": 412,
   "id": "b9054507",
   "metadata": {},
   "outputs": [
    {
     "data": {
      "text/plain": [
       "{(5, 10): nan,\n",
       " (5, 20): -17.242793086272712,\n",
       " (5, 30): -16.628126361823277,\n",
       " (5, 40): -16.34264203731877,\n",
       " (5, 50): -18.674374299348923,\n",
       " (5, 60): -17.62443116586082,\n",
       " (6, 10): nan,\n",
       " (6, 20): -17.627188468235293,\n",
       " (6, 30): -17.465175784019166,\n",
       " (6, 40): -17.41325563468783,\n",
       " (6, 50): -17.361034729475435,\n",
       " (6, 60): -18.362496182882126,\n",
       " (7, 10): -19.010653832842415,\n",
       " (7, 20): -17.245800389232173,\n",
       " (7, 30): -17.6667434716104,\n",
       " (7, 40): -16.947987833962358,\n",
       " (7, 50): -18.25165381413589,\n",
       " (7, 60): -17.806879123837398,\n",
       " (8, 10): -19.22744559924982,\n",
       " (8, 20): -18.27859773546997,\n",
       " (8, 30): -17.88261427844002,\n",
       " (8, 40): -17.411541647895948,\n",
       " (8, 50): -17.577662419233892,\n",
       " (8, 60): -17.962555046897553,\n",
       " (9, 10): -19.409568141497807,\n",
       " (9, 20): -17.96347397618078,\n",
       " (9, 30): -17.72684870070877,\n",
       " (9, 40): -18.259710425786377,\n",
       " (9, 50): -17.65862920503491,\n",
       " (9, 60): -17.432911827623396,\n",
       " (10, 10): -19.288637305173104,\n",
       " (10, 20): -18.11941683649315,\n",
       " (10, 30): -18.366053611395873,\n",
       " (10, 40): -17.69354459990834,\n",
       " (10, 50): -18.1161407248635,\n",
       " (10, 60): -17.41640857453078}"
      ]
     },
     "execution_count": 412,
     "metadata": {},
     "output_type": "execute_result"
    }
   ],
   "source": [
    "tmp"
   ]
  },
  {
   "cell_type": "code",
   "execution_count": 48,
   "id": "f131a327",
   "metadata": {},
   "outputs": [
    {
     "name": "stdout",
     "output_type": "stream",
     "text": [
      "51.17865967750549s\n"
     ]
    }
   ],
   "source": [
    "start = time()\n",
    "topic_model = BERTopic(top_n_words=10, min_topic_size=20)\n",
    "topics, probs = topic_model.fit_transform(df_train['topic_text'])\n",
    "\n",
    "pred_train = topic_model.transform(df_train['topic_text'])\n",
    "pred_validation = topic_model.transform(df_validation['topic_text'])\n",
    "pred_test = topic_model.transform(df_test['topic_text'])\n",
    "end = time()\n",
    "print(f'{end-start}s')"
   ]
  },
  {
   "cell_type": "code",
   "execution_count": 292,
   "id": "8adaf242",
   "metadata": {},
   "outputs": [],
   "source": [
    "# probability_threshold = 0.07\n",
    "# new_topics = [np.argmax(prob) if max(prob) >= probability_threshold else -1 for prob in pred_train[1]]\n",
    "# np.unique(new_topics, return_counts=True)"
   ]
  },
  {
   "cell_type": "code",
   "execution_count": 293,
   "id": "c1f130b2",
   "metadata": {},
   "outputs": [],
   "source": [
    "# probability_threshold = 0.07\n",
    "# new_topics_train = [np.argmax(prob) if max(prob) >= probability_threshold else -1 for prob in pred_train[1]]\n",
    "# new_topics_validation = [np.argmax(prob) if max(prob) >= probability_threshold else -1 for prob in pred_validation[1]]\n",
    "# new_topics_test = [np.argmax(prob) if max(prob) >= probability_threshold else -1 for prob in pred_test[1]]\n",
    "# np.unique(new_topics_train, return_counts=True)"
   ]
  },
  {
   "cell_type": "code",
   "execution_count": 49,
   "id": "W9IK-LziICsL",
   "metadata": {
    "colab": {
     "base_uri": "https://localhost:8080/",
     "height": 645
    },
    "id": "W9IK-LziICsL",
    "outputId": "76f344ac-14f1-47a9-fc10-eef060d23b5a",
    "scrolled": true
   },
   "outputs": [
    {
     "data": {
      "text/plain": "    Topic  Count                            Name\n0      -1   1189          -1_good_like_love_work\n1       0    271     0_police_black_obama_people\n2       1    135       1_sleep_wake_hour_morning\n3       2    126          2_game_play_win_season\n4       3    120          3_funny_think_know_lol\n5       4     97         4_girl_wear_selfie_size\n6       5     93  5_christmas_xmas_merry_holiday\n7       6     90     6_sony_phone_mobile_service\n8       7     86  7_twitter_tweet_follower_sorry\n9       8     73          8_day_year_today_start\n10      9     70        9_study_school_math_exam\n11     10     70      10_food_mom_turkey_chicken\n12     11     63   11_weather_winter_freeze_snow\n13     12     51       12_love_pain_feeling_hurt\n14     13     42   13_music_rock_song_supersonic\n15     14     33    14_friday_monday_sunday_week\n16     15     26    15_miss_comedy_movie_forever\n17     16     21  16_time_medicine_author_doctor",
      "text/html": "<div>\n<style scoped>\n    .dataframe tbody tr th:only-of-type {\n        vertical-align: middle;\n    }\n\n    .dataframe tbody tr th {\n        vertical-align: top;\n    }\n\n    .dataframe thead th {\n        text-align: right;\n    }\n</style>\n<table border=\"1\" class=\"dataframe\">\n  <thead>\n    <tr style=\"text-align: right;\">\n      <th></th>\n      <th>Topic</th>\n      <th>Count</th>\n      <th>Name</th>\n    </tr>\n  </thead>\n  <tbody>\n    <tr>\n      <th>0</th>\n      <td>-1</td>\n      <td>1189</td>\n      <td>-1_good_like_love_work</td>\n    </tr>\n    <tr>\n      <th>1</th>\n      <td>0</td>\n      <td>271</td>\n      <td>0_police_black_obama_people</td>\n    </tr>\n    <tr>\n      <th>2</th>\n      <td>1</td>\n      <td>135</td>\n      <td>1_sleep_wake_hour_morning</td>\n    </tr>\n    <tr>\n      <th>3</th>\n      <td>2</td>\n      <td>126</td>\n      <td>2_game_play_win_season</td>\n    </tr>\n    <tr>\n      <th>4</th>\n      <td>3</td>\n      <td>120</td>\n      <td>3_funny_think_know_lol</td>\n    </tr>\n    <tr>\n      <th>5</th>\n      <td>4</td>\n      <td>97</td>\n      <td>4_girl_wear_selfie_size</td>\n    </tr>\n    <tr>\n      <th>6</th>\n      <td>5</td>\n      <td>93</td>\n      <td>5_christmas_xmas_merry_holiday</td>\n    </tr>\n    <tr>\n      <th>7</th>\n      <td>6</td>\n      <td>90</td>\n      <td>6_sony_phone_mobile_service</td>\n    </tr>\n    <tr>\n      <th>8</th>\n      <td>7</td>\n      <td>86</td>\n      <td>7_twitter_tweet_follower_sorry</td>\n    </tr>\n    <tr>\n      <th>9</th>\n      <td>8</td>\n      <td>73</td>\n      <td>8_day_year_today_start</td>\n    </tr>\n    <tr>\n      <th>10</th>\n      <td>9</td>\n      <td>70</td>\n      <td>9_study_school_math_exam</td>\n    </tr>\n    <tr>\n      <th>11</th>\n      <td>10</td>\n      <td>70</td>\n      <td>10_food_mom_turkey_chicken</td>\n    </tr>\n    <tr>\n      <th>12</th>\n      <td>11</td>\n      <td>63</td>\n      <td>11_weather_winter_freeze_snow</td>\n    </tr>\n    <tr>\n      <th>13</th>\n      <td>12</td>\n      <td>51</td>\n      <td>12_love_pain_feeling_hurt</td>\n    </tr>\n    <tr>\n      <th>14</th>\n      <td>13</td>\n      <td>42</td>\n      <td>13_music_rock_song_supersonic</td>\n    </tr>\n    <tr>\n      <th>15</th>\n      <td>14</td>\n      <td>33</td>\n      <td>14_friday_monday_sunday_week</td>\n    </tr>\n    <tr>\n      <th>16</th>\n      <td>15</td>\n      <td>26</td>\n      <td>15_miss_comedy_movie_forever</td>\n    </tr>\n    <tr>\n      <th>17</th>\n      <td>16</td>\n      <td>21</td>\n      <td>16_time_medicine_author_doctor</td>\n    </tr>\n  </tbody>\n</table>\n</div>"
     },
     "execution_count": 49,
     "metadata": {},
     "output_type": "execute_result"
    }
   ],
   "source": [
    "topic_model.get_topic_info()"
   ]
  },
  {
   "cell_type": "code",
   "execution_count": 295,
   "id": "ca352aef",
   "metadata": {},
   "outputs": [],
   "source": [
    "# df_train_bertopic = df_train.copy()\n",
    "# df_validation_bertopic = df_validation.copy()\n",
    "# df_test_bertopic = df_test.copy()"
   ]
  },
  {
   "cell_type": "code",
   "execution_count": 50,
   "id": "7e68e524",
   "metadata": {
    "pycharm": {
     "name": "#%%\n"
    }
   },
   "outputs": [],
   "source": [
    "df_train['topic'] = pred_train[0]\n",
    "df_validation['topic'] = pred_validation[0]\n",
    "df_test['topic'] = pred_test[0]"
   ]
  },
  {
   "cell_type": "code",
   "execution_count": 369,
   "id": "da6806a9",
   "metadata": {},
   "outputs": [
    {
     "data": {
      "text/plain": [
       "sklearn.feature_extraction.text.CountVectorizer"
      ]
     },
     "execution_count": 369,
     "metadata": {},
     "output_type": "execute_result"
    }
   ],
   "source": [
    "type(topic_model.vectorizer_model)"
   ]
  },
  {
   "cell_type": "code",
   "execution_count": 297,
   "id": "8e76a786",
   "metadata": {},
   "outputs": [],
   "source": [
    "# df_train_bertopic.head()"
   ]
  },
  {
   "cell_type": "markdown",
   "id": "6cad485a",
   "metadata": {
    "id": "6cad485a",
    "pycharm": {
     "name": "#%% md\n"
    }
   },
   "source": [
    "## Embedding"
   ]
  },
  {
   "cell_type": "code",
   "execution_count": 33,
   "id": "cc4e8fed",
   "metadata": {
    "id": "cc4e8fed",
    "pycharm": {
     "name": "#%%\n"
    }
   },
   "outputs": [],
   "source": [
    "tweet_embedding_train = df_train[['topic_text', 'Label']]\n",
    "tweet_embedding_validation = df_validation[['topic_text', 'Label']]\n",
    "tweet_embedding_test = df_test[['topic_text', 'Label']]"
   ]
  },
  {
   "cell_type": "code",
   "execution_count": 34,
   "id": "97c7341c",
   "metadata": {
    "id": "97c7341c",
    "pycharm": {
     "name": "#%%\n"
    }
   },
   "outputs": [],
   "source": [
    "tweet_embedding_train.reset_index(drop=True, inplace=True)\n",
    "tweet_embedding_validation.reset_index(drop=True, inplace=True)\n",
    "tweet_embedding_test.reset_index(drop=True, inplace=True)"
   ]
  },
  {
   "cell_type": "code",
   "execution_count": 35,
   "id": "c409d8cc",
   "metadata": {
    "id": "c409d8cc",
    "pycharm": {
     "name": "#%%\n"
    }
   },
   "outputs": [],
   "source": [
    "max_vocab_size = 10_000\n",
    "vocab = Vocab(max_size=max_vocab_size, min_freq=20)\n",
    "\n",
    "TWEET = Field('text', numericalizer=vocab)\n",
    "LABEL = LabelField('Label')\n",
    "\n",
    "fields = [TWEET, LABEL]\n",
    "\n",
    "train = TabularDataset.from_pandas(df_train[['topic_text', 'Label']], fields)\n",
    "validation = TabularDataset.from_pandas(df_validation[['topic_text', 'Label']], fields)\n",
    "test = TabularDataset.from_pandas(df_test[['topic_text', 'Label']], fields)\n",
    "train.finalize_fields()\n",
    "\n",
    "glove = GloVe()\n",
    "embeddings = glove.load_vocab(vocab)\n",
    "\n",
    "train_batch = train.batch(add_padding=True)\n",
    "validation_batch = validation.batch(add_padding=True)\n",
    "test_batch = test.batch(add_padding=True)"
   ]
  },
  {
   "cell_type": "code",
   "execution_count": 36,
   "id": "e707fbc3",
   "metadata": {
    "colab": {
     "base_uri": "https://localhost:8080/"
    },
    "id": "e707fbc3",
    "outputId": "68f44c29-513e-40cf-a62d-f02ee2cb168c",
    "pycharm": {
     "name": "#%%\n"
    }
   },
   "outputs": [
    {
     "data": {
      "text/plain": "array([[ 0, 90, 59,  0,  1,  1,  1,  1,  1,  1,  1,  1,  1,  1,  1,  1,\n         1,  1,  1,  1,  1,  1,  1,  1,  1,  1,  1,  1,  1,  1,  1,  1,\n         1,  1,  1,  1,  1,  1,  1,  1,  1,  1,  1,  1,  1,  1,  1,  1,\n         1,  1,  1,  1,  1,  1,  1,  1,  1,  1,  1,  1,  1,  1,  1,  1,\n         1,  1,  1,  1,  1,  1,  1,  1,  1,  1,  1,  1,  1,  1,  1,  1,\n         1,  1,  1],\n       [ 0,  9,  0, 99,  0,  0,  8,  0,  1,  1,  1,  1,  1,  1,  1,  1,\n         1,  1,  1,  1,  1,  1,  1,  1,  1,  1,  1,  1,  1,  1,  1,  1,\n         1,  1,  1,  1,  1,  1,  1,  1,  1,  1,  1,  1,  1,  1,  1,  1,\n         1,  1,  1,  1,  1,  1,  1,  1,  1,  1,  1,  1,  1,  1,  1,  1,\n         1,  1,  1,  1,  1,  1,  1,  1,  1,  1,  1,  1,  1,  1,  1,  1,\n         1,  1,  1],\n       [ 6,  0, 17,  1,  1,  1,  1,  1,  1,  1,  1,  1,  1,  1,  1,  1,\n         1,  1,  1,  1,  1,  1,  1,  1,  1,  1,  1,  1,  1,  1,  1,  1,\n         1,  1,  1,  1,  1,  1,  1,  1,  1,  1,  1,  1,  1,  1,  1,  1,\n         1,  1,  1,  1,  1,  1,  1,  1,  1,  1,  1,  1,  1,  1,  1,  1,\n         1,  1,  1,  1,  1,  1,  1,  1,  1,  1,  1,  1,  1,  1,  1,  1,\n         1,  1,  1],\n       [55,  0,  4,  0,  0,  0,  0,  0,  1,  1,  1,  1,  1,  1,  1,  1,\n         1,  1,  1,  1,  1,  1,  1,  1,  1,  1,  1,  1,  1,  1,  1,  1,\n         1,  1,  1,  1,  1,  1,  1,  1,  1,  1,  1,  1,  1,  1,  1,  1,\n         1,  1,  1,  1,  1,  1,  1,  1,  1,  1,  1,  1,  1,  1,  1,  1,\n         1,  1,  1,  1,  1,  1,  1,  1,  1,  1,  1,  1,  1,  1,  1,  1,\n         1,  1,  1],\n       [ 0, 56,  8, 20,  5,  0, 38, 24, 35,  0,  1,  1,  1,  1,  1,  1,\n         1,  1,  1,  1,  1,  1,  1,  1,  1,  1,  1,  1,  1,  1,  1,  1,\n         1,  1,  1,  1,  1,  1,  1,  1,  1,  1,  1,  1,  1,  1,  1,  1,\n         1,  1,  1,  1,  1,  1,  1,  1,  1,  1,  1,  1,  1,  1,  1,  1,\n         1,  1,  1,  1,  1,  1,  1,  1,  1,  1,  1,  1,  1,  1,  1,  1,\n         1,  1,  1]])"
     },
     "execution_count": 36,
     "metadata": {},
     "output_type": "execute_result"
    }
   ],
   "source": [
    "train_batch['text'].astype(int)[0:5]"
   ]
  },
  {
   "cell_type": "code",
   "execution_count": 37,
   "id": "df0d0eed",
   "metadata": {
    "id": "df0d0eed",
    "pycharm": {
     "name": "#%%\n"
    }
   },
   "outputs": [],
   "source": [
    "tweet_train = embeddings[train_batch['text'].astype(int)]\n",
    "tweet_validation = embeddings[validation_batch['text'].astype(int)]\n",
    "tweet_test = embeddings[test_batch['text'].astype(int)]\n",
    "\n",
    "# Mean\n",
    "tweet_train_mean = tweet_train.mean(axis=1)\n",
    "tweet_validation_mean = tweet_validation.mean(axis=1)\n",
    "tweet_test_mean = tweet_test.mean(axis=1)"
   ]
  },
  {
   "cell_type": "code",
   "execution_count": 38,
   "id": "cf850683",
   "metadata": {
    "id": "cf850683",
    "pycharm": {
     "name": "#%%\n"
    }
   },
   "outputs": [],
   "source": [
    "embeddings_train_mean_df = pd.DataFrame(tweet_train_mean)\n",
    "df_train = pd.merge(df_train, embeddings_train_mean_df, left_index=True, right_index=True)\n",
    "\n",
    "embeddings_validation_mean_df = pd.DataFrame(tweet_validation_mean)\n",
    "df_validation = pd.merge(df_validation, embeddings_validation_mean_df, left_index=True, right_index=True)\n",
    "\n",
    "embeddings_test_mean_df = pd.DataFrame(tweet_test_mean)\n",
    "df_test = pd.merge(df_test, embeddings_test_mean_df, left_index=True, right_index=True)"
   ]
  },
  {
   "cell_type": "code",
   "execution_count": 39,
   "id": "470341bb",
   "metadata": {
    "colab": {
     "base_uri": "https://localhost:8080/",
     "height": 554
    },
    "id": "470341bb",
    "outputId": "e580e876-4810-4056-a94c-62109a8a1e33",
    "pycharm": {
     "name": "#%%\n"
    }
   },
   "outputs": [
    {
     "data": {
      "text/plain": "   Tweet index  Label                                         Tweet text  \\\n0         2599      0  Buzzing about going home tonight, back for a m...   \n1         2618      1  Agree with @FrankFerragine @BTtoronto some peo...   \n2         1560      1   Working hard right now  http://t.co/ZrW0j1TgNt\\r   \n3         1473      0  You'd hope that a film like that would lose re...   \n4          400      0  just pulled up to school for the first time in...   \n\n   emoji_count                                         clean_text  \\\n0            0    buzzing about going home tonight back for month   \n1            0  agree with some people sigh others will hear t...   \n2            0                             working hard right now   \n3            0  you'd hope that film like that would lose rele...   \n4            0  just pulled school for the first time life goo...   \n\n                                              lemmas  word_count  char_count  \\\n0                       [buzz, home, tonight, month]           8          40   \n1  [agree, people, sigh, hear, husband, sigh, tim...          16          76   \n2                                [work, hard, right]           4          19   \n3  [hope, film, like, lose, relevance, couple, de...          14          68   \n4  [pull, school, time, life, good, mood, find, s...          19          87   \n\n   all_uppercase_count  all_lowercase_count  ...       290       291  \\\n0                    0                    8  ... -0.753249  0.939319   \n1                    0                   15  ... -0.716299  0.848063   \n2                    0                    3  ... -0.764081  0.955160   \n3                    0                   15  ... -0.723146  0.846089   \n4                    0                   26  ... -0.709673  0.847867   \n\n        292       293       294       295       296       297       298  \\\n0  0.391430 -0.192066 -0.423959 -0.745439 -1.501125  0.697494 -1.436167   \n1  0.336341 -0.206110 -0.403815 -0.684318 -1.386490  0.633868 -1.356997   \n2  0.419137 -0.186511 -0.416746 -0.754155 -1.536151  0.720035 -1.449107   \n3  0.320470 -0.205208 -0.415427 -0.670879 -1.362480  0.610251 -1.348016   \n4  0.338218 -0.183891 -0.383692 -0.686758 -1.377035  0.622662 -1.335411   \n\n        299  \n0  0.173538  \n1  0.149144  \n2  0.167186  \n3  0.145859  \n4  0.153971  \n\n[5 rows x 325 columns]",
      "text/html": "<div>\n<style scoped>\n    .dataframe tbody tr th:only-of-type {\n        vertical-align: middle;\n    }\n\n    .dataframe tbody tr th {\n        vertical-align: top;\n    }\n\n    .dataframe thead th {\n        text-align: right;\n    }\n</style>\n<table border=\"1\" class=\"dataframe\">\n  <thead>\n    <tr style=\"text-align: right;\">\n      <th></th>\n      <th>Tweet index</th>\n      <th>Label</th>\n      <th>Tweet text</th>\n      <th>emoji_count</th>\n      <th>clean_text</th>\n      <th>lemmas</th>\n      <th>word_count</th>\n      <th>char_count</th>\n      <th>all_uppercase_count</th>\n      <th>all_lowercase_count</th>\n      <th>...</th>\n      <th>290</th>\n      <th>291</th>\n      <th>292</th>\n      <th>293</th>\n      <th>294</th>\n      <th>295</th>\n      <th>296</th>\n      <th>297</th>\n      <th>298</th>\n      <th>299</th>\n    </tr>\n  </thead>\n  <tbody>\n    <tr>\n      <th>0</th>\n      <td>2599</td>\n      <td>0</td>\n      <td>Buzzing about going home tonight, back for a m...</td>\n      <td>0</td>\n      <td>buzzing about going home tonight back for month</td>\n      <td>[buzz, home, tonight, month]</td>\n      <td>8</td>\n      <td>40</td>\n      <td>0</td>\n      <td>8</td>\n      <td>...</td>\n      <td>-0.753249</td>\n      <td>0.939319</td>\n      <td>0.391430</td>\n      <td>-0.192066</td>\n      <td>-0.423959</td>\n      <td>-0.745439</td>\n      <td>-1.501125</td>\n      <td>0.697494</td>\n      <td>-1.436167</td>\n      <td>0.173538</td>\n    </tr>\n    <tr>\n      <th>1</th>\n      <td>2618</td>\n      <td>1</td>\n      <td>Agree with @FrankFerragine @BTtoronto some peo...</td>\n      <td>0</td>\n      <td>agree with some people sigh others will hear t...</td>\n      <td>[agree, people, sigh, hear, husband, sigh, tim...</td>\n      <td>16</td>\n      <td>76</td>\n      <td>0</td>\n      <td>15</td>\n      <td>...</td>\n      <td>-0.716299</td>\n      <td>0.848063</td>\n      <td>0.336341</td>\n      <td>-0.206110</td>\n      <td>-0.403815</td>\n      <td>-0.684318</td>\n      <td>-1.386490</td>\n      <td>0.633868</td>\n      <td>-1.356997</td>\n      <td>0.149144</td>\n    </tr>\n    <tr>\n      <th>2</th>\n      <td>1560</td>\n      <td>1</td>\n      <td>Working hard right now  http://t.co/ZrW0j1TgNt\\r</td>\n      <td>0</td>\n      <td>working hard right now</td>\n      <td>[work, hard, right]</td>\n      <td>4</td>\n      <td>19</td>\n      <td>0</td>\n      <td>3</td>\n      <td>...</td>\n      <td>-0.764081</td>\n      <td>0.955160</td>\n      <td>0.419137</td>\n      <td>-0.186511</td>\n      <td>-0.416746</td>\n      <td>-0.754155</td>\n      <td>-1.536151</td>\n      <td>0.720035</td>\n      <td>-1.449107</td>\n      <td>0.167186</td>\n    </tr>\n    <tr>\n      <th>3</th>\n      <td>1473</td>\n      <td>0</td>\n      <td>You'd hope that a film like that would lose re...</td>\n      <td>0</td>\n      <td>you'd hope that film like that would lose rele...</td>\n      <td>[hope, film, like, lose, relevance, couple, de...</td>\n      <td>14</td>\n      <td>68</td>\n      <td>0</td>\n      <td>15</td>\n      <td>...</td>\n      <td>-0.723146</td>\n      <td>0.846089</td>\n      <td>0.320470</td>\n      <td>-0.205208</td>\n      <td>-0.415427</td>\n      <td>-0.670879</td>\n      <td>-1.362480</td>\n      <td>0.610251</td>\n      <td>-1.348016</td>\n      <td>0.145859</td>\n    </tr>\n    <tr>\n      <th>4</th>\n      <td>400</td>\n      <td>0</td>\n      <td>just pulled up to school for the first time in...</td>\n      <td>0</td>\n      <td>just pulled school for the first time life goo...</td>\n      <td>[pull, school, time, life, good, mood, find, s...</td>\n      <td>19</td>\n      <td>87</td>\n      <td>0</td>\n      <td>26</td>\n      <td>...</td>\n      <td>-0.709673</td>\n      <td>0.847867</td>\n      <td>0.338218</td>\n      <td>-0.183891</td>\n      <td>-0.383692</td>\n      <td>-0.686758</td>\n      <td>-1.377035</td>\n      <td>0.622662</td>\n      <td>-1.335411</td>\n      <td>0.153971</td>\n    </tr>\n  </tbody>\n</table>\n<p>5 rows × 325 columns</p>\n</div>"
     },
     "execution_count": 39,
     "metadata": {},
     "output_type": "execute_result"
    }
   ],
   "source": [
    "df_train.head()"
   ]
  },
  {
   "cell_type": "code",
   "execution_count": 40,
   "id": "1208a12f",
   "metadata": {
    "colab": {
     "base_uri": "https://localhost:8080/"
    },
    "id": "1208a12f",
    "outputId": "aa68c64c-f083-4235-df46-4027f5ef3168"
   },
   "outputs": [
    {
     "name": "stderr",
     "output_type": "stream",
     "text": [
      "[nltk_data] Downloading package vader_lexicon to C:\\Users\\Marino\n",
      "[nltk_data]     PC\\AppData\\Roaming\\nltk_data...\n",
      "[nltk_data]   Package vader_lexicon is already up-to-date!\n"
     ]
    },
    {
     "data": {
      "text/plain": "True"
     },
     "execution_count": 40,
     "metadata": {},
     "output_type": "execute_result"
    }
   ],
   "source": [
    "nltk.download('vader_lexicon') # if error run this"
   ]
  },
  {
   "cell_type": "code",
   "execution_count": 41,
   "id": "af3801bc",
   "metadata": {
    "id": "af3801bc",
    "pycharm": {
     "name": "#%%\n"
    }
   },
   "outputs": [],
   "source": [
    "def pos_neg_words(df, limit):\n",
    "    sid = SentimentIntensityAnalyzer()\n",
    "\n",
    "    neg_words = []\n",
    "    neg_word_count = []\n",
    "    pos_words = []\n",
    "    pos_word_count = []\n",
    "    for index, row in df.iterrows():\n",
    "        lemmas = []\n",
    "        if len(row['topic_text']) > 0:\n",
    "            doc = nlp(row['topic_text'])\n",
    "            for token in doc:\n",
    "                lemmas.append(token.lemma_)\n",
    "\n",
    "            current_pos = []\n",
    "            current_neut = []\n",
    "            current_neg = []\n",
    "            for word in lemmas:\n",
    "                if (sid.polarity_scores(word)['compound']) >= limit:\n",
    "                    current_pos.append(word)\n",
    "                elif (sid.polarity_scores(word)['compound']) <= -limit:\n",
    "                    current_neg.append(word)\n",
    "                else:\n",
    "                    current_neut.append(word)\n",
    "\n",
    "            neg_words.append(deepcopy(current_neg))\n",
    "            neg_word_count.append(deepcopy(len(current_neg)))\n",
    "            pos_words.append(deepcopy(current_pos))\n",
    "            pos_word_count.append(deepcopy(len(current_pos)))\n",
    "        else:\n",
    "            neg_words.append([])\n",
    "            neg_word_count.append(0)\n",
    "            pos_words.append([])\n",
    "            pos_word_count.append(0)\n",
    "    return neg_words, neg_word_count, pos_words, pos_word_count"
   ]
  },
  {
   "cell_type": "code",
   "execution_count": 42,
   "id": "1447d136",
   "metadata": {
    "id": "1447d136",
    "pycharm": {
     "name": "#%%\n"
    }
   },
   "outputs": [],
   "source": [
    "neg_words_train, neg_word_count_train, pos_words_train, pos_word_count_train = pos_neg_words(df_train, 0.2)\n",
    "neg_words_val, neg_word_count_val, pos_words_val, pos_word_count_val = pos_neg_words(df_validation, 0.2)\n",
    "neg_words_test, neg_word_count_test, pos_words_test, pos_word_count_test = pos_neg_words(df_test, 0.2)"
   ]
  },
  {
   "cell_type": "code",
   "execution_count": 43,
   "id": "5c4c71a3",
   "metadata": {
    "colab": {
     "base_uri": "https://localhost:8080/",
     "height": 693
    },
    "id": "5c4c71a3",
    "outputId": "1738c41e-41dc-4738-b858-0d45ce47976b",
    "pycharm": {
     "name": "#%%\n"
    }
   },
   "outputs": [
    {
     "data": {
      "text/plain": "   Tweet index  Label                                         Tweet text  \\\n0         2599      0  Buzzing about going home tonight, back for a m...   \n1         2618      1  Agree with @FrankFerragine @BTtoronto some peo...   \n2         1560      1   Working hard right now  http://t.co/ZrW0j1TgNt\\r   \n3         1473      0  You'd hope that a film like that would lose re...   \n4          400      0  just pulled up to school for the first time in...   \n\n   emoji_count                                         clean_text  \\\n0            0    buzzing about going home tonight back for month   \n1            0  agree with some people sigh others will hear t...   \n2            0                             working hard right now   \n3            0  you'd hope that film like that would lose rele...   \n4            0  just pulled school for the first time life goo...   \n\n                                              lemmas  word_count  char_count  \\\n0                       [buzz, home, tonight, month]           8          40   \n1  [agree, people, sigh, hear, husband, sigh, tim...          16          76   \n2                                [work, hard, right]           4          19   \n3  [hope, film, like, lose, relevance, couple, de...          14          68   \n4  [pull, school, time, life, good, mood, find, s...          19          87   \n\n   all_uppercase_count  all_lowercase_count  ...       294       295  \\\n0                    0                    8  ... -0.423959 -0.745439   \n1                    0                   15  ... -0.403815 -0.684318   \n2                    0                    3  ... -0.416746 -0.754155   \n3                    0                   15  ... -0.415427 -0.670879   \n4                    0                   26  ... -0.383692 -0.686758   \n\n        296       297       298       299  neg_word_count          pos_word  \\\n0 -1.501125  0.697494 -1.436167  0.173538               0                []   \n1 -1.386490  0.633868 -1.356997  0.149144               0  [agree, curious]   \n2 -1.536151  0.720035 -1.449107  0.167186               0                []   \n3 -1.362480  0.610251 -1.348016  0.145859               1      [hope, like]   \n4 -1.377035  0.622662 -1.335411  0.153971               0     [good, bless]   \n\n   pos_word_count  neg_word  \n0               0        []  \n1               2        []  \n2               0        []  \n3               2    [lose]  \n4               2        []  \n\n[5 rows x 329 columns]",
      "text/html": "<div>\n<style scoped>\n    .dataframe tbody tr th:only-of-type {\n        vertical-align: middle;\n    }\n\n    .dataframe tbody tr th {\n        vertical-align: top;\n    }\n\n    .dataframe thead th {\n        text-align: right;\n    }\n</style>\n<table border=\"1\" class=\"dataframe\">\n  <thead>\n    <tr style=\"text-align: right;\">\n      <th></th>\n      <th>Tweet index</th>\n      <th>Label</th>\n      <th>Tweet text</th>\n      <th>emoji_count</th>\n      <th>clean_text</th>\n      <th>lemmas</th>\n      <th>word_count</th>\n      <th>char_count</th>\n      <th>all_uppercase_count</th>\n      <th>all_lowercase_count</th>\n      <th>...</th>\n      <th>294</th>\n      <th>295</th>\n      <th>296</th>\n      <th>297</th>\n      <th>298</th>\n      <th>299</th>\n      <th>neg_word_count</th>\n      <th>pos_word</th>\n      <th>pos_word_count</th>\n      <th>neg_word</th>\n    </tr>\n  </thead>\n  <tbody>\n    <tr>\n      <th>0</th>\n      <td>2599</td>\n      <td>0</td>\n      <td>Buzzing about going home tonight, back for a m...</td>\n      <td>0</td>\n      <td>buzzing about going home tonight back for month</td>\n      <td>[buzz, home, tonight, month]</td>\n      <td>8</td>\n      <td>40</td>\n      <td>0</td>\n      <td>8</td>\n      <td>...</td>\n      <td>-0.423959</td>\n      <td>-0.745439</td>\n      <td>-1.501125</td>\n      <td>0.697494</td>\n      <td>-1.436167</td>\n      <td>0.173538</td>\n      <td>0</td>\n      <td>[]</td>\n      <td>0</td>\n      <td>[]</td>\n    </tr>\n    <tr>\n      <th>1</th>\n      <td>2618</td>\n      <td>1</td>\n      <td>Agree with @FrankFerragine @BTtoronto some peo...</td>\n      <td>0</td>\n      <td>agree with some people sigh others will hear t...</td>\n      <td>[agree, people, sigh, hear, husband, sigh, tim...</td>\n      <td>16</td>\n      <td>76</td>\n      <td>0</td>\n      <td>15</td>\n      <td>...</td>\n      <td>-0.403815</td>\n      <td>-0.684318</td>\n      <td>-1.386490</td>\n      <td>0.633868</td>\n      <td>-1.356997</td>\n      <td>0.149144</td>\n      <td>0</td>\n      <td>[agree, curious]</td>\n      <td>2</td>\n      <td>[]</td>\n    </tr>\n    <tr>\n      <th>2</th>\n      <td>1560</td>\n      <td>1</td>\n      <td>Working hard right now  http://t.co/ZrW0j1TgNt\\r</td>\n      <td>0</td>\n      <td>working hard right now</td>\n      <td>[work, hard, right]</td>\n      <td>4</td>\n      <td>19</td>\n      <td>0</td>\n      <td>3</td>\n      <td>...</td>\n      <td>-0.416746</td>\n      <td>-0.754155</td>\n      <td>-1.536151</td>\n      <td>0.720035</td>\n      <td>-1.449107</td>\n      <td>0.167186</td>\n      <td>0</td>\n      <td>[]</td>\n      <td>0</td>\n      <td>[]</td>\n    </tr>\n    <tr>\n      <th>3</th>\n      <td>1473</td>\n      <td>0</td>\n      <td>You'd hope that a film like that would lose re...</td>\n      <td>0</td>\n      <td>you'd hope that film like that would lose rele...</td>\n      <td>[hope, film, like, lose, relevance, couple, de...</td>\n      <td>14</td>\n      <td>68</td>\n      <td>0</td>\n      <td>15</td>\n      <td>...</td>\n      <td>-0.415427</td>\n      <td>-0.670879</td>\n      <td>-1.362480</td>\n      <td>0.610251</td>\n      <td>-1.348016</td>\n      <td>0.145859</td>\n      <td>1</td>\n      <td>[hope, like]</td>\n      <td>2</td>\n      <td>[lose]</td>\n    </tr>\n    <tr>\n      <th>4</th>\n      <td>400</td>\n      <td>0</td>\n      <td>just pulled up to school for the first time in...</td>\n      <td>0</td>\n      <td>just pulled school for the first time life goo...</td>\n      <td>[pull, school, time, life, good, mood, find, s...</td>\n      <td>19</td>\n      <td>87</td>\n      <td>0</td>\n      <td>26</td>\n      <td>...</td>\n      <td>-0.383692</td>\n      <td>-0.686758</td>\n      <td>-1.377035</td>\n      <td>0.622662</td>\n      <td>-1.335411</td>\n      <td>0.153971</td>\n      <td>0</td>\n      <td>[good, bless]</td>\n      <td>2</td>\n      <td>[]</td>\n    </tr>\n  </tbody>\n</table>\n<p>5 rows × 329 columns</p>\n</div>"
     },
     "execution_count": 43,
     "metadata": {},
     "output_type": "execute_result"
    }
   ],
   "source": [
    "df_train['neg_word_count'] = neg_word_count_train\n",
    "df_train['pos_word'] = pos_words_train\n",
    "df_train['pos_word_count'] = pos_word_count_train\n",
    "df_train['neg_word'] = neg_words_train\n",
    "\n",
    "df_validation['neg_word_count'] = neg_word_count_val\n",
    "df_validation['pos_word'] = pos_words_val\n",
    "df_validation['pos_word_count'] = pos_word_count_val\n",
    "df_validation['neg_word'] = neg_words_val\n",
    "\n",
    "df_test['neg_word_count'] = neg_word_count_test\n",
    "df_test['pos_word'] = pos_words_test\n",
    "df_test['pos_word_count'] = pos_word_count_test\n",
    "df_test['neg_word'] = neg_words_test\n",
    "\n",
    "df_train.head()"
   ]
  },
  {
   "cell_type": "code",
   "execution_count": 51,
   "id": "b646a702",
   "metadata": {
    "pycharm": {
     "name": "#%%\n"
    }
   },
   "outputs": [
    {
     "data": {
      "text/plain": "['-1_topic',\n '0_topic',\n '1_topic',\n '2_topic',\n '3_topic',\n '4_topic',\n '5_topic',\n '6_topic',\n '7_topic',\n '8_topic',\n '9_topic',\n '10_topic',\n '11_topic',\n '12_topic',\n '13_topic',\n '14_topic',\n '15_topic',\n '16_topic']"
     },
     "execution_count": 51,
     "metadata": {},
     "output_type": "execute_result"
    }
   ],
   "source": [
    "topic_dummies = []\n",
    "for i in topic_model.get_topic_info()['Topic'].values:\n",
    "    topic_dummies.append(f'{i}_topic')\n",
    "    \n",
    "topic_dummies"
   ]
  },
  {
   "cell_type": "code",
   "execution_count": 52,
   "id": "cd7b3407",
   "metadata": {
    "pycharm": {
     "name": "#%%\n"
    }
   },
   "outputs": [
    {
     "data": {
      "text/plain": "   Tweet index  Label                                         Tweet text  \\\n0         2599      0  Buzzing about going home tonight, back for a m...   \n1         2618      1  Agree with @FrankFerragine @BTtoronto some peo...   \n2         1560      1   Working hard right now  http://t.co/ZrW0j1TgNt\\r   \n3         1473      0  You'd hope that a film like that would lose re...   \n4          400      0  just pulled up to school for the first time in...   \n\n   emoji_count                                         clean_text  \\\n0            0    buzzing about going home tonight back for month   \n1            0  agree with some people sigh others will hear t...   \n2            0                             working hard right now   \n3            0  you'd hope that film like that would lose rele...   \n4            0  just pulled school for the first time life goo...   \n\n                                              lemmas  word_count  char_count  \\\n0                       [buzz, home, tonight, month]           8          40   \n1  [agree, people, sigh, hear, husband, sigh, tim...          16          76   \n2                                [work, hard, right]           4          19   \n3  [hope, film, like, lose, relevance, couple, de...          14          68   \n4  [pull, school, time, life, good, mood, find, s...          19          87   \n\n   all_uppercase_count  all_lowercase_count  ...  8_topic  9_topic  10_topic  \\\n0                    0                    8  ...        0        0         0   \n1                    0                   15  ...        0        0         0   \n2                    0                    3  ...        0        0         0   \n3                    0                   15  ...        0        0         0   \n4                    0                   26  ...        0        1         0   \n\n   11_topic  12_topic  13_topic  14_topic  15_topic  16_topic  17_topic  \n0         0         0         0         0         0         0         0  \n1         0         0         0         0         0         0         0  \n2         0         0         0         0         0         0         0  \n3         0         0         0         0         1         0         0  \n4         0         0         0         0         0         0         0  \n\n[5 rows x 348 columns]",
      "text/html": "<div>\n<style scoped>\n    .dataframe tbody tr th:only-of-type {\n        vertical-align: middle;\n    }\n\n    .dataframe tbody tr th {\n        vertical-align: top;\n    }\n\n    .dataframe thead th {\n        text-align: right;\n    }\n</style>\n<table border=\"1\" class=\"dataframe\">\n  <thead>\n    <tr style=\"text-align: right;\">\n      <th></th>\n      <th>Tweet index</th>\n      <th>Label</th>\n      <th>Tweet text</th>\n      <th>emoji_count</th>\n      <th>clean_text</th>\n      <th>lemmas</th>\n      <th>word_count</th>\n      <th>char_count</th>\n      <th>all_uppercase_count</th>\n      <th>all_lowercase_count</th>\n      <th>...</th>\n      <th>8_topic</th>\n      <th>9_topic</th>\n      <th>10_topic</th>\n      <th>11_topic</th>\n      <th>12_topic</th>\n      <th>13_topic</th>\n      <th>14_topic</th>\n      <th>15_topic</th>\n      <th>16_topic</th>\n      <th>17_topic</th>\n    </tr>\n  </thead>\n  <tbody>\n    <tr>\n      <th>0</th>\n      <td>2599</td>\n      <td>0</td>\n      <td>Buzzing about going home tonight, back for a m...</td>\n      <td>0</td>\n      <td>buzzing about going home tonight back for month</td>\n      <td>[buzz, home, tonight, month]</td>\n      <td>8</td>\n      <td>40</td>\n      <td>0</td>\n      <td>8</td>\n      <td>...</td>\n      <td>0</td>\n      <td>0</td>\n      <td>0</td>\n      <td>0</td>\n      <td>0</td>\n      <td>0</td>\n      <td>0</td>\n      <td>0</td>\n      <td>0</td>\n      <td>0</td>\n    </tr>\n    <tr>\n      <th>1</th>\n      <td>2618</td>\n      <td>1</td>\n      <td>Agree with @FrankFerragine @BTtoronto some peo...</td>\n      <td>0</td>\n      <td>agree with some people sigh others will hear t...</td>\n      <td>[agree, people, sigh, hear, husband, sigh, tim...</td>\n      <td>16</td>\n      <td>76</td>\n      <td>0</td>\n      <td>15</td>\n      <td>...</td>\n      <td>0</td>\n      <td>0</td>\n      <td>0</td>\n      <td>0</td>\n      <td>0</td>\n      <td>0</td>\n      <td>0</td>\n      <td>0</td>\n      <td>0</td>\n      <td>0</td>\n    </tr>\n    <tr>\n      <th>2</th>\n      <td>1560</td>\n      <td>1</td>\n      <td>Working hard right now  http://t.co/ZrW0j1TgNt\\r</td>\n      <td>0</td>\n      <td>working hard right now</td>\n      <td>[work, hard, right]</td>\n      <td>4</td>\n      <td>19</td>\n      <td>0</td>\n      <td>3</td>\n      <td>...</td>\n      <td>0</td>\n      <td>0</td>\n      <td>0</td>\n      <td>0</td>\n      <td>0</td>\n      <td>0</td>\n      <td>0</td>\n      <td>0</td>\n      <td>0</td>\n      <td>0</td>\n    </tr>\n    <tr>\n      <th>3</th>\n      <td>1473</td>\n      <td>0</td>\n      <td>You'd hope that a film like that would lose re...</td>\n      <td>0</td>\n      <td>you'd hope that film like that would lose rele...</td>\n      <td>[hope, film, like, lose, relevance, couple, de...</td>\n      <td>14</td>\n      <td>68</td>\n      <td>0</td>\n      <td>15</td>\n      <td>...</td>\n      <td>0</td>\n      <td>0</td>\n      <td>0</td>\n      <td>0</td>\n      <td>0</td>\n      <td>0</td>\n      <td>0</td>\n      <td>1</td>\n      <td>0</td>\n      <td>0</td>\n    </tr>\n    <tr>\n      <th>4</th>\n      <td>400</td>\n      <td>0</td>\n      <td>just pulled up to school for the first time in...</td>\n      <td>0</td>\n      <td>just pulled school for the first time life goo...</td>\n      <td>[pull, school, time, life, good, mood, find, s...</td>\n      <td>19</td>\n      <td>87</td>\n      <td>0</td>\n      <td>26</td>\n      <td>...</td>\n      <td>0</td>\n      <td>1</td>\n      <td>0</td>\n      <td>0</td>\n      <td>0</td>\n      <td>0</td>\n      <td>0</td>\n      <td>0</td>\n      <td>0</td>\n      <td>0</td>\n    </tr>\n  </tbody>\n</table>\n<p>5 rows × 348 columns</p>\n</div>"
     },
     "execution_count": 52,
     "metadata": {},
     "output_type": "execute_result"
    }
   ],
   "source": [
    "df_train[topic_dummies] = pd.get_dummies(df_train['topic'])\n",
    "df_validation[topic_dummies] = pd.get_dummies(df_validation['topic'])\n",
    "df_test[topic_dummies] = pd.get_dummies(df_test['topic'])\n",
    "df_train.head()"
   ]
  },
  {
   "cell_type": "code",
   "execution_count": 311,
   "id": "f49072c8",
   "metadata": {
    "colab": {
     "base_uri": "https://localhost:8080/"
    },
    "id": "f49072c8",
    "outputId": "0f34e424-9c9a-4c8c-ac9d-379d9f001dec",
    "pycharm": {
     "name": "#%%\n"
    }
   },
   "outputs": [],
   "source": [
    "# X_ = df_train[['word_count', 'char_count', 'tag_count', 'hashtag_count', 'link_count', 'smiley_count', 'mark_count', 'has_emoji', 'neg_word_count', 'pos_word_count',\n",
    "#                '-1_topic', '0_topic', '1_topic', '2_topic', '3_topic', '4_topic', '5_topic', '6_topic', '7_topic']]\n",
    "# y_ = df_train['Label']\n",
    "# clf = LogisticRegression(random_state=0, solver='liblinear').fit(X_, y_)\n",
    "\n",
    "# print('Train score')\n",
    "# print(clf.score(X_, y_))\n",
    "\n",
    "# X_val = df_validation[['word_count', 'char_count', 'tag_count', 'hashtag_count', 'link_count', 'smiley_count', 'mark_count', 'has_emoji', 'neg_word_count', 'pos_word_count',\n",
    "#                '-1_topic', '0_topic', '1_topic', '2_topic', '3_topic', '4_topic', '5_topic', '6_topic', '7_topic']]\n",
    "# y_val = df_validation['Label']\n",
    "\n",
    "# print('Validation score')\n",
    "# print(clf.score(X_val, y_val))\n",
    "\n",
    "# X_val = df_test[['word_count', 'char_count', 'tag_count', 'hashtag_count', 'link_count', 'smiley_count', 'mark_count', 'has_emoji', 'neg_word_count', 'pos_word_count',\n",
    "#                '-1_topic', '0_topic', '1_topic', '2_topic', '3_topic', '4_topic', '5_topic', '6_topic', '7_topic']]\n",
    "# y_val = df_test['Label']\n",
    "# print('Test score')\n",
    "# print(clf.score(X_val, y_val))"
   ]
  },
  {
   "cell_type": "code",
   "execution_count": 312,
   "id": "a9f4718f",
   "metadata": {
    "colab": {
     "base_uri": "https://localhost:8080/"
    },
    "id": "a9f4718f",
    "outputId": "f53f55da-c8b7-426a-ef27-c85cc0f0b1b4",
    "pycharm": {
     "name": "#%%\n"
    }
   },
   "outputs": [
    {
     "data": {
      "text/plain": [
       "clean_text        think burgerking working with the sjws fries a...\n",
       "pos_word                                               [win, award]\n",
       "pos_word_count                                                    2\n",
       "neg_word                                                         []\n",
       "neg_word_count                                                    0\n",
       "Name: 25, dtype: object"
      ]
     },
     "execution_count": 312,
     "metadata": {},
     "output_type": "execute_result"
    }
   ],
   "source": [
    "## Pos and neg words within 4 words\n",
    "df_train[['clean_text', 'pos_word', 'pos_word_count', 'neg_word', 'neg_word_count']].iloc[25]"
   ]
  },
  {
   "cell_type": "code",
   "execution_count": 53,
   "id": "fadf4766",
   "metadata": {
    "id": "fadf4766",
    "pycharm": {
     "name": "#%%\n"
    }
   },
   "outputs": [],
   "source": [
    "def pos_neg_within_n(df, n=4):\n",
    "\n",
    "    ret_array = []\n",
    "\n",
    "    for index, row in df.iterrows():\n",
    "        if row['pos_word_count'] > 0 and row['neg_word_count'] > 0:\n",
    "            doc = nlp(row['clean_text'])\n",
    "            lemmas = []\n",
    "            for token in doc:\n",
    "                lemmas.append(token.lemma_)\n",
    "\n",
    "            pos_indexes = np.array([])\n",
    "            for word in row['pos_word']:\n",
    "                pos_indexes = np.append(pos_indexes, np.where(np.array(lemmas) == word))\n",
    "            neg_indexes = np.array([])\n",
    "            for word in row['neg_word']:\n",
    "                neg_indexes = np.append(neg_indexes, np.where(np.array(lemmas) == word))\n",
    "\n",
    "            bool_val = 0\n",
    "            for idx in pos_indexes:\n",
    "                if (abs(neg_indexes-idx) < n).any():\n",
    "                    bool_val = 1\n",
    "            ret_array.append(deepcopy(bool_val))\n",
    "        else:\n",
    "            ret_array.append(0)\n",
    "    return ret_array"
   ]
  },
  {
   "cell_type": "code",
   "execution_count": 54,
   "id": "a9367e01",
   "metadata": {
    "id": "a9367e01",
    "pycharm": {
     "name": "#%%\n"
    }
   },
   "outputs": [],
   "source": [
    "within_5_train = pos_neg_within_n(df_train, n=5)\n",
    "within_5_val = pos_neg_within_n(df_validation, n=5)\n",
    "within_5_test = pos_neg_within_n(df_test, n=5)"
   ]
  },
  {
   "cell_type": "code",
   "execution_count": 55,
   "id": "071f78a5",
   "metadata": {
    "colab": {
     "base_uri": "https://localhost:8080/",
     "height": 902
    },
    "id": "071f78a5",
    "outputId": "3ba0ff1a-9b49-4143-e83c-c112a67c5c5c",
    "pycharm": {
     "name": "#%%\n"
    }
   },
   "outputs": [
    {
     "data": {
      "text/plain": "   Tweet index  Label                                         Tweet text  \\\n0         2599      0  Buzzing about going home tonight, back for a m...   \n1         2618      1  Agree with @FrankFerragine @BTtoronto some peo...   \n2         1560      1   Working hard right now  http://t.co/ZrW0j1TgNt\\r   \n3         1473      0  You'd hope that a film like that would lose re...   \n4          400      0  just pulled up to school for the first time in...   \n\n   emoji_count                                         clean_text  \\\n0            0    buzzing about going home tonight back for month   \n1            0  agree with some people sigh others will hear t...   \n2            0                             working hard right now   \n3            0  you'd hope that film like that would lose rele...   \n4            0  just pulled school for the first time life goo...   \n\n                                              lemmas  word_count  char_count  \\\n0                       [buzz, home, tonight, month]           8          40   \n1  [agree, people, sigh, hear, husband, sigh, tim...          16          76   \n2                                [work, hard, right]           4          19   \n3  [hope, film, like, lose, relevance, couple, de...          14          68   \n4  [pull, school, time, life, good, mood, find, s...          19          87   \n\n   all_uppercase_count  all_lowercase_count  ...  9_topic  10_topic  11_topic  \\\n0                    0                    8  ...        0         0         0   \n1                    0                   15  ...        0         0         0   \n2                    0                    3  ...        0         0         0   \n3                    0                   15  ...        0         0         0   \n4                    0                   26  ...        1         0         0   \n\n   12_topic  13_topic  14_topic  15_topic  16_topic  17_topic  \\\n0         0         0         0         0         0         0   \n1         0         0         0         0         0         0   \n2         0         0         0         0         0         0   \n3         0         0         0         1         0         0   \n4         0         0         0         0         0         0   \n\n   pos_neg_within_5  \n0                 0  \n1                 0  \n2                 0  \n3                 1  \n4                 0  \n\n[5 rows x 349 columns]",
      "text/html": "<div>\n<style scoped>\n    .dataframe tbody tr th:only-of-type {\n        vertical-align: middle;\n    }\n\n    .dataframe tbody tr th {\n        vertical-align: top;\n    }\n\n    .dataframe thead th {\n        text-align: right;\n    }\n</style>\n<table border=\"1\" class=\"dataframe\">\n  <thead>\n    <tr style=\"text-align: right;\">\n      <th></th>\n      <th>Tweet index</th>\n      <th>Label</th>\n      <th>Tweet text</th>\n      <th>emoji_count</th>\n      <th>clean_text</th>\n      <th>lemmas</th>\n      <th>word_count</th>\n      <th>char_count</th>\n      <th>all_uppercase_count</th>\n      <th>all_lowercase_count</th>\n      <th>...</th>\n      <th>9_topic</th>\n      <th>10_topic</th>\n      <th>11_topic</th>\n      <th>12_topic</th>\n      <th>13_topic</th>\n      <th>14_topic</th>\n      <th>15_topic</th>\n      <th>16_topic</th>\n      <th>17_topic</th>\n      <th>pos_neg_within_5</th>\n    </tr>\n  </thead>\n  <tbody>\n    <tr>\n      <th>0</th>\n      <td>2599</td>\n      <td>0</td>\n      <td>Buzzing about going home tonight, back for a m...</td>\n      <td>0</td>\n      <td>buzzing about going home tonight back for month</td>\n      <td>[buzz, home, tonight, month]</td>\n      <td>8</td>\n      <td>40</td>\n      <td>0</td>\n      <td>8</td>\n      <td>...</td>\n      <td>0</td>\n      <td>0</td>\n      <td>0</td>\n      <td>0</td>\n      <td>0</td>\n      <td>0</td>\n      <td>0</td>\n      <td>0</td>\n      <td>0</td>\n      <td>0</td>\n    </tr>\n    <tr>\n      <th>1</th>\n      <td>2618</td>\n      <td>1</td>\n      <td>Agree with @FrankFerragine @BTtoronto some peo...</td>\n      <td>0</td>\n      <td>agree with some people sigh others will hear t...</td>\n      <td>[agree, people, sigh, hear, husband, sigh, tim...</td>\n      <td>16</td>\n      <td>76</td>\n      <td>0</td>\n      <td>15</td>\n      <td>...</td>\n      <td>0</td>\n      <td>0</td>\n      <td>0</td>\n      <td>0</td>\n      <td>0</td>\n      <td>0</td>\n      <td>0</td>\n      <td>0</td>\n      <td>0</td>\n      <td>0</td>\n    </tr>\n    <tr>\n      <th>2</th>\n      <td>1560</td>\n      <td>1</td>\n      <td>Working hard right now  http://t.co/ZrW0j1TgNt\\r</td>\n      <td>0</td>\n      <td>working hard right now</td>\n      <td>[work, hard, right]</td>\n      <td>4</td>\n      <td>19</td>\n      <td>0</td>\n      <td>3</td>\n      <td>...</td>\n      <td>0</td>\n      <td>0</td>\n      <td>0</td>\n      <td>0</td>\n      <td>0</td>\n      <td>0</td>\n      <td>0</td>\n      <td>0</td>\n      <td>0</td>\n      <td>0</td>\n    </tr>\n    <tr>\n      <th>3</th>\n      <td>1473</td>\n      <td>0</td>\n      <td>You'd hope that a film like that would lose re...</td>\n      <td>0</td>\n      <td>you'd hope that film like that would lose rele...</td>\n      <td>[hope, film, like, lose, relevance, couple, de...</td>\n      <td>14</td>\n      <td>68</td>\n      <td>0</td>\n      <td>15</td>\n      <td>...</td>\n      <td>0</td>\n      <td>0</td>\n      <td>0</td>\n      <td>0</td>\n      <td>0</td>\n      <td>0</td>\n      <td>1</td>\n      <td>0</td>\n      <td>0</td>\n      <td>1</td>\n    </tr>\n    <tr>\n      <th>4</th>\n      <td>400</td>\n      <td>0</td>\n      <td>just pulled up to school for the first time in...</td>\n      <td>0</td>\n      <td>just pulled school for the first time life goo...</td>\n      <td>[pull, school, time, life, good, mood, find, s...</td>\n      <td>19</td>\n      <td>87</td>\n      <td>0</td>\n      <td>26</td>\n      <td>...</td>\n      <td>1</td>\n      <td>0</td>\n      <td>0</td>\n      <td>0</td>\n      <td>0</td>\n      <td>0</td>\n      <td>0</td>\n      <td>0</td>\n      <td>0</td>\n      <td>0</td>\n    </tr>\n  </tbody>\n</table>\n<p>5 rows × 349 columns</p>\n</div>"
     },
     "execution_count": 55,
     "metadata": {},
     "output_type": "execute_result"
    }
   ],
   "source": [
    "df_train['pos_neg_within_5'] = within_5_train\n",
    "df_validation['pos_neg_within_5'] = within_5_val\n",
    "df_test['pos_neg_within_5'] = within_5_test\n",
    "\n",
    "df_train.head()"
   ]
  },
  {
   "cell_type": "code",
   "execution_count": 56,
   "id": "6a917861",
   "metadata": {
    "colab": {
     "base_uri": "https://localhost:8080/"
    },
    "id": "6a917861",
    "outputId": "38f3877f-6bef-45bf-cb9d-c1ec2f433743",
    "pycharm": {
     "name": "#%%\n"
    }
   },
   "outputs": [
    {
     "name": "stdout",
     "output_type": "stream",
     "text": [
      "Train score\n",
      "0.5173192771084337\n",
      "Validation score\n",
      "0.5127304653204565\n"
     ]
    }
   ],
   "source": [
    "X_ = df_train[[ 'pos_neg_within_5']]\n",
    "y_ = df_train['Label']\n",
    "\n",
    "clf = LogisticRegression().fit(X_, y_)\n",
    "print('Train score')\n",
    "print(clf.score(X_, y_))\n",
    "\n",
    "X_val = df_validation[[ 'pos_neg_within_5']]\n",
    "y_val = df_validation['Label']\n",
    "\n",
    "print('Validation score')\n",
    "print(clf.score(X_val, y_val))"
   ]
  },
  {
   "cell_type": "markdown",
   "id": "110b6b85",
   "metadata": {},
   "source": [
    "## Baseline classifiers"
   ]
  },
  {
   "cell_type": "code",
   "execution_count": 57,
   "id": "8f1446bf",
   "metadata": {},
   "outputs": [],
   "source": [
    "baseline_features = ['word_count', 'char_count', 'all_uppercase_count', 'all_lowercase_count', 'capitalised_count', 'digit_count']\n",
    "\n",
    "y_train = df_train['Label']\n",
    "x_train = df_train[baseline_features]\n",
    "\n",
    "y_validation = df_validation['Label']\n",
    "x_validation = df_validation[baseline_features]\n",
    "\n",
    "y_test = df_test['Label']\n",
    "x_test = df_test[baseline_features]"
   ]
  },
  {
   "cell_type": "code",
   "execution_count": 58,
   "id": "1c358297",
   "metadata": {},
   "outputs": [
    {
     "data": {
      "text/plain": "   word_count  char_count  all_uppercase_count  all_lowercase_count  \\\n0           8          40                    0                    8   \n1          16          76                    0                   15   \n2           4          19                    0                    3   \n3          14          68                    0                   15   \n4          19          87                    0                   26   \n\n   capitalised_count  digit_count  \n0                  1            0  \n1                  4            0  \n2                  1            2  \n3                  0            0  \n4                  0            1  ",
      "text/html": "<div>\n<style scoped>\n    .dataframe tbody tr th:only-of-type {\n        vertical-align: middle;\n    }\n\n    .dataframe tbody tr th {\n        vertical-align: top;\n    }\n\n    .dataframe thead th {\n        text-align: right;\n    }\n</style>\n<table border=\"1\" class=\"dataframe\">\n  <thead>\n    <tr style=\"text-align: right;\">\n      <th></th>\n      <th>word_count</th>\n      <th>char_count</th>\n      <th>all_uppercase_count</th>\n      <th>all_lowercase_count</th>\n      <th>capitalised_count</th>\n      <th>digit_count</th>\n    </tr>\n  </thead>\n  <tbody>\n    <tr>\n      <th>0</th>\n      <td>8</td>\n      <td>40</td>\n      <td>0</td>\n      <td>8</td>\n      <td>1</td>\n      <td>0</td>\n    </tr>\n    <tr>\n      <th>1</th>\n      <td>16</td>\n      <td>76</td>\n      <td>0</td>\n      <td>15</td>\n      <td>4</td>\n      <td>0</td>\n    </tr>\n    <tr>\n      <th>2</th>\n      <td>4</td>\n      <td>19</td>\n      <td>0</td>\n      <td>3</td>\n      <td>1</td>\n      <td>2</td>\n    </tr>\n    <tr>\n      <th>3</th>\n      <td>14</td>\n      <td>68</td>\n      <td>0</td>\n      <td>15</td>\n      <td>0</td>\n      <td>0</td>\n    </tr>\n    <tr>\n      <th>4</th>\n      <td>19</td>\n      <td>87</td>\n      <td>0</td>\n      <td>26</td>\n      <td>0</td>\n      <td>1</td>\n    </tr>\n  </tbody>\n</table>\n</div>"
     },
     "execution_count": 58,
     "metadata": {},
     "output_type": "execute_result"
    }
   ],
   "source": [
    "x_train.head()"
   ]
  },
  {
   "cell_type": "code",
   "execution_count": 59,
   "id": "10bfde7b",
   "metadata": {},
   "outputs": [],
   "source": [
    "def model_fit_evaluate(model, x_train, y_train, x_validation, y_validation, x_test, y_test):\n",
    "    model.fit(x_train, y_train)\n",
    "    y_train_pred = model.predict(x_train)\n",
    "    print('-------------------------- TRAIN --------------------------')\n",
    "    print(classification_report(y_train, y_train_pred, digits=3), 2*'\\n')\n",
    "    \n",
    "    y_validation_pred = model.predict(x_validation)\n",
    "    print('----------------------- VALIDATION ------------------------')\n",
    "    print(classification_report(y_validation, y_validation_pred, digits=3), 2*'\\n')\n",
    "    \n",
    "    y_test_pred = model.predict(x_test)\n",
    "    print('------------------------- TEST ---------------------------')\n",
    "    print(classification_report(y_test, y_test_pred, digits=3), 2*'\\n')"
   ]
  },
  {
   "cell_type": "markdown",
   "id": "f680c3de",
   "metadata": {},
   "source": [
    "## Global baseline classifier"
   ]
  },
  {
   "cell_type": "code",
   "execution_count": 60,
   "id": "2a4ea71c",
   "metadata": {
    "scrolled": true
   },
   "outputs": [
    {
     "name": "stdout",
     "output_type": "stream",
     "text": [
      "-------------------------- TRAIN --------------------------\n",
      "              precision    recall  f1-score   support\n",
      "\n",
      "           0      0.614     0.478     0.537      1340\n",
      "           1      0.566     0.695     0.624      1316\n",
      "\n",
      "    accuracy                          0.585      2656\n",
      "   macro avg      0.590     0.586     0.581      2656\n",
      "weighted avg      0.590     0.585     0.580      2656\n",
      " \n",
      "\n",
      "\n",
      "----------------------- VALIDATION ------------------------\n",
      "              precision    recall  f1-score   support\n",
      "\n",
      "           0      0.625     0.505     0.559       560\n",
      "           1      0.596     0.706     0.647       579\n",
      "\n",
      "    accuracy                          0.608      1139\n",
      "   macro avg      0.610     0.606     0.603      1139\n",
      "weighted avg      0.610     0.608     0.603      1139\n",
      " \n",
      "\n",
      "\n",
      "------------------------- TEST ---------------------------\n",
      "              precision    recall  f1-score   support\n",
      "\n",
      "           0      0.711     0.510     0.594       473\n",
      "           1      0.479     0.685     0.563       311\n",
      "\n",
      "    accuracy                          0.579       784\n",
      "   macro avg      0.595     0.597     0.579       784\n",
      "weighted avg      0.619     0.579     0.582       784\n",
      " \n",
      "\n",
      "\n"
     ]
    }
   ],
   "source": [
    "model = LogisticRegression()\n",
    "model_fit_evaluate(model, x_train, y_train, x_validation, y_validation, x_test, y_test)"
   ]
  },
  {
   "cell_type": "markdown",
   "id": "5b1eb5de",
   "metadata": {},
   "source": [
    "## Global best classifier"
   ]
  },
  {
   "cell_type": "code",
   "execution_count": 76,
   "id": "960e8938",
   "metadata": {},
   "outputs": [],
   "source": [
    "to_drop = ['Label', 'Tweet text', 'Tweet index', 'clean_text', 'lemmas', 'pos_word', 'neg_word', 'topic', 'topic_text']\n",
    "\n",
    "x_train = df_train.drop(columns=to_drop)\n",
    "x_validation = df_validation.drop(columns=to_drop)\n",
    "x_test = df_test.drop(columns=to_drop)"
   ]
  },
  {
   "cell_type": "code",
   "execution_count": 78,
   "id": "feab4dec",
   "metadata": {},
   "outputs": [
    {
     "name": "stdout",
     "output_type": "stream",
     "text": [
      "Best score: 0.6396754598360308\n",
      "Best score: {'lr__C': 2, 'lr__penalty': 'l2', 'lr__solver': 'newton-cg'}\n"
     ]
    }
   ],
   "source": [
    "pipeline_lr = Pipeline([\n",
    "    ('scaler', StandardScaler()),\n",
    "    ('lr', LogisticRegression())\n",
    "])\n",
    "\n",
    "params = {\n",
    "    'lr__penalty': ['l1', 'l2', 'elasticnet'],\n",
    "    'lr__C': [1e-5, 1e-4, 1e-3, 1e-2, 1e-1, 1, 2, 5],\n",
    "    'lr__solver': ['newton-cg', 'lbfgs', 'liblinear']\n",
    "}\n",
    "\n",
    "\n",
    "search = GridSearchCV(pipeline_lr, param_grid=params, cv=5)\n",
    "search.fit(x_train, y_train)\n",
    "\n",
    "print(f'Best score: {search.best_score_}')\n",
    "print(f'Best score: {search.best_params_}')"
   ]
  },
  {
   "cell_type": "code",
   "execution_count": 79,
   "id": "b55cbe5e",
   "metadata": {},
   "outputs": [
    {
     "name": "stdout",
     "output_type": "stream",
     "text": [
      "-------------------------- TRAIN --------------------------\n",
      "              precision    recall  f1-score   support\n",
      "\n",
      "           0      0.692     0.693     0.693      1340\n",
      "           1      0.687     0.685     0.686      1316\n",
      "\n",
      "    accuracy                          0.689      2656\n",
      "   macro avg      0.689     0.689     0.689      2656\n",
      "weighted avg      0.689     0.689     0.689      2656\n",
      " \n",
      "\n",
      "\n",
      "----------------------- VALIDATION ------------------------\n",
      "              precision    recall  f1-score   support\n",
      "\n",
      "           0      0.707     0.396     0.508       560\n",
      "           1      0.590     0.841     0.694       579\n",
      "\n",
      "    accuracy                          0.622      1139\n",
      "   macro avg      0.649     0.619     0.601      1139\n",
      "weighted avg      0.648     0.622     0.602      1139\n",
      " \n",
      "\n",
      "\n",
      "------------------------- TEST ---------------------------\n",
      "              precision    recall  f1-score   support\n",
      "\n",
      "           0      0.795     0.319     0.456       473\n",
      "           1      0.458     0.875     0.601       311\n",
      "\n",
      "    accuracy                          0.540       784\n",
      "   macro avg      0.626     0.597     0.528       784\n",
      "weighted avg      0.661     0.540     0.513       784\n",
      " \n",
      "\n",
      "\n"
     ]
    }
   ],
   "source": [
    "bp = search.best_params_\n",
    "pipeline_lr_best = Pipeline([\n",
    "    ('scaler', StandardScaler()),\n",
    "    ('lr', LogisticRegression(C=bp['lr__C'], penalty=bp['lr__penalty'], solver=bp['lr__solver']))\n",
    "])\n",
    "\n",
    "model_fit_evaluate(pipeline_lr_best, x_train, y_train, x_validation, y_validation, x_test, y_test)"
   ]
  },
  {
   "cell_type": "code",
   "execution_count": 80,
   "id": "545612e9",
   "metadata": {},
   "outputs": [
    {
     "name": "stdout",
     "output_type": "stream",
     "text": [
      "Best score: 0.640803279384903\n",
      "Best score: {'lr__C': 6.5793322465756825, 'lr__penalty': 'l1', 'lr__solver': 'liblinear'}\n"
     ]
    }
   ],
   "source": [
    "pipeline_lr = Pipeline([\n",
    "    ('scaler', StandardScaler()),\n",
    "    ('lr', LogisticRegression())\n",
    "])\n",
    "\n",
    "params = {\n",
    "    'lr__penalty': ['l1'],\n",
    "    'lr__C': np.logspace(3, -9, 100),\n",
    "    'lr__solver': ['newton-cg', 'lbfgs', 'liblinear'], \n",
    "}\n",
    "\n",
    "\n",
    "search = GridSearchCV(pipeline_lr, param_grid=params, cv=5)\n",
    "search.fit(x_train, y_train)\n",
    "\n",
    "print(f'Best score: {search.best_score_}')\n",
    "print(f'Best score: {search.best_params_}')"
   ]
  },
  {
   "cell_type": "code",
   "execution_count": 81,
   "id": "9b20ccab",
   "metadata": {},
   "outputs": [
    {
     "name": "stdout",
     "output_type": "stream",
     "text": [
      "-------------------------- TRAIN --------------------------\n",
      "              precision    recall  f1-score   support\n",
      "\n",
      "           0      0.694     0.695     0.694      1340\n",
      "           1      0.689     0.688     0.688      1316\n",
      "\n",
      "    accuracy                          0.691      2656\n",
      "   macro avg      0.691     0.691     0.691      2656\n",
      "weighted avg      0.691     0.691     0.691      2656\n",
      " \n",
      "\n",
      "\n",
      "----------------------- VALIDATION ------------------------\n",
      "              precision    recall  f1-score   support\n",
      "\n",
      "           0      0.696     0.400     0.508       560\n",
      "           1      0.589     0.831     0.689       579\n",
      "\n",
      "    accuracy                          0.619      1139\n",
      "   macro avg      0.642     0.615     0.599      1139\n",
      "weighted avg      0.641     0.619     0.600      1139\n",
      " \n",
      "\n",
      "\n",
      "------------------------- TEST ---------------------------\n",
      "              precision    recall  f1-score   support\n",
      "\n",
      "           0      0.791     0.336     0.472       473\n",
      "           1      0.461     0.865     0.602       311\n",
      "\n",
      "    accuracy                          0.546       784\n",
      "   macro avg      0.626     0.601     0.537       784\n",
      "weighted avg      0.660     0.546     0.523       784\n",
      " \n",
      "\n",
      "\n"
     ]
    }
   ],
   "source": [
    "bp = search.best_params_\n",
    "pipeline_lr_best = Pipeline([\n",
    "    ('scaler', StandardScaler()),\n",
    "    ('lr', LogisticRegression(C=bp['lr__C'], penalty=bp['lr__penalty'], solver=bp['lr__solver']))\n",
    "])\n",
    "\n",
    "model_fit_evaluate(pipeline_lr_best, x_train, y_train, x_validation, y_validation, x_test, y_test)"
   ]
  },
  {
   "cell_type": "code",
   "execution_count": 419,
   "id": "b271898d",
   "metadata": {},
   "outputs": [
    {
     "data": {
      "text/plain": [
       "['neg_word_count',\n",
       " 'pos_word_count',\n",
       " '-1_topic',\n",
       " '0_topic',\n",
       " '1_topic',\n",
       " '2_topic',\n",
       " '3_topic',\n",
       " '4_topic',\n",
       " '5_topic',\n",
       " '6_topic',\n",
       " '7_topic',\n",
       " '8_topic',\n",
       " '9_topic',\n",
       " '10_topic',\n",
       " '11_topic',\n",
       " '12_topic',\n",
       " '13_topic',\n",
       " '14_topic',\n",
       " '15_topic',\n",
       " '16_topic',\n",
       " '17_topic',\n",
       " 'pos_neg_within_5']"
      ]
     },
     "execution_count": 419,
     "metadata": {},
     "output_type": "execute_result"
    }
   ],
   "source": [
    "x_train.columns.tolist()[-22:]"
   ]
  },
  {
   "cell_type": "code",
   "execution_count": 82,
   "id": "53684e14",
   "metadata": {},
   "outputs": [
    {
     "data": {
      "text/plain": "<Figure size 1584x1080 with 1 Axes>",
      "image/png": "[encoded data removed]"
     },
     "metadata": {
      "needs_background": "light"
     },
     "output_type": "display_data"
    }
   ],
   "source": [
    "weights = pipeline_lr_best['lr'].coef_.flatten()\n",
    "weights_wo_embeddings = weights[:18].tolist()\n",
    "weights_wo_embeddings.extend(weights[-21:])\n",
    "\n",
    "weights_embeddings = weights[18:318].tolist()\n",
    "\n",
    "features = x_train.columns.tolist()[:18]\n",
    "features.extend(x_train.columns.tolist()[-21:])\n",
    "\n",
    "plt.figure(figsize=(22, 15))\n",
    "plt.bar(features, weights_wo_embeddings)\n",
    "plt.ylabel('Value of the weight')\n",
    "plt.xlabel('Index of the weight')\n",
    "plt.xticks(rotation = 45) \n",
    "plt.title('Feature importance plot for logistic regression without embeddings')\n",
    "plt.show()"
   ]
  },
  {
   "cell_type": "code",
   "execution_count": 83,
   "id": "658adcb9",
   "metadata": {},
   "outputs": [
    {
     "data": {
      "text/plain": "<Figure size 1080x1080 with 1 Axes>",
      "image/png": "[encoded data removed]"
     },
     "metadata": {
      "needs_background": "light"
     },
     "output_type": "display_data"
    }
   ],
   "source": [
    "plt.figure(figsize=(15, 15))\n",
    "plt.bar(list(range(len(weights_embeddings))), weights_embeddings)\n",
    "plt.ylabel('Value of the weight')\n",
    "plt.xlabel('Component of the embedding')\n",
    "plt.title('Feature importance plot of embeddings for logistic regression')\n",
    "plt.show()"
   ]
  },
  {
   "cell_type": "code",
   "execution_count": null,
   "id": "e6ba8494",
   "metadata": {},
   "outputs": [],
   "source": [
    "# pipeline_dtc = Pipeline([\n",
    "#     ('dtc', DecisionTreeClassifier()),\n",
    "# ])\n",
    "\n",
    "# # mozda potrebno pojacat grid, nisam vrtio\n",
    "# params = {\n",
    "#     'dtc__max_features': ['auto', 'sqrt', 'log2'],\n",
    "#     'dtc__ccp_alpha': [0.1, .01, .001],\n",
    "#     'dtc__max_depth' : list(range(2, 10)),\n",
    "#     'dtc__criterion' : ['gini', 'entropy', 'log_loss']\n",
    "# }\n",
    "# search = GridSearchCV(pipeline_dtc, param_grid=params, cv=5)\n",
    "# search.fit(x_train, y_train)\n",
    "\n",
    "# print(f'Best score: {search.best_score_}')\n",
    "# print(f'Best score: {search.best_params_}')"
   ]
  },
  {
   "cell_type": "code",
   "execution_count": null,
   "id": "a503265e",
   "metadata": {},
   "outputs": [],
   "source": [
    "# bp = search.best_params_\n",
    "# pipeline_dtc_best = Pipeline([\n",
    "#     ('dtc', DecisionTreeClassifier(\n",
    "#         ccp_alpha=bp['dtc__ccp_alpha'], \n",
    "#         criterion=bp['dtc__criterion'], \n",
    "#         max_depth=bp['dtc__max_depth'], \n",
    "#         max_features=bp['dtc__max_features'])\n",
    "#     ),\n",
    "# ])\n",
    "\n",
    "# model_fit_evaluate(pipeline_dtc_best, x_train, y_train, x_validation, y_validation, x_test, y_test)"
   ]
  },
  {
   "cell_type": "code",
   "execution_count": null,
   "id": "24089158",
   "metadata": {},
   "outputs": [],
   "source": [
    "# feat_importances = pipeline_dtc_best['dtc'].feature_importances_.flatten()\n",
    "\n",
    "# plt.figure(figsize=(5, 5))\n",
    "# plt.bar(list(range(len(feat_importances))), feat_importances)\n",
    "# plt.ylabel('Feature importance value')\n",
    "# plt.xlabel('Index of the feature')\n",
    "# plt.title('Feature importance plot for decision tree')\n",
    "# plt.show()"
   ]
  },
  {
   "cell_type": "code",
   "execution_count": 474,
   "id": "63a07ab1",
   "metadata": {},
   "outputs": [
    {
     "data": {
      "text/plain": [
       "['emoji_count',\n",
       " 'word_count',\n",
       " 'char_count',\n",
       " 'all_uppercase_count',\n",
       " 'all_lowercase_count',\n",
       " 'capitalised_count',\n",
       " 'digit_count',\n",
       " 'tag_count',\n",
       " 'hashtag_count',\n",
       " 'link_count',\n",
       " 'smiley_count',\n",
       " 'exclamation_mark_count',\n",
       " 'question_mark_count',\n",
       " 'ellipsis_count',\n",
       " 'ORG_tag_count',\n",
       " 'NORP_tag_count',\n",
       " 'GPE_tag_count',\n",
       " 'PERSON_tag_count',\n",
       " 0,\n",
       " 1,\n",
       " 2,\n",
       " 3,\n",
       " 4,\n",
       " 5,\n",
       " 6,\n",
       " 7,\n",
       " 8,\n",
       " 9,\n",
       " 10,\n",
       " 11,\n",
       " 12,\n",
       " 13,\n",
       " 14,\n",
       " 15,\n",
       " 16,\n",
       " 17,\n",
       " 18,\n",
       " 19,\n",
       " 20,\n",
       " 21,\n",
       " 22,\n",
       " 23,\n",
       " 24,\n",
       " 25,\n",
       " 26,\n",
       " 27,\n",
       " 28,\n",
       " 29,\n",
       " 30,\n",
       " 31,\n",
       " 32,\n",
       " 33,\n",
       " 34,\n",
       " 35,\n",
       " 36,\n",
       " 37,\n",
       " 38,\n",
       " 39,\n",
       " 40,\n",
       " 41,\n",
       " 42,\n",
       " 43,\n",
       " 44,\n",
       " 45,\n",
       " 46,\n",
       " 47,\n",
       " 48,\n",
       " 49,\n",
       " 50,\n",
       " 51,\n",
       " 52,\n",
       " 53,\n",
       " 54,\n",
       " 55,\n",
       " 56,\n",
       " 57,\n",
       " 58,\n",
       " 59,\n",
       " 60,\n",
       " 61,\n",
       " 62,\n",
       " 63,\n",
       " 64,\n",
       " 65,\n",
       " 66,\n",
       " 67,\n",
       " 68,\n",
       " 69,\n",
       " 70,\n",
       " 71,\n",
       " 72,\n",
       " 73,\n",
       " 74,\n",
       " 75,\n",
       " 76,\n",
       " 77,\n",
       " 78,\n",
       " 79,\n",
       " 80,\n",
       " 81,\n",
       " 82,\n",
       " 83,\n",
       " 84,\n",
       " 85,\n",
       " 86,\n",
       " 87,\n",
       " 88,\n",
       " 89,\n",
       " 90,\n",
       " 91,\n",
       " 92,\n",
       " 93,\n",
       " 94,\n",
       " 95,\n",
       " 96,\n",
       " 97,\n",
       " 98,\n",
       " 99,\n",
       " 100,\n",
       " 101,\n",
       " 102,\n",
       " 103,\n",
       " 104,\n",
       " 105,\n",
       " 106,\n",
       " 107,\n",
       " 108,\n",
       " 109,\n",
       " 110,\n",
       " 111,\n",
       " 112,\n",
       " 113,\n",
       " 114,\n",
       " 115,\n",
       " 116,\n",
       " 117,\n",
       " 118,\n",
       " 119,\n",
       " 120,\n",
       " 121,\n",
       " 122,\n",
       " 123,\n",
       " 124,\n",
       " 125,\n",
       " 126,\n",
       " 127,\n",
       " 128,\n",
       " 129,\n",
       " 130,\n",
       " 131,\n",
       " 132,\n",
       " 133,\n",
       " 134,\n",
       " 135,\n",
       " 136,\n",
       " 137,\n",
       " 138,\n",
       " 139,\n",
       " 140,\n",
       " 141,\n",
       " 142,\n",
       " 143,\n",
       " 144,\n",
       " 145,\n",
       " 146,\n",
       " 147,\n",
       " 148,\n",
       " 149,\n",
       " 150,\n",
       " 151,\n",
       " 152,\n",
       " 153,\n",
       " 154,\n",
       " 155,\n",
       " 156,\n",
       " 157,\n",
       " 158,\n",
       " 159,\n",
       " 160,\n",
       " 161,\n",
       " 162,\n",
       " 163,\n",
       " 164,\n",
       " 165,\n",
       " 166,\n",
       " 167,\n",
       " 168,\n",
       " 169,\n",
       " 170,\n",
       " 171,\n",
       " 172,\n",
       " 173,\n",
       " 174,\n",
       " 175,\n",
       " 176,\n",
       " 177,\n",
       " 178,\n",
       " 179,\n",
       " 180,\n",
       " 181,\n",
       " 182,\n",
       " 183,\n",
       " 184,\n",
       " 185,\n",
       " 186,\n",
       " 187,\n",
       " 188,\n",
       " 189,\n",
       " 190,\n",
       " 191,\n",
       " 192,\n",
       " 193,\n",
       " 194,\n",
       " 195,\n",
       " 196,\n",
       " 197,\n",
       " 198,\n",
       " 199,\n",
       " 200,\n",
       " 201,\n",
       " 202,\n",
       " 203,\n",
       " 204,\n",
       " 205,\n",
       " 206,\n",
       " 207,\n",
       " 208,\n",
       " 209,\n",
       " 210,\n",
       " 211,\n",
       " 212,\n",
       " 213,\n",
       " 214,\n",
       " 215,\n",
       " 216,\n",
       " 217,\n",
       " 218,\n",
       " 219,\n",
       " 220,\n",
       " 221,\n",
       " 222,\n",
       " 223,\n",
       " 224,\n",
       " 225,\n",
       " 226,\n",
       " 227,\n",
       " 228,\n",
       " 229,\n",
       " 230,\n",
       " 231,\n",
       " 232,\n",
       " 233,\n",
       " 234,\n",
       " 235,\n",
       " 236,\n",
       " 237,\n",
       " 238,\n",
       " 239,\n",
       " 240,\n",
       " 241,\n",
       " 242,\n",
       " 243,\n",
       " 244,\n",
       " 245,\n",
       " 246,\n",
       " 247,\n",
       " 248,\n",
       " 249,\n",
       " 250,\n",
       " 251,\n",
       " 252,\n",
       " 253,\n",
       " 254,\n",
       " 255,\n",
       " 256,\n",
       " 257,\n",
       " 258,\n",
       " 259,\n",
       " 260,\n",
       " 261,\n",
       " 262,\n",
       " 263,\n",
       " 264,\n",
       " 265,\n",
       " 266,\n",
       " 267,\n",
       " 268,\n",
       " 269,\n",
       " 270,\n",
       " 271,\n",
       " 272,\n",
       " 273,\n",
       " 274,\n",
       " 275,\n",
       " 276,\n",
       " 277,\n",
       " 278,\n",
       " 279,\n",
       " 280,\n",
       " 281,\n",
       " 282,\n",
       " 283,\n",
       " 284,\n",
       " 285,\n",
       " 286,\n",
       " 287,\n",
       " 288,\n",
       " 289,\n",
       " 290,\n",
       " 291,\n",
       " 292,\n",
       " 293,\n",
       " 294,\n",
       " 295,\n",
       " 296,\n",
       " 297,\n",
       " 298,\n",
       " 299,\n",
       " 'neg_word_count',\n",
       " 'pos_word_count',\n",
       " '-1_topic',\n",
       " '0_topic',\n",
       " '1_topic',\n",
       " '2_topic',\n",
       " '3_topic',\n",
       " '4_topic',\n",
       " '5_topic',\n",
       " '6_topic',\n",
       " '7_topic',\n",
       " '8_topic',\n",
       " '9_topic',\n",
       " '10_topic',\n",
       " '11_topic',\n",
       " '12_topic',\n",
       " '13_topic',\n",
       " '14_topic',\n",
       " '15_topic',\n",
       " '16_topic',\n",
       " '17_topic',\n",
       " 'pos_neg_within_5']"
      ]
     },
     "execution_count": 474,
     "metadata": {},
     "output_type": "execute_result"
    }
   ],
   "source": [
    "x_train.columns.tolist()"
   ]
  },
  {
   "cell_type": "markdown",
   "source": [
    "#### Global best without topics"
   ],
   "metadata": {
    "collapsed": false,
    "pycharm": {
     "name": "#%% md\n"
    }
   }
  },
  {
   "cell_type": "code",
   "execution_count": 84,
   "outputs": [],
   "source": [
    "to_drop = ['Label', 'Tweet text', 'Tweet index', 'clean_text', 'lemmas', 'pos_word', 'neg_word', 'topic', 'topic_text']\n",
    "to_drop = np.concatenate([np.array(to_drop), topic_dummies])\n",
    "\n",
    "x_train = df_train.drop(columns=to_drop)\n",
    "x_validation = df_validation.drop(columns=to_drop)\n",
    "x_test = df_test.drop(columns=to_drop)"
   ],
   "metadata": {
    "collapsed": false,
    "pycharm": {
     "name": "#%%\n"
    }
   }
  },
  {
   "cell_type": "code",
   "execution_count": 85,
   "outputs": [
    {
     "name": "stdout",
     "output_type": "stream",
     "text": [
      "Best score: 0.6415586990074054\n",
      "Best score: {'lr__C': 11.497569953977356, 'lr__penalty': 'l1', 'lr__solver': 'liblinear'}\n"
     ]
    }
   ],
   "source": [
    "pipeline_lr = Pipeline([\n",
    "    ('scaler', StandardScaler()),\n",
    "    ('lr', LogisticRegression())\n",
    "])\n",
    "\n",
    "params = {\n",
    "    'lr__penalty': ['l1'],\n",
    "    'lr__C': np.logspace(3, -9, 100),\n",
    "    'lr__solver': ['newton-cg', 'lbfgs', 'liblinear'],\n",
    "}\n",
    "\n",
    "\n",
    "search = GridSearchCV(pipeline_lr, param_grid=params, cv=5)\n",
    "search.fit(x_train, y_train)\n",
    "\n",
    "print(f'Best score: {search.best_score_}')\n",
    "print(f'Best score: {search.best_params_}')"
   ],
   "metadata": {
    "collapsed": false,
    "pycharm": {
     "name": "#%%\n"
    }
   }
  },
  {
   "cell_type": "code",
   "execution_count": 86,
   "outputs": [
    {
     "name": "stdout",
     "output_type": "stream",
     "text": [
      "-------------------------- TRAIN --------------------------\n",
      "              precision    recall  f1-score   support\n",
      "\n",
      "           0      0.688     0.690     0.689      1340\n",
      "           1      0.683     0.681     0.682      1316\n",
      "\n",
      "    accuracy                          0.685      2656\n",
      "   macro avg      0.685     0.685     0.685      2656\n",
      "weighted avg      0.685     0.685     0.685      2656\n",
      " \n",
      "\n",
      "\n",
      "----------------------- VALIDATION ------------------------\n",
      "              precision    recall  f1-score   support\n",
      "\n",
      "           0      0.690     0.412     0.516       560\n",
      "           1      0.591     0.820     0.687       579\n",
      "\n",
      "    accuracy                          0.620      1139\n",
      "   macro avg      0.640     0.616     0.602      1139\n",
      "weighted avg      0.639     0.620     0.603      1139\n",
      " \n",
      "\n",
      "\n",
      "------------------------- TEST ---------------------------\n",
      "              precision    recall  f1-score   support\n",
      "\n",
      "           0      0.774     0.340     0.473       473\n",
      "           1      0.458     0.849     0.595       311\n",
      "\n",
      "    accuracy                          0.542       784\n",
      "   macro avg      0.616     0.595     0.534       784\n",
      "weighted avg      0.649     0.542     0.521       784\n",
      " \n",
      "\n",
      "\n"
     ]
    }
   ],
   "source": [
    "bp = search.best_params_\n",
    "pipeline_lr_best = Pipeline([\n",
    "    ('scaler', StandardScaler()),\n",
    "    ('lr', LogisticRegression(C=bp['lr__C'], penalty=bp['lr__penalty'], solver=bp['lr__solver']))\n",
    "])\n",
    "\n",
    "model_fit_evaluate(pipeline_lr_best, x_train, y_train, x_validation, y_validation, x_test, y_test)"
   ],
   "metadata": {
    "collapsed": false,
    "pycharm": {
     "name": "#%%\n"
    }
   }
  },
  {
   "cell_type": "markdown",
   "id": "6072cda6",
   "metadata": {},
   "source": [
    "## Baseline classifiers for the first 4 topics"
   ]
  },
  {
   "cell_type": "code",
   "execution_count": 88,
   "id": "120eb8f3",
   "metadata": {},
   "outputs": [],
   "source": [
    "def get_train_validation_and_test_for_topic(topic_num, df_train, df_validation, df_test, features=baseline_features):\n",
    "    df_train_topic = df_train[df_train[f'{topic_num}_topic'] == 1]\n",
    "    df_validation_topic = df_train[df_train[f'{topic_num}_topic'] == 1]\n",
    "    df_test_topic = df_train[df_train[f'{topic_num}_topic'] == 1]\n",
    "    \n",
    "    y_train = df_train_topic['Label']\n",
    "    x_train = df_train_topic[features]\n",
    "\n",
    "    y_validation = df_validation_topic['Label']\n",
    "    x_validation = df_validation_topic[features]\n",
    "\n",
    "    y_test = df_test_topic['Label']\n",
    "    x_test = df_test_topic[features]\n",
    "    return x_train, y_train, x_validation, y_validation, x_test, y_test"
   ]
  },
  {
   "cell_type": "code",
   "execution_count": 90,
   "id": "61ff7908",
   "metadata": {},
   "outputs": [
    {
     "name": "stdout",
     "output_type": "stream",
     "text": [
      "['pos_neg_within_5', 'neg_word_count', 'pos_word_count', 'emoji_count', 'word_count', 'char_count', 'all_uppercase_count', 'all_lowercase_count', 'capitalised_count', 'digit_count', 'tag_count', 'hashtag_count', 'link_count', 'smiley_count', 'exclamation_mark_count', 'question_mark_count', 'ellipsis_count', 'ORG_tag_count', 'NORP_tag_count', 'GPE_tag_count', 'PERSON_tag_count', 0, 1, 2, 3, 4, 5, 6, 7, 8, 9, 10, 11, 12, 13, 14, 15, 16, 17, 18, 19, 20, 21, 22, 23, 24, 25, 26, 27, 28, 29, 30, 31, 32, 33, 34, 35, 36, 37, 38, 39, 40, 41, 42, 43, 44, 45, 46, 47, 48, 49, 50, 51, 52, 53, 54, 55, 56, 57, 58, 59, 60, 61, 62, 63, 64, 65, 66, 67, 68, 69, 70, 71, 72, 73, 74, 75, 76, 77, 78, 79, 80, 81, 82, 83, 84, 85, 86, 87, 88, 89, 90, 91, 92, 93, 94, 95, 96, 97, 98, 99, 100, 101, 102, 103, 104, 105, 106, 107, 108, 109, 110, 111, 112, 113, 114, 115, 116, 117, 118, 119, 120, 121, 122, 123, 124, 125, 126, 127, 128, 129, 130, 131, 132, 133, 134, 135, 136, 137, 138, 139, 140, 141, 142, 143, 144, 145, 146, 147, 148, 149, 150, 151, 152, 153, 154, 155, 156, 157, 158, 159, 160, 161, 162, 163, 164, 165, 166, 167, 168, 169, 170, 171, 172, 173, 174, 175, 176, 177, 178, 179, 180, 181, 182, 183, 184, 185, 186, 187, 188, 189, 190, 191, 192, 193, 194, 195, 196, 197, 198, 199, 200, 201, 202, 203, 204, 205, 206, 207, 208, 209, 210, 211, 212, 213, 214, 215, 216, 217, 218, 219, 220, 221, 222, 223, 224, 225, 226, 227, 228, 229, 230, 231, 232, 233, 234, 235, 236, 237, 238, 239, 240, 241, 242, 243, 244, 245, 246, 247, 248, 249, 250, 251, 252, 253, 254, 255, 256, 257, 258, 259, 260, 261, 262, 263, 264, 265, 266, 267, 268, 269, 270, 271, 272, 273, 274, 275, 276, 277, 278, 279, 280, 281, 282, 283, 284, 285, 286, 287, 288, 289, 290, 291, 292, 293, 294, 295, 296, 297, 298, 299]\n"
     ]
    }
   ],
   "source": [
    "features_for_spec_topic = x_train.columns.tolist()[:18]\n",
    "sentiment_features = x_train.columns.tolist()[-1:]\n",
    "sentiment_features.extend(x_train.columns.tolist()[318:320])\n",
    "sentiment_features.extend(features_for_spec_topic)\n",
    "sentiment_features.extend(x_train.columns.tolist()[18:318])\n",
    "features_for_spec_topic = sentiment_features\n",
    "\n",
    "print(features_for_spec_topic)"
   ]
  },
  {
   "cell_type": "markdown",
   "id": "7129dfdd",
   "metadata": {},
   "source": [
    "## Best classifier and baseline for the 1st topic"
   ]
  },
  {
   "cell_type": "code",
   "execution_count": 98,
   "id": "b64885b3",
   "metadata": {},
   "outputs": [
    {
     "name": "stdout",
     "output_type": "stream",
     "text": [
      "-------------------------- TRAIN --------------------------\n",
      "              precision    recall  f1-score   support\n",
      "\n",
      "           0      0.603     0.682     0.640       648\n",
      "           1      0.548     0.462     0.502       541\n",
      "\n",
      "    accuracy                          0.582      1189\n",
      "   macro avg      0.576     0.572     0.571      1189\n",
      "weighted avg      0.578     0.582     0.577      1189\n",
      " \n",
      "\n",
      "\n",
      "----------------------- VALIDATION ------------------------\n",
      "              precision    recall  f1-score   support\n",
      "\n",
      "           0      0.603     0.682     0.640       648\n",
      "           1      0.548     0.462     0.502       541\n",
      "\n",
      "    accuracy                          0.582      1189\n",
      "   macro avg      0.576     0.572     0.571      1189\n",
      "weighted avg      0.578     0.582     0.577      1189\n",
      " \n",
      "\n",
      "\n",
      "------------------------- TEST ---------------------------\n",
      "              precision    recall  f1-score   support\n",
      "\n",
      "           0      0.603     0.682     0.640       648\n",
      "           1      0.548     0.462     0.502       541\n",
      "\n",
      "    accuracy                          0.582      1189\n",
      "   macro avg      0.576     0.572     0.571      1189\n",
      "weighted avg      0.578     0.582     0.577      1189\n",
      " \n",
      "\n",
      "\n"
     ]
    }
   ],
   "source": [
    "x_train_, y_train_, x_validation_, y_validation_, x_test_, y_test_ = \\\n",
    "    get_train_validation_and_test_for_topic(-1, df_train, df_validation, df_test)\n",
    "\n",
    "model = LogisticRegression()\n",
    "model_fit_evaluate(model, x_train_, y_train_, x_validation_, y_validation_, x_test_, y_test_)"
   ]
  },
  {
   "cell_type": "code",
   "execution_count": 99,
   "id": "12ad5a0e",
   "metadata": {},
   "outputs": [
    {
     "name": "stdout",
     "output_type": "stream",
     "text": [
      "Best score: 0.6088891252703613\n",
      "Best score: {'lr__C': 1000.0, 'lr__penalty': 'l1', 'lr__solver': 'liblinear'}\n"
     ]
    }
   ],
   "source": [
    "x_train_, y_train_, x_validation_, y_validation_, x_test_, y_test_ = \\\n",
    "    get_train_validation_and_test_for_topic(-1, df_train, df_validation, df_test, features_for_spec_topic)\n",
    "\n",
    "pipeline_lr = Pipeline([\n",
    "    ('scaler', StandardScaler()),\n",
    "    ('lr', LogisticRegression())\n",
    "])\n",
    "\n",
    "params = {\n",
    "    'lr__penalty': ['l1'],\n",
    "    'lr__C': np.logspace(3, -9, 2),\n",
    "    'lr__solver': ['newton-cg', 'lbfgs', 'liblinear'], \n",
    "}\n",
    "\n",
    "\n",
    "search = GridSearchCV(pipeline_lr, param_grid=params, cv=5)\n",
    "search.fit(x_train_, y_train_)\n",
    "\n",
    "print(f'Best score: {search.best_score_}')\n",
    "print(f'Best score: {search.best_params_}')"
   ]
  },
  {
   "cell_type": "code",
   "execution_count": 100,
   "id": "a0c7feea",
   "metadata": {},
   "outputs": [
    {
     "name": "stdout",
     "output_type": "stream",
     "text": [
      "-------------------------- TRAIN --------------------------\n",
      "              precision    recall  f1-score   support\n",
      "\n",
      "           0      0.718     0.764     0.740       648\n",
      "           1      0.694     0.641     0.667       541\n",
      "\n",
      "    accuracy                          0.708      1189\n",
      "   macro avg      0.706     0.703     0.704      1189\n",
      "weighted avg      0.707     0.708     0.707      1189\n",
      " \n",
      "\n",
      "\n",
      "----------------------- VALIDATION ------------------------\n",
      "              precision    recall  f1-score   support\n",
      "\n",
      "           0      0.718     0.764     0.740       648\n",
      "           1      0.694     0.641     0.667       541\n",
      "\n",
      "    accuracy                          0.708      1189\n",
      "   macro avg      0.706     0.703     0.704      1189\n",
      "weighted avg      0.707     0.708     0.707      1189\n",
      " \n",
      "\n",
      "\n",
      "------------------------- TEST ---------------------------\n",
      "              precision    recall  f1-score   support\n",
      "\n",
      "           0      0.718     0.764     0.740       648\n",
      "           1      0.694     0.641     0.667       541\n",
      "\n",
      "    accuracy                          0.708      1189\n",
      "   macro avg      0.706     0.703     0.704      1189\n",
      "weighted avg      0.707     0.708     0.707      1189\n",
      " \n",
      "\n",
      "\n"
     ]
    }
   ],
   "source": [
    "bp = search.best_params_\n",
    "pipeline_lr_best = Pipeline([\n",
    "    ('scaler', StandardScaler()),\n",
    "    ('lr', LogisticRegression(C=bp['lr__C'], penalty=bp['lr__penalty'], solver=bp['lr__solver']))\n",
    "])\n",
    "\n",
    "model_fit_evaluate(pipeline_lr_best, x_train_, y_train_, x_validation_, y_validation_, x_test_, y_test_)"
   ]
  },
  {
   "cell_type": "code",
   "execution_count": 101,
   "id": "628426d3",
   "metadata": {},
   "outputs": [
    {
     "data": {
      "text/plain": "<Figure size 1584x1080 with 1 Axes>",
      "image/png": "[encoded data removed]"
     },
     "metadata": {
      "needs_background": "light"
     },
     "output_type": "display_data"
    },
    {
     "data": {
      "text/plain": "<Figure size 1080x1080 with 1 Axes>",
      "image/png": "[encoded data removed]"
     },
     "metadata": {
      "needs_background": "light"
     },
     "output_type": "display_data"
    }
   ],
   "source": [
    "def plot_features_and_embeddings(pipeline, features=features_for_spec_topic):\n",
    "    weights = pipeline['lr'].coef_.flatten()\n",
    "    weights_wo_embeddings = weights[:-300].tolist()\n",
    "    weights_embeddings = weights[-300:].tolist()\n",
    "\n",
    "    plt.figure(figsize=(22, 15))\n",
    "    plt.bar(features[:-300], weights_wo_embeddings)\n",
    "    plt.ylabel('Value of the weight')\n",
    "    plt.xlabel('Index of the weight')\n",
    "    plt.xticks(rotation = 45) \n",
    "    plt.title('Feature importance plot for logistic regression without embeddings')\n",
    "    plt.show()\n",
    "    \n",
    "    plt.figure(figsize=(15, 15))\n",
    "    plt.bar(list(range(len(weights_embeddings))), weights_embeddings)\n",
    "    plt.ylabel('Value of the weight')\n",
    "    plt.xlabel('Component of the embedding')\n",
    "    plt.title('Feature importance plot of embeddings for logistic regression')\n",
    "    plt.show()\n",
    "    \n",
    "plot_features_and_embeddings(pipeline_lr_best)"
   ]
  },
  {
   "cell_type": "markdown",
   "id": "c9158444",
   "metadata": {},
   "source": [
    "## Best classifier for the 2nd topic"
   ]
  },
  {
   "cell_type": "code",
   "execution_count": 102,
   "id": "f51a8bc9",
   "metadata": {},
   "outputs": [
    {
     "name": "stdout",
     "output_type": "stream",
     "text": [
      "-------------------------- TRAIN --------------------------\n",
      "              precision    recall  f1-score   support\n",
      "\n",
      "           0      0.625     0.372     0.466       121\n",
      "           1      0.618     0.820     0.705       150\n",
      "\n",
      "    accuracy                          0.620       271\n",
      "   macro avg      0.622     0.596     0.586       271\n",
      "weighted avg      0.621     0.620     0.598       271\n",
      " \n",
      "\n",
      "\n",
      "----------------------- VALIDATION ------------------------\n",
      "              precision    recall  f1-score   support\n",
      "\n",
      "           0      0.625     0.372     0.466       121\n",
      "           1      0.618     0.820     0.705       150\n",
      "\n",
      "    accuracy                          0.620       271\n",
      "   macro avg      0.622     0.596     0.586       271\n",
      "weighted avg      0.621     0.620     0.598       271\n",
      " \n",
      "\n",
      "\n",
      "------------------------- TEST ---------------------------\n",
      "              precision    recall  f1-score   support\n",
      "\n",
      "           0      0.625     0.372     0.466       121\n",
      "           1      0.618     0.820     0.705       150\n",
      "\n",
      "    accuracy                          0.620       271\n",
      "   macro avg      0.622     0.596     0.586       271\n",
      "weighted avg      0.621     0.620     0.598       271\n",
      " \n",
      "\n",
      "\n"
     ]
    }
   ],
   "source": [
    "x_train_, y_train_, x_validation_, y_validation_, x_test_, y_test_ = \\\n",
    "    get_train_validation_and_test_for_topic(0, df_train, df_validation, df_test)\n",
    "\n",
    "model = LogisticRegression()\n",
    "model_fit_evaluate(model, x_train_, y_train_, x_validation_, y_validation_, x_test_, y_test_)"
   ]
  },
  {
   "cell_type": "code",
   "execution_count": 103,
   "id": "990509ba",
   "metadata": {},
   "outputs": [
    {
     "name": "stdout",
     "output_type": "stream",
     "text": [
      "Best score: 0.6196632996632997\n",
      "Best score: {'lr__C': 0.1, 'lr__penalty': 'l1', 'lr__solver': 'liblinear'}\n"
     ]
    }
   ],
   "source": [
    "x_train_, y_train_, x_validation_, y_validation_, x_test_, y_test_ = \\\n",
    "    get_train_validation_and_test_for_topic(0, df_train, df_validation, df_test, features_for_spec_topic)\n",
    "\n",
    "pipeline_lr = Pipeline([\n",
    "    ('scaler', StandardScaler()),\n",
    "    ('lr', LogisticRegression())\n",
    "])\n",
    "\n",
    "params = {\n",
    "    'lr__penalty': ['l1'],\n",
    "    'lr__C': np.logspace(3, -9, 100),\n",
    "    'lr__solver': ['newton-cg', 'lbfgs', 'liblinear'], \n",
    "}\n",
    "\n",
    "\n",
    "search = GridSearchCV(pipeline_lr, param_grid=params, cv=5)\n",
    "search.fit(x_train_, y_train_)\n",
    "\n",
    "print(f'Best score: {search.best_score_}')\n",
    "print(f'Best score: {search.best_params_}')"
   ]
  },
  {
   "cell_type": "code",
   "execution_count": 104,
   "id": "e90ad10c",
   "metadata": {},
   "outputs": [
    {
     "name": "stdout",
     "output_type": "stream",
     "text": [
      "-------------------------- TRAIN --------------------------\n",
      "              precision    recall  f1-score   support\n",
      "\n",
      "           0      0.598     0.579     0.588       121\n",
      "           1      0.669     0.687     0.678       150\n",
      "\n",
      "    accuracy                          0.638       271\n",
      "   macro avg      0.634     0.633     0.633       271\n",
      "weighted avg      0.637     0.638     0.638       271\n",
      " \n",
      "\n",
      "\n",
      "----------------------- VALIDATION ------------------------\n",
      "              precision    recall  f1-score   support\n",
      "\n",
      "           0      0.598     0.579     0.588       121\n",
      "           1      0.669     0.687     0.678       150\n",
      "\n",
      "    accuracy                          0.638       271\n",
      "   macro avg      0.634     0.633     0.633       271\n",
      "weighted avg      0.637     0.638     0.638       271\n",
      " \n",
      "\n",
      "\n",
      "------------------------- TEST ---------------------------\n",
      "              precision    recall  f1-score   support\n",
      "\n",
      "           0      0.598     0.579     0.588       121\n",
      "           1      0.669     0.687     0.678       150\n",
      "\n",
      "    accuracy                          0.638       271\n",
      "   macro avg      0.634     0.633     0.633       271\n",
      "weighted avg      0.637     0.638     0.638       271\n",
      " \n",
      "\n",
      "\n"
     ]
    }
   ],
   "source": [
    "bp = search.best_params_\n",
    "pipeline_lr_best = Pipeline([\n",
    "    ('scaler', StandardScaler()),\n",
    "    ('lr', LogisticRegression(C=bp['lr__C'], penalty=bp['lr__penalty'], solver=bp['lr__solver']))\n",
    "])\n",
    "\n",
    "model_fit_evaluate(pipeline_lr_best, x_train_, y_train_, x_validation_, y_validation_, x_test_, y_test_)"
   ]
  },
  {
   "cell_type": "code",
   "execution_count": 105,
   "id": "cc8e22c4",
   "metadata": {},
   "outputs": [
    {
     "data": {
      "text/plain": "<Figure size 1584x1080 with 1 Axes>",
      "image/png": "[encoded data removed]"
     },
     "metadata": {
      "needs_background": "light"
     },
     "output_type": "display_data"
    },
    {
     "data": {
      "text/plain": "<Figure size 1080x1080 with 1 Axes>",
      "image/png": "[encoded data removed]"
     },
     "metadata": {
      "needs_background": "light"
     },
     "output_type": "display_data"
    }
   ],
   "source": [
    "plot_features_and_embeddings(pipeline_lr_best)"
   ]
  },
  {
   "cell_type": "markdown",
   "id": "ad40f68e",
   "metadata": {},
   "source": [
    "## Best classifier for the 3rd topic"
   ]
  },
  {
   "cell_type": "code",
   "execution_count": 106,
   "id": "4c7e7bed",
   "metadata": {},
   "outputs": [
    {
     "name": "stdout",
     "output_type": "stream",
     "text": [
      "-------------------------- TRAIN --------------------------\n",
      "              precision    recall  f1-score   support\n",
      "\n",
      "           0      1.000     0.022     0.043        46\n",
      "           1      0.664     1.000     0.798        89\n",
      "\n",
      "    accuracy                          0.667       135\n",
      "   macro avg      0.832     0.511     0.420       135\n",
      "weighted avg      0.779     0.667     0.541       135\n",
      " \n",
      "\n",
      "\n",
      "----------------------- VALIDATION ------------------------\n",
      "              precision    recall  f1-score   support\n",
      "\n",
      "           0      1.000     0.022     0.043        46\n",
      "           1      0.664     1.000     0.798        89\n",
      "\n",
      "    accuracy                          0.667       135\n",
      "   macro avg      0.832     0.511     0.420       135\n",
      "weighted avg      0.779     0.667     0.541       135\n",
      " \n",
      "\n",
      "\n",
      "------------------------- TEST ---------------------------\n",
      "              precision    recall  f1-score   support\n",
      "\n",
      "           0      1.000     0.022     0.043        46\n",
      "           1      0.664     1.000     0.798        89\n",
      "\n",
      "    accuracy                          0.667       135\n",
      "   macro avg      0.832     0.511     0.420       135\n",
      "weighted avg      0.779     0.667     0.541       135\n",
      " \n",
      "\n",
      "\n"
     ]
    }
   ],
   "source": [
    "x_train_, y_train_, x_validation_, y_validation_, x_test_, y_test_ = \\\n",
    "    get_train_validation_and_test_for_topic(1, df_train, df_validation, df_test)\n",
    "\n",
    "model = LogisticRegression()\n",
    "model_fit_evaluate(model, x_train_, y_train_, x_validation_, y_validation_, x_test_, y_test_)"
   ]
  },
  {
   "cell_type": "code",
   "execution_count": 107,
   "id": "6e529b1e",
   "metadata": {},
   "outputs": [
    {
     "name": "stdout",
     "output_type": "stream",
     "text": [
      "Best score: 0.725925925925926\n",
      "Best score: {'lr__C': 0.1747528400007683, 'lr__penalty': 'l1', 'lr__solver': 'liblinear'}\n"
     ]
    }
   ],
   "source": [
    "x_train_, y_train_, x_validation_, y_validation_, x_test_, y_test_ = \\\n",
    "    get_train_validation_and_test_for_topic(1, df_train, df_validation, df_test, features_for_spec_topic)\n",
    "\n",
    "pipeline_lr = Pipeline([\n",
    "    ('scaler', StandardScaler()),\n",
    "    ('lr', LogisticRegression())\n",
    "])\n",
    "\n",
    "params = {\n",
    "    'lr__penalty': ['l1'],\n",
    "    'lr__C': np.logspace(3, -9, 100),\n",
    "    'lr__solver': ['newton-cg', 'lbfgs', 'liblinear'], \n",
    "}\n",
    "\n",
    "\n",
    "search = GridSearchCV(pipeline_lr, param_grid=params, cv=5)\n",
    "search.fit(x_train_, y_train_)\n",
    "\n",
    "print(f'Best score: {search.best_score_}')\n",
    "print(f'Best score: {search.best_params_}')"
   ]
  },
  {
   "cell_type": "code",
   "execution_count": 108,
   "id": "a687a38e",
   "metadata": {},
   "outputs": [
    {
     "name": "stdout",
     "output_type": "stream",
     "text": [
      "-------------------------- TRAIN --------------------------\n",
      "              precision    recall  f1-score   support\n",
      "\n",
      "           0      0.800     0.609     0.691        46\n",
      "           1      0.820     0.921     0.868        89\n",
      "\n",
      "    accuracy                          0.815       135\n",
      "   macro avg      0.810     0.765     0.780       135\n",
      "weighted avg      0.813     0.815     0.808       135\n",
      " \n",
      "\n",
      "\n",
      "----------------------- VALIDATION ------------------------\n",
      "              precision    recall  f1-score   support\n",
      "\n",
      "           0      0.800     0.609     0.691        46\n",
      "           1      0.820     0.921     0.868        89\n",
      "\n",
      "    accuracy                          0.815       135\n",
      "   macro avg      0.810     0.765     0.780       135\n",
      "weighted avg      0.813     0.815     0.808       135\n",
      " \n",
      "\n",
      "\n",
      "------------------------- TEST ---------------------------\n",
      "              precision    recall  f1-score   support\n",
      "\n",
      "           0      0.800     0.609     0.691        46\n",
      "           1      0.820     0.921     0.868        89\n",
      "\n",
      "    accuracy                          0.815       135\n",
      "   macro avg      0.810     0.765     0.780       135\n",
      "weighted avg      0.813     0.815     0.808       135\n",
      " \n",
      "\n",
      "\n"
     ]
    }
   ],
   "source": [
    "bp = search.best_params_\n",
    "pipeline_lr_best = Pipeline([\n",
    "    ('scaler', StandardScaler()),\n",
    "    ('lr', LogisticRegression(C=bp['lr__C'], penalty=bp['lr__penalty'], solver=bp['lr__solver']))\n",
    "])\n",
    "\n",
    "model_fit_evaluate(pipeline_lr_best, x_train_, y_train_, x_validation_, y_validation_, x_test_, y_test_)"
   ]
  },
  {
   "cell_type": "code",
   "execution_count": 109,
   "id": "fddf5808",
   "metadata": {},
   "outputs": [
    {
     "data": {
      "text/plain": "<Figure size 1584x1080 with 1 Axes>",
      "image/png": "[encoded data removed]"
     },
     "metadata": {
      "needs_background": "light"
     },
     "output_type": "display_data"
    },
    {
     "data": {
      "text/plain": "<Figure size 1080x1080 with 1 Axes>",
      "image/png": "[encoded data removed]"
     },
     "metadata": {
      "needs_background": "light"
     },
     "output_type": "display_data"
    }
   ],
   "source": [
    "plot_features_and_embeddings(pipeline_lr_best)"
   ]
  },
  {
   "cell_type": "markdown",
   "id": "f5973555",
   "metadata": {},
   "source": [
    "## Best classifier for the 4th topic"
   ]
  },
  {
   "cell_type": "code",
   "execution_count": 110,
   "id": "feb7bbfb",
   "metadata": {},
   "outputs": [
    {
     "name": "stdout",
     "output_type": "stream",
     "text": [
      "-------------------------- TRAIN --------------------------\n",
      "              precision    recall  f1-score   support\n",
      "\n",
      "           0      0.720     0.750     0.735        72\n",
      "           1      0.647     0.611     0.629        54\n",
      "\n",
      "    accuracy                          0.690       126\n",
      "   macro avg      0.684     0.681     0.682       126\n",
      "weighted avg      0.689     0.690     0.689       126\n",
      " \n",
      "\n",
      "\n",
      "----------------------- VALIDATION ------------------------\n",
      "              precision    recall  f1-score   support\n",
      "\n",
      "           0      0.720     0.750     0.735        72\n",
      "           1      0.647     0.611     0.629        54\n",
      "\n",
      "    accuracy                          0.690       126\n",
      "   macro avg      0.684     0.681     0.682       126\n",
      "weighted avg      0.689     0.690     0.689       126\n",
      " \n",
      "\n",
      "\n",
      "------------------------- TEST ---------------------------\n",
      "              precision    recall  f1-score   support\n",
      "\n",
      "           0      0.720     0.750     0.735        72\n",
      "           1      0.647     0.611     0.629        54\n",
      "\n",
      "    accuracy                          0.690       126\n",
      "   macro avg      0.684     0.681     0.682       126\n",
      "weighted avg      0.689     0.690     0.689       126\n",
      " \n",
      "\n",
      "\n"
     ]
    }
   ],
   "source": [
    "x_train_, y_train_, x_validation_, y_validation_, x_test_, y_test_ = \\\n",
    "    get_train_validation_and_test_for_topic(2, df_train, df_validation, df_test)\n",
    "\n",
    "model = LogisticRegression()\n",
    "model_fit_evaluate(model, x_train_, y_train_, x_validation_, y_validation_, x_test_, y_test_)"
   ]
  },
  {
   "cell_type": "code",
   "execution_count": 111,
   "id": "560fb097",
   "metadata": {},
   "outputs": [
    {
     "name": "stdout",
     "output_type": "stream",
     "text": [
      "Best score: 0.572\n",
      "Best score: {'lr__C': 0.1, 'lr__penalty': 'l1', 'lr__solver': 'liblinear'}\n"
     ]
    }
   ],
   "source": [
    "x_train_, y_train_, x_validation_, y_validation_, x_test_, y_test_ = \\\n",
    "    get_train_validation_and_test_for_topic(2, df_train, df_validation, df_test, features_for_spec_topic)\n",
    "\n",
    "pipeline_lr = Pipeline([\n",
    "    ('scaler', StandardScaler()),\n",
    "    ('lr', LogisticRegression())\n",
    "])\n",
    "\n",
    "params = {\n",
    "    'lr__penalty': ['l1'],\n",
    "    'lr__C': np.logspace(3, -9, 100),\n",
    "    'lr__solver': ['newton-cg', 'lbfgs', 'liblinear'], \n",
    "}\n",
    "\n",
    "\n",
    "search = GridSearchCV(pipeline_lr, param_grid=params, cv=5)\n",
    "search.fit(x_train_, y_train_)\n",
    "\n",
    "print(f'Best score: {search.best_score_}')\n",
    "print(f'Best score: {search.best_params_}')"
   ]
  },
  {
   "cell_type": "code",
   "execution_count": 112,
   "id": "f55339f8",
   "metadata": {},
   "outputs": [
    {
     "name": "stdout",
     "output_type": "stream",
     "text": [
      "-------------------------- TRAIN --------------------------\n",
      "              precision    recall  f1-score   support\n",
      "\n",
      "           0      0.692     0.500     0.581        72\n",
      "           1      0.514     0.704     0.594        54\n",
      "\n",
      "    accuracy                          0.587       126\n",
      "   macro avg      0.603     0.602     0.587       126\n",
      "weighted avg      0.616     0.587     0.586       126\n",
      " \n",
      "\n",
      "\n",
      "----------------------- VALIDATION ------------------------\n",
      "              precision    recall  f1-score   support\n",
      "\n",
      "           0      0.692     0.500     0.581        72\n",
      "           1      0.514     0.704     0.594        54\n",
      "\n",
      "    accuracy                          0.587       126\n",
      "   macro avg      0.603     0.602     0.587       126\n",
      "weighted avg      0.616     0.587     0.586       126\n",
      " \n",
      "\n",
      "\n",
      "------------------------- TEST ---------------------------\n",
      "              precision    recall  f1-score   support\n",
      "\n",
      "           0      0.692     0.500     0.581        72\n",
      "           1      0.514     0.704     0.594        54\n",
      "\n",
      "    accuracy                          0.587       126\n",
      "   macro avg      0.603     0.602     0.587       126\n",
      "weighted avg      0.616     0.587     0.586       126\n",
      " \n",
      "\n",
      "\n"
     ]
    }
   ],
   "source": [
    "bp = search.best_params_\n",
    "pipeline_lr_best = Pipeline([\n",
    "    ('scaler', StandardScaler()),\n",
    "    ('lr', LogisticRegression(C=bp['lr__C'], penalty=bp['lr__penalty'], solver=bp['lr__solver']))\n",
    "])\n",
    "\n",
    "model_fit_evaluate(pipeline_lr_best, x_train_, y_train_, x_validation_, y_validation_, x_test_, y_test_)"
   ]
  },
  {
   "cell_type": "code",
   "execution_count": 113,
   "id": "05c551cc",
   "metadata": {},
   "outputs": [
    {
     "data": {
      "text/plain": "<Figure size 1584x1080 with 1 Axes>",
      "image/png": "[encoded data removed]"
     },
     "metadata": {
      "needs_background": "light"
     },
     "output_type": "display_data"
    },
    {
     "data": {
      "text/plain": "<Figure size 1080x1080 with 1 Axes>",
      "image/png": "[encoded data removed]"
     },
     "metadata": {
      "needs_background": "light"
     },
     "output_type": "display_data"
    }
   ],
   "source": [
    "plot_features_and_embeddings(pipeline_lr_best)"
   ]
  },
  {
   "cell_type": "markdown",
   "id": "705f526c",
   "metadata": {},
   "source": [
    "## Permutation test to determine whether topic affects (global)"
   ]
  },
  {
   "cell_type": "code",
   "execution_count": null,
   "id": "71096b2e",
   "metadata": {},
   "outputs": [],
   "source": []
  }
 ],
 "metadata": {
  "colab": {
   "collapsed_sections": [],
   "name": "preprocessing.ipynb",
   "provenance": []
  },
  "kernelspec": {
   "display_name": "Python 3 (ipykernel)",
   "language": "python",
   "name": "python3"
  },
  "language_info": {
   "codemirror_mode": {
    "name": "ipython",
    "version": 3
   },
   "file_extension": ".py",
   "mimetype": "text/x-python",
   "name": "python",
   "nbconvert_exporter": "python",
   "pygments_lexer": "ipython3",
   "version": "3.9.12"
  }
 },
 "nbformat": 4,
 "nbformat_minor": 5
}